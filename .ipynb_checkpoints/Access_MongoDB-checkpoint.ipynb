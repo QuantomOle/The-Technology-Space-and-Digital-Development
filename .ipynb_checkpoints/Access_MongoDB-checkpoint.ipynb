{
 "cells": [
  {
   "cell_type": "markdown",
   "id": "ce175a71",
   "metadata": {},
   "source": [
    "## Load Stack Overflow Data from MongoDB Database"
   ]
  },
  {
   "cell_type": "markdown",
   "id": "da7cbd2b",
   "metadata": {},
   "source": [
    "For this to work you need to place your MongoDB connection string as a .env file inside the same directory as the code (use for example TextEdit or Sublime Text). Inside the file there needs to be:\n",
    "\n",
    "CONNECTION_STRING=Your Personal connection string"
   ]
  },
  {
   "cell_type": "code",
   "execution_count": 1,
   "id": "921af16c",
   "metadata": {},
   "outputs": [],
   "source": [
    "import os\n",
    "from dotenv import load_dotenv,find_dotenv\n",
    "from pymongo import MongoClient, UpdateOne\n",
    "import pandas as pd\n",
    "\n",
    "load_dotenv()\n",
    " \n",
    "def get_collection(database, collection):\n",
    "    # Provide the mongodb atlas url to connect python to mongodb using pymongo\n",
    "    CONNECTION_STRING = os.getenv(\"CONNECTION_STRING\")\n",
    "\n",
    "    # Create a connection using MongoClient. You can import MongoClient or use pymongo.MongoClient\n",
    "    client = MongoClient(CONNECTION_STRING)\n",
    "\n",
    "    # Create the database for our example (we will use the same database throughout the tutorial\n",
    "    return client[database][collection]"
   ]
  },
  {
   "cell_type": "code",
   "execution_count": 2,
   "id": "281b78b0-f2b4-42f5-8f2a-989ef048dbdb",
   "metadata": {},
   "outputs": [],
   "source": [
    "# Specify first the name of the database and second the name of the collection \n",
    "stack_overflow = get_collection(\"stackoverflow\", \"country_tags_2018\")"
   ]
  },
  {
   "cell_type": "code",
   "execution_count": 3,
   "id": "94c9267f",
   "metadata": {
    "tags": []
   },
   "outputs": [],
   "source": [
    "# Get all data \n",
    "cursor = stack_overflow.find({})\n",
    "\n",
    "df = pd.DataFrame(list(cursor))"
   ]
  },
  {
   "cell_type": "code",
   "execution_count": 16,
   "id": "794fab9e",
   "metadata": {
    "tags": []
   },
   "outputs": [],
   "source": [
    "# Select specific columns only \n",
    "# You can select columns negatively by setting them to 0 = exclude them\n",
    "# Or set the columns to 1 that you want to include\n",
    "# You have to choose one or the other option\n",
    "\n",
    "cursor = stack_overflow.find({},{'creation_date': 1, 'Country': 1,'tags':1, 'owner_user_id':1})\n",
    "\n",
    "df = pd.DataFrame(list(cursor))"
   ]
  }
 ],
 "metadata": {
  "kernelspec": {
   "display_name": "Python 3",
   "language": "python",
   "name": "python3"
  },
  "language_info": {
   "codemirror_mode": {
    "name": "ipython",
    "version": 3
   },
   "file_extension": ".py",
   "mimetype": "text/x-python",
   "name": "python",
   "nbconvert_exporter": "python",
   "pygments_lexer": "ipython3",
   "version": "3.8.8"
  }
 },
 "nbformat": 4,
 "nbformat_minor": 5
}
