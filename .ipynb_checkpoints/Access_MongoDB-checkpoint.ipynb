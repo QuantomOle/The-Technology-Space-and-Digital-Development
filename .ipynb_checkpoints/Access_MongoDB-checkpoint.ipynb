{
 "cells": [
  {
   "cell_type": "markdown",
   "id": "45ab6176-5410-4d7a-8fc2-8cbe253bebc4",
   "metadata": {},
   "source": [
    "## Load Stack Overflow Data from MongoDB Database"
   ]
  },
  {
   "cell_type": "markdown",
   "id": "54502fb2-c3f9-4ab3-8b6f-4e7c150dd0ee",
   "metadata": {},
   "source": [
    "For this to work you need to place your MongoDB connection string as a .env file inside the same directory as the code (use for example TextEdit or Sublime Text). Inside the file there needs to be:\n",
    "\n",
    "CONNECTION_STRING=Your Personal connection string"
   ]
  },
  {
   "cell_type": "code",
   "execution_count": null,
   "id": "dd2018f3-0639-4e2f-9d40-0a686fa2c53d",
   "metadata": {},
   "outputs": [],
   "source": [
    "import os\n",
    "from dotenv import load_dotenv\n",
    "from pymongo import MongoClient, UpdateOne\n",
    "import pandas as pd\n",
    "\n",
    "load_dotenv()\n",
    "\n",
    "def get_collection(database, collection):\n",
    "    # Provide the mongodb atlas url to connect python to mongodb using pymongo\n",
    "    CONNECTION_STRING = os.getenv(\"CONNECTION_STRING\")\n",
    "\n",
    "    # Create a connection using MongoClient. You can import MongoClient or use pymongo.MongoClient\n",
    "    client = MongoClient(CONNECTION_STRING)\n",
    "\n",
    "    # Create the database for our example (we will use the same database throughout the tutorial\n",
    "    return client[database][collection]"
   ]
  },
  {
   "cell_type": "code",
   "execution_count": null,
   "id": "12c9d9f7-cfd0-415a-9a47-8370496754cf",
   "metadata": {},
   "outputs": [],
   "source": [
    "stack_overflow = get_collection(\"stackoverflow\", \"stackoverflow\")"
   ]
  },
  {
   "cell_type": "code",
   "execution_count": null,
   "id": "1009fdfe-7215-449b-9888-ae0a9c6e9d84",
   "metadata": {},
   "outputs": [],
   "source": [
    "# Get all data \n",
    "cursor = stack_overflow.find({})\n",
    "\n",
    "df = pd.DataFrame(list(cursor))"
   ]
  },
  {
   "cell_type": "code",
   "execution_count": null,
   "id": "0cc93ea3-9421-4525-9177-71536ab4e046",
   "metadata": {},
   "outputs": [],
   "source": [
    "# Select specific columns only \n",
    "# You can select columns negatively by setting them to 0 = exclude them\n",
    "# Or set the columns to 1 that you want to include\n",
    "# You have to choose one or the other option\n",
    "\n",
    "cursor = stack_overflow.find({},{'creation_date': 1, 'Country': 1,'tags':1, 'owner_user_id':1})\n",
    "\n",
    "df = pd.DataFrame(list(cursor))"
   ]
  }
 ],
 "metadata": {
  "kernelspec": {
   "display_name": "Python 3",
   "language": "python",
   "name": "python3"
  },
  "language_info": {
   "codemirror_mode": {
    "name": "ipython",
    "version": 3
   },
   "file_extension": ".py",
   "mimetype": "text/x-python",
   "name": "python",
   "nbconvert_exporter": "python",
   "pygments_lexer": "ipython3",
   "version": "3.8.8"
  }
 },
 "nbformat": 4,
 "nbformat_minor": 5
}
