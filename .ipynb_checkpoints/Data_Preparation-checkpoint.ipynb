{
 "cells": [
  {
   "cell_type": "markdown",
   "metadata": {},
   "source": [
    "# Data Preparation\n",
    "\n",
    "Preparing the different data sources for building the Technology Network"
   ]
  },
  {
   "cell_type": "code",
   "execution_count": 2,
   "metadata": {},
   "outputs": [],
   "source": [
    "import numpy as np\n",
    "import pandas as pd"
   ]
  },
  {
   "cell_type": "code",
   "execution_count": 3,
   "metadata": {},
   "outputs": [
    {
     "name": "stderr",
     "output_type": "stream",
     "text": [
      "/Users/oleteutloff/opt/anaconda3/lib/python3.7/site-packages/IPython/core/interactiveshell.py:3063: DtypeWarning: Columns (7) have mixed types.Specify dtype option on import or set low_memory=False.\n",
      "  interactivity=interactivity, compiler=compiler, result=result)\n"
     ]
    }
   ],
   "source": [
    "# Importing the large Stack Overflow dataset\n",
    "df = pd.read_csv(\"/Users/oleteutloff/Desktop/Data/Stack_overflow/2018-08-13 Contributions.csv\")"
   ]
  },
  {
   "cell_type": "code",
   "execution_count": 4,
   "metadata": {},
   "outputs": [
    {
     "data": {
      "text/html": [
       "<div>\n",
       "<style scoped>\n",
       "    .dataframe tbody tr th:only-of-type {\n",
       "        vertical-align: middle;\n",
       "    }\n",
       "\n",
       "    .dataframe tbody tr th {\n",
       "        vertical-align: top;\n",
       "    }\n",
       "\n",
       "    .dataframe thead th {\n",
       "        text-align: right;\n",
       "    }\n",
       "</style>\n",
       "<table border=\"1\" class=\"dataframe\">\n",
       "  <thead>\n",
       "    <tr style=\"text-align: right;\">\n",
       "      <th></th>\n",
       "      <th>Unnamed: 0</th>\n",
       "      <th>id</th>\n",
       "      <th>creation_date</th>\n",
       "      <th>owner_user_id</th>\n",
       "      <th>parent_id</th>\n",
       "      <th>Country</th>\n",
       "      <th>User_loc</th>\n",
       "      <th>tags</th>\n",
       "    </tr>\n",
       "  </thead>\n",
       "  <tbody>\n",
       "    <tr>\n",
       "      <th>0</th>\n",
       "      <td>0</td>\n",
       "      <td>7524441</td>\n",
       "      <td>2011-09-23 04:59:47.770</td>\n",
       "      <td>305637.0</td>\n",
       "      <td>7524441</td>\n",
       "      <td>United States</td>\n",
       "      <td>Seattle, WA</td>\n",
       "      <td>wpf|visual-studio-2010|enterprise-library</td>\n",
       "    </tr>\n",
       "    <tr>\n",
       "      <th>1</th>\n",
       "      <td>1</td>\n",
       "      <td>2336818</td>\n",
       "      <td>2010-02-25 19:09:13.820</td>\n",
       "      <td>305637.0</td>\n",
       "      <td>2336818</td>\n",
       "      <td>United States</td>\n",
       "      <td>Seattle, WA</td>\n",
       "      <td>c#|visual-studio|solution|vs-extensibility|vsp...</td>\n",
       "    </tr>\n",
       "    <tr>\n",
       "      <th>2</th>\n",
       "      <td>2</td>\n",
       "      <td>27350559</td>\n",
       "      <td>2014-12-08 02:36:22.043</td>\n",
       "      <td>305637.0</td>\n",
       "      <td>27350559</td>\n",
       "      <td>United States</td>\n",
       "      <td>Seattle, WA</td>\n",
       "      <td>c#|inheritance|ef-code-first|entity-framework-...</td>\n",
       "    </tr>\n",
       "    <tr>\n",
       "      <th>3</th>\n",
       "      <td>3</td>\n",
       "      <td>1752242</td>\n",
       "      <td>2009-11-17 22:14:52.343</td>\n",
       "      <td>305637.0</td>\n",
       "      <td>1752242</td>\n",
       "      <td>United States</td>\n",
       "      <td>Seattle, WA</td>\n",
       "      <td>c#|generics|reflection</td>\n",
       "    </tr>\n",
       "    <tr>\n",
       "      <th>4</th>\n",
       "      <td>4</td>\n",
       "      <td>28181370</td>\n",
       "      <td>2015-01-27 22:39:06.413</td>\n",
       "      <td>305637.0</td>\n",
       "      <td>28181370</td>\n",
       "      <td>United States</td>\n",
       "      <td>Seattle, WA</td>\n",
       "      <td>angularjs|select|angular-ui-router|single-page...</td>\n",
       "    </tr>\n",
       "  </tbody>\n",
       "</table>\n",
       "</div>"
      ],
      "text/plain": [
       "   Unnamed: 0        id            creation_date  owner_user_id  parent_id  \\\n",
       "0           0   7524441  2011-09-23 04:59:47.770       305637.0    7524441   \n",
       "1           1   2336818  2010-02-25 19:09:13.820       305637.0    2336818   \n",
       "2           2  27350559  2014-12-08 02:36:22.043       305637.0   27350559   \n",
       "3           3   1752242  2009-11-17 22:14:52.343       305637.0    1752242   \n",
       "4           4  28181370  2015-01-27 22:39:06.413       305637.0   28181370   \n",
       "\n",
       "         Country     User_loc  \\\n",
       "0  United States  Seattle, WA   \n",
       "1  United States  Seattle, WA   \n",
       "2  United States  Seattle, WA   \n",
       "3  United States  Seattle, WA   \n",
       "4  United States  Seattle, WA   \n",
       "\n",
       "                                                tags  \n",
       "0          wpf|visual-studio-2010|enterprise-library  \n",
       "1  c#|visual-studio|solution|vs-extensibility|vsp...  \n",
       "2  c#|inheritance|ef-code-first|entity-framework-...  \n",
       "3                             c#|generics|reflection  \n",
       "4  angularjs|select|angular-ui-router|single-page...  "
      ]
     },
     "execution_count": 4,
     "metadata": {},
     "output_type": "execute_result"
    }
   ],
   "source": [
    "df.head()"
   ]
  },
  {
   "cell_type": "code",
   "execution_count": null,
   "metadata": {},
   "outputs": [],
   "source": [
    "# For the prototype I limit the dataset to the most recent complete year: 2017"
   ]
  },
  {
   "cell_type": "code",
   "execution_count": null,
   "metadata": {},
   "outputs": [],
   "source": [
    "# extract all unique skills"
   ]
  },
  {
   "cell_type": "code",
   "execution_count": null,
   "metadata": {},
   "outputs": [],
   "source": []
  },
  {
   "cell_type": "code",
   "execution_count": null,
   "metadata": {},
   "outputs": [],
   "source": [
    "# Import Wikipedia matching data"
   ]
  },
  {
   "cell_type": "code",
   "execution_count": null,
   "metadata": {},
   "outputs": [],
   "source": []
  },
  {
   "cell_type": "code",
   "execution_count": null,
   "metadata": {},
   "outputs": [],
   "source": [
    "# Only keep digital technologies that have a wikipedia matching"
   ]
  },
  {
   "cell_type": "code",
   "execution_count": null,
   "metadata": {},
   "outputs": [],
   "source": []
  },
  {
   "cell_type": "markdown",
   "metadata": {},
   "source": [
    "## Bringing the data in shape for building the network"
   ]
  },
  {
   "cell_type": "code",
   "execution_count": null,
   "metadata": {},
   "outputs": [],
   "source": [
    "# Calculate lift"
   ]
  },
  {
   "cell_type": "code",
   "execution_count": null,
   "metadata": {},
   "outputs": [],
   "source": [
    "# Establish edges according to lift - no strength of relationship just nominal connection vs. no connection? "
   ]
  }
 ],
 "metadata": {
  "kernelspec": {
   "display_name": "Python 3",
   "language": "python",
   "name": "python3"
  },
  "language_info": {
   "codemirror_mode": {
    "name": "ipython",
    "version": 3
   },
   "file_extension": ".py",
   "mimetype": "text/x-python",
   "name": "python",
   "nbconvert_exporter": "python",
   "pygments_lexer": "ipython3",
   "version": "3.7.6"
  }
 },
 "nbformat": 4,
 "nbformat_minor": 4
}
