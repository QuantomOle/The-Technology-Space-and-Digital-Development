{
 "cells": [
  {
   "cell_type": "markdown",
   "id": "d55e2dc6-d99e-4312-ba0e-ccf256725381",
   "metadata": {},
   "source": [
    "# Application of backboning to stackoverflow daten"
   ]
  },
  {
   "cell_type": "code",
   "execution_count": 1,
   "id": "ab36a2e3-aadf-4f96-a739-fbb4f65569f1",
   "metadata": {},
   "outputs": [],
   "source": [
    "import os\n",
    "import pandas as pd\n",
    "import numpy as np\n",
    "import networkx as nx\n",
    "import itertools \n",
    "from collections import defaultdict\n",
    "from scipy.stats import binom, pearsonr, sem\n",
    "\n",
    "#functions written by Coscia and Neffke \n",
    "import backboning_python3_networkx2_Coscia as backboning"
   ]
  },
  {
   "cell_type": "markdown",
   "id": "77f626e2-a749-4477-8792-43b871299540",
   "metadata": {},
   "source": [
    "### Investigate data"
   ]
  },
  {
   "cell_type": "code",
   "execution_count": 2,
   "id": "8be46d47-e44b-481a-b8f7-7e67d552f68f",
   "metadata": {},
   "outputs": [],
   "source": [
    "# read in co-occurance data \n",
    "frames = [df0, df1, df2, df3, df4, df5, df6, df7, df8, df9]\n",
    "df = pd.DataFrame()\n",
    "for num, frame in enumerate(frames): \n",
    "    intermed_df = pd.read_csv(f'../data/intermediate_frames/df{num}.csv')  \n",
    "    df = pd.concat([df, intermed_df], axis=1)\n",
    "    df = df.copy()"
   ]
  },
  {
   "cell_type": "code",
   "execution_count": null,
   "id": "4a471c0a-b123-4c1a-906e-3df200fc3856",
   "metadata": {},
   "outputs": [],
   "source": [
    "tag_df_asint = df.astype(int)\n",
    "coocc = tag_df_asint.T.dot(tag_df_asint)\n",
    "np.fill_diagonal(coocc.values, 0)\n",
    "coocc.head()"
   ]
  },
  {
   "cell_type": "code",
   "execution_count": null,
   "id": "00055bd5-e1d1-4096-b45c-779fc2169f2c",
   "metadata": {},
   "outputs": [],
   "source": [
    "# cooccurence matrix to dictionary\n",
    "coocc_dic = coocc.to_dict()"
   ]
  },
  {
   "cell_type": "code",
   "execution_count": null,
   "id": "71a2b29e-c157-40dc-9b3c-dfcd93b36047",
   "metadata": {},
   "outputs": [],
   "source": [
    "# create dataframe represnting a network\n",
    "tag1_ls = []\n",
    "frames = []\n",
    "\n",
    "for tag1, tag_dic in coocc_dic.items():\n",
    "    tag1_ls.append(tag1)\n",
    "    frames.append(pd.DataFrame.from_dict(tag_dic, orient='index'))\n",
    "\n",
    "coocc_table = pd.concat(frames, keys=tag1_ls)\n",
    "coocc_table = coocc_table.reset_index().rename(columns = {\"level_0\" : \"tag1\", \"level_1\" : \"tag2\", 0: \"cooccurence\"})"
   ]
  },
  {
   "cell_type": "code",
   "execution_count": null,
   "id": "0a4cdacf-d696-4ebc-9aff-98f71d2fc47d",
   "metadata": {},
   "outputs": [],
   "source": [
    "coocc_table.head() # must have [\"tag1\", \"tag2\", \"co_occurance_count\"]"
   ]
  },
  {
   "cell_type": "code",
   "execution_count": 3,
   "id": "c071f468-dc6b-4b67-895c-d51cbaaa5f7d",
   "metadata": {},
   "outputs": [],
   "source": [
    "#nodes.head()"
   ]
  },
  {
   "cell_type": "code",
   "execution_count": 4,
   "id": "555ee64e-dcfe-44c3-8062-aa56d5f0d375",
   "metadata": {},
   "outputs": [
    {
     "data": {
      "text/html": [
       "<div>\n",
       "<style scoped>\n",
       "    .dataframe tbody tr th:only-of-type {\n",
       "        vertical-align: middle;\n",
       "    }\n",
       "\n",
       "    .dataframe tbody tr th {\n",
       "        vertical-align: top;\n",
       "    }\n",
       "\n",
       "    .dataframe thead th {\n",
       "        text-align: right;\n",
       "    }\n",
       "</style>\n",
       "<table border=\"1\" class=\"dataframe\">\n",
       "  <thead>\n",
       "    <tr style=\"text-align: right;\">\n",
       "      <th></th>\n",
       "      <th>tag1</th>\n",
       "      <th>tag2</th>\n",
       "      <th>co_occurance_count</th>\n",
       "      <th>tag1_count</th>\n",
       "      <th>tag2_count</th>\n",
       "      <th>total_num_obs</th>\n",
       "      <th>lift</th>\n",
       "    </tr>\n",
       "  </thead>\n",
       "  <tbody>\n",
       "    <tr>\n",
       "      <th>0</th>\n",
       "      <td>visual-studio-2010</td>\n",
       "      <td>wpf</td>\n",
       "      <td>542</td>\n",
       "      <td>21596</td>\n",
       "      <td>66089</td>\n",
       "      <td>6563585</td>\n",
       "      <td>2.492516</td>\n",
       "    </tr>\n",
       "    <tr>\n",
       "      <th>1</th>\n",
       "      <td>enterprise-library</td>\n",
       "      <td>wpf</td>\n",
       "      <td>16</td>\n",
       "      <td>806</td>\n",
       "      <td>66089</td>\n",
       "      <td>6563585</td>\n",
       "      <td>1.971500</td>\n",
       "    </tr>\n",
       "    <tr>\n",
       "      <th>2</th>\n",
       "      <td>c#</td>\n",
       "      <td>wpf</td>\n",
       "      <td>37582</td>\n",
       "      <td>549189</td>\n",
       "      <td>66089</td>\n",
       "      <td>6563585</td>\n",
       "      <td>6.796260</td>\n",
       "    </tr>\n",
       "    <tr>\n",
       "      <th>3</th>\n",
       "      <td>visual-studio</td>\n",
       "      <td>wpf</td>\n",
       "      <td>747</td>\n",
       "      <td>38364</td>\n",
       "      <td>66089</td>\n",
       "      <td>6563585</td>\n",
       "      <td>1.933787</td>\n",
       "    </tr>\n",
       "    <tr>\n",
       "      <th>4</th>\n",
       "      <td>solution</td>\n",
       "      <td>wpf</td>\n",
       "      <td>5</td>\n",
       "      <td>350</td>\n",
       "      <td>66089</td>\n",
       "      <td>6563585</td>\n",
       "      <td>1.418776</td>\n",
       "    </tr>\n",
       "  </tbody>\n",
       "</table>\n",
       "</div>"
      ],
      "text/plain": [
       "                 tag1 tag2  co_occurance_count  tag1_count  tag2_count  \\\n",
       "0  visual-studio-2010  wpf                 542       21596       66089   \n",
       "1  enterprise-library  wpf                  16         806       66089   \n",
       "2                  c#  wpf               37582      549189       66089   \n",
       "3       visual-studio  wpf                 747       38364       66089   \n",
       "4            solution  wpf                   5         350       66089   \n",
       "\n",
       "   total_num_obs      lift  \n",
       "0        6563585  2.492516  \n",
       "1        6563585  1.971500  \n",
       "2        6563585  6.796260  \n",
       "3        6563585  1.933787  \n",
       "4        6563585  1.418776  "
      ]
     },
     "execution_count": 4,
     "metadata": {},
     "output_type": "execute_result"
    }
   ],
   "source": [
    "coocc_table.head()"
   ]
  },
  {
   "cell_type": "code",
   "execution_count": 5,
   "id": "d9b9939b-3314-4401-9064-13c1c5c4ab35",
   "metadata": {},
   "outputs": [
    {
     "data": {
      "text/html": [
       "<div>\n",
       "<style scoped>\n",
       "    .dataframe tbody tr th:only-of-type {\n",
       "        vertical-align: middle;\n",
       "    }\n",
       "\n",
       "    .dataframe tbody tr th {\n",
       "        vertical-align: top;\n",
       "    }\n",
       "\n",
       "    .dataframe thead th {\n",
       "        text-align: right;\n",
       "    }\n",
       "</style>\n",
       "<table border=\"1\" class=\"dataframe\">\n",
       "  <thead>\n",
       "    <tr style=\"text-align: right;\">\n",
       "      <th></th>\n",
       "      <th>tag1</th>\n",
       "      <th>tag2</th>\n",
       "      <th>co_occurance_count</th>\n",
       "      <th>tag1_count</th>\n",
       "      <th>tag2_count</th>\n",
       "      <th>total_num_obs</th>\n",
       "      <th>lift</th>\n",
       "    </tr>\n",
       "  </thead>\n",
       "  <tbody>\n",
       "    <tr>\n",
       "      <th>851</th>\n",
       "      <td>c#</td>\n",
       "      <td>visual-studio-2010</td>\n",
       "      <td>5982</td>\n",
       "      <td>549189</td>\n",
       "      <td>21596</td>\n",
       "      <td>6563585</td>\n",
       "      <td>3.310491</td>\n",
       "    </tr>\n",
       "  </tbody>\n",
       "</table>\n",
       "</div>"
      ],
      "text/plain": [
       "    tag1                tag2  co_occurance_count  tag1_count  tag2_count  \\\n",
       "851   c#  visual-studio-2010                5982      549189       21596   \n",
       "\n",
       "     total_num_obs      lift  \n",
       "851        6563585  3.310491  "
      ]
     },
     "execution_count": 5,
     "metadata": {},
     "output_type": "execute_result"
    }
   ],
   "source": [
    "coocc_table[(coocc_table[\"tag1\"] == \"c#\") & (coocc_table[\"tag2\"] == \"visual-studio-2010\")]"
   ]
  },
  {
   "cell_type": "code",
   "execution_count": 6,
   "id": "47ea1888-a51c-4509-a6bc-64572e1380c6",
   "metadata": {},
   "outputs": [
    {
     "data": {
      "text/html": [
       "<div>\n",
       "<style scoped>\n",
       "    .dataframe tbody tr th:only-of-type {\n",
       "        vertical-align: middle;\n",
       "    }\n",
       "\n",
       "    .dataframe tbody tr th {\n",
       "        vertical-align: top;\n",
       "    }\n",
       "\n",
       "    .dataframe thead th {\n",
       "        text-align: right;\n",
       "    }\n",
       "</style>\n",
       "<table border=\"1\" class=\"dataframe\">\n",
       "  <thead>\n",
       "    <tr style=\"text-align: right;\">\n",
       "      <th></th>\n",
       "      <th>tag1</th>\n",
       "      <th>tag2</th>\n",
       "      <th>co_occurance_count</th>\n",
       "      <th>tag1_count</th>\n",
       "      <th>tag2_count</th>\n",
       "      <th>total_num_obs</th>\n",
       "      <th>lift</th>\n",
       "    </tr>\n",
       "  </thead>\n",
       "  <tbody>\n",
       "  </tbody>\n",
       "</table>\n",
       "</div>"
      ],
      "text/plain": [
       "Empty DataFrame\n",
       "Columns: [tag1, tag2, co_occurance_count, tag1_count, tag2_count, total_num_obs, lift]\n",
       "Index: []"
      ]
     },
     "execution_count": 6,
     "metadata": {},
     "output_type": "execute_result"
    }
   ],
   "source": [
    "coocc_table[(coocc_table[\"tag2\"] == \"c#\") & (coocc_table[\"tag1\"] == \"visual-studio-2010\")] # Network is undirected, but edge is not present in both directions => problem for backboning algorithm "
   ]
  },
  {
   "cell_type": "code",
   "execution_count": 7,
   "id": "2783c9e6-08bb-4ec8-aeb9-1597de1807ff",
   "metadata": {},
   "outputs": [
    {
     "name": "stdout",
     "output_type": "stream",
     "text": [
      "# unique tag1: 8887\n",
      "# unique tag2: 8477\n",
      "# all tags present: 8889\n"
     ]
    },
    {
     "data": {
      "text/html": [
       "<div>\n",
       "<style scoped>\n",
       "    .dataframe tbody tr th:only-of-type {\n",
       "        vertical-align: middle;\n",
       "    }\n",
       "\n",
       "    .dataframe tbody tr th {\n",
       "        vertical-align: top;\n",
       "    }\n",
       "\n",
       "    .dataframe thead th {\n",
       "        text-align: right;\n",
       "    }\n",
       "</style>\n",
       "<table border=\"1\" class=\"dataframe\">\n",
       "  <thead>\n",
       "    <tr style=\"text-align: right;\">\n",
       "      <th></th>\n",
       "      <th>tag1</th>\n",
       "      <th>tag2</th>\n",
       "      <th>co_occurance_count</th>\n",
       "    </tr>\n",
       "  </thead>\n",
       "  <tbody>\n",
       "    <tr>\n",
       "      <th>0</th>\n",
       "      <td>visual-studio-2010</td>\n",
       "      <td>wpf</td>\n",
       "      <td>542</td>\n",
       "    </tr>\n",
       "    <tr>\n",
       "      <th>1</th>\n",
       "      <td>enterprise-library</td>\n",
       "      <td>wpf</td>\n",
       "      <td>16</td>\n",
       "    </tr>\n",
       "    <tr>\n",
       "      <th>2</th>\n",
       "      <td>c#</td>\n",
       "      <td>wpf</td>\n",
       "      <td>37582</td>\n",
       "    </tr>\n",
       "    <tr>\n",
       "      <th>3</th>\n",
       "      <td>visual-studio</td>\n",
       "      <td>wpf</td>\n",
       "      <td>747</td>\n",
       "    </tr>\n",
       "    <tr>\n",
       "      <th>4</th>\n",
       "      <td>solution</td>\n",
       "      <td>wpf</td>\n",
       "      <td>5</td>\n",
       "    </tr>\n",
       "  </tbody>\n",
       "</table>\n",
       "</div>"
      ],
      "text/plain": [
       "                 tag1 tag2  co_occurance_count\n",
       "0  visual-studio-2010  wpf                 542\n",
       "1  enterprise-library  wpf                  16\n",
       "2                  c#  wpf               37582\n",
       "3       visual-studio  wpf                 747\n",
       "4            solution  wpf                   5"
      ]
     },
     "execution_count": 7,
     "metadata": {},
     "output_type": "execute_result"
    }
   ],
   "source": [
    "#Select only the colums we need\n",
    "df = coocc_table[[\"tag1\", \"tag2\", \"co_occurance_count\"]].copy()\n",
    "unique_tag1 = len(df[\"tag1\"].unique())\n",
    "unique_tag2 = len(df[\"tag2\"].unique())\n",
    "all_tags = set(list(df[\"tag1\"].unique()) + list(df[\"tag2\"].unique()))\n",
    "print(f\"# unique tag1: {unique_tag1}\")\n",
    "print(f\"# unique tag2: {unique_tag2}\")\n",
    "print(f\"# all tags present: {len(all_tags)}\")\n",
    "df.head()"
   ]
  },
  {
   "cell_type": "markdown",
   "id": "8c6e0767-f944-4895-a4f6-599c9d670a05",
   "metadata": {},
   "source": [
    "**WARNING: It does not make any sense that number of unique tag1 != number of unique tag2!**\n",
    "\n",
    "=> For unidirected network, each edge connecting two nodes has to show up in both directions!"
   ]
  },
  {
   "cell_type": "code",
   "execution_count": 8,
   "id": "1009e813-3208-48ad-8b62-c705f322e436",
   "metadata": {
    "collapsed": true,
    "jupyter": {
     "outputs_hidden": true
    },
    "tags": []
   },
   "outputs": [
    {
     "name": "stdout",
     "output_type": "stream",
     "text": [
      "['n1ql', 'accessibilityservice', 'rxjs6', 'steam-web-api', 'android-architecture-navigation', 'webdriverwait', 'discord.py', 'c++98', 'google-cloud-datalab', 'magento-1.4', 'google-home', 'hamburger-menu', 'xtable', 'window-managers', 'm', 'isabelle', 'flask-socketio', 'downcast', 'nosuchelementexception', 'arcore', 'pyautogui', 'aiohttp', 'mismatch', 'kendo-ui-angular2', 'caesar-cipher', 'datastax-java-driver', 'bounce', 'dji-sdk', 'go-gorm', 'nsregularexpression', 'google-colaboratory', 'formset', 'joblib', 'material-design-lite', 'intersystems-cache', 'corda', 'qliksense', 'dblink', 'spring-integration-dsl', 'programmatically-created', 'datagridviewcolumn', 'roblox', 'cgo', 'framebuffer', 'tokbox', 'firefox-developer-tools', 'office365-apps', 'facebook-comments', 'modbus', 'sweetalert2', 'quickfix', 'biztalk-2013', 'nativescript-angular', 'hibernate-envers', 'loadrunner', 'square-connect', 'serversocket', 'minimization', 'squarespace', 'check-constraints', 'antd', 'flutter-layout', 'usbserial', 'linphone', 'plink', 'irvine32', 'delaunay', 'onblur', 'clips', 'phabricator', 'f#-interactive', 'oracle-apex-5.1', 'kentico', 'htmlpurifier', 'netlify', 'tensorflow.js', 'stacked-chart', 'cgridview', 'post-increment', 'can-bus', 'args', 'smt', 'numpy-ndarray', 'crtp', 'javacc', 'cancancan', 'web-push', 'bootstrap-table', 'android-fileprovider', 'aws-codebuild', 'mapbox-gl-js', 'openembedded', 'kie', 'mypy', 'apriori', 'ghost-blog', 'scala-2.8', 'nestjs', 'ssr', 'azure-bot-service', 'audiokit', 'riscv', 'topic-modeling', 'exist-db', 'rails-geocoder', 'byte-buddy', 'fat-free-framework', 'kinect-sdk', 'opencv4android', 'here-api', 'anypoint-studio', 'scriptaculous', 'xtend', 'mainframe', 'livecode', 'television', 'python-tesseract', 'att', 'apache-servicemix', 'mosquitto', 'django-rest-auth', 'powerbi-desktop', 'django-serializer', 'bin', 'eigen3', 'pagedlist', 'bsd', 'gaps-and-islands', 'android-productflavors', 'audiotrack', 'backbone-collections', 'ngtable', 'spring-xd', 'websphere-portal', 'greendao', 'jinternalframe', 'ftplib', 'folium', 'datastage', 'google-play-console', 'blackberry-cascades', 'diagonal', 'appium-android', 'subsonic3', 'regedit', 'surveymonkey', 'sifr', 'longlistselector', 'tensorflow-lite', 'recyclerview-layout', 'raw-sockets', 'strophe', 'dask-distributed', 'dspace', 'tapestry', 'vertical-scrolling', 'spark-structured-streaming', 'nginx-config', 'fiware-orion', 'pyomo', 'image-size', 'id', 'aspnetboilerplate', 'cntk', 'fluentd', 'invalidation', 'grails-3.0', 'roc', 'qnetworkaccessmanager', 'web-api-testing', 'cgpath', 'rebol', 'bower-install', 'sf', 'eps', 'panel-data', 'hybrid', 'dreamhost', 'format-specifiers', 'xlwt', 'bluej', 'openscenegraph', 'autodesk-forge', 'parsley.js', 'androidx', 'ibm-cloud-infrastructure', 'tabitem', 'decodable', 'rselenium', 'databricks', 'stringify', 'gwt2', 'psychopy', 'survival-analysis', 'stackexchange.redis', 'number-theory', 'tensorflow-gpu', 'mezzanine', 'crystal-lang', 'aws-appsync', 'fragmentmanager', 'sikuli', 'phpspreadsheet', 'extjs6-classic', 'django-middleware', 'amazon-data-pipeline', 'php-ini', 'rust-cargo', 'restfb', 'powercli', 'snakemake', 'pos-tagger', 'astropy', 'recurring-billing', 'activeresource', 'pause', 'completionhandler', 'clearcase-ucm', 'net-http', 'monetdb', 'portaudio', 'proc-sql', 'django-tables2', 'azure-cognitive-services', 'pentaho-data-integration', 'navigationview', 'alfresco-share', 'django-channels', 'date-parsing', 'desire2learn', 'onsen-ui', 'gridgain', 'confluent', 'angular2-changedetection', 'gs-conditional-formatting', 'liferay-7', 'tableau-server', 'google-vr', 'ime', 'cognos-10', 'spring-mybatis', 'pkcs#7', 'java-11', 'sparkr', 'outlook-redemption', 'azure-stream-analytics', 'imputation', 'octobercms', 'invoke-command', 'lens', 'stocks', 'google-app-maker', 'quill', 'powerpoint-vba', 'veins', 'react-props', 'xssf', 'colormap', 'ggvis', 'airflow-scheduler', 'emu8086', 'neo4j-ogm', 'smpp', 'xcode7.3', 'libc++', 'jradiobutton', 'rails-activestorage', 'angular-controller', 'flink-streaming', 'critical-section', 'atk4', 'object-detection-api', 'osb', 'javadb', 'hierarchical', 'tensorflow-estimator', 'adfs2.0', 'terraform-provider-aws', 'turtle-graphics', 'googlemock', 'yolo', 'alloy', 'gluon-mobile', 'strcmp', 'ionic-view', 'lotus', 'joi', 'f2py', 'html2pdf', 'istio', 'phasset', 'apigee', 'suitescript2.0', 'fuelphp', 'keystonejs', 'lme4', 'react-admin', 'boundary', 'tkinter-entry', 'moxy', 'acumatica', 'sencha-touch-2.1', 'synthesis', 'truffle', 'modx-revolution', 'whmcs', 'executor', 'xlwings', 'eve', 'jquery-easyui', 'nmap', 'nsarraycontroller', 'allure', 'abaqus', 'apostrophe-cms', 'maxima', 'xbee', 'yii2-basic-app', 'spring-boot-test', 'uima', 'items', 'opendaylight', 'processing-efficiency', 'eventkit', 'nvcc', 'akka-cluster', 'typo3-7.6.x', 'named-ranges', 'theos', 'facebook-canvas', 'modelica', 'heapsort', 'touch-id', 'peoplesoft', 'jxl', 'canvasjs', 'azure-webjobssdk', 'grocery-crud', 'presto', 'jupyter-lab', 'monit', 'pi', 'nightmare', 'mobx-react', 'minidom', 'functional-dependencies', 'paraview', 'firebase-console', 'working-directory', 'restify', 'dart-html', 'matomo', 'android-things', 'elasticsearch-aggregation', 'purescript', 'azure-search', 'sql-server-2017', 'maze', 'vegan', 'scoping', 'paperjs', 'qooxdoo', 'greenplum', 'ionic4', 'iif', 'kurento', 'cosine-similarity', 'obiee', 'python-docx', 'zurb-foundation-6', 'jsrender', 'dotnetnuke-module', 'hector', 'visual-composer', 'specialization', 'scorm', 'nusoap', 'podio', 'redundancy', 'testcafe', 'selection-sort', 'maximo', 'game-development', 'famo.us', 'contiki', 'buildozer', 'python-3.7', 'cakephp-3.x', 'react-native-flatlist', 'google-drive-realtime-api', 'prestashop-1.5', 'qgis', 'jenkins-groovy', 'imaplib', 'hook-woocommerce', 'keyerror', 'dust.js', 'chi-squared', 'preg-split', 'bho', 'amazon-lex', 'delphi-10.2-tokyo', 'anylogic', 'reader', 'android-studio-2.0', 'skmaps', 'coldfusion-11', 'sinch', 'google-fit', 'ttk', 'pre-commit-hook', 'coinbase-api']\n"
     ]
    }
   ],
   "source": [
    "# investigate which tags occur only once\n",
    "difference_in_tags = list(set(df[\"tag1\"].unique()) - set(df[\"tag2\"].unique()))\n",
    "print(difference_in_tags)"
   ]
  },
  {
   "cell_type": "code",
   "execution_count": 9,
   "id": "62fd9719-ae78-41ab-9b63-ebcba5ca5013",
   "metadata": {},
   "outputs": [
    {
     "data": {
      "text/html": [
       "<div>\n",
       "<style scoped>\n",
       "    .dataframe tbody tr th:only-of-type {\n",
       "        vertical-align: middle;\n",
       "    }\n",
       "\n",
       "    .dataframe tbody tr th {\n",
       "        vertical-align: top;\n",
       "    }\n",
       "\n",
       "    .dataframe thead th {\n",
       "        text-align: right;\n",
       "    }\n",
       "</style>\n",
       "<table border=\"1\" class=\"dataframe\">\n",
       "  <thead>\n",
       "    <tr style=\"text-align: right;\">\n",
       "      <th></th>\n",
       "      <th>tag1</th>\n",
       "      <th>tag2</th>\n",
       "      <th>co_occurance_count</th>\n",
       "    </tr>\n",
       "  </thead>\n",
       "  <tbody>\n",
       "    <tr>\n",
       "      <th>2</th>\n",
       "      <td>c#</td>\n",
       "      <td>wpf</td>\n",
       "      <td>37582</td>\n",
       "    </tr>\n",
       "    <tr>\n",
       "      <th>851</th>\n",
       "      <td>c#</td>\n",
       "      <td>visual-studio-2010</td>\n",
       "      <td>5982</td>\n",
       "    </tr>\n",
       "    <tr>\n",
       "      <th>2105</th>\n",
       "      <td>c#</td>\n",
       "      <td>enterprise-library</td>\n",
       "      <td>324</td>\n",
       "    </tr>\n",
       "  </tbody>\n",
       "</table>\n",
       "</div>"
      ],
      "text/plain": [
       "     tag1                tag2  co_occurance_count\n",
       "2      c#                 wpf               37582\n",
       "851    c#  visual-studio-2010                5982\n",
       "2105   c#  enterprise-library                 324"
      ]
     },
     "execution_count": 9,
     "metadata": {},
     "output_type": "execute_result"
    }
   ],
   "source": [
    "df[(df[\"tag1\"] == \"c#\")].head()"
   ]
  },
  {
   "cell_type": "code",
   "execution_count": 10,
   "id": "3d78f272-ccba-4bb8-9320-066988bb07b7",
   "metadata": {},
   "outputs": [
    {
     "data": {
      "text/html": [
       "<div>\n",
       "<style scoped>\n",
       "    .dataframe tbody tr th:only-of-type {\n",
       "        vertical-align: middle;\n",
       "    }\n",
       "\n",
       "    .dataframe tbody tr th {\n",
       "        vertical-align: top;\n",
       "    }\n",
       "\n",
       "    .dataframe thead th {\n",
       "        text-align: right;\n",
       "    }\n",
       "</style>\n",
       "<table border=\"1\" class=\"dataframe\">\n",
       "  <thead>\n",
       "    <tr style=\"text-align: right;\">\n",
       "      <th></th>\n",
       "      <th>tag1</th>\n",
       "      <th>tag2</th>\n",
       "      <th>co_occurance_count</th>\n",
       "    </tr>\n",
       "  </thead>\n",
       "  <tbody>\n",
       "  </tbody>\n",
       "</table>\n",
       "</div>"
      ],
      "text/plain": [
       "Empty DataFrame\n",
       "Columns: [tag1, tag2, co_occurance_count]\n",
       "Index: []"
      ]
     },
     "execution_count": 10,
     "metadata": {},
     "output_type": "execute_result"
    }
   ],
   "source": [
    "df[(df[\"tag2\"] == \"c#\") & (df[\"tag1\"] == \"wpf\")]"
   ]
  },
  {
   "cell_type": "markdown",
   "id": "832e7a0c-beca-4d22-9add-87b600d16cc6",
   "metadata": {
    "tags": []
   },
   "source": [
    "## Prepare data: Alter table in a way to represent undirected network\n",
    "\n",
    "(edge present in both directions)"
   ]
  },
  {
   "cell_type": "code",
   "execution_count": 11,
   "id": "9406d52b-8ea4-4d5d-b4cc-48144337805b",
   "metadata": {},
   "outputs": [
    {
     "data": {
      "text/html": [
       "<div>\n",
       "<style scoped>\n",
       "    .dataframe tbody tr th:only-of-type {\n",
       "        vertical-align: middle;\n",
       "    }\n",
       "\n",
       "    .dataframe tbody tr th {\n",
       "        vertical-align: top;\n",
       "    }\n",
       "\n",
       "    .dataframe thead th {\n",
       "        text-align: right;\n",
       "    }\n",
       "</style>\n",
       "<table border=\"1\" class=\"dataframe\">\n",
       "  <thead>\n",
       "    <tr style=\"text-align: right;\">\n",
       "      <th></th>\n",
       "      <th>tag1</th>\n",
       "      <th>tag2</th>\n",
       "      <th>co_occurance_count</th>\n",
       "    </tr>\n",
       "  </thead>\n",
       "  <tbody>\n",
       "    <tr>\n",
       "      <th>0</th>\n",
       "      <td>visual-studio-2010</td>\n",
       "      <td>wpf</td>\n",
       "      <td>542</td>\n",
       "    </tr>\n",
       "    <tr>\n",
       "      <th>1</th>\n",
       "      <td>enterprise-library</td>\n",
       "      <td>wpf</td>\n",
       "      <td>16</td>\n",
       "    </tr>\n",
       "    <tr>\n",
       "      <th>2</th>\n",
       "      <td>c#</td>\n",
       "      <td>wpf</td>\n",
       "      <td>37582</td>\n",
       "    </tr>\n",
       "    <tr>\n",
       "      <th>3</th>\n",
       "      <td>visual-studio</td>\n",
       "      <td>wpf</td>\n",
       "      <td>747</td>\n",
       "    </tr>\n",
       "    <tr>\n",
       "      <th>4</th>\n",
       "      <td>solution</td>\n",
       "      <td>wpf</td>\n",
       "      <td>5</td>\n",
       "    </tr>\n",
       "  </tbody>\n",
       "</table>\n",
       "</div>"
      ],
      "text/plain": [
       "                 tag1 tag2  co_occurance_count\n",
       "0  visual-studio-2010  wpf                 542\n",
       "1  enterprise-library  wpf                  16\n",
       "2                  c#  wpf               37582\n",
       "3       visual-studio  wpf                 747\n",
       "4            solution  wpf                   5"
      ]
     },
     "execution_count": 11,
     "metadata": {},
     "output_type": "execute_result"
    }
   ],
   "source": [
    "df.head()"
   ]
  },
  {
   "cell_type": "code",
   "execution_count": 12,
   "id": "0ec36ae5-f828-4c03-b25e-d190b541dbc2",
   "metadata": {},
   "outputs": [
    {
     "data": {
      "text/plain": [
       "79005432"
      ]
     },
     "execution_count": 12,
     "metadata": {},
     "output_type": "execute_result"
    }
   ],
   "source": [
    "# find all tags possible\n",
    "all_tags = set(list(df[\"tag1\"].unique()) + list(df[\"tag2\"].unique()))\n",
    "combinations = [i for i in itertools.permutations(all_tags, r=2)]\n",
    "len(combinations) #number matches the expectation (len(unique_tags)^2 - len(unique_tags))"
   ]
  },
  {
   "cell_type": "markdown",
   "id": "6d2c8e4a-0d33-4faa-993b-6bd1da72ec1e",
   "metadata": {},
   "source": [
    "####### create dataframe that has all combinations \n",
    "df_complete = pd.DataFrame(combinations, columns =['Tag1', 'Tag2'])\n",
    "df_complete[\"count\"] = np.nan\n",
    "df_complete.head()"
   ]
  },
  {
   "cell_type": "code",
   "execution_count": 17,
   "id": "f5cdb6eb-aa8f-4809-85d3-b28a04013862",
   "metadata": {
    "tags": []
   },
   "outputs": [],
   "source": [
    "# creation of dictionary\n",
    "df_dic = df.T.to_dict(orient = \"dict\") # this line is quite slow"
   ]
  },
  {
   "cell_type": "code",
   "execution_count": 18,
   "id": "d4ffb736-0ddd-4f93-b18d-ffdb3bb03097",
   "metadata": {},
   "outputs": [],
   "source": [
    "# create two dictionaries: one having the directed edges (mapping_dic) & one to store the undirected edges (all_dic)\n",
    "mapping_dic = {}\n",
    "for key in df_dic.keys(): \n",
    "    mapping_dic[df_dic[key][\"tag1\"]] = {}\n",
    "for key in df_dic.keys(): \n",
    "    mapping_dic[df_dic[key][\"tag1\"]][df_dic[key][\"tag2\"]] = df_dic[key][\"co_occurance_count\"]"
   ]
  },
  {
   "cell_type": "code",
   "execution_count": 19,
   "id": "10a202ed-7c78-4972-8f92-72a3c158ea1e",
   "metadata": {
    "tags": []
   },
   "outputs": [],
   "source": [
    "all_dic = {}\n",
    "for tag1 in mapping_dic.keys(): \n",
    "    for tag2 in mapping_dic[tag1].keys(): \n",
    "        all_dic[tag1] = {}\n",
    "        all_dic[tag2] = {}\n",
    "        \n",
    "for tag1 in mapping_dic.keys(): \n",
    "    for tag2 in mapping_dic[tag1].keys():\n",
    "        all_dic[tag1][tag2] = mapping_dic[tag1][tag2]\n",
    "        all_dic[tag2][tag1] = mapping_dic[tag1][tag2]"
   ]
  },
  {
   "cell_type": "code",
   "execution_count": 20,
   "id": "e2b1b8fe-5773-4f31-b549-a43b11b2cbd8",
   "metadata": {},
   "outputs": [
    {
     "data": {
      "text/plain": [
       "32"
      ]
     },
     "execution_count": 20,
     "metadata": {},
     "output_type": "execute_result"
    }
   ],
   "source": [
    "all_dic['python']['factorial']#['python']"
   ]
  },
  {
   "cell_type": "code",
   "execution_count": 21,
   "id": "72c11189-9bf5-4071-a70f-867326e380d7",
   "metadata": {},
   "outputs": [],
   "source": [
    "#df_complete = pd.DataFrame.from_dict(all_dic, orient='columns')\n",
    "#df_complete.shape #fits expectation"
   ]
  },
  {
   "cell_type": "code",
   "execution_count": 65,
   "id": "5c6e2219-e015-4b5f-8989-91883c79b22a",
   "metadata": {},
   "outputs": [],
   "source": [
    "tag1_ls = []\n",
    "frames = []\n",
    "\n",
    "for tag1, tag_dic in all_dic.items():\n",
    "    tag1_ls.append(tag1)\n",
    "    frames.append(pd.DataFrame.from_dict(tag_dic, orient='index'))\n",
    "\n",
    "df_complete = pd.concat(frames, keys=tag1_ls)\n",
    "df_complete = df_complete.reset_index().rename(columns = {\"level_0\" : \"tag1\", \"level_1\" : \"tag2\", 0: \"count\"})"
   ]
  },
  {
   "cell_type": "code",
   "execution_count": 66,
   "id": "d7c9ed1f-d549-47ee-b3ee-763da896c403",
   "metadata": {},
   "outputs": [
    {
     "data": {
      "text/plain": [
       "(2356667, 3)"
      ]
     },
     "execution_count": 66,
     "metadata": {},
     "output_type": "execute_result"
    }
   ],
   "source": [
    "df_complete.shape"
   ]
  },
  {
   "cell_type": "code",
   "execution_count": 82,
   "id": "da201f4b-f711-4243-a921-dbc776f9ee96",
   "metadata": {},
   "outputs": [
    {
     "data": {
      "text/html": [
       "<div>\n",
       "<style scoped>\n",
       "    .dataframe tbody tr th:only-of-type {\n",
       "        vertical-align: middle;\n",
       "    }\n",
       "\n",
       "    .dataframe tbody tr th {\n",
       "        vertical-align: top;\n",
       "    }\n",
       "\n",
       "    .dataframe thead th {\n",
       "        text-align: right;\n",
       "    }\n",
       "</style>\n",
       "<table border=\"1\" class=\"dataframe\">\n",
       "  <thead>\n",
       "    <tr style=\"text-align: right;\">\n",
       "      <th></th>\n",
       "      <th>src</th>\n",
       "      <th>trg</th>\n",
       "      <th>count</th>\n",
       "    </tr>\n",
       "  </thead>\n",
       "  <tbody>\n",
       "    <tr>\n",
       "      <th>2356662</th>\n",
       "      <td>powerbi-desktop</td>\n",
       "      <td>powerbi</td>\n",
       "      <td>11</td>\n",
       "    </tr>\n",
       "    <tr>\n",
       "      <th>2356663</th>\n",
       "      <td>powerbi-desktop</td>\n",
       "      <td>dax</td>\n",
       "      <td>3</td>\n",
       "    </tr>\n",
       "    <tr>\n",
       "      <th>2356664</th>\n",
       "      <td>powerbi-desktop</td>\n",
       "      <td>powerquery</td>\n",
       "      <td>1</td>\n",
       "    </tr>\n",
       "    <tr>\n",
       "      <th>2356665</th>\n",
       "      <td>powerbi-desktop</td>\n",
       "      <td>powerbi-embedded</td>\n",
       "      <td>2</td>\n",
       "    </tr>\n",
       "    <tr>\n",
       "      <th>2356666</th>\n",
       "      <td>ionic4</td>\n",
       "      <td>ionic-framework</td>\n",
       "      <td>4</td>\n",
       "    </tr>\n",
       "  </tbody>\n",
       "</table>\n",
       "</div>"
      ],
      "text/plain": [
       "                     src               trg  count\n",
       "2356662  powerbi-desktop           powerbi     11\n",
       "2356663  powerbi-desktop               dax      3\n",
       "2356664  powerbi-desktop        powerquery      1\n",
       "2356665  powerbi-desktop  powerbi-embedded      2\n",
       "2356666           ionic4   ionic-framework      4"
      ]
     },
     "execution_count": 82,
     "metadata": {},
     "output_type": "execute_result"
    }
   ],
   "source": [
    "df_complete.tail()"
   ]
  },
  {
   "cell_type": "code",
   "execution_count": 68,
   "id": "0dfbd309-abb3-4168-9918-3662fb908144",
   "metadata": {},
   "outputs": [
    {
     "data": {
      "text/plain": [
       "542"
      ]
     },
     "execution_count": 68,
     "metadata": {},
     "output_type": "execute_result"
    }
   ],
   "source": [
    "all_dic[\"visual-studio-2010\"][\"wpf\"]"
   ]
  },
  {
   "cell_type": "code",
   "execution_count": 69,
   "id": "62301faf-f445-4b3e-b2d3-cce7ab81de6b",
   "metadata": {},
   "outputs": [],
   "source": [
    "df_complete = df_complete.rename(columns = {\"tag1\" : \"src\", \"tag2\" : \"trg\"})"
   ]
  },
  {
   "cell_type": "code",
   "execution_count": 77,
   "id": "bdaebebd-40b9-4920-bed2-a74d0b406f47",
   "metadata": {},
   "outputs": [
    {
     "data": {
      "text/html": [
       "<div>\n",
       "<style scoped>\n",
       "    .dataframe tbody tr th:only-of-type {\n",
       "        vertical-align: middle;\n",
       "    }\n",
       "\n",
       "    .dataframe tbody tr th {\n",
       "        vertical-align: top;\n",
       "    }\n",
       "\n",
       "    .dataframe thead th {\n",
       "        text-align: right;\n",
       "    }\n",
       "</style>\n",
       "<table border=\"1\" class=\"dataframe\">\n",
       "  <thead>\n",
       "    <tr style=\"text-align: right;\">\n",
       "      <th></th>\n",
       "      <th>src</th>\n",
       "      <th>trg</th>\n",
       "      <th>count</th>\n",
       "    </tr>\n",
       "  </thead>\n",
       "  <tbody>\n",
       "    <tr>\n",
       "      <th>0</th>\n",
       "      <td>visual-studio-2010</td>\n",
       "      <td>wpf</td>\n",
       "      <td>542</td>\n",
       "    </tr>\n",
       "  </tbody>\n",
       "</table>\n",
       "</div>"
      ],
      "text/plain": [
       "                  src  trg  count\n",
       "0  visual-studio-2010  wpf    542"
      ]
     },
     "execution_count": 77,
     "metadata": {},
     "output_type": "execute_result"
    }
   ],
   "source": [
    "df_complete[(df_complete[\"src\"] == \"visual-studio-2010\") & (df_complete[\"trg\"] == \"wpf\")]"
   ]
  },
  {
   "cell_type": "code",
   "execution_count": 78,
   "id": "8a9b063e-56d8-4647-bcbc-f8c5b40bfd82",
   "metadata": {},
   "outputs": [
    {
     "data": {
      "text/html": [
       "<div>\n",
       "<style scoped>\n",
       "    .dataframe tbody tr th:only-of-type {\n",
       "        vertical-align: middle;\n",
       "    }\n",
       "\n",
       "    .dataframe tbody tr th {\n",
       "        vertical-align: top;\n",
       "    }\n",
       "\n",
       "    .dataframe thead th {\n",
       "        text-align: right;\n",
       "    }\n",
       "</style>\n",
       "<table border=\"1\" class=\"dataframe\">\n",
       "  <thead>\n",
       "    <tr style=\"text-align: right;\">\n",
       "      <th></th>\n",
       "      <th>src</th>\n",
       "      <th>trg</th>\n",
       "      <th>count</th>\n",
       "    </tr>\n",
       "  </thead>\n",
       "  <tbody>\n",
       "    <tr>\n",
       "      <th>1256</th>\n",
       "      <td>wpf</td>\n",
       "      <td>visual-studio-2010</td>\n",
       "      <td>542</td>\n",
       "    </tr>\n",
       "  </tbody>\n",
       "</table>\n",
       "</div>"
      ],
      "text/plain": [
       "      src                 trg  count\n",
       "1256  wpf  visual-studio-2010    542"
      ]
     },
     "execution_count": 78,
     "metadata": {},
     "output_type": "execute_result"
    }
   ],
   "source": [
    "df_complete[(df_complete[\"src\"] == \"wpf\") & (df_complete[\"trg\"] == \"visual-studio-2010\")]"
   ]
  },
  {
   "cell_type": "code",
   "execution_count": 98,
   "id": "1be0deea-5159-4f56-a444-e5c610c6d34c",
   "metadata": {},
   "outputs": [
    {
     "data": {
      "text/plain": [
       "(set(), 8889, 8889)"
      ]
     },
     "execution_count": 98,
     "metadata": {},
     "output_type": "execute_result"
    }
   ],
   "source": [
    "src_set = set(df_complete[\"src\"])\n",
    "trg_set = set(df_complete[\"trg\"])\n",
    "trg_set-src_set, len(trg_set), len(src_set) # all tags are present "
   ]
  },
  {
   "cell_type": "code",
   "execution_count": 100,
   "id": "1de57aae-99c9-4d1a-8dff-0ab52fb48ca2",
   "metadata": {},
   "outputs": [
    {
     "data": {
      "text/plain": [
       "(True, 2356667, 2356667)"
      ]
     },
     "execution_count": 100,
     "metadata": {},
     "output_type": "execute_result"
    }
   ],
   "source": [
    "src_ls = sorted([str(i) for i in list(df_complete[\"src\"])])\n",
    "trg_ls = sorted([str(i) for i in list(df_complete[\"trg\"])])\n",
    "src_ls == trg_ls, len(src_ls), len(trg_ls) # target and source list are the same"
   ]
  },
  {
   "cell_type": "code",
   "execution_count": 5,
   "id": "6eeb7f89-b574-4898-8bd9-1ce4e458a6f5",
   "metadata": {},
   "outputs": [],
   "source": [
    "#df_complete.to_csv(path_or_buf=\"../data/undirected_stackoverflow_network.csv\", sep='\\t')"
   ]
  },
  {
   "cell_type": "markdown",
   "id": "b69d4e3e-7e3c-47ab-ac6d-0064c606add1",
   "metadata": {},
   "source": [
    "## Perform backboning "
   ]
  },
  {
   "cell_type": "code",
   "execution_count": 6,
   "id": "4aaced9c-3b82-4b1d-b1b5-30a75b0c6807",
   "metadata": {},
   "outputs": [],
   "source": [
    "table, original_nodes, original_edges = backboning.read(\"../data/undirected_stackoverflow_network.csv\", column_of_interest = \"count\", undirected = True)"
   ]
  },
  {
   "cell_type": "code",
   "execution_count": 7,
   "id": "fda4a8fc-2d0d-4116-bb57-949bf4493459",
   "metadata": {},
   "outputs": [
    {
     "data": {
      "text/html": [
       "<div>\n",
       "<style scoped>\n",
       "    .dataframe tbody tr th:only-of-type {\n",
       "        vertical-align: middle;\n",
       "    }\n",
       "\n",
       "    .dataframe tbody tr th {\n",
       "        vertical-align: top;\n",
       "    }\n",
       "\n",
       "    .dataframe thead th {\n",
       "        text-align: right;\n",
       "    }\n",
       "</style>\n",
       "<table border=\"1\" class=\"dataframe\">\n",
       "  <thead>\n",
       "    <tr style=\"text-align: right;\">\n",
       "      <th></th>\n",
       "      <th>src</th>\n",
       "      <th>trg</th>\n",
       "      <th>nij</th>\n",
       "    </tr>\n",
       "  </thead>\n",
       "  <tbody>\n",
       "    <tr>\n",
       "      <th>0</th>\n",
       "      <td>visual-studio-2010</td>\n",
       "      <td>wpf</td>\n",
       "      <td>542</td>\n",
       "    </tr>\n",
       "    <tr>\n",
       "      <th>1</th>\n",
       "      <td>visual-studio-2010</td>\n",
       "      <td>enterprise-library</td>\n",
       "      <td>6</td>\n",
       "    </tr>\n",
       "    <tr>\n",
       "      <th>2</th>\n",
       "      <td>visual-studio-2010</td>\n",
       "      <td>c#</td>\n",
       "      <td>5982</td>\n",
       "    </tr>\n",
       "    <tr>\n",
       "      <th>3</th>\n",
       "      <td>visual-studio-2010</td>\n",
       "      <td>visual-studio</td>\n",
       "      <td>2866</td>\n",
       "    </tr>\n",
       "    <tr>\n",
       "      <th>4</th>\n",
       "      <td>visual-studio-2010</td>\n",
       "      <td>solution</td>\n",
       "      <td>39</td>\n",
       "    </tr>\n",
       "  </tbody>\n",
       "</table>\n",
       "</div>"
      ],
      "text/plain": [
       "                  src                 trg   nij\n",
       "0  visual-studio-2010                 wpf   542\n",
       "1  visual-studio-2010  enterprise-library     6\n",
       "2  visual-studio-2010                  c#  5982\n",
       "3  visual-studio-2010       visual-studio  2866\n",
       "4  visual-studio-2010            solution    39"
      ]
     },
     "execution_count": 7,
     "metadata": {},
     "output_type": "execute_result"
    }
   ],
   "source": [
    "table.head()"
   ]
  },
  {
   "cell_type": "code",
   "execution_count": 8,
   "id": "fa7afcb4-5a11-431c-b61f-f01a02578c6f",
   "metadata": {},
   "outputs": [
    {
     "data": {
      "text/plain": [
       "(8889, 1178333.5)"
      ]
     },
     "execution_count": 8,
     "metadata": {},
     "output_type": "execute_result"
    }
   ],
   "source": [
    "original_nodes, original_edges"
   ]
  },
  {
   "cell_type": "code",
   "execution_count": 9,
   "id": "1cc00951-9997-4f80-93ad-cc9a81575ee5",
   "metadata": {},
   "outputs": [],
   "source": [
    "import settings_tab2\n",
    "\n",
    "measure = \"noise_corrected\"\n",
    "network = \"stackoverflow\""
   ]
  },
  {
   "cell_type": "code",
   "execution_count": 10,
   "id": "266f9bfe-7d4a-4251-88f2-05e1cac74a2a",
   "metadata": {},
   "outputs": [
    {
     "name": "stderr",
     "output_type": "stream",
     "text": [
      "Calculating NC score...\n"
     ]
    }
   ],
   "source": [
    "edge_table = settings_tab2.measures[measure](table, undirected = True) # backboning takes place here "
   ]
  },
  {
   "cell_type": "code",
   "execution_count": 11,
   "id": "4bdf9cc8-aab6-4fd3-8ee0-736453e8ef43",
   "metadata": {},
   "outputs": [
    {
     "data": {
      "text/html": [
       "<div>\n",
       "<style scoped>\n",
       "    .dataframe tbody tr th:only-of-type {\n",
       "        vertical-align: middle;\n",
       "    }\n",
       "\n",
       "    .dataframe tbody tr th {\n",
       "        vertical-align: top;\n",
       "    }\n",
       "\n",
       "    .dataframe thead th {\n",
       "        text-align: right;\n",
       "    }\n",
       "</style>\n",
       "<table border=\"1\" class=\"dataframe\">\n",
       "  <thead>\n",
       "    <tr style=\"text-align: right;\">\n",
       "      <th></th>\n",
       "      <th>src</th>\n",
       "      <th>trg</th>\n",
       "      <th>nij</th>\n",
       "      <th>score</th>\n",
       "      <th>sdev_cij</th>\n",
       "    </tr>\n",
       "  </thead>\n",
       "  <tbody>\n",
       "    <tr>\n",
       "      <th>0</th>\n",
       "      <td>visual-studio-2010</td>\n",
       "      <td>wpf</td>\n",
       "      <td>542</td>\n",
       "      <td>0.533262</td>\n",
       "      <td>0.005477</td>\n",
       "    </tr>\n",
       "    <tr>\n",
       "      <th>2106</th>\n",
       "      <td>enterprise-library</td>\n",
       "      <td>wpf</td>\n",
       "      <td>16</td>\n",
       "      <td>0.417976</td>\n",
       "      <td>0.058885</td>\n",
       "    </tr>\n",
       "    <tr>\n",
       "      <th>2360</th>\n",
       "      <td>c#</td>\n",
       "      <td>wpf</td>\n",
       "      <td>37582</td>\n",
       "      <td>0.812598</td>\n",
       "      <td>0.228932</td>\n",
       "    </tr>\n",
       "    <tr>\n",
       "      <th>4097</th>\n",
       "      <td>visual-studio</td>\n",
       "      <td>wpf</td>\n",
       "      <td>747</td>\n",
       "      <td>0.432409</td>\n",
       "      <td>0.013132</td>\n",
       "    </tr>\n",
       "    <tr>\n",
       "      <th>5338</th>\n",
       "      <td>solution</td>\n",
       "      <td>wpf</td>\n",
       "      <td>5</td>\n",
       "      <td>0.188131</td>\n",
       "      <td>0.180965</td>\n",
       "    </tr>\n",
       "  </tbody>\n",
       "</table>\n",
       "</div>"
      ],
      "text/plain": [
       "                     src  trg    nij     score  sdev_cij\n",
       "0     visual-studio-2010  wpf    542  0.533262  0.005477\n",
       "2106  enterprise-library  wpf     16  0.417976  0.058885\n",
       "2360                  c#  wpf  37582  0.812598  0.228932\n",
       "4097       visual-studio  wpf    747  0.432409  0.013132\n",
       "5338            solution  wpf      5  0.188131  0.180965"
      ]
     },
     "execution_count": 11,
     "metadata": {},
     "output_type": "execute_result"
    }
   ],
   "source": [
    "edge_table.head()"
   ]
  },
  {
   "cell_type": "markdown",
   "id": "49a52e9b-ed64-425d-b808-e5fae8e35562",
   "metadata": {},
   "source": [
    "### Find appropriate threshold"
   ]
  },
  {
   "cell_type": "markdown",
   "id": "e3e15e05-cc31-4ea9-9a46-5480567887af",
   "metadata": {},
   "source": [
    "from the paper [p. 429]: “common values of δ are 1.28, 1.64, and 2.32, which approximate p-values of 0.1, 0.05, and 0.01.”"
   ]
  },
  {
   "cell_type": "code",
   "execution_count": 91,
   "id": "ae7954be-e5bd-4251-8adc-d38ddbbf479c",
   "metadata": {},
   "outputs": [],
   "source": [
    "# set test threshold\n",
    "# threshold = 2.32 # can also be set even higher if whished for\n",
    "threshold = 10000"
   ]
  },
  {
   "cell_type": "code",
   "execution_count": 92,
   "id": "555a3a95-19c8-48ca-9474-3d9cce9f8b25",
   "metadata": {},
   "outputs": [],
   "source": [
    "# function from Coscia\n",
    "def thresholding(table, threshold):\n",
    "    \"\"\"Reads a preprocessed edge table and returns only the edges supassing a significance threshold.\n",
    "    Args:\n",
    "    table (pandas.DataFrame): The edge table.\n",
    "    threshold (float): The minimum significance to include the edge in the backbone.\n",
    "\n",
    "    Returns:\n",
    "    The network backbone.\n",
    "    \"\"\"\n",
    "    \n",
    "    table = table.copy()\n",
    "    if \"sdev_cij\" in table:\n",
    "        return table[(table[\"score\"] - (threshold * table[\"sdev_cij\"])) > 0][[\"src\", \"trg\", \"nij\", \"score\"]]\n",
    "    else:\n",
    "        return table[table[\"score\"] > threshold][[\"src\", \"trg\", \"nij\", \"score\"]]"
   ]
  },
  {
   "cell_type": "code",
   "execution_count": 93,
   "id": "986fdbbf-9fc0-44d1-b74d-5857098694ec",
   "metadata": {},
   "outputs": [],
   "source": [
    "def apply_thresholding(edge_table, measure, threshold): \n",
    "    \n",
    "    if measure in [\"maximum_spanning_tree\", \"doubly_stochastic\"]: \n",
    "        edge_table_thresholded = edge_table.copy()\n",
    "    else: \n",
    "        edge_table_thresholded = thresholding(edge_table, threshold)\n",
    "    return edge_table_thresholded"
   ]
  },
  {
   "cell_type": "code",
   "execution_count": 94,
   "id": "07f648fc-11ad-4273-ba74-e6ba16a2147a",
   "metadata": {},
   "outputs": [],
   "source": [
    "edge_table_thresholded = apply_thresholding(edge_table, measure, threshold)"
   ]
  },
  {
   "cell_type": "code",
   "execution_count": 95,
   "id": "33e2778e-6230-4d23-ac5c-fa0a6ed10fc1",
   "metadata": {},
   "outputs": [
    {
     "data": {
      "text/plain": [
       "((1176731, 5), (2210, 4))"
      ]
     },
     "execution_count": 95,
     "metadata": {},
     "output_type": "execute_result"
    }
   ],
   "source": [
    "edge_table.shape, edge_table_thresholded.shape # remaining edges "
   ]
  },
  {
   "cell_type": "code",
   "execution_count": 96,
   "id": "df538b6c-8a26-41ae-bb89-a30d83c81127",
   "metadata": {},
   "outputs": [
    {
     "data": {
      "text/plain": [
       "1174521"
      ]
     },
     "execution_count": 96,
     "metadata": {},
     "output_type": "execute_result"
    }
   ],
   "source": [
    "len(edge_table)-len(edge_table_thresholded) # number of dropped edges by thresholding (1.28: 265703, 1.64: 310367, 2.32: 382907)"
   ]
  },
  {
   "cell_type": "code",
   "execution_count": 97,
   "id": "7702d52c-def3-4581-af99-3a3b05eacee8",
   "metadata": {},
   "outputs": [
    {
     "data": {
      "text/plain": [
       "<AxesSubplot:>"
      ]
     },
     "execution_count": 97,
     "metadata": {},
     "output_type": "execute_result"
    },
    {
     "data": {
      "image/png": "[encoded data removed]",
      "text/plain": [
       "<Figure size 432x288 with 1 Axes>"
      ]
     },
     "metadata": {
      "needs_background": "light"
     },
     "output_type": "display_data"
    }
   ],
   "source": [
    "edge_table[\"nij\"].map(lambda x: np.log(x)).hist()"
   ]
  },
  {
   "cell_type": "code",
   "execution_count": 98,
   "id": "90e9b50e-ed76-4222-a5e0-a191448cf005",
   "metadata": {},
   "outputs": [
    {
     "data": {
      "text/plain": [
       "<AxesSubplot:>"
      ]
     },
     "execution_count": 98,
     "metadata": {},
     "output_type": "execute_result"
    },
    {
     "data": {
      "image/png": "[encoded data removed]",
      "text/plain": [
       "<Figure size 432x288 with 1 Axes>"
      ]
     },
     "metadata": {
      "needs_background": "light"
     },
     "output_type": "display_data"
    }
   ],
   "source": [
    "edge_table_thresholded[\"nij\"].map(lambda x: np.log(x)).hist()"
   ]
  },
  {
   "cell_type": "code",
   "execution_count": 99,
   "id": "2997ee69-23f1-4f8c-a56e-6fc1e17d00ab",
   "metadata": {},
   "outputs": [
    {
     "data": {
      "text/html": [
       "<div>\n",
       "<style scoped>\n",
       "    .dataframe tbody tr th:only-of-type {\n",
       "        vertical-align: middle;\n",
       "    }\n",
       "\n",
       "    .dataframe tbody tr th {\n",
       "        vertical-align: top;\n",
       "    }\n",
       "\n",
       "    .dataframe thead th {\n",
       "        text-align: right;\n",
       "    }\n",
       "</style>\n",
       "<table border=\"1\" class=\"dataframe\">\n",
       "  <thead>\n",
       "    <tr style=\"text-align: right;\">\n",
       "      <th></th>\n",
       "      <th>src</th>\n",
       "      <th>trg</th>\n",
       "      <th>nij</th>\n",
       "      <th>score</th>\n",
       "      <th>sdev_cij</th>\n",
       "    </tr>\n",
       "  </thead>\n",
       "  <tbody>\n",
       "    <tr>\n",
       "      <th>0</th>\n",
       "      <td>visual-studio-2010</td>\n",
       "      <td>wpf</td>\n",
       "      <td>542</td>\n",
       "      <td>0.533262</td>\n",
       "      <td>0.005477</td>\n",
       "    </tr>\n",
       "    <tr>\n",
       "      <th>2106</th>\n",
       "      <td>enterprise-library</td>\n",
       "      <td>wpf</td>\n",
       "      <td>16</td>\n",
       "      <td>0.417976</td>\n",
       "      <td>0.058885</td>\n",
       "    </tr>\n",
       "    <tr>\n",
       "      <th>2360</th>\n",
       "      <td>c#</td>\n",
       "      <td>wpf</td>\n",
       "      <td>37582</td>\n",
       "      <td>0.812598</td>\n",
       "      <td>0.228932</td>\n",
       "    </tr>\n",
       "    <tr>\n",
       "      <th>4097</th>\n",
       "      <td>visual-studio</td>\n",
       "      <td>wpf</td>\n",
       "      <td>747</td>\n",
       "      <td>0.432409</td>\n",
       "      <td>0.013132</td>\n",
       "    </tr>\n",
       "    <tr>\n",
       "      <th>5338</th>\n",
       "      <td>solution</td>\n",
       "      <td>wpf</td>\n",
       "      <td>5</td>\n",
       "      <td>0.188131</td>\n",
       "      <td>0.180965</td>\n",
       "    </tr>\n",
       "  </tbody>\n",
       "</table>\n",
       "</div>"
      ],
      "text/plain": [
       "                     src  trg    nij     score  sdev_cij\n",
       "0     visual-studio-2010  wpf    542  0.533262  0.005477\n",
       "2106  enterprise-library  wpf     16  0.417976  0.058885\n",
       "2360                  c#  wpf  37582  0.812598  0.228932\n",
       "4097       visual-studio  wpf    747  0.432409  0.013132\n",
       "5338            solution  wpf      5  0.188131  0.180965"
      ]
     },
     "execution_count": 99,
     "metadata": {},
     "output_type": "execute_result"
    }
   ],
   "source": [
    "edge_table.head()"
   ]
  },
  {
   "cell_type": "markdown",
   "id": "1680d260-87e2-47cd-9412-bc9f79ffdd63",
   "metadata": {},
   "source": [
    "### Apply backboning to thresholded data"
   ]
  },
  {
   "cell_type": "code",
   "execution_count": 104,
   "id": "e3d55f37-e4a1-4e9d-a5e8-00cf4b773cd7",
   "metadata": {},
   "outputs": [],
   "source": [
    "def backbone_network(edge_table_thresholded, edge_table, table, original_nodes, original_edges): \n",
    "    \n",
    "    original_nodes_thresh = len(set(edge_table_thresholded[\"src\"]) | set(edge_table_thresholded[\"trg\"]))\n",
    "    original_edges_thresh = edge_table_thresholded.shape[0]\n",
    "\n",
    "    print(f\"Number of original nodes pre-thresholding: {original_nodes}\")\n",
    "    print(f\"Number of original edges pre-thresholding: {int(original_edges)} \\n\")\n",
    "    print(f\"Number of original nodes post-thresholding: {original_nodes_thresh}\")\n",
    "    print(f\"Number of original edges post-thresholding: {int(original_edges_thresh)} \\n\")\n",
    "    \n",
    "    print(f\"Difference in nodes: {original_nodes-original_nodes_thresh}\")\n",
    "    print(f\"Difference in edges: {int(original_edges-original_edges_thresh)}\")\n",
    "    \n",
    "    G_threshold = nx.from_pandas_edgelist(edge_table_thresholded, \"src\", \"trg\")\n",
    "    DiG_thresholded = G_threshold.to_directed()\n",
    "    UnG_thresholded = G_threshold.to_undirected()\n",
    "    G = nx.from_pandas_edgelist(edge_table, \"src\", \"trg\")\n",
    "    G_raw = nx.from_pandas_edgelist(table, \"src\", \"trg\")\n",
    "    \n",
    "    return G, G_threshold, DiG_thresholded, UnG_thresholded, G_raw"
   ]
  },
  {
   "cell_type": "code",
   "execution_count": 105,
   "id": "4a69770c-e000-457d-b241-f47648145f32",
   "metadata": {},
   "outputs": [
    {
     "name": "stdout",
     "output_type": "stream",
     "text": [
      "Number of original nodes pre-thresholding: 8889\n",
      "Number of original edges pre-thresholding: 1178333 \n",
      "\n",
      "Number of original nodes post-thresholding: 2749\n",
      "Number of original edges post-thresholding: 2210 \n",
      "\n",
      "Difference in nodes: 6140\n",
      "Difference in edges: 1176123\n"
     ]
    }
   ],
   "source": [
    "G, G_threshold, DiG_thresholded, UnG_thresholded, G_raw = backbone_network(edge_table_thresholded, edge_table, table, original_nodes, original_edges)"
   ]
  },
  {
   "cell_type": "code",
   "execution_count": 106,
   "id": "e9b483b7-96ed-4760-83cc-183373e3ec10",
   "metadata": {},
   "outputs": [
    {
     "data": {
      "image/png": "[encoded data removed]",
      "text/plain": [
       "<Figure size 432x288 with 1 Axes>"
      ]
     },
     "metadata": {},
     "output_type": "display_data"
    }
   ],
   "source": [
    "nx.draw_kamada_kawai(DiG_thresholded)#, node_size = 30, edge_color = \"gray\", width = 0.5)"
   ]
  },
  {
   "cell_type": "code",
   "execution_count": 107,
   "id": "6b8b8e91-a4a4-416b-a78c-33847c2951cf",
   "metadata": {},
   "outputs": [
    {
     "data": {
      "image/png": "[encoded data removed]",
      "text/plain": [
       "<Figure size 432x288 with 1 Axes>"
      ]
     },
     "metadata": {},
     "output_type": "display_data"
    }
   ],
   "source": [
    "nx.draw_kamada_kawai(UnG_thresholded)"
   ]
  },
  {
   "cell_type": "code",
   "execution_count": 109,
   "id": "a0eda168-3304-4d1c-9cbf-a286f1a3b0b1",
   "metadata": {},
   "outputs": [],
   "source": [
    "#UnG_thresholded.edges"
   ]
  },
  {
   "cell_type": "code",
   "execution_count": 63,
   "id": "78e9fd2b-aa9d-4b2c-9e57-2a19c32b6b2d",
   "metadata": {},
   "outputs": [],
   "source": [
    "#nx.draw_kamada_kawai(G, node_size = 30, edge_color = \"gray\", width = 0.5)"
   ]
  },
  {
   "cell_type": "code",
   "execution_count": 64,
   "id": "99ebbf1a-7407-4312-bf4b-355a11b2b848",
   "metadata": {},
   "outputs": [
    {
     "data": {
      "image/png": "[encoded data removed]",
      "text/plain": [
       "<Figure size 432x288 with 1 Axes>"
      ]
     },
     "metadata": {},
     "output_type": "display_data"
    }
   ],
   "source": [
    "#nx.draw(G, node_size = 30, edge_color = \"gray\", width = 0.5)"
   ]
  },
  {
   "cell_type": "code",
   "execution_count": 65,
   "id": "15f4d878-3a25-497c-ab89-21193ed66f2a",
   "metadata": {},
   "outputs": [
    {
     "data": {
      "image/png": "[encoded data removed]",
      "text/plain": [
       "<Figure size 432x288 with 1 Axes>"
      ]
     },
     "metadata": {},
     "output_type": "display_data"
    }
   ],
   "source": []
  },
  {
   "cell_type": "code",
   "execution_count": 26,
   "id": "1cf069ae-293f-4c8b-923e-a418bfa104a8",
   "metadata": {},
   "outputs": [
    {
     "data": {
      "text/html": [
       "<div>\n",
       "<style scoped>\n",
       "    .dataframe tbody tr th:only-of-type {\n",
       "        vertical-align: middle;\n",
       "    }\n",
       "\n",
       "    .dataframe tbody tr th {\n",
       "        vertical-align: top;\n",
       "    }\n",
       "\n",
       "    .dataframe thead th {\n",
       "        text-align: right;\n",
       "    }\n",
       "</style>\n",
       "<table border=\"1\" class=\"dataframe\">\n",
       "  <thead>\n",
       "    <tr style=\"text-align: right;\">\n",
       "      <th></th>\n",
       "      <th>src</th>\n",
       "      <th>trg</th>\n",
       "      <th>nij</th>\n",
       "      <th>score</th>\n",
       "    </tr>\n",
       "  </thead>\n",
       "  <tbody>\n",
       "    <tr>\n",
       "      <th>23534</th>\n",
       "      <td>datagrid</td>\n",
       "      <td>wpf</td>\n",
       "      <td>3524</td>\n",
       "      <td>0.969004</td>\n",
       "    </tr>\n",
       "    <tr>\n",
       "      <th>5629</th>\n",
       "      <td>vs-extensibility</td>\n",
       "      <td>vspackage</td>\n",
       "      <td>37</td>\n",
       "      <td>0.999578</td>\n",
       "    </tr>\n",
       "    <tr>\n",
       "      <th>7255</th>\n",
       "      <td>ef-code-first</td>\n",
       "      <td>entity-framework</td>\n",
       "      <td>2793</td>\n",
       "      <td>0.983495</td>\n",
       "    </tr>\n",
       "    <tr>\n",
       "      <th>392990</th>\n",
       "      <td>cmd</td>\n",
       "      <td>windows</td>\n",
       "      <td>2157</td>\n",
       "      <td>0.971150</td>\n",
       "    </tr>\n",
       "    <tr>\n",
       "      <th>1810188</th>\n",
       "      <td>custom-action</td>\n",
       "      <td>windows-installer</td>\n",
       "      <td>185</td>\n",
       "      <td>0.998007</td>\n",
       "    </tr>\n",
       "    <tr>\n",
       "      <th>212571</th>\n",
       "      <td>wcf</td>\n",
       "      <td>wcf-binding</td>\n",
       "      <td>688</td>\n",
       "      <td>0.992515</td>\n",
       "    </tr>\n",
       "    <tr>\n",
       "      <th>611838</th>\n",
       "      <td>visual-studio-extensions</td>\n",
       "      <td>vsix</td>\n",
       "      <td>121</td>\n",
       "      <td>0.999189</td>\n",
       "    </tr>\n",
       "    <tr>\n",
       "      <th>786995</th>\n",
       "      <td>silverlight</td>\n",
       "      <td>silverlight-3.0</td>\n",
       "      <td>587</td>\n",
       "      <td>0.994944</td>\n",
       "    </tr>\n",
       "    <tr>\n",
       "      <th>177820</th>\n",
       "      <td>managed</td>\n",
       "      <td>unmanaged</td>\n",
       "      <td>115</td>\n",
       "      <td>0.999184</td>\n",
       "    </tr>\n",
       "    <tr>\n",
       "      <th>1851942</th>\n",
       "      <td>cefsharp</td>\n",
       "      <td>chromium-embedded</td>\n",
       "      <td>86</td>\n",
       "      <td>0.999722</td>\n",
       "    </tr>\n",
       "    <tr>\n",
       "      <th>787109</th>\n",
       "      <td>silverlight</td>\n",
       "      <td>windows-phone-7</td>\n",
       "      <td>1867</td>\n",
       "      <td>0.985255</td>\n",
       "    </tr>\n",
       "    <tr>\n",
       "      <th>1803868</th>\n",
       "      <td>workflow-activity</td>\n",
       "      <td>workflow-foundation</td>\n",
       "      <td>63</td>\n",
       "      <td>0.999417</td>\n",
       "    </tr>\n",
       "    <tr>\n",
       "      <th>1885400</th>\n",
       "      <td>burn</td>\n",
       "      <td>wix</td>\n",
       "      <td>267</td>\n",
       "      <td>0.999182</td>\n",
       "    </tr>\n",
       "    <tr>\n",
       "      <th>1915008</th>\n",
       "      <td>bootstrapper</td>\n",
       "      <td>wix</td>\n",
       "      <td>169</td>\n",
       "      <td>0.998644</td>\n",
       "    </tr>\n",
       "    <tr>\n",
       "      <th>1653689</th>\n",
       "      <td>microsoft-metro</td>\n",
       "      <td>windows-8</td>\n",
       "      <td>1144</td>\n",
       "      <td>0.997045</td>\n",
       "    </tr>\n",
       "    <tr>\n",
       "      <th>1320323</th>\n",
       "      <td>directx</td>\n",
       "      <td>directx-11</td>\n",
       "      <td>225</td>\n",
       "      <td>0.998849</td>\n",
       "    </tr>\n",
       "    <tr>\n",
       "      <th>181657</th>\n",
       "      <td>f#</td>\n",
       "      <td>type-providers</td>\n",
       "      <td>224</td>\n",
       "      <td>0.999331</td>\n",
       "    </tr>\n",
       "    <tr>\n",
       "      <th>1838772</th>\n",
       "      <td>bing-api</td>\n",
       "      <td>bing-maps</td>\n",
       "      <td>85</td>\n",
       "      <td>0.999326</td>\n",
       "    </tr>\n",
       "    <tr>\n",
       "      <th>358516</th>\n",
       "      <td>absolute-path</td>\n",
       "      <td>relative-path</td>\n",
       "      <td>118</td>\n",
       "      <td>0.999403</td>\n",
       "    </tr>\n",
       "    <tr>\n",
       "      <th>182517</th>\n",
       "      <td>debugging</td>\n",
       "      <td>windbg</td>\n",
       "      <td>312</td>\n",
       "      <td>0.990637</td>\n",
       "    </tr>\n",
       "    <tr>\n",
       "      <th>1929607</th>\n",
       "      <td>gecko</td>\n",
       "      <td>geckofx</td>\n",
       "      <td>29</td>\n",
       "      <td>0.999697</td>\n",
       "    </tr>\n",
       "    <tr>\n",
       "      <th>1254117</th>\n",
       "      <td>workflow-foundation</td>\n",
       "      <td>workflow-foundation-4</td>\n",
       "      <td>283</td>\n",
       "      <td>0.999543</td>\n",
       "    </tr>\n",
       "    <tr>\n",
       "      <th>1803894</th>\n",
       "      <td>workflow-activity</td>\n",
       "      <td>workflow-foundation-4</td>\n",
       "      <td>85</td>\n",
       "      <td>0.999563</td>\n",
       "    </tr>\n",
       "    <tr>\n",
       "      <th>1836943</th>\n",
       "      <td>bing</td>\n",
       "      <td>bing-api</td>\n",
       "      <td>78</td>\n",
       "      <td>0.999758</td>\n",
       "    </tr>\n",
       "    <tr>\n",
       "      <th>1848292</th>\n",
       "      <td>facebook-messenger</td>\n",
       "      <td>messenger</td>\n",
       "      <td>46</td>\n",
       "      <td>0.999487</td>\n",
       "    </tr>\n",
       "    <tr>\n",
       "      <th>841865</th>\n",
       "      <td>log4net</td>\n",
       "      <td>log4net-configuration</td>\n",
       "      <td>257</td>\n",
       "      <td>0.999596</td>\n",
       "    </tr>\n",
       "    <tr>\n",
       "      <th>1915043</th>\n",
       "      <td>bootstrapper</td>\n",
       "      <td>burn</td>\n",
       "      <td>79</td>\n",
       "      <td>0.999744</td>\n",
       "    </tr>\n",
       "    <tr>\n",
       "      <th>1426992</th>\n",
       "      <td>kinect</td>\n",
       "      <td>kinect-sdk</td>\n",
       "      <td>154</td>\n",
       "      <td>0.999719</td>\n",
       "    </tr>\n",
       "    <tr>\n",
       "      <th>33872</th>\n",
       "      <td>asp.net-mvc</td>\n",
       "      <td>razor</td>\n",
       "      <td>7017</td>\n",
       "      <td>0.964379</td>\n",
       "    </tr>\n",
       "    <tr>\n",
       "      <th>586724</th>\n",
       "      <td>asp.net-mvc-3</td>\n",
       "      <td>razor</td>\n",
       "      <td>2836</td>\n",
       "      <td>0.979346</td>\n",
       "    </tr>\n",
       "    <tr>\n",
       "      <th>314630</th>\n",
       "      <td>mocking</td>\n",
       "      <td>unit-testing</td>\n",
       "      <td>2551</td>\n",
       "      <td>0.984631</td>\n",
       "    </tr>\n",
       "    <tr>\n",
       "      <th>953471</th>\n",
       "      <td>testing</td>\n",
       "      <td>unit-testing</td>\n",
       "      <td>2151</td>\n",
       "      <td>0.955232</td>\n",
       "    </tr>\n",
       "    <tr>\n",
       "      <th>1213123</th>\n",
       "      <td>qml</td>\n",
       "      <td>qt</td>\n",
       "      <td>2378</td>\n",
       "      <td>0.992550</td>\n",
       "    </tr>\n",
       "    <tr>\n",
       "      <th>1352477</th>\n",
       "      <td>pyqt</td>\n",
       "      <td>qt</td>\n",
       "      <td>1485</td>\n",
       "      <td>0.980690</td>\n",
       "    </tr>\n",
       "    <tr>\n",
       "      <th>206221</th>\n",
       "      <td>sharepoint-2007</td>\n",
       "      <td>sharepoint-designer</td>\n",
       "      <td>64</td>\n",
       "      <td>0.998119</td>\n",
       "    </tr>\n",
       "    <tr>\n",
       "      <th>35909</th>\n",
       "      <td>git</td>\n",
       "      <td>version-control</td>\n",
       "      <td>3431</td>\n",
       "      <td>0.984582</td>\n",
       "    </tr>\n",
       "    <tr>\n",
       "      <th>202189</th>\n",
       "      <td>soap</td>\n",
       "      <td>web-services</td>\n",
       "      <td>3635</td>\n",
       "      <td>0.978966</td>\n",
       "    </tr>\n",
       "    <tr>\n",
       "      <th>1527587</th>\n",
       "      <td>asmx</td>\n",
       "      <td>web-services</td>\n",
       "      <td>774</td>\n",
       "      <td>0.985769</td>\n",
       "    </tr>\n",
       "    <tr>\n",
       "      <th>338769</th>\n",
       "      <td>mediawiki</td>\n",
       "      <td>wiki</td>\n",
       "      <td>127</td>\n",
       "      <td>0.999362</td>\n",
       "    </tr>\n",
       "    <tr>\n",
       "      <th>28481</th>\n",
       "      <td>sql-server</td>\n",
       "      <td>sql-server-2012</td>\n",
       "      <td>3411</td>\n",
       "      <td>0.967161</td>\n",
       "    </tr>\n",
       "  </tbody>\n",
       "</table>\n",
       "</div>"
      ],
      "text/plain": [
       "                              src                    trg   nij     score\n",
       "23534                    datagrid                    wpf  3524  0.969004\n",
       "5629             vs-extensibility              vspackage    37  0.999578\n",
       "7255                ef-code-first       entity-framework  2793  0.983495\n",
       "392990                        cmd                windows  2157  0.971150\n",
       "1810188             custom-action      windows-installer   185  0.998007\n",
       "212571                        wcf            wcf-binding   688  0.992515\n",
       "611838   visual-studio-extensions                   vsix   121  0.999189\n",
       "786995                silverlight        silverlight-3.0   587  0.994944\n",
       "177820                    managed              unmanaged   115  0.999184\n",
       "1851942                  cefsharp      chromium-embedded    86  0.999722\n",
       "787109                silverlight        windows-phone-7  1867  0.985255\n",
       "1803868         workflow-activity    workflow-foundation    63  0.999417\n",
       "1885400                      burn                    wix   267  0.999182\n",
       "1915008              bootstrapper                    wix   169  0.998644\n",
       "1653689           microsoft-metro              windows-8  1144  0.997045\n",
       "1320323                   directx             directx-11   225  0.998849\n",
       "181657                         f#         type-providers   224  0.999331\n",
       "1838772                  bing-api              bing-maps    85  0.999326\n",
       "358516              absolute-path          relative-path   118  0.999403\n",
       "182517                  debugging                 windbg   312  0.990637\n",
       "1929607                     gecko                geckofx    29  0.999697\n",
       "1254117       workflow-foundation  workflow-foundation-4   283  0.999543\n",
       "1803894         workflow-activity  workflow-foundation-4    85  0.999563\n",
       "1836943                      bing               bing-api    78  0.999758\n",
       "1848292        facebook-messenger              messenger    46  0.999487\n",
       "841865                    log4net  log4net-configuration   257  0.999596\n",
       "1915043              bootstrapper                   burn    79  0.999744\n",
       "1426992                    kinect             kinect-sdk   154  0.999719\n",
       "33872                 asp.net-mvc                  razor  7017  0.964379\n",
       "586724              asp.net-mvc-3                  razor  2836  0.979346\n",
       "314630                    mocking           unit-testing  2551  0.984631\n",
       "953471                    testing           unit-testing  2151  0.955232\n",
       "1213123                       qml                     qt  2378  0.992550\n",
       "1352477                      pyqt                     qt  1485  0.980690\n",
       "206221            sharepoint-2007    sharepoint-designer    64  0.998119\n",
       "35909                         git        version-control  3431  0.984582\n",
       "202189                       soap           web-services  3635  0.978966\n",
       "1527587                      asmx           web-services   774  0.985769\n",
       "338769                  mediawiki                   wiki   127  0.999362\n",
       "28481                  sql-server        sql-server-2012  3411  0.967161"
      ]
     },
     "execution_count": 26,
     "metadata": {},
     "output_type": "execute_result"
    }
   ],
   "source": [
    "edge_table_thresholded.head(40)"
   ]
  },
  {
   "cell_type": "markdown",
   "id": "47a867ca-961b-4ddf-9fd7-4eb722aab5d5",
   "metadata": {},
   "source": [
    "### Everything in one function"
   ]
  },
  {
   "cell_type": "code",
   "execution_count": null,
   "id": "46f73209-e4e3-45f2-bc66-fa04d8db298d",
   "metadata": {},
   "outputs": [],
   "source": [
    "table, original_nodes, original_edges = backboning.read(\"../data/undirected_stackoverflow_network.csv\", column_of_interest = \"count\", undirected = True)"
   ]
  },
  {
   "cell_type": "code",
   "execution_count": null,
   "id": "217e05ac-22c5-4ff5-89dd-f6bddc4e33c0",
   "metadata": {},
   "outputs": [],
   "source": [
    "def thresholding_and_backboning(table, threshold, original_nodes, original_edges): \n",
    "    \n",
    "    \"\"\"Reads a preprocessed edge table and returns only the edges supassing a significance threshold.\n",
    "    Args:\n",
    "    table (pandas.DataFrame): The edge table.\n",
    "    threshold (float): The minimum significance to include the edge in the backbone.\n",
    "\n",
    "    Returns:\n",
    "    The network backbone.\n",
    "    \"\"\"\n",
    "    \n",
    "    # filter for significant edges (same method/thresholding-function as Coscia et al (2017))\n",
    "    table = table.copy()\n",
    "    \n",
    "    if \"sdev_cij\" in table:\n",
    "        return table[(table[\"score\"] - (threshold * table[\"sdev_cij\"])) > 0][[\"src\", \"trg\", \"nij\", \"score\"]]\n",
    "    else:\n",
    "        return table[table[\"score\"] > threshold][[\"src\", \"trg\", \"nij\", \"score\"]]\n",
    "    \n",
    "    \n",
    "    # apply thresholding (same method/function as Coscia et al (2017))\n",
    "    if measure in [\"maximum_spanning_tree\", \"doubly_stochastic\"]: \n",
    "        edge_table_thresholded = edge_table.copy()\n",
    "    else: \n",
    "        edge_table_thresholded = thresholding(edge_table, threshold)\n",
    "        \n",
    "    original_nodes_thresh = len(set(edge_table_thresholded[\"src\"]) | set(edge_table_thresholded[\"trg\"]))\n",
    "    original_edges_thresh = edge_table_thresholded.shape[0]\n",
    "\n",
    "    print(f\"Number of original nodes pre-thresholding: {original_nodes}\")\n",
    "    print(f\"Number of original edges pre-thresholding: {int(original_edges)} \\n\")\n",
    "    print(f\"Number of original nodes post-thresholding: {original_nodes_thresh}\")\n",
    "    print(f\"Number of original edges post-thresholding: {int(original_edges_thresh)} \\n\")\n",
    "    \n",
    "    print(f\"Difference in nodes: {original_nodes-original_nodes_thresh}\")\n",
    "    print(f\"Difference in edges: {int(original_edges-original_edges_thresh)}\")\n",
    "    \n",
    "    G_threshold = nx.from_pandas_edgelist(edge_table_thresholded, \"src\", \"trg\")\n",
    "    G = nx.from_pandas_edgelist(edge_table, \"src\", \"trg\")\n",
    "    \n",
    "    return G, G_threshold"
   ]
  },
  {
   "cell_type": "code",
   "execution_count": null,
   "id": "b45432bd-ab71-44ec-960d-a14be66d3f75",
   "metadata": {},
   "outputs": [],
   "source": [
    "def thresholding_and_backboning(table, threshold, original_nodes, original_edges)"
   ]
  }
 ],
 "metadata": {
  "kernelspec": {
   "display_name": "Python 3 (ipykernel)",
   "language": "python",
   "name": "python3"
  },
  "language_info": {
   "codemirror_mode": {
    "name": "ipython",
    "version": 3
   },
   "file_extension": ".py",
   "mimetype": "text/x-python",
   "name": "python",
   "nbconvert_exporter": "python",
   "pygments_lexer": "ipython3",
   "version": "3.10.5"
  }
 },
 "nbformat": 4,
 "nbformat_minor": 5
}
