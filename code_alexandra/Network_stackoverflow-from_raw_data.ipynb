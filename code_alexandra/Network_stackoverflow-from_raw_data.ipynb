{
 "cells": [
  {
   "cell_type": "markdown",
   "id": "d55e2dc6-d99e-4312-ba0e-ccf256725381",
   "metadata": {},
   "source": [
    "# Application of backboning to stackoverflow daten"
   ]
  },
  {
   "cell_type": "code",
   "execution_count": 1,
   "id": "ab36a2e3-aadf-4f96-a739-fbb4f65569f1",
   "metadata": {},
   "outputs": [],
   "source": [
    "import os\n",
    "import pandas as pd\n",
    "import numpy as np\n",
    "import networkx as nx\n",
    "import itertools \n",
    "from collections import defaultdict\n",
    "from scipy.stats import binom, pearsonr, sem\n",
    "\n",
    "#functions written by Coscia and Neffke \n",
    "import backboning_python3_networkx2_Coscia as backboning"
   ]
  },
  {
   "cell_type": "markdown",
   "id": "77f626e2-a749-4477-8792-43b871299540",
   "metadata": {},
   "source": [
    "### Investigate data"
   ]
  },
  {
   "cell_type": "code",
   "execution_count": 49,
   "id": "8be46d47-e44b-481a-b8f7-7e67d552f68f",
   "metadata": {
    "tags": []
   },
   "outputs": [],
   "source": [
    "# read in co-occurance data \n",
    "df0 = pd.DataFrame()\n",
    "df1 = pd.DataFrame()\n",
    "df2 = pd.DataFrame()\n",
    "df3 = pd.DataFrame()\n",
    "df4 = pd.DataFrame()\n",
    "df5 = pd.DataFrame()\n",
    "df6 = pd.DataFrame()\n",
    "df7 = pd.DataFrame()\n",
    "df8 = pd.DataFrame()\n",
    "df9 = pd.DataFrame()\n",
    "\n",
    "frames = [df0, df1, df2, df3]#, df2, df3, df4, df5, df6, df7, df8, df9]\n",
    "df = pd.DataFrame()\n",
    "df = df.astype(pd.SparseDtype(\"int\", 0))\n",
    "\n",
    "for num, frame in enumerate(frames): \n",
    "    try:\n",
    "        intermed_df = pd.read_csv(f'../data/intermediate_frames/df{num}.csv')  \n",
    "        df = pd.concat([df, intermed_df], axis=1)\n",
    "        df = df.drop(columns=['Unnamed: 0'])\n",
    "        df = df.copy()\n",
    "        df = df.astype(pd.SparseDtype(\"int\", 0))\n",
    "    except FileNotFoundError: \n",
    "        pass"
   ]
  },
  {
   "cell_type": "code",
   "execution_count": 50,
   "id": "163f9936-634b-4655-96fb-34d23bcc1ce2",
   "metadata": {},
   "outputs": [
    {
     "data": {
      "text/html": [
       "<div>\n",
       "<style scoped>\n",
       "    .dataframe tbody tr th:only-of-type {\n",
       "        vertical-align: middle;\n",
       "    }\n",
       "\n",
       "    .dataframe tbody tr th {\n",
       "        vertical-align: top;\n",
       "    }\n",
       "\n",
       "    .dataframe thead th {\n",
       "        text-align: right;\n",
       "    }\n",
       "</style>\n",
       "<table border=\"1\" class=\"dataframe\">\n",
       "  <thead>\n",
       "    <tr style=\"text-align: right;\">\n",
       "      <th></th>\n",
       "      <th>.htaccess</th>\n",
       "      <th>.net</th>\n",
       "      <th>.net-3.5</th>\n",
       "      <th>.net-4.0</th>\n",
       "      <th>.net-core</th>\n",
       "      <th>3d</th>\n",
       "      <th>access-vba</th>\n",
       "      <th>actionscript</th>\n",
       "      <th>actionscript-3</th>\n",
       "      <th>active-directory</th>\n",
       "      <th>...</th>\n",
       "      <th>hover</th>\n",
       "      <th>html</th>\n",
       "      <th>html-table</th>\n",
       "      <th>html5</th>\n",
       "      <th>html5-canvas</th>\n",
       "      <th>html5-video</th>\n",
       "      <th>http</th>\n",
       "      <th>http-headers</th>\n",
       "      <th>http-post</th>\n",
       "      <th>https</th>\n",
       "    </tr>\n",
       "  </thead>\n",
       "  <tbody>\n",
       "    <tr>\n",
       "      <th>0</th>\n",
       "      <td>0</td>\n",
       "      <td>0</td>\n",
       "      <td>0</td>\n",
       "      <td>0</td>\n",
       "      <td>0</td>\n",
       "      <td>0</td>\n",
       "      <td>0</td>\n",
       "      <td>0</td>\n",
       "      <td>0</td>\n",
       "      <td>0</td>\n",
       "      <td>...</td>\n",
       "      <td>0</td>\n",
       "      <td>0</td>\n",
       "      <td>0</td>\n",
       "      <td>0</td>\n",
       "      <td>0</td>\n",
       "      <td>0</td>\n",
       "      <td>0</td>\n",
       "      <td>0</td>\n",
       "      <td>0</td>\n",
       "      <td>0</td>\n",
       "    </tr>\n",
       "    <tr>\n",
       "      <th>1</th>\n",
       "      <td>0</td>\n",
       "      <td>0</td>\n",
       "      <td>0</td>\n",
       "      <td>0</td>\n",
       "      <td>0</td>\n",
       "      <td>0</td>\n",
       "      <td>0</td>\n",
       "      <td>0</td>\n",
       "      <td>0</td>\n",
       "      <td>0</td>\n",
       "      <td>...</td>\n",
       "      <td>0</td>\n",
       "      <td>0</td>\n",
       "      <td>0</td>\n",
       "      <td>0</td>\n",
       "      <td>0</td>\n",
       "      <td>0</td>\n",
       "      <td>0</td>\n",
       "      <td>0</td>\n",
       "      <td>0</td>\n",
       "      <td>0</td>\n",
       "    </tr>\n",
       "    <tr>\n",
       "      <th>2</th>\n",
       "      <td>0</td>\n",
       "      <td>0</td>\n",
       "      <td>0</td>\n",
       "      <td>0</td>\n",
       "      <td>0</td>\n",
       "      <td>0</td>\n",
       "      <td>0</td>\n",
       "      <td>0</td>\n",
       "      <td>0</td>\n",
       "      <td>0</td>\n",
       "      <td>...</td>\n",
       "      <td>0</td>\n",
       "      <td>0</td>\n",
       "      <td>0</td>\n",
       "      <td>0</td>\n",
       "      <td>0</td>\n",
       "      <td>0</td>\n",
       "      <td>0</td>\n",
       "      <td>0</td>\n",
       "      <td>0</td>\n",
       "      <td>0</td>\n",
       "    </tr>\n",
       "    <tr>\n",
       "      <th>3</th>\n",
       "      <td>0</td>\n",
       "      <td>0</td>\n",
       "      <td>0</td>\n",
       "      <td>0</td>\n",
       "      <td>0</td>\n",
       "      <td>0</td>\n",
       "      <td>0</td>\n",
       "      <td>0</td>\n",
       "      <td>0</td>\n",
       "      <td>0</td>\n",
       "      <td>...</td>\n",
       "      <td>0</td>\n",
       "      <td>0</td>\n",
       "      <td>0</td>\n",
       "      <td>0</td>\n",
       "      <td>0</td>\n",
       "      <td>0</td>\n",
       "      <td>0</td>\n",
       "      <td>0</td>\n",
       "      <td>0</td>\n",
       "      <td>0</td>\n",
       "    </tr>\n",
       "    <tr>\n",
       "      <th>4</th>\n",
       "      <td>0</td>\n",
       "      <td>0</td>\n",
       "      <td>0</td>\n",
       "      <td>0</td>\n",
       "      <td>0</td>\n",
       "      <td>0</td>\n",
       "      <td>0</td>\n",
       "      <td>0</td>\n",
       "      <td>0</td>\n",
       "      <td>0</td>\n",
       "      <td>...</td>\n",
       "      <td>0</td>\n",
       "      <td>0</td>\n",
       "      <td>0</td>\n",
       "      <td>0</td>\n",
       "      <td>0</td>\n",
       "      <td>0</td>\n",
       "      <td>0</td>\n",
       "      <td>0</td>\n",
       "      <td>0</td>\n",
       "      <td>0</td>\n",
       "    </tr>\n",
       "  </tbody>\n",
       "</table>\n",
       "<p>5 rows × 400 columns</p>\n",
       "</div>"
      ],
      "text/plain": [
       "   .htaccess  .net  .net-3.5  .net-4.0  .net-core  3d  access-vba  \\\n",
       "0          0     0         0         0          0   0           0   \n",
       "1          0     0         0         0          0   0           0   \n",
       "2          0     0         0         0          0   0           0   \n",
       "3          0     0         0         0          0   0           0   \n",
       "4          0     0         0         0          0   0           0   \n",
       "\n",
       "   actionscript  actionscript-3  active-directory  ...  hover  html  \\\n",
       "0             0               0                 0  ...      0     0   \n",
       "1             0               0                 0  ...      0     0   \n",
       "2             0               0                 0  ...      0     0   \n",
       "3             0               0                 0  ...      0     0   \n",
       "4             0               0                 0  ...      0     0   \n",
       "\n",
       "   html-table  html5  html5-canvas  html5-video  http  http-headers  \\\n",
       "0           0      0             0            0     0             0   \n",
       "1           0      0             0            0     0             0   \n",
       "2           0      0             0            0     0             0   \n",
       "3           0      0             0            0     0             0   \n",
       "4           0      0             0            0     0             0   \n",
       "\n",
       "   http-post  https  \n",
       "0          0      0  \n",
       "1          0      0  \n",
       "2          0      0  \n",
       "3          0      0  \n",
       "4          0      0  \n",
       "\n",
       "[5 rows x 400 columns]"
      ]
     },
     "execution_count": 50,
     "metadata": {},
     "output_type": "execute_result"
    }
   ],
   "source": [
    "df.head()"
   ]
  },
  {
   "cell_type": "code",
   "execution_count": 55,
   "id": "a69bfde4-a636-4f66-b997-6c4580228e66",
   "metadata": {},
   "outputs": [],
   "source": [
    "#'dense: {:0.2f} bytes'.format(df.memory_usage().sum() / 1e3)"
   ]
  },
  {
   "cell_type": "code",
   "execution_count": 56,
   "id": "a1287425-9a90-403c-b0de-7083db95abd1",
   "metadata": {},
   "outputs": [],
   "source": [
    "#df = df.astype(pd.SparseDtype(\"int\", 0))"
   ]
  },
  {
   "cell_type": "code",
   "execution_count": 53,
   "id": "aa8e3ac0-0f16-4555-942c-dc08a237e877",
   "metadata": {},
   "outputs": [
    {
     "data": {
      "text/plain": [
       "'sparse: 69559.28 bytes'"
      ]
     },
     "execution_count": 53,
     "metadata": {},
     "output_type": "execute_result"
    }
   ],
   "source": [
    "'sparse: {:0.2f} bytes'.format(df.memory_usage().sum() / 1e3)"
   ]
  },
  {
   "cell_type": "code",
   "execution_count": 57,
   "id": "5d0e27ea-7c01-4e0e-a4ba-3d9b42b834ab",
   "metadata": {},
   "outputs": [
    {
     "data": {
      "text/plain": [
       "int"
      ]
     },
     "execution_count": 57,
     "metadata": {},
     "output_type": "execute_result"
    }
   ],
   "source": [
    "type(df[\".net\"][0])"
   ]
  },
  {
   "cell_type": "code",
   "execution_count": 58,
   "id": "829c08ba-3069-4f65-a87e-94dea4fe5b92",
   "metadata": {},
   "outputs": [
    {
     "data": {
      "text/plain": [
       "<6604020x400 sparse matrix of type '<class 'numpy.int64'>'\n",
       "\twith 5796596 stored elements in COOrdinate format>"
      ]
     },
     "execution_count": 58,
     "metadata": {},
     "output_type": "execute_result"
    }
   ],
   "source": [
    "colnames = df.columns\n",
    "sm = df.sparse.to_coo() \n",
    "sm"
   ]
  },
  {
   "cell_type": "code",
   "execution_count": 59,
   "id": "34804a09-51f9-4217-847b-cd1a164662cf",
   "metadata": {},
   "outputs": [
    {
     "data": {
      "text/plain": [
       "<400x6604020 sparse matrix of type '<class 'numpy.int64'>'\n",
       "\twith 5796596 stored elements in COOrdinate format>"
      ]
     },
     "execution_count": 59,
     "metadata": {},
     "output_type": "execute_result"
    }
   ],
   "source": [
    "sm.T"
   ]
  },
  {
   "cell_type": "code",
   "execution_count": 60,
   "id": "49b70b42-3530-4859-82c6-70f9f0ebc8e3",
   "metadata": {},
   "outputs": [
    {
     "data": {
      "text/plain": [
       "<400x400 sparse matrix of type '<class 'numpy.int64'>'\n",
       "\twith 74228 stored elements in Compressed Sparse Row format>"
      ]
     },
     "execution_count": 60,
     "metadata": {},
     "output_type": "execute_result"
    }
   ],
   "source": [
    "coocc = np.dot(sm.T, sm)\n",
    "coocc"
   ]
  },
  {
   "cell_type": "code",
   "execution_count": 61,
   "id": "2430793d-fd6e-4d00-9649-c4d4c8747621",
   "metadata": {},
   "outputs": [
    {
     "data": {
      "text/html": [
       "<div>\n",
       "<style scoped>\n",
       "    .dataframe tbody tr th:only-of-type {\n",
       "        vertical-align: middle;\n",
       "    }\n",
       "\n",
       "    .dataframe tbody tr th {\n",
       "        vertical-align: top;\n",
       "    }\n",
       "\n",
       "    .dataframe thead th {\n",
       "        text-align: right;\n",
       "    }\n",
       "</style>\n",
       "<table border=\"1\" class=\"dataframe\">\n",
       "  <thead>\n",
       "    <tr style=\"text-align: right;\">\n",
       "      <th></th>\n",
       "      <th>.htaccess</th>\n",
       "      <th>.net</th>\n",
       "      <th>.net-3.5</th>\n",
       "      <th>.net-4.0</th>\n",
       "      <th>.net-core</th>\n",
       "      <th>3d</th>\n",
       "      <th>access-vba</th>\n",
       "      <th>actionscript</th>\n",
       "      <th>actionscript-3</th>\n",
       "      <th>active-directory</th>\n",
       "      <th>...</th>\n",
       "      <th>hover</th>\n",
       "      <th>html</th>\n",
       "      <th>html-table</th>\n",
       "      <th>html5</th>\n",
       "      <th>html5-canvas</th>\n",
       "      <th>html5-video</th>\n",
       "      <th>http</th>\n",
       "      <th>http-headers</th>\n",
       "      <th>http-post</th>\n",
       "      <th>https</th>\n",
       "    </tr>\n",
       "  </thead>\n",
       "  <tbody>\n",
       "    <tr>\n",
       "      <th>.htaccess</th>\n",
       "      <td>0</td>\n",
       "      <td>2</td>\n",
       "      <td>0</td>\n",
       "      <td>0</td>\n",
       "      <td>0</td>\n",
       "      <td>0</td>\n",
       "      <td>0</td>\n",
       "      <td>1</td>\n",
       "      <td>4</td>\n",
       "      <td>4</td>\n",
       "      <td>...</td>\n",
       "      <td>0</td>\n",
       "      <td>599</td>\n",
       "      <td>0</td>\n",
       "      <td>57</td>\n",
       "      <td>0</td>\n",
       "      <td>8</td>\n",
       "      <td>193</td>\n",
       "      <td>61</td>\n",
       "      <td>5</td>\n",
       "      <td>422</td>\n",
       "    </tr>\n",
       "    <tr>\n",
       "      <th>.net</th>\n",
       "      <td>2</td>\n",
       "      <td>0</td>\n",
       "      <td>834</td>\n",
       "      <td>1354</td>\n",
       "      <td>915</td>\n",
       "      <td>46</td>\n",
       "      <td>12</td>\n",
       "      <td>6</td>\n",
       "      <td>25</td>\n",
       "      <td>427</td>\n",
       "      <td>...</td>\n",
       "      <td>3</td>\n",
       "      <td>716</td>\n",
       "      <td>17</td>\n",
       "      <td>81</td>\n",
       "      <td>1</td>\n",
       "      <td>7</td>\n",
       "      <td>473</td>\n",
       "      <td>54</td>\n",
       "      <td>30</td>\n",
       "      <td>112</td>\n",
       "    </tr>\n",
       "    <tr>\n",
       "      <th>.net-3.5</th>\n",
       "      <td>0</td>\n",
       "      <td>834</td>\n",
       "      <td>0</td>\n",
       "      <td>138</td>\n",
       "      <td>2</td>\n",
       "      <td>0</td>\n",
       "      <td>0</td>\n",
       "      <td>0</td>\n",
       "      <td>1</td>\n",
       "      <td>18</td>\n",
       "      <td>...</td>\n",
       "      <td>0</td>\n",
       "      <td>13</td>\n",
       "      <td>1</td>\n",
       "      <td>1</td>\n",
       "      <td>0</td>\n",
       "      <td>0</td>\n",
       "      <td>3</td>\n",
       "      <td>1</td>\n",
       "      <td>0</td>\n",
       "      <td>1</td>\n",
       "    </tr>\n",
       "    <tr>\n",
       "      <th>.net-4.0</th>\n",
       "      <td>0</td>\n",
       "      <td>1354</td>\n",
       "      <td>138</td>\n",
       "      <td>0</td>\n",
       "      <td>3</td>\n",
       "      <td>0</td>\n",
       "      <td>0</td>\n",
       "      <td>0</td>\n",
       "      <td>0</td>\n",
       "      <td>14</td>\n",
       "      <td>...</td>\n",
       "      <td>0</td>\n",
       "      <td>13</td>\n",
       "      <td>0</td>\n",
       "      <td>2</td>\n",
       "      <td>0</td>\n",
       "      <td>0</td>\n",
       "      <td>10</td>\n",
       "      <td>1</td>\n",
       "      <td>2</td>\n",
       "      <td>2</td>\n",
       "    </tr>\n",
       "    <tr>\n",
       "      <th>.net-core</th>\n",
       "      <td>0</td>\n",
       "      <td>915</td>\n",
       "      <td>2</td>\n",
       "      <td>3</td>\n",
       "      <td>0</td>\n",
       "      <td>0</td>\n",
       "      <td>0</td>\n",
       "      <td>0</td>\n",
       "      <td>0</td>\n",
       "      <td>10</td>\n",
       "      <td>...</td>\n",
       "      <td>0</td>\n",
       "      <td>5</td>\n",
       "      <td>0</td>\n",
       "      <td>3</td>\n",
       "      <td>0</td>\n",
       "      <td>0</td>\n",
       "      <td>13</td>\n",
       "      <td>4</td>\n",
       "      <td>1</td>\n",
       "      <td>4</td>\n",
       "    </tr>\n",
       "  </tbody>\n",
       "</table>\n",
       "<p>5 rows × 400 columns</p>\n",
       "</div>"
      ],
      "text/plain": [
       "           .htaccess  .net  .net-3.5  .net-4.0  .net-core  3d  access-vba  \\\n",
       ".htaccess          0     2         0         0          0   0           0   \n",
       ".net               2     0       834      1354        915  46          12   \n",
       ".net-3.5           0   834         0       138          2   0           0   \n",
       ".net-4.0           0  1354       138         0          3   0           0   \n",
       ".net-core          0   915         2         3          0   0           0   \n",
       "\n",
       "           actionscript  actionscript-3  active-directory  ...  hover  html  \\\n",
       ".htaccess             1               4                 4  ...      0   599   \n",
       ".net                  6              25               427  ...      3   716   \n",
       ".net-3.5              0               1                18  ...      0    13   \n",
       ".net-4.0              0               0                14  ...      0    13   \n",
       ".net-core             0               0                10  ...      0     5   \n",
       "\n",
       "           html-table  html5  html5-canvas  html5-video  http  http-headers  \\\n",
       ".htaccess           0     57             0            8   193            61   \n",
       ".net               17     81             1            7   473            54   \n",
       ".net-3.5            1      1             0            0     3             1   \n",
       ".net-4.0            0      2             0            0    10             1   \n",
       ".net-core           0      3             0            0    13             4   \n",
       "\n",
       "           http-post  https  \n",
       ".htaccess          5    422  \n",
       ".net              30    112  \n",
       ".net-3.5           0      1  \n",
       ".net-4.0           2      2  \n",
       ".net-core          1      4  \n",
       "\n",
       "[5 rows x 400 columns]"
      ]
     },
     "execution_count": 61,
     "metadata": {},
     "output_type": "execute_result"
    }
   ],
   "source": [
    "coocc = pd.DataFrame.sparse.from_spmatrix(coocc, index=colnames, columns=colnames)\n",
    "coocc = coocc.sparse.to_dense()\n",
    "np.fill_diagonal(coocc.values, 0)\n",
    "coocc.head()"
   ]
  },
  {
   "cell_type": "code",
   "execution_count": 62,
   "id": "4a471c0a-b123-4c1a-906e-3df200fc3856",
   "metadata": {},
   "outputs": [],
   "source": [
    "#tag_df_asint = df.astype(int)"
   ]
  },
  {
   "cell_type": "raw",
   "id": "856ac64f-f769-4619-8d48-f073f062b0f8",
   "metadata": {},
   "source": [
    "coocc = df.T.dot(df)\n",
    "np.fill_diagonal(coocc.values, 0)\n",
    "coocc.head()"
   ]
  },
  {
   "cell_type": "code",
   "execution_count": 63,
   "id": "00055bd5-e1d1-4096-b45c-779fc2169f2c",
   "metadata": {},
   "outputs": [],
   "source": [
    "# cooccurence matrix to dictionary\n",
    "coocc_dic = coocc.to_dict()"
   ]
  },
  {
   "cell_type": "code",
   "execution_count": 64,
   "id": "71a2b29e-c157-40dc-9b3c-dfcd93b36047",
   "metadata": {},
   "outputs": [],
   "source": [
    "# create dataframe represnting a network\n",
    "tag1_ls = []\n",
    "frames = []\n",
    "\n",
    "for tag1, tag_dic in coocc_dic.items():\n",
    "    tag1_ls.append(tag1)\n",
    "    frames.append(pd.DataFrame.from_dict(tag_dic, orient='index'))\n",
    "\n",
    "network_df = pd.concat(frames, keys=tag1_ls)\n",
    "network_df = network_df.reset_index().rename(columns = {\"level_0\" : \"tag1\", \"level_1\" : \"tag2\", 0: \"cooccurence\"})"
   ]
  },
  {
   "cell_type": "code",
   "execution_count": 65,
   "id": "0a4cdacf-d696-4ebc-9aff-98f71d2fc47d",
   "metadata": {},
   "outputs": [
    {
     "data": {
      "text/html": [
       "<div>\n",
       "<style scoped>\n",
       "    .dataframe tbody tr th:only-of-type {\n",
       "        vertical-align: middle;\n",
       "    }\n",
       "\n",
       "    .dataframe tbody tr th {\n",
       "        vertical-align: top;\n",
       "    }\n",
       "\n",
       "    .dataframe thead th {\n",
       "        text-align: right;\n",
       "    }\n",
       "</style>\n",
       "<table border=\"1\" class=\"dataframe\">\n",
       "  <thead>\n",
       "    <tr style=\"text-align: right;\">\n",
       "      <th></th>\n",
       "      <th>tag1</th>\n",
       "      <th>tag2</th>\n",
       "      <th>cooccurence</th>\n",
       "    </tr>\n",
       "  </thead>\n",
       "  <tbody>\n",
       "    <tr>\n",
       "      <th>0</th>\n",
       "      <td>.htaccess</td>\n",
       "      <td>.htaccess</td>\n",
       "      <td>0</td>\n",
       "    </tr>\n",
       "    <tr>\n",
       "      <th>1</th>\n",
       "      <td>.htaccess</td>\n",
       "      <td>.net</td>\n",
       "      <td>2</td>\n",
       "    </tr>\n",
       "    <tr>\n",
       "      <th>2</th>\n",
       "      <td>.htaccess</td>\n",
       "      <td>.net-3.5</td>\n",
       "      <td>0</td>\n",
       "    </tr>\n",
       "    <tr>\n",
       "      <th>3</th>\n",
       "      <td>.htaccess</td>\n",
       "      <td>.net-4.0</td>\n",
       "      <td>0</td>\n",
       "    </tr>\n",
       "    <tr>\n",
       "      <th>4</th>\n",
       "      <td>.htaccess</td>\n",
       "      <td>.net-core</td>\n",
       "      <td>0</td>\n",
       "    </tr>\n",
       "  </tbody>\n",
       "</table>\n",
       "</div>"
      ],
      "text/plain": [
       "        tag1       tag2  cooccurence\n",
       "0  .htaccess  .htaccess            0\n",
       "1  .htaccess       .net            2\n",
       "2  .htaccess   .net-3.5            0\n",
       "3  .htaccess   .net-4.0            0\n",
       "4  .htaccess  .net-core            0"
      ]
     },
     "execution_count": 65,
     "metadata": {},
     "output_type": "execute_result"
    }
   ],
   "source": [
    "network_df.head() # must have [\"tag1\", \"tag2\", \"co_occurance_count\"]"
   ]
  },
  {
   "cell_type": "code",
   "execution_count": 67,
   "id": "c071f468-dc6b-4b67-895c-d51cbaaa5f7d",
   "metadata": {},
   "outputs": [],
   "source": [
    "#nodes.head()"
   ]
  },
  {
   "cell_type": "code",
   "execution_count": 68,
   "id": "d9b9939b-3314-4401-9064-13c1c5c4ab35",
   "metadata": {},
   "outputs": [
    {
     "data": {
      "text/html": [
       "<div>\n",
       "<style scoped>\n",
       "    .dataframe tbody tr th:only-of-type {\n",
       "        vertical-align: middle;\n",
       "    }\n",
       "\n",
       "    .dataframe tbody tr th {\n",
       "        vertical-align: top;\n",
       "    }\n",
       "\n",
       "    .dataframe thead th {\n",
       "        text-align: right;\n",
       "    }\n",
       "</style>\n",
       "<table border=\"1\" class=\"dataframe\">\n",
       "  <thead>\n",
       "    <tr style=\"text-align: right;\">\n",
       "      <th></th>\n",
       "      <th>tag1</th>\n",
       "      <th>tag2</th>\n",
       "      <th>cooccurence</th>\n",
       "    </tr>\n",
       "  </thead>\n",
       "  <tbody>\n",
       "    <tr>\n",
       "      <th>1</th>\n",
       "      <td>.htaccess</td>\n",
       "      <td>.net</td>\n",
       "      <td>2</td>\n",
       "    </tr>\n",
       "  </tbody>\n",
       "</table>\n",
       "</div>"
      ],
      "text/plain": [
       "        tag1  tag2  cooccurence\n",
       "1  .htaccess  .net            2"
      ]
     },
     "execution_count": 68,
     "metadata": {},
     "output_type": "execute_result"
    }
   ],
   "source": [
    "network_df[(network_df[\"tag1\"] == \".htaccess\") & (network_df[\"tag2\"] == \".net\")]"
   ]
  },
  {
   "cell_type": "code",
   "execution_count": 69,
   "id": "47ea1888-a51c-4509-a6bc-64572e1380c6",
   "metadata": {},
   "outputs": [
    {
     "data": {
      "text/html": [
       "<div>\n",
       "<style scoped>\n",
       "    .dataframe tbody tr th:only-of-type {\n",
       "        vertical-align: middle;\n",
       "    }\n",
       "\n",
       "    .dataframe tbody tr th {\n",
       "        vertical-align: top;\n",
       "    }\n",
       "\n",
       "    .dataframe thead th {\n",
       "        text-align: right;\n",
       "    }\n",
       "</style>\n",
       "<table border=\"1\" class=\"dataframe\">\n",
       "  <thead>\n",
       "    <tr style=\"text-align: right;\">\n",
       "      <th></th>\n",
       "      <th>tag1</th>\n",
       "      <th>tag2</th>\n",
       "      <th>cooccurence</th>\n",
       "    </tr>\n",
       "  </thead>\n",
       "  <tbody>\n",
       "    <tr>\n",
       "      <th>400</th>\n",
       "      <td>.net</td>\n",
       "      <td>.htaccess</td>\n",
       "      <td>2</td>\n",
       "    </tr>\n",
       "  </tbody>\n",
       "</table>\n",
       "</div>"
      ],
      "text/plain": [
       "     tag1       tag2  cooccurence\n",
       "400  .net  .htaccess            2"
      ]
     },
     "execution_count": 69,
     "metadata": {},
     "output_type": "execute_result"
    }
   ],
   "source": [
    "network_df[(network_df[\"tag2\"] == \".htaccess\") & (network_df[\"tag1\"] == \".net\")] # Network is undirected, edge present in both directions"
   ]
  },
  {
   "cell_type": "code",
   "execution_count": 73,
   "id": "c9fbaf21-ceac-40ce-823a-26efc2290e9b",
   "metadata": {},
   "outputs": [
    {
     "data": {
      "text/html": [
       "<div>\n",
       "<style scoped>\n",
       "    .dataframe tbody tr th:only-of-type {\n",
       "        vertical-align: middle;\n",
       "    }\n",
       "\n",
       "    .dataframe tbody tr th {\n",
       "        vertical-align: top;\n",
       "    }\n",
       "\n",
       "    .dataframe thead th {\n",
       "        text-align: right;\n",
       "    }\n",
       "</style>\n",
       "<table border=\"1\" class=\"dataframe\">\n",
       "  <thead>\n",
       "    <tr style=\"text-align: right;\">\n",
       "      <th></th>\n",
       "      <th>src</th>\n",
       "      <th>trg</th>\n",
       "      <th>cooccurence</th>\n",
       "    </tr>\n",
       "  </thead>\n",
       "  <tbody>\n",
       "    <tr>\n",
       "      <th>0</th>\n",
       "      <td>.htaccess</td>\n",
       "      <td>.htaccess</td>\n",
       "      <td>0</td>\n",
       "    </tr>\n",
       "    <tr>\n",
       "      <th>1</th>\n",
       "      <td>.htaccess</td>\n",
       "      <td>.net</td>\n",
       "      <td>2</td>\n",
       "    </tr>\n",
       "    <tr>\n",
       "      <th>2</th>\n",
       "      <td>.htaccess</td>\n",
       "      <td>.net-3.5</td>\n",
       "      <td>0</td>\n",
       "    </tr>\n",
       "    <tr>\n",
       "      <th>3</th>\n",
       "      <td>.htaccess</td>\n",
       "      <td>.net-4.0</td>\n",
       "      <td>0</td>\n",
       "    </tr>\n",
       "    <tr>\n",
       "      <th>4</th>\n",
       "      <td>.htaccess</td>\n",
       "      <td>.net-core</td>\n",
       "      <td>0</td>\n",
       "    </tr>\n",
       "  </tbody>\n",
       "</table>\n",
       "</div>"
      ],
      "text/plain": [
       "         src        trg  cooccurence\n",
       "0  .htaccess  .htaccess            0\n",
       "1  .htaccess       .net            2\n",
       "2  .htaccess   .net-3.5            0\n",
       "3  .htaccess   .net-4.0            0\n",
       "4  .htaccess  .net-core            0"
      ]
     },
     "execution_count": 73,
     "metadata": {},
     "output_type": "execute_result"
    }
   ],
   "source": [
    "network_df = network_df.rename(columns = {\"tag1\" : \"src\", \"tag2\" : \"trg\", \"cooccurence\": \"cooccurence\"})\n",
    "network_df.head()"
   ]
  },
  {
   "cell_type": "code",
   "execution_count": 74,
   "id": "b066d0b6-db5d-4cc5-a8ed-dcf83ac9612a",
   "metadata": {},
   "outputs": [],
   "source": [
    "network_df.to_csv(path_or_buf=\"../data/undirected_stackoverflow_network_from_raw_data_TEST.csv\", sep='\\t')"
   ]
  },
  {
   "cell_type": "code",
   "execution_count": 70,
   "id": "2783c9e6-08bb-4ec8-aeb9-1597de1807ff",
   "metadata": {},
   "outputs": [
    {
     "name": "stdout",
     "output_type": "stream",
     "text": [
      "# unique tag1: 400\n",
      "# unique tag2: 400\n",
      "# all tags present: 400\n"
     ]
    },
    {
     "data": {
      "text/html": [
       "<div>\n",
       "<style scoped>\n",
       "    .dataframe tbody tr th:only-of-type {\n",
       "        vertical-align: middle;\n",
       "    }\n",
       "\n",
       "    .dataframe tbody tr th {\n",
       "        vertical-align: top;\n",
       "    }\n",
       "\n",
       "    .dataframe thead th {\n",
       "        text-align: right;\n",
       "    }\n",
       "</style>\n",
       "<table border=\"1\" class=\"dataframe\">\n",
       "  <thead>\n",
       "    <tr style=\"text-align: right;\">\n",
       "      <th></th>\n",
       "      <th>tag1</th>\n",
       "      <th>tag2</th>\n",
       "      <th>cooccurence</th>\n",
       "    </tr>\n",
       "  </thead>\n",
       "  <tbody>\n",
       "    <tr>\n",
       "      <th>0</th>\n",
       "      <td>.htaccess</td>\n",
       "      <td>.htaccess</td>\n",
       "      <td>0</td>\n",
       "    </tr>\n",
       "    <tr>\n",
       "      <th>1</th>\n",
       "      <td>.htaccess</td>\n",
       "      <td>.net</td>\n",
       "      <td>2</td>\n",
       "    </tr>\n",
       "    <tr>\n",
       "      <th>2</th>\n",
       "      <td>.htaccess</td>\n",
       "      <td>.net-3.5</td>\n",
       "      <td>0</td>\n",
       "    </tr>\n",
       "    <tr>\n",
       "      <th>3</th>\n",
       "      <td>.htaccess</td>\n",
       "      <td>.net-4.0</td>\n",
       "      <td>0</td>\n",
       "    </tr>\n",
       "    <tr>\n",
       "      <th>4</th>\n",
       "      <td>.htaccess</td>\n",
       "      <td>.net-core</td>\n",
       "      <td>0</td>\n",
       "    </tr>\n",
       "  </tbody>\n",
       "</table>\n",
       "</div>"
      ],
      "text/plain": [
       "        tag1       tag2  cooccurence\n",
       "0  .htaccess  .htaccess            0\n",
       "1  .htaccess       .net            2\n",
       "2  .htaccess   .net-3.5            0\n",
       "3  .htaccess   .net-4.0            0\n",
       "4  .htaccess  .net-core            0"
      ]
     },
     "execution_count": 70,
     "metadata": {},
     "output_type": "execute_result"
    }
   ],
   "source": [
    "#Select only the colums we need\n",
    "df_ = network_df[[\"tag1\", \"tag2\", \"cooccurence\"]].copy()\n",
    "unique_tag1 = len(df_[\"tag1\"].unique())\n",
    "unique_tag2 = len(df_[\"tag2\"].unique())\n",
    "all_tags = set(list(df_[\"tag1\"].unique()) + list(df_[\"tag2\"].unique()))\n",
    "print(f\"# unique tag1: {unique_tag1}\")\n",
    "print(f\"# unique tag2: {unique_tag2}\")\n",
    "print(f\"# all tags present: {len(all_tags)}\")\n",
    "df_.head()"
   ]
  },
  {
   "cell_type": "code",
   "execution_count": 71,
   "id": "68ed8e41-bbb2-40e0-af6d-9351fa78b71c",
   "metadata": {},
   "outputs": [],
   "source": [
    "del(df_)"
   ]
  },
  {
   "cell_type": "markdown",
   "id": "b69d4e3e-7e3c-47ab-ac6d-0064c606add1",
   "metadata": {},
   "source": [
    "## Perform backboning "
   ]
  },
  {
   "cell_type": "code",
   "execution_count": 76,
   "id": "4aaced9c-3b82-4b1d-b1b5-30a75b0c6807",
   "metadata": {},
   "outputs": [],
   "source": [
    "table, original_nodes, original_edges = backboning.read(\"../data/undirected_stackoverflow_network_from_raw_data_TEST.csv\", column_of_interest = \"cooccurence\", undirected = True)"
   ]
  },
  {
   "cell_type": "code",
   "execution_count": 77,
   "id": "fda4a8fc-2d0d-4116-bb57-949bf4493459",
   "metadata": {},
   "outputs": [
    {
     "data": {
      "text/html": [
       "<div>\n",
       "<style scoped>\n",
       "    .dataframe tbody tr th:only-of-type {\n",
       "        vertical-align: middle;\n",
       "    }\n",
       "\n",
       "    .dataframe tbody tr th {\n",
       "        vertical-align: top;\n",
       "    }\n",
       "\n",
       "    .dataframe thead th {\n",
       "        text-align: right;\n",
       "    }\n",
       "</style>\n",
       "<table border=\"1\" class=\"dataframe\">\n",
       "  <thead>\n",
       "    <tr style=\"text-align: right;\">\n",
       "      <th></th>\n",
       "      <th>src</th>\n",
       "      <th>trg</th>\n",
       "      <th>nij</th>\n",
       "    </tr>\n",
       "  </thead>\n",
       "  <tbody>\n",
       "    <tr>\n",
       "      <th>1</th>\n",
       "      <td>.htaccess</td>\n",
       "      <td>.net</td>\n",
       "      <td>2</td>\n",
       "    </tr>\n",
       "    <tr>\n",
       "      <th>7</th>\n",
       "      <td>.htaccess</td>\n",
       "      <td>actionscript</td>\n",
       "      <td>1</td>\n",
       "    </tr>\n",
       "    <tr>\n",
       "      <th>8</th>\n",
       "      <td>.htaccess</td>\n",
       "      <td>actionscript-3</td>\n",
       "      <td>4</td>\n",
       "    </tr>\n",
       "    <tr>\n",
       "      <th>9</th>\n",
       "      <td>.htaccess</td>\n",
       "      <td>active-directory</td>\n",
       "      <td>4</td>\n",
       "    </tr>\n",
       "    <tr>\n",
       "      <th>10</th>\n",
       "      <td>.htaccess</td>\n",
       "      <td>activerecord</td>\n",
       "      <td>1</td>\n",
       "    </tr>\n",
       "  </tbody>\n",
       "</table>\n",
       "</div>"
      ],
      "text/plain": [
       "          src               trg  nij\n",
       "1   .htaccess              .net    2\n",
       "7   .htaccess      actionscript    1\n",
       "8   .htaccess    actionscript-3    4\n",
       "9   .htaccess  active-directory    4\n",
       "10  .htaccess      activerecord    1"
      ]
     },
     "execution_count": 77,
     "metadata": {},
     "output_type": "execute_result"
    }
   ],
   "source": [
    "table.head()"
   ]
  },
  {
   "cell_type": "code",
   "execution_count": 78,
   "id": "fa7afcb4-5a11-431c-b61f-f01a02578c6f",
   "metadata": {},
   "outputs": [
    {
     "data": {
      "text/plain": [
       "(400, 36914.0)"
      ]
     },
     "execution_count": 78,
     "metadata": {},
     "output_type": "execute_result"
    }
   ],
   "source": [
    "original_nodes, original_edges"
   ]
  },
  {
   "cell_type": "code",
   "execution_count": 79,
   "id": "1cc00951-9997-4f80-93ad-cc9a81575ee5",
   "metadata": {},
   "outputs": [],
   "source": [
    "import settings_tab2\n",
    "\n",
    "measure = \"noise_corrected\"\n",
    "network = \"stackoverflow\""
   ]
  },
  {
   "cell_type": "code",
   "execution_count": 80,
   "id": "266f9bfe-7d4a-4251-88f2-05e1cac74a2a",
   "metadata": {},
   "outputs": [
    {
     "name": "stderr",
     "output_type": "stream",
     "text": [
      "Calculating NC score...\n"
     ]
    }
   ],
   "source": [
    "edge_table = settings_tab2.measures[measure](table, undirected = True) # backboning takes place here "
   ]
  },
  {
   "cell_type": "code",
   "execution_count": 81,
   "id": "4bdf9cc8-aab6-4fd3-8ee0-736453e8ef43",
   "metadata": {},
   "outputs": [
    {
     "data": {
      "text/html": [
       "<div>\n",
       "<style scoped>\n",
       "    .dataframe tbody tr th:only-of-type {\n",
       "        vertical-align: middle;\n",
       "    }\n",
       "\n",
       "    .dataframe tbody tr th {\n",
       "        vertical-align: top;\n",
       "    }\n",
       "\n",
       "    .dataframe thead th {\n",
       "        text-align: right;\n",
       "    }\n",
       "</style>\n",
       "<table border=\"1\" class=\"dataframe\">\n",
       "  <thead>\n",
       "    <tr style=\"text-align: right;\">\n",
       "      <th></th>\n",
       "      <th>src</th>\n",
       "      <th>trg</th>\n",
       "      <th>nij</th>\n",
       "      <th>score</th>\n",
       "      <th>sdev_cij</th>\n",
       "    </tr>\n",
       "  </thead>\n",
       "  <tbody>\n",
       "    <tr>\n",
       "      <th>1</th>\n",
       "      <td>.htaccess</td>\n",
       "      <td>.net</td>\n",
       "      <td>2</td>\n",
       "      <td>-0.992347</td>\n",
       "      <td>0.087033</td>\n",
       "    </tr>\n",
       "    <tr>\n",
       "      <th>7</th>\n",
       "      <td>.htaccess</td>\n",
       "      <td>actionscript</td>\n",
       "      <td>1</td>\n",
       "      <td>-0.894495</td>\n",
       "      <td>0.421396</td>\n",
       "    </tr>\n",
       "    <tr>\n",
       "      <th>407</th>\n",
       "      <td>.net</td>\n",
       "      <td>actionscript</td>\n",
       "      <td>6</td>\n",
       "      <td>-0.939633</td>\n",
       "      <td>0.135010</td>\n",
       "    </tr>\n",
       "    <tr>\n",
       "      <th>2007</th>\n",
       "      <td>3d</td>\n",
       "      <td>actionscript</td>\n",
       "      <td>15</td>\n",
       "      <td>0.603271</td>\n",
       "      <td>NaN</td>\n",
       "    </tr>\n",
       "    <tr>\n",
       "      <th>8</th>\n",
       "      <td>.htaccess</td>\n",
       "      <td>actionscript-3</td>\n",
       "      <td>4</td>\n",
       "      <td>-0.879698</td>\n",
       "      <td>0.224325</td>\n",
       "    </tr>\n",
       "  </tbody>\n",
       "</table>\n",
       "</div>"
      ],
      "text/plain": [
       "            src             trg  nij     score  sdev_cij\n",
       "1     .htaccess            .net    2 -0.992347  0.087033\n",
       "7     .htaccess    actionscript    1 -0.894495  0.421396\n",
       "407        .net    actionscript    6 -0.939633  0.135010\n",
       "2007         3d    actionscript   15  0.603271       NaN\n",
       "8     .htaccess  actionscript-3    4 -0.879698  0.224325"
      ]
     },
     "execution_count": 81,
     "metadata": {},
     "output_type": "execute_result"
    }
   ],
   "source": [
    "edge_table.head()"
   ]
  },
  {
   "cell_type": "markdown",
   "id": "49a52e9b-ed64-425d-b808-e5fae8e35562",
   "metadata": {},
   "source": [
    "### Find appropriate threshold"
   ]
  },
  {
   "cell_type": "markdown",
   "id": "e3e15e05-cc31-4ea9-9a46-5480567887af",
   "metadata": {},
   "source": [
    "from the paper [p. 429]: “common values of δ are 1.28, 1.64, and 2.32, which approximate p-values of 0.1, 0.05, and 0.01.”"
   ]
  },
  {
   "cell_type": "code",
   "execution_count": 101,
   "id": "ae7954be-e5bd-4251-8adc-d38ddbbf479c",
   "metadata": {},
   "outputs": [],
   "source": [
    "# set test threshold\n",
    "# threshold = 2.32 # can also be set even higher if whished for\n",
    "#threshold = 10000\n",
    "threshold = 1000"
   ]
  },
  {
   "cell_type": "code",
   "execution_count": 102,
   "id": "555a3a95-19c8-48ca-9474-3d9cce9f8b25",
   "metadata": {},
   "outputs": [],
   "source": [
    "# function from Coscia\n",
    "def thresholding(table, threshold):\n",
    "    \"\"\"Reads a preprocessed edge table and returns only the edges supassing a significance threshold.\n",
    "    Args:\n",
    "    table (pandas.DataFrame): The edge table.\n",
    "    threshold (float): The minimum significance to include the edge in the backbone.\n",
    "\n",
    "    Returns:\n",
    "    The network backbone.\n",
    "    \"\"\"\n",
    "    \n",
    "    table = table.copy()\n",
    "    if \"sdev_cij\" in table:\n",
    "        return table[(table[\"score\"] - (threshold * table[\"sdev_cij\"])) > 0][[\"src\", \"trg\", \"nij\", \"score\"]]\n",
    "    else:\n",
    "        return table[table[\"score\"] > threshold][[\"src\", \"trg\", \"nij\", \"score\"]]"
   ]
  },
  {
   "cell_type": "code",
   "execution_count": 103,
   "id": "986fdbbf-9fc0-44d1-b74d-5857098694ec",
   "metadata": {},
   "outputs": [],
   "source": [
    "def apply_thresholding(edge_table, measure, threshold): \n",
    "    \n",
    "    if measure in [\"maximum_spanning_tree\", \"doubly_stochastic\"]: \n",
    "        edge_table_thresholded = edge_table.copy()\n",
    "    else: \n",
    "        edge_table_thresholded = thresholding(edge_table, threshold)\n",
    "    return edge_table_thresholded"
   ]
  },
  {
   "cell_type": "code",
   "execution_count": 104,
   "id": "07f648fc-11ad-4273-ba74-e6ba16a2147a",
   "metadata": {},
   "outputs": [],
   "source": [
    "edge_table_thresholded = apply_thresholding(edge_table, measure, threshold)"
   ]
  },
  {
   "cell_type": "code",
   "execution_count": 105,
   "id": "33e2778e-6230-4d23-ac5c-fa0a6ed10fc1",
   "metadata": {},
   "outputs": [
    {
     "data": {
      "text/plain": [
       "((36914, 5), (262, 4))"
      ]
     },
     "execution_count": 105,
     "metadata": {},
     "output_type": "execute_result"
    }
   ],
   "source": [
    "edge_table.shape, edge_table_thresholded.shape # remaining edges "
   ]
  },
  {
   "cell_type": "code",
   "execution_count": 106,
   "id": "df538b6c-8a26-41ae-bb89-a30d83c81127",
   "metadata": {},
   "outputs": [
    {
     "data": {
      "text/plain": [
       "36652"
      ]
     },
     "execution_count": 106,
     "metadata": {},
     "output_type": "execute_result"
    }
   ],
   "source": [
    "len(edge_table)-len(edge_table_thresholded) # number of dropped edges by thresholding (1.28: 265703, 1.64: 310367, 2.32: 382907)"
   ]
  },
  {
   "cell_type": "code",
   "execution_count": 107,
   "id": "7702d52c-def3-4581-af99-3a3b05eacee8",
   "metadata": {},
   "outputs": [
    {
     "data": {
      "text/plain": [
       "<AxesSubplot:>"
      ]
     },
     "execution_count": 107,
     "metadata": {},
     "output_type": "execute_result"
    },
    {
     "data": {
      "image/png": "[encoded data removed]",
      "text/plain": [
       "<Figure size 432x288 with 1 Axes>"
      ]
     },
     "metadata": {
      "needs_background": "light"
     },
     "output_type": "display_data"
    }
   ],
   "source": [
    "edge_table[\"nij\"].map(lambda x: np.log(x)).hist()"
   ]
  },
  {
   "cell_type": "code",
   "execution_count": 108,
   "id": "90e9b50e-ed76-4222-a5e0-a191448cf005",
   "metadata": {},
   "outputs": [
    {
     "data": {
      "text/plain": [
       "<AxesSubplot:>"
      ]
     },
     "execution_count": 108,
     "metadata": {},
     "output_type": "execute_result"
    },
    {
     "data": {
      "image/png": "[encoded data removed]",
      "text/plain": [
       "<Figure size 432x288 with 1 Axes>"
      ]
     },
     "metadata": {
      "needs_background": "light"
     },
     "output_type": "display_data"
    }
   ],
   "source": [
    "edge_table_thresholded[\"nij\"].map(lambda x: np.log(x)).hist()"
   ]
  },
  {
   "cell_type": "code",
   "execution_count": 109,
   "id": "2997ee69-23f1-4f8c-a56e-6fc1e17d00ab",
   "metadata": {},
   "outputs": [
    {
     "data": {
      "text/html": [
       "<div>\n",
       "<style scoped>\n",
       "    .dataframe tbody tr th:only-of-type {\n",
       "        vertical-align: middle;\n",
       "    }\n",
       "\n",
       "    .dataframe tbody tr th {\n",
       "        vertical-align: top;\n",
       "    }\n",
       "\n",
       "    .dataframe thead th {\n",
       "        text-align: right;\n",
       "    }\n",
       "</style>\n",
       "<table border=\"1\" class=\"dataframe\">\n",
       "  <thead>\n",
       "    <tr style=\"text-align: right;\">\n",
       "      <th></th>\n",
       "      <th>src</th>\n",
       "      <th>trg</th>\n",
       "      <th>nij</th>\n",
       "      <th>score</th>\n",
       "      <th>sdev_cij</th>\n",
       "    </tr>\n",
       "  </thead>\n",
       "  <tbody>\n",
       "    <tr>\n",
       "      <th>1</th>\n",
       "      <td>.htaccess</td>\n",
       "      <td>.net</td>\n",
       "      <td>2</td>\n",
       "      <td>-0.992347</td>\n",
       "      <td>0.087033</td>\n",
       "    </tr>\n",
       "    <tr>\n",
       "      <th>7</th>\n",
       "      <td>.htaccess</td>\n",
       "      <td>actionscript</td>\n",
       "      <td>1</td>\n",
       "      <td>-0.894495</td>\n",
       "      <td>0.421396</td>\n",
       "    </tr>\n",
       "    <tr>\n",
       "      <th>407</th>\n",
       "      <td>.net</td>\n",
       "      <td>actionscript</td>\n",
       "      <td>6</td>\n",
       "      <td>-0.939633</td>\n",
       "      <td>0.135010</td>\n",
       "    </tr>\n",
       "    <tr>\n",
       "      <th>2007</th>\n",
       "      <td>3d</td>\n",
       "      <td>actionscript</td>\n",
       "      <td>15</td>\n",
       "      <td>0.603271</td>\n",
       "      <td>NaN</td>\n",
       "    </tr>\n",
       "    <tr>\n",
       "      <th>8</th>\n",
       "      <td>.htaccess</td>\n",
       "      <td>actionscript-3</td>\n",
       "      <td>4</td>\n",
       "      <td>-0.879698</td>\n",
       "      <td>0.224325</td>\n",
       "    </tr>\n",
       "  </tbody>\n",
       "</table>\n",
       "</div>"
      ],
      "text/plain": [
       "            src             trg  nij     score  sdev_cij\n",
       "1     .htaccess            .net    2 -0.992347  0.087033\n",
       "7     .htaccess    actionscript    1 -0.894495  0.421396\n",
       "407        .net    actionscript    6 -0.939633  0.135010\n",
       "2007         3d    actionscript   15  0.603271       NaN\n",
       "8     .htaccess  actionscript-3    4 -0.879698  0.224325"
      ]
     },
     "execution_count": 109,
     "metadata": {},
     "output_type": "execute_result"
    }
   ],
   "source": [
    "edge_table.head()"
   ]
  },
  {
   "cell_type": "markdown",
   "id": "1680d260-87e2-47cd-9412-bc9f79ffdd63",
   "metadata": {},
   "source": [
    "### Apply backboning to thresholded data"
   ]
  },
  {
   "cell_type": "code",
   "execution_count": 110,
   "id": "e3d55f37-e4a1-4e9d-a5e8-00cf4b773cd7",
   "metadata": {},
   "outputs": [],
   "source": [
    "def backbone_network(edge_table_thresholded, edge_table, table, original_nodes, original_edges): \n",
    "    \n",
    "    original_nodes_thresh = len(set(edge_table_thresholded[\"src\"]) | set(edge_table_thresholded[\"trg\"]))\n",
    "    original_edges_thresh = edge_table_thresholded.shape[0]\n",
    "\n",
    "    print(f\"Number of original nodes pre-thresholding: {original_nodes}\")\n",
    "    print(f\"Number of original edges pre-thresholding: {int(original_edges)} \\n\")\n",
    "    print(f\"Number of original nodes post-thresholding: {original_nodes_thresh}\")\n",
    "    print(f\"Number of original edges post-thresholding: {int(original_edges_thresh)} \\n\")\n",
    "    \n",
    "    print(f\"Difference in nodes: {original_nodes-original_nodes_thresh}\")\n",
    "    print(f\"Difference in edges: {int(original_edges-original_edges_thresh)}\")\n",
    "    \n",
    "    G_threshold = nx.from_pandas_edgelist(edge_table_thresholded, \"src\", \"trg\")\n",
    "    DiG_thresholded = G_threshold.to_directed()\n",
    "    UnG_thresholded = G_threshold.to_undirected()\n",
    "    G = nx.from_pandas_edgelist(edge_table, \"src\", \"trg\")\n",
    "    G_raw = nx.from_pandas_edgelist(table, \"src\", \"trg\")\n",
    "    \n",
    "    return G, G_threshold, DiG_thresholded, UnG_thresholded, G_raw"
   ]
  },
  {
   "cell_type": "code",
   "execution_count": 111,
   "id": "4a69770c-e000-457d-b241-f47648145f32",
   "metadata": {},
   "outputs": [
    {
     "name": "stdout",
     "output_type": "stream",
     "text": [
      "Number of original nodes pre-thresholding: 400\n",
      "Number of original edges pre-thresholding: 36914 \n",
      "\n",
      "Number of original nodes post-thresholding: 281\n",
      "Number of original edges post-thresholding: 262 \n",
      "\n",
      "Difference in nodes: 119\n",
      "Difference in edges: 36652\n"
     ]
    }
   ],
   "source": [
    "G, G_threshold, DiG_thresholded, UnG_thresholded, G_raw = backbone_network(edge_table_thresholded, edge_table, table, original_nodes, original_edges)"
   ]
  },
  {
   "cell_type": "code",
   "execution_count": 116,
   "id": "e9b483b7-96ed-4760-83cc-183373e3ec10",
   "metadata": {},
   "outputs": [
    {
     "data": {
      "image/png": "[encoded data removed]",
      "text/plain": [
       "<Figure size 432x288 with 1 Axes>"
      ]
     },
     "metadata": {},
     "output_type": "display_data"
    }
   ],
   "source": [
    "nx.draw_kamada_kawai(G_threshold, node_size = 30, edge_color = \"gray\", width = 0.5)"
   ]
  },
  {
   "cell_type": "code",
   "execution_count": 115,
   "id": "99ebbf1a-7407-4312-bf4b-355a11b2b848",
   "metadata": {},
   "outputs": [
    {
     "data": {
      "image/png": "[encoded data removed]",
      "text/plain": [
       "<Figure size 432x288 with 1 Axes>"
      ]
     },
     "metadata": {},
     "output_type": "display_data"
    }
   ],
   "source": [
    "nx.draw(G, node_size = 30, edge_color = \"gray\", width = 0.5)"
   ]
  },
  {
   "cell_type": "code",
   "execution_count": 117,
   "id": "1cf069ae-293f-4c8b-923e-a418bfa104a8",
   "metadata": {},
   "outputs": [
    {
     "data": {
      "text/html": [
       "<div>\n",
       "<style scoped>\n",
       "    .dataframe tbody tr th:only-of-type {\n",
       "        vertical-align: middle;\n",
       "    }\n",
       "\n",
       "    .dataframe tbody tr th {\n",
       "        vertical-align: top;\n",
       "    }\n",
       "\n",
       "    .dataframe thead th {\n",
       "        text-align: right;\n",
       "    }\n",
       "</style>\n",
       "<table border=\"1\" class=\"dataframe\">\n",
       "  <thead>\n",
       "    <tr style=\"text-align: right;\">\n",
       "      <th></th>\n",
       "      <th>src</th>\n",
       "      <th>trg</th>\n",
       "      <th>nij</th>\n",
       "      <th>score</th>\n",
       "    </tr>\n",
       "  </thead>\n",
       "  <tbody>\n",
       "    <tr>\n",
       "      <th>7620</th>\n",
       "      <td>amazon-ec2</td>\n",
       "      <td>amazon-s3</td>\n",
       "      <td>600</td>\n",
       "      <td>0.931057</td>\n",
       "    </tr>\n",
       "    <tr>\n",
       "      <th>4422</th>\n",
       "      <td>admob</td>\n",
       "      <td>android</td>\n",
       "      <td>1634</td>\n",
       "      <td>0.829342</td>\n",
       "    </tr>\n",
       "  </tbody>\n",
       "</table>\n",
       "</div>"
      ],
      "text/plain": [
       "             src        trg   nij     score\n",
       "7620  amazon-ec2  amazon-s3   600  0.931057\n",
       "4422       admob    android  1634  0.829342"
      ]
     },
     "execution_count": 117,
     "metadata": {},
     "output_type": "execute_result"
    }
   ],
   "source": [
    "edge_table_thresholded.head(2)"
   ]
  },
  {
   "cell_type": "markdown",
   "id": "47a867ca-961b-4ddf-9fd7-4eb722aab5d5",
   "metadata": {},
   "source": [
    "### Everything in one function"
   ]
  },
  {
   "cell_type": "code",
   "execution_count": null,
   "id": "46f73209-e4e3-45f2-bc66-fa04d8db298d",
   "metadata": {},
   "outputs": [],
   "source": [
    "table, original_nodes, original_edges = backboning.read(\"../data/undirected_stackoverflow_network_from_raw_data_TEST.csv\", column_of_interest = \"cooccurence\", undirected = True)"
   ]
  },
  {
   "cell_type": "code",
   "execution_count": null,
   "id": "217e05ac-22c5-4ff5-89dd-f6bddc4e33c0",
   "metadata": {},
   "outputs": [],
   "source": [
    "def thresholding_and_backboning(table, threshold, original_nodes, original_edges): \n",
    "    \n",
    "    \"\"\"Reads a preprocessed edge table and returns only the edges supassing a significance threshold.\n",
    "    Args:\n",
    "    table (pandas.DataFrame): The edge table.\n",
    "    threshold (float): The minimum significance to include the edge in the backbone.\n",
    "\n",
    "    Returns:\n",
    "    The network backbone.\n",
    "    \"\"\"\n",
    "    \n",
    "    # filter for significant edges (same method/thresholding-function as Coscia et al (2017))\n",
    "    table = table.copy()\n",
    "    \n",
    "    if \"sdev_cij\" in table:\n",
    "        return table[(table[\"score\"] - (threshold * table[\"sdev_cij\"])) > 0][[\"src\", \"trg\", \"nij\", \"score\"]]\n",
    "    else:\n",
    "        return table[table[\"score\"] > threshold][[\"src\", \"trg\", \"nij\", \"score\"]]\n",
    "    \n",
    "    \n",
    "    # apply thresholding (same method/function as Coscia et al (2017))\n",
    "    if measure in [\"maximum_spanning_tree\", \"doubly_stochastic\"]: \n",
    "        edge_table_thresholded = edge_table.copy()\n",
    "    else: \n",
    "        edge_table_thresholded = thresholding(edge_table, threshold)\n",
    "        \n",
    "    original_nodes_thresh = len(set(edge_table_thresholded[\"src\"]) | set(edge_table_thresholded[\"trg\"]))\n",
    "    original_edges_thresh = edge_table_thresholded.shape[0]\n",
    "\n",
    "    print(f\"Number of original nodes pre-thresholding: {original_nodes}\")\n",
    "    print(f\"Number of original edges pre-thresholding: {int(original_edges)} \\n\")\n",
    "    print(f\"Number of original nodes post-thresholding: {original_nodes_thresh}\")\n",
    "    print(f\"Number of original edges post-thresholding: {int(original_edges_thresh)} \\n\")\n",
    "    \n",
    "    print(f\"Difference in nodes: {original_nodes-original_nodes_thresh}\")\n",
    "    print(f\"Difference in edges: {int(original_edges-original_edges_thresh)}\")\n",
    "    \n",
    "    G_threshold = nx.from_pandas_edgelist(edge_table_thresholded, \"src\", \"trg\")\n",
    "    G = nx.from_pandas_edgelist(edge_table, \"src\", \"trg\")\n",
    "    \n",
    "    return G, G_threshold"
   ]
  },
  {
   "cell_type": "code",
   "execution_count": null,
   "id": "b45432bd-ab71-44ec-960d-a14be66d3f75",
   "metadata": {},
   "outputs": [],
   "source": [
    "def thresholding_and_backboning(table, threshold, original_nodes, original_edges)"
   ]
  }
 ],
 "metadata": {
  "kernelspec": {
   "display_name": "Python 3 (ipykernel)",
   "language": "python",
   "name": "python3"
  },
  "language_info": {
   "codemirror_mode": {
    "name": "ipython",
    "version": 3
   },
   "file_extension": ".py",
   "mimetype": "text/x-python",
   "name": "python",
   "nbconvert_exporter": "python",
   "pygments_lexer": "ipython3",
   "version": "3.10.5"
  }
 },
 "nbformat": 4,
 "nbformat_minor": 5
}
