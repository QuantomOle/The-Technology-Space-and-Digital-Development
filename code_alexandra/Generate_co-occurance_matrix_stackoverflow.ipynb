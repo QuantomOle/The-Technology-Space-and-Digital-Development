{
 "cells": [
  {
   "cell_type": "markdown",
   "id": "2d0aa616-9714-427e-b918-40898460aa67",
   "metadata": {},
   "source": [
    "# Generate stackoverflow tag co-occurance matrix for network construction "
   ]
  },
  {
   "cell_type": "code",
   "execution_count": 1,
   "id": "fa95c911-d149-4b04-a6a5-0a501df4e8e4",
   "metadata": {},
   "outputs": [
    {
     "data": {
      "text/plain": [
       "'/Users/alexandrarottenkolber/Documents/05_Spatial_Inequalities/The-Technology-Space-and-Digital-Development/code_alexandra'"
      ]
     },
     "execution_count": 1,
     "metadata": {},
     "output_type": "execute_result"
    }
   ],
   "source": [
    "pwd()"
   ]
  },
  {
   "cell_type": "code",
   "execution_count": null,
   "id": "507b92c7-49e0-4bb3-a21f-96b3a3c69837",
   "metadata": {},
   "outputs": [],
   "source": [
    "for chunk in pd.read_csv(\"/Users/alexandrarottenkolber/Documents/05_Spatial_Inequalities/Alexandra/data\", chunksize=2):\n",
    "    print(chunk)\n",
    "    print(\"-----\")"
   ]
  }
 ],
 "metadata": {
  "kernelspec": {
   "display_name": "Python 3 (ipykernel)",
   "language": "python",
   "name": "python3"
  },
  "language_info": {
   "codemirror_mode": {
    "name": "ipython",
    "version": 3
   },
   "file_extension": ".py",
   "mimetype": "text/x-python",
   "name": "python",
   "nbconvert_exporter": "python",
   "pygments_lexer": "ipython3",
   "version": "3.10.5"
  }
 },
 "nbformat": 4,
 "nbformat_minor": 5
}
