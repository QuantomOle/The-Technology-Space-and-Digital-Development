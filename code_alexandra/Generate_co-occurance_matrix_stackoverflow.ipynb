{
 "cells": [
  {
   "cell_type": "markdown",
   "id": "2d0aa616-9714-427e-b918-40898460aa67",
   "metadata": {},
   "source": [
    "# Generate stackoverflow tag co-occurance matrix for network construction "
   ]
  },
  {
   "cell_type": "code",
   "execution_count": 1,
   "id": "fa95c911-d149-4b04-a6a5-0a501df4e8e4",
   "metadata": {},
   "outputs": [
    {
     "data": {
      "text/plain": [
       "'/Users/alexandrarottenkolber/Documents/05_Spatial_Inequalities/The-Technology-Space-and-Digital-Development/code_alexandra'"
      ]
     },
     "execution_count": 1,
     "metadata": {},
     "output_type": "execute_result"
    }
   ],
   "source": [
    "pwd()"
   ]
  },
  {
   "cell_type": "code",
   "execution_count": 1,
   "id": "ad3237c5-681c-48be-b15b-9a496e460276",
   "metadata": {},
   "outputs": [],
   "source": [
    "import pandas as pd\n",
    "import numpy as np\n",
    "import itertools\n",
    "from collections import Counter"
   ]
  },
  {
   "cell_type": "code",
   "execution_count": 2,
   "id": "507b92c7-49e0-4bb3-a21f-96b3a3c69837",
   "metadata": {},
   "outputs": [],
   "source": [
    "count = 0\n",
    "for chunk in enumerate(pd.read_csv(\"../../Alexandra/data/stackoverflow.csv\", chunksize=1000)):\n",
    "    count += 1\n",
    "    if count == 1: \n",
    "        df = chunk[1].copy()\n",
    "    else: \n",
    "        break"
   ]
  },
  {
   "cell_type": "code",
   "execution_count": 3,
   "id": "13b965c7-d714-44ed-84bb-7fd584fed6e8",
   "metadata": {},
   "outputs": [],
   "source": [
    "df = pd.read_csv(\"../../Alexandra/data/stackoverflow.csv\", low_memory=False)"
   ]
  },
  {
   "cell_type": "code",
   "execution_count": 4,
   "id": "27661030-2d11-4c31-a64b-7d0a6b8b00ba",
   "metadata": {},
   "outputs": [
    {
     "data": {
      "text/plain": [
       "pandas.core.frame.DataFrame"
      ]
     },
     "execution_count": 4,
     "metadata": {},
     "output_type": "execute_result"
    }
   ],
   "source": [
    "type(df)"
   ]
  },
  {
   "cell_type": "code",
   "execution_count": 5,
   "id": "0038b20e-7967-43ed-9ead-3acc321eb8a7",
   "metadata": {},
   "outputs": [
    {
     "data": {
      "text/html": [
       "<div>\n",
       "<style scoped>\n",
       "    .dataframe tbody tr th:only-of-type {\n",
       "        vertical-align: middle;\n",
       "    }\n",
       "\n",
       "    .dataframe tbody tr th {\n",
       "        vertical-align: top;\n",
       "    }\n",
       "\n",
       "    .dataframe thead th {\n",
       "        text-align: right;\n",
       "    }\n",
       "</style>\n",
       "<table border=\"1\" class=\"dataframe\">\n",
       "  <thead>\n",
       "    <tr style=\"text-align: right;\">\n",
       "      <th></th>\n",
       "      <th>_id</th>\n",
       "      <th>id</th>\n",
       "      <th>tags</th>\n",
       "    </tr>\n",
       "  </thead>\n",
       "  <tbody>\n",
       "    <tr>\n",
       "      <th>0</th>\n",
       "      <td>61b778e8fc9434398d505a27</td>\n",
       "      <td>7524441</td>\n",
       "      <td>wpf|visual-studio-2010|enterprise-library</td>\n",
       "    </tr>\n",
       "    <tr>\n",
       "      <th>1</th>\n",
       "      <td>61b778e8fc9434398d505a28</td>\n",
       "      <td>2336818</td>\n",
       "      <td>c#|visual-studio|solution|vs-extensibility|vsp...</td>\n",
       "    </tr>\n",
       "    <tr>\n",
       "      <th>2</th>\n",
       "      <td>61b778e8fc9434398d505a29</td>\n",
       "      <td>27350559</td>\n",
       "      <td>c#|inheritance|ef-code-first|entity-framework-...</td>\n",
       "    </tr>\n",
       "    <tr>\n",
       "      <th>3</th>\n",
       "      <td>61b778e8fc9434398d505a2a</td>\n",
       "      <td>1752242</td>\n",
       "      <td>c#|generics|reflection</td>\n",
       "    </tr>\n",
       "    <tr>\n",
       "      <th>4</th>\n",
       "      <td>61b778e8fc9434398d505a2b</td>\n",
       "      <td>28181370</td>\n",
       "      <td>angularjs|select|angular-ui-router|single-page...</td>\n",
       "    </tr>\n",
       "  </tbody>\n",
       "</table>\n",
       "</div>"
      ],
      "text/plain": [
       "                        _id        id  \\\n",
       "0  61b778e8fc9434398d505a27   7524441   \n",
       "1  61b778e8fc9434398d505a28   2336818   \n",
       "2  61b778e8fc9434398d505a29  27350559   \n",
       "3  61b778e8fc9434398d505a2a   1752242   \n",
       "4  61b778e8fc9434398d505a2b  28181370   \n",
       "\n",
       "                                                tags  \n",
       "0          wpf|visual-studio-2010|enterprise-library  \n",
       "1  c#|visual-studio|solution|vs-extensibility|vsp...  \n",
       "2  c#|inheritance|ef-code-first|entity-framework-...  \n",
       "3                             c#|generics|reflection  \n",
       "4  angularjs|select|angular-ui-router|single-page...  "
      ]
     },
     "execution_count": 5,
     "metadata": {},
     "output_type": "execute_result"
    }
   ],
   "source": [
    "df.head()"
   ]
  },
  {
   "cell_type": "code",
   "execution_count": 6,
   "id": "edefb1fd-5910-47b3-8288-3dd3347d89b9",
   "metadata": {},
   "outputs": [
    {
     "name": "stdout",
     "output_type": "stream",
     "text": [
      "There are 17362901 observations that do not have tags.\n",
      "This equals 72 %.\n"
     ]
    }
   ],
   "source": [
    "no_tag = len(df[df['tags'].apply(lambda x: isinstance(x,float))])\n",
    "print(\"There are\", no_tag , \"observations that do not have tags.\")\n",
    "print(\"This equals\", int(round(no_tag/len(df), 2)*100), \"%.\")# there are 17362901 observations that do not have tags"
   ]
  },
  {
   "cell_type": "code",
   "execution_count": 7,
   "id": "ddf94009-dd24-4a72-979e-ddcfdd361cdf",
   "metadata": {},
   "outputs": [
    {
     "data": {
      "text/plain": [
       "6604020"
      ]
     },
     "execution_count": 7,
     "metadata": {},
     "output_type": "execute_result"
    }
   ],
   "source": [
    "df = df[df['tags'].notna()]\n",
    "len(df)"
   ]
  },
  {
   "cell_type": "code",
   "execution_count": 8,
   "id": "edac0e31-1273-4a18-bf01-3c3f5bdfad80",
   "metadata": {},
   "outputs": [
    {
     "data": {
      "text/plain": [
       "(50787, 6604020)"
      ]
     },
     "execution_count": 8,
     "metadata": {},
     "output_type": "execute_result"
    }
   ],
   "source": [
    "# find unique tags\n",
    "splitted_list = [string.split(\"|\") for string in list(df[\"tags\"])]\n",
    "splitted_list_flat = [str_ for sublist in splitted_list for str_ in sublist]\n",
    "unique_tags = list(set(splitted_list_flat))\n",
    "unique_ids = list(set(list(df[\"_id\"])))\n",
    "len(unique_tags), len(unique_ids)"
   ]
  },
  {
   "cell_type": "code",
   "execution_count": 9,
   "id": "34e35a86-afef-4342-b11e-0ee3d5b7ac0a",
   "metadata": {},
   "outputs": [],
   "source": [
    "# how often does each tag show up? \n",
    "\n",
    "tag_counts = Counter(splitted_list_flat)"
   ]
  },
  {
   "cell_type": "code",
   "execution_count": 10,
   "id": "5c066652-953b-42f8-a336-027e7311dd79",
   "metadata": {},
   "outputs": [
    {
     "data": {
      "text/html": [
       "<div>\n",
       "<style scoped>\n",
       "    .dataframe tbody tr th:only-of-type {\n",
       "        vertical-align: middle;\n",
       "    }\n",
       "\n",
       "    .dataframe tbody tr th {\n",
       "        vertical-align: top;\n",
       "    }\n",
       "\n",
       "    .dataframe thead th {\n",
       "        text-align: right;\n",
       "    }\n",
       "</style>\n",
       "<table border=\"1\" class=\"dataframe\">\n",
       "  <thead>\n",
       "    <tr style=\"text-align: right;\">\n",
       "      <th></th>\n",
       "      <th>tag</th>\n",
       "      <th>occurence_count</th>\n",
       "    </tr>\n",
       "  </thead>\n",
       "  <tbody>\n",
       "    <tr>\n",
       "      <th>101</th>\n",
       "      <td>javascript</td>\n",
       "      <td>679124</td>\n",
       "    </tr>\n",
       "    <tr>\n",
       "      <th>87</th>\n",
       "      <td>java</td>\n",
       "      <td>556923</td>\n",
       "    </tr>\n",
       "    <tr>\n",
       "      <th>3</th>\n",
       "      <td>c#</td>\n",
       "      <td>549945</td>\n",
       "    </tr>\n",
       "    <tr>\n",
       "      <th>102</th>\n",
       "      <td>php</td>\n",
       "      <td>473470</td>\n",
       "    </tr>\n",
       "    <tr>\n",
       "      <th>151</th>\n",
       "      <td>android</td>\n",
       "      <td>460460</td>\n",
       "    </tr>\n",
       "  </tbody>\n",
       "</table>\n",
       "</div>"
      ],
      "text/plain": [
       "            tag  occurence_count\n",
       "101  javascript           679124\n",
       "87         java           556923\n",
       "3            c#           549945\n",
       "102         php           473470\n",
       "151     android           460460"
      ]
     },
     "execution_count": 10,
     "metadata": {},
     "output_type": "execute_result"
    }
   ],
   "source": [
    "tag_counts_df = pd.DataFrame.from_dict(tag_counts, orient='index').reset_index().rename(columns = {\"index\": \"tag\", 0: \"occurence_count\"})\n",
    "tag_counts_df = tag_counts_df.sort_values(by = \"occurence_count\", ascending=False)\n",
    "tag_counts_df.head()"
   ]
  },
  {
   "cell_type": "code",
   "execution_count": 11,
   "id": "cf199f37-58d0-4fa0-be2f-d1f0d6b964bd",
   "metadata": {},
   "outputs": [
    {
     "data": {
      "text/html": [
       "<div>\n",
       "<style scoped>\n",
       "    .dataframe tbody tr th:only-of-type {\n",
       "        vertical-align: middle;\n",
       "    }\n",
       "\n",
       "    .dataframe tbody tr th {\n",
       "        vertical-align: top;\n",
       "    }\n",
       "\n",
       "    .dataframe thead th {\n",
       "        text-align: right;\n",
       "    }\n",
       "</style>\n",
       "<table border=\"1\" class=\"dataframe\">\n",
       "  <thead>\n",
       "    <tr style=\"text-align: right;\">\n",
       "      <th></th>\n",
       "      <th>tag</th>\n",
       "      <th>occurence_count</th>\n",
       "    </tr>\n",
       "  </thead>\n",
       "  <tbody>\n",
       "    <tr>\n",
       "      <th>101</th>\n",
       "      <td>javascript</td>\n",
       "      <td>679124</td>\n",
       "    </tr>\n",
       "    <tr>\n",
       "      <th>87</th>\n",
       "      <td>java</td>\n",
       "      <td>556923</td>\n",
       "    </tr>\n",
       "    <tr>\n",
       "      <th>3</th>\n",
       "      <td>c#</td>\n",
       "      <td>549945</td>\n",
       "    </tr>\n",
       "    <tr>\n",
       "      <th>102</th>\n",
       "      <td>php</td>\n",
       "      <td>473470</td>\n",
       "    </tr>\n",
       "    <tr>\n",
       "      <th>151</th>\n",
       "      <td>android</td>\n",
       "      <td>460460</td>\n",
       "    </tr>\n",
       "  </tbody>\n",
       "</table>\n",
       "</div>"
      ],
      "text/plain": [
       "            tag  occurence_count\n",
       "101  javascript           679124\n",
       "87         java           556923\n",
       "3            c#           549945\n",
       "102         php           473470\n",
       "151     android           460460"
      ]
     },
     "execution_count": 11,
     "metadata": {},
     "output_type": "execute_result"
    }
   ],
   "source": [
    "# select top 1000 tags\n",
    "top_1000_tags_df = tag_counts_df.head(1000).copy()\n",
    "top_1000_tags_ls = list(top_1000_tags_df[\"tag\"])\n",
    "top_1000_tags_df.head()"
   ]
  },
  {
   "cell_type": "raw",
   "id": "4bb3c011-ab94-49e1-a294-a9b43bf26974",
   "metadata": {},
   "source": [
    "# takes too long to run\n",
    "splitted_list_filtered = []\n",
    "for sublist in splitted_list: \n",
    "    sublist_filtered = []\n",
    "    for item in sublist: \n",
    "        if item in set(top_1000_tags_ls): \n",
    "            sublist_filtered.append(item)\n",
    "    splitted_list_filtered.append(sublist_filtered)   "
   ]
  },
  {
   "cell_type": "code",
   "execution_count": 36,
   "id": "e5a49e57-5889-4f2f-a396-27b552ec656d",
   "metadata": {},
   "outputs": [
    {
     "ename": "KeyboardInterrupt",
     "evalue": "",
     "output_type": "error",
     "traceback": [
      "\u001b[0;31m---------------------------------------------------------------------------\u001b[0m",
      "\u001b[0;31mKeyboardInterrupt\u001b[0m                         Traceback (most recent call last)",
      "Input \u001b[0;32mIn [36]\u001b[0m, in \u001b[0;36m<cell line: 1>\u001b[0;34m()\u001b[0m\n\u001b[0;32m----> 1\u001b[0m splitted_list_filtered \u001b[38;5;241m=\u001b[39m [[x \u001b[38;5;28;01mfor\u001b[39;00m x \u001b[38;5;129;01min\u001b[39;00m sublist \u001b[38;5;28;01mif\u001b[39;00m x \u001b[38;5;129;01min\u001b[39;00m \u001b[38;5;28mset\u001b[39m(top_1000_tags_ls)] \u001b[38;5;28;01mfor\u001b[39;00m sublist \u001b[38;5;129;01min\u001b[39;00m splitted_list]\n",
      "Input \u001b[0;32mIn [36]\u001b[0m, in \u001b[0;36m<listcomp>\u001b[0;34m(.0)\u001b[0m\n\u001b[0;32m----> 1\u001b[0m splitted_list_filtered \u001b[38;5;241m=\u001b[39m [[x \u001b[38;5;28;01mfor\u001b[39;00m x \u001b[38;5;129;01min\u001b[39;00m sublist \u001b[38;5;28;01mif\u001b[39;00m x \u001b[38;5;129;01min\u001b[39;00m \u001b[38;5;28mset\u001b[39m(top_1000_tags_ls)] \u001b[38;5;28;01mfor\u001b[39;00m sublist \u001b[38;5;129;01min\u001b[39;00m splitted_list]\n",
      "Input \u001b[0;32mIn [36]\u001b[0m, in \u001b[0;36m<listcomp>\u001b[0;34m(.0)\u001b[0m\n\u001b[0;32m----> 1\u001b[0m splitted_list_filtered \u001b[38;5;241m=\u001b[39m [[x \u001b[38;5;28;01mfor\u001b[39;00m x \u001b[38;5;129;01min\u001b[39;00m sublist \u001b[38;5;28;01mif\u001b[39;00m x \u001b[38;5;129;01min\u001b[39;00m \u001b[38;5;28;43mset\u001b[39;49m\u001b[43m(\u001b[49m\u001b[43mtop_1000_tags_ls\u001b[49m\u001b[43m)\u001b[49m] \u001b[38;5;28;01mfor\u001b[39;00m sublist \u001b[38;5;129;01min\u001b[39;00m splitted_list]\n",
      "\u001b[0;31mKeyboardInterrupt\u001b[0m: "
     ]
    }
   ],
   "source": [
    "splitted_list_filtered = [[x for x in sublist if x in set(top_1000_tags_ls)] for sublist in splitted_list]"
   ]
  },
  {
   "cell_type": "code",
   "execution_count": null,
   "id": "e54bc5d5-70b0-4355-8921-581041b7df82",
   "metadata": {},
   "outputs": [],
   "source": [
    "# Prepare data to calculate co-coocurence matrix \n",
    "\n",
    "# 1 dataframe from tags\n",
    "# 2 one-hot-encodings\n",
    "# 3 combine column headers and count \n",
    "\n",
    "tag_df = pd.get_dummies(pd.DataFrame(splitted_list_filtered), prefix='', prefix_sep='').groupby(level=0, axis=1).sum()\n",
    "tag_df.head()"
   ]
  },
  {
   "cell_type": "code",
   "execution_count": null,
   "id": "8da99097-ec38-4dc1-8fec-8bdd827e25d8",
   "metadata": {},
   "outputs": [],
   "source": [
    "# Calculate co-coocurence matrix with matrix multiplication\n",
    "\n",
    "tag_df_asint = tag_df.astype(int)\n",
    "coocc = tag_df_asint.T.dot(tag_df_asint)\n",
    "np.fill_diagonal(coocc.values, 0)\n",
    "coocc.head()"
   ]
  },
  {
   "cell_type": "code",
   "execution_count": null,
   "id": "31a29cc5-9d4a-4bba-9199-2ff5d54d001c",
   "metadata": {},
   "outputs": [],
   "source": [
    "# cooccurence matrix to dictionary\n",
    "coocc_dic = coocc.to_dict()"
   ]
  },
  {
   "cell_type": "code",
   "execution_count": null,
   "id": "6b305f0a-e33e-4512-9d76-c52c1559c469",
   "metadata": {},
   "outputs": [],
   "source": [
    "# create dataframe represnting a network\n",
    "tag1_ls = []\n",
    "frames = []\n",
    "\n",
    "for tag1, tag_dic in coocc_dic.items():\n",
    "    tag1_ls.append(tag1)\n",
    "    frames.append(pd.DataFrame.from_dict(tag_dic, orient='index'))\n",
    "\n",
    "network_df = pd.concat(frames, keys=tag1_ls)\n",
    "network_df = network_df.reset_index().rename(columns = {\"level_0\" : \"tag1\", \"level_1\" : \"tag2\", 0: \"cooccurence\"})"
   ]
  },
  {
   "cell_type": "code",
   "execution_count": null,
   "id": "9666e0c1-2457-4523-84d6-9634836b4197",
   "metadata": {},
   "outputs": [],
   "source": [
    "df_complete[df_complete[\"cooccurence\"] > 10].head(40)"
   ]
  },
  {
   "cell_type": "code",
   "execution_count": null,
   "id": "0fbd74f4-0ed7-411d-bde6-30472857aaa8",
   "metadata": {},
   "outputs": [],
   "source": []
  },
  {
   "cell_type": "code",
   "execution_count": null,
   "id": "655596d4-8dfc-4196-95e1-59806d995124",
   "metadata": {},
   "outputs": [],
   "source": []
  },
  {
   "cell_type": "code",
   "execution_count": null,
   "id": "ffcabab4-ad4a-479e-93ba-c5bf01a81fa8",
   "metadata": {},
   "outputs": [],
   "source": []
  }
 ],
 "metadata": {
  "kernelspec": {
   "display_name": "Python 3 (ipykernel)",
   "language": "python",
   "name": "python3"
  },
  "language_info": {
   "codemirror_mode": {
    "name": "ipython",
    "version": 3
   },
   "file_extension": ".py",
   "mimetype": "text/x-python",
   "name": "python",
   "nbconvert_exporter": "python",
   "pygments_lexer": "ipython3",
   "version": "3.10.5"
  }
 },
 "nbformat": 4,
 "nbformat_minor": 5
}
