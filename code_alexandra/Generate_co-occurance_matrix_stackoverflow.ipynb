{
 "cells": [
  {
   "cell_type": "markdown",
   "id": "2d0aa616-9714-427e-b918-40898460aa67",
   "metadata": {},
   "source": [
    "# Generate stackoverflow tag co-occurance matrix for network construction "
   ]
  },
  {
   "cell_type": "code",
   "execution_count": 1,
   "id": "fa95c911-d149-4b04-a6a5-0a501df4e8e4",
   "metadata": {},
   "outputs": [
    {
     "data": {
      "text/plain": [
       "'/Users/alexandrarottenkolber/Documents/05_Spatial_Inequalities/The-Technology-Space-and-Digital-Development/code_alexandra'"
      ]
     },
     "execution_count": 1,
     "metadata": {},
     "output_type": "execute_result"
    }
   ],
   "source": [
    "pwd()"
   ]
  },
  {
   "cell_type": "code",
   "execution_count": 2,
   "id": "ad3237c5-681c-48be-b15b-9a496e460276",
   "metadata": {},
   "outputs": [],
   "source": [
    "import pandas as pd\n",
    "import numpy as np\n",
    "import itertools\n",
    "from collections import Counter\n",
    "from sklearn.preprocessing import OneHotEncoder"
   ]
  },
  {
   "cell_type": "code",
   "execution_count": 3,
   "id": "507b92c7-49e0-4bb3-a21f-96b3a3c69837",
   "metadata": {},
   "outputs": [],
   "source": [
    "count = 0\n",
    "for chunk in enumerate(pd.read_csv(\"../../Alexandra/data/stackoverflow.csv\", chunksize=1000)):\n",
    "    count += 1\n",
    "    if count == 1: \n",
    "        df = chunk[1].copy()\n",
    "    else: \n",
    "        break"
   ]
  },
  {
   "cell_type": "code",
   "execution_count": 3,
   "id": "13b965c7-d714-44ed-84bb-7fd584fed6e8",
   "metadata": {
    "tags": []
   },
   "outputs": [],
   "source": [
    "df = pd.read_csv(\"../../Alexandra/data/stackoverflow.csv\", low_memory=False)"
   ]
  },
  {
   "cell_type": "code",
   "execution_count": 4,
   "id": "27661030-2d11-4c31-a64b-7d0a6b8b00ba",
   "metadata": {},
   "outputs": [
    {
     "data": {
      "text/plain": [
       "pandas.core.frame.DataFrame"
      ]
     },
     "execution_count": 4,
     "metadata": {},
     "output_type": "execute_result"
    }
   ],
   "source": [
    "type(df)"
   ]
  },
  {
   "cell_type": "code",
   "execution_count": 5,
   "id": "0038b20e-7967-43ed-9ead-3acc321eb8a7",
   "metadata": {},
   "outputs": [
    {
     "data": {
      "text/html": [
       "<div>\n",
       "<style scoped>\n",
       "    .dataframe tbody tr th:only-of-type {\n",
       "        vertical-align: middle;\n",
       "    }\n",
       "\n",
       "    .dataframe tbody tr th {\n",
       "        vertical-align: top;\n",
       "    }\n",
       "\n",
       "    .dataframe thead th {\n",
       "        text-align: right;\n",
       "    }\n",
       "</style>\n",
       "<table border=\"1\" class=\"dataframe\">\n",
       "  <thead>\n",
       "    <tr style=\"text-align: right;\">\n",
       "      <th></th>\n",
       "      <th>_id</th>\n",
       "      <th>id</th>\n",
       "      <th>tags</th>\n",
       "    </tr>\n",
       "  </thead>\n",
       "  <tbody>\n",
       "    <tr>\n",
       "      <th>0</th>\n",
       "      <td>61b778e8fc9434398d505a27</td>\n",
       "      <td>7524441</td>\n",
       "      <td>wpf|visual-studio-2010|enterprise-library</td>\n",
       "    </tr>\n",
       "    <tr>\n",
       "      <th>1</th>\n",
       "      <td>61b778e8fc9434398d505a28</td>\n",
       "      <td>2336818</td>\n",
       "      <td>c#|visual-studio|solution|vs-extensibility|vsp...</td>\n",
       "    </tr>\n",
       "    <tr>\n",
       "      <th>2</th>\n",
       "      <td>61b778e8fc9434398d505a29</td>\n",
       "      <td>27350559</td>\n",
       "      <td>c#|inheritance|ef-code-first|entity-framework-...</td>\n",
       "    </tr>\n",
       "    <tr>\n",
       "      <th>3</th>\n",
       "      <td>61b778e8fc9434398d505a2a</td>\n",
       "      <td>1752242</td>\n",
       "      <td>c#|generics|reflection</td>\n",
       "    </tr>\n",
       "    <tr>\n",
       "      <th>4</th>\n",
       "      <td>61b778e8fc9434398d505a2b</td>\n",
       "      <td>28181370</td>\n",
       "      <td>angularjs|select|angular-ui-router|single-page...</td>\n",
       "    </tr>\n",
       "  </tbody>\n",
       "</table>\n",
       "</div>"
      ],
      "text/plain": [
       "                        _id        id  \\\n",
       "0  61b778e8fc9434398d505a27   7524441   \n",
       "1  61b778e8fc9434398d505a28   2336818   \n",
       "2  61b778e8fc9434398d505a29  27350559   \n",
       "3  61b778e8fc9434398d505a2a   1752242   \n",
       "4  61b778e8fc9434398d505a2b  28181370   \n",
       "\n",
       "                                                tags  \n",
       "0          wpf|visual-studio-2010|enterprise-library  \n",
       "1  c#|visual-studio|solution|vs-extensibility|vsp...  \n",
       "2  c#|inheritance|ef-code-first|entity-framework-...  \n",
       "3                             c#|generics|reflection  \n",
       "4  angularjs|select|angular-ui-router|single-page...  "
      ]
     },
     "execution_count": 5,
     "metadata": {},
     "output_type": "execute_result"
    }
   ],
   "source": [
    "df.head()"
   ]
  },
  {
   "cell_type": "code",
   "execution_count": 6,
   "id": "edefb1fd-5910-47b3-8288-3dd3347d89b9",
   "metadata": {},
   "outputs": [
    {
     "name": "stdout",
     "output_type": "stream",
     "text": [
      "There are 17362901 observations that do not have tags.\n",
      "This equals 72 %.\n"
     ]
    }
   ],
   "source": [
    "no_tag = len(df[df['tags'].apply(lambda x: isinstance(x,float))])\n",
    "print(\"There are\", no_tag , \"observations that do not have tags.\")\n",
    "print(\"This equals\", int(round(no_tag/len(df), 2)*100), \"%.\")# there are 17362901 observations that do not have tags"
   ]
  },
  {
   "cell_type": "code",
   "execution_count": 7,
   "id": "ddf94009-dd24-4a72-979e-ddcfdd361cdf",
   "metadata": {},
   "outputs": [
    {
     "data": {
      "text/plain": [
       "6604020"
      ]
     },
     "execution_count": 7,
     "metadata": {},
     "output_type": "execute_result"
    }
   ],
   "source": [
    "df = df[df['tags'].notna()]\n",
    "len(df)"
   ]
  },
  {
   "cell_type": "code",
   "execution_count": 8,
   "id": "edac0e31-1273-4a18-bf01-3c3f5bdfad80",
   "metadata": {},
   "outputs": [
    {
     "data": {
      "text/plain": [
       "(50787, 6604020)"
      ]
     },
     "execution_count": 8,
     "metadata": {},
     "output_type": "execute_result"
    }
   ],
   "source": [
    "# find unique tags\n",
    "splitted_list = [string.split(\"|\") for string in list(df[\"tags\"])]\n",
    "splitted_list_flat = [str_ for sublist in splitted_list for str_ in sublist]\n",
    "unique_tags = list(set(splitted_list_flat))\n",
    "unique_ids = list(set(list(df[\"_id\"])))\n",
    "len(unique_tags), len(unique_ids)"
   ]
  },
  {
   "cell_type": "code",
   "execution_count": 9,
   "id": "34e35a86-afef-4342-b11e-0ee3d5b7ac0a",
   "metadata": {},
   "outputs": [],
   "source": [
    "# how often does each tag show up? \n",
    "tag_counts = Counter(splitted_list_flat)"
   ]
  },
  {
   "cell_type": "code",
   "execution_count": 10,
   "id": "5c066652-953b-42f8-a336-027e7311dd79",
   "metadata": {},
   "outputs": [
    {
     "data": {
      "text/html": [
       "<div>\n",
       "<style scoped>\n",
       "    .dataframe tbody tr th:only-of-type {\n",
       "        vertical-align: middle;\n",
       "    }\n",
       "\n",
       "    .dataframe tbody tr th {\n",
       "        vertical-align: top;\n",
       "    }\n",
       "\n",
       "    .dataframe thead th {\n",
       "        text-align: right;\n",
       "    }\n",
       "</style>\n",
       "<table border=\"1\" class=\"dataframe\">\n",
       "  <thead>\n",
       "    <tr style=\"text-align: right;\">\n",
       "      <th></th>\n",
       "      <th>tag</th>\n",
       "      <th>occurence_count</th>\n",
       "    </tr>\n",
       "  </thead>\n",
       "  <tbody>\n",
       "    <tr>\n",
       "      <th>101</th>\n",
       "      <td>javascript</td>\n",
       "      <td>679124</td>\n",
       "    </tr>\n",
       "    <tr>\n",
       "      <th>87</th>\n",
       "      <td>java</td>\n",
       "      <td>556923</td>\n",
       "    </tr>\n",
       "    <tr>\n",
       "      <th>3</th>\n",
       "      <td>c#</td>\n",
       "      <td>549945</td>\n",
       "    </tr>\n",
       "    <tr>\n",
       "      <th>102</th>\n",
       "      <td>php</td>\n",
       "      <td>473470</td>\n",
       "    </tr>\n",
       "    <tr>\n",
       "      <th>151</th>\n",
       "      <td>android</td>\n",
       "      <td>460460</td>\n",
       "    </tr>\n",
       "  </tbody>\n",
       "</table>\n",
       "</div>"
      ],
      "text/plain": [
       "            tag  occurence_count\n",
       "101  javascript           679124\n",
       "87         java           556923\n",
       "3            c#           549945\n",
       "102         php           473470\n",
       "151     android           460460"
      ]
     },
     "execution_count": 10,
     "metadata": {},
     "output_type": "execute_result"
    }
   ],
   "source": [
    "tag_counts_df = pd.DataFrame.from_dict(tag_counts, orient='index').reset_index().rename(columns = {\"index\": \"tag\", 0: \"occurence_count\"})\n",
    "tag_counts_df = tag_counts_df.sort_values(by = \"occurence_count\", ascending=False)\n",
    "tag_counts_df.head()"
   ]
  },
  {
   "cell_type": "code",
   "execution_count": 11,
   "id": "ef894262-5f42-4623-a998-06bbacf8ac6a",
   "metadata": {},
   "outputs": [
    {
     "data": {
      "text/plain": [
       "(50787, 50787)"
      ]
     },
     "execution_count": 11,
     "metadata": {},
     "output_type": "execute_result"
    }
   ],
   "source": [
    "len(tag_counts_df), len(set(tag_counts_df[\"tag\"]))"
   ]
  },
  {
   "cell_type": "code",
   "execution_count": 12,
   "id": "cf199f37-58d0-4fa0-be2f-d1f0d6b964bd",
   "metadata": {},
   "outputs": [
    {
     "data": {
      "text/html": [
       "<div>\n",
       "<style scoped>\n",
       "    .dataframe tbody tr th:only-of-type {\n",
       "        vertical-align: middle;\n",
       "    }\n",
       "\n",
       "    .dataframe tbody tr th {\n",
       "        vertical-align: top;\n",
       "    }\n",
       "\n",
       "    .dataframe thead th {\n",
       "        text-align: right;\n",
       "    }\n",
       "</style>\n",
       "<table border=\"1\" class=\"dataframe\">\n",
       "  <thead>\n",
       "    <tr style=\"text-align: right;\">\n",
       "      <th></th>\n",
       "      <th>tag</th>\n",
       "      <th>occurence_count</th>\n",
       "    </tr>\n",
       "  </thead>\n",
       "  <tbody>\n",
       "    <tr>\n",
       "      <th>101</th>\n",
       "      <td>javascript</td>\n",
       "      <td>679124</td>\n",
       "    </tr>\n",
       "    <tr>\n",
       "      <th>87</th>\n",
       "      <td>java</td>\n",
       "      <td>556923</td>\n",
       "    </tr>\n",
       "    <tr>\n",
       "      <th>3</th>\n",
       "      <td>c#</td>\n",
       "      <td>549945</td>\n",
       "    </tr>\n",
       "    <tr>\n",
       "      <th>102</th>\n",
       "      <td>php</td>\n",
       "      <td>473470</td>\n",
       "    </tr>\n",
       "    <tr>\n",
       "      <th>151</th>\n",
       "      <td>android</td>\n",
       "      <td>460460</td>\n",
       "    </tr>\n",
       "  </tbody>\n",
       "</table>\n",
       "</div>"
      ],
      "text/plain": [
       "            tag  occurence_count\n",
       "101  javascript           679124\n",
       "87         java           556923\n",
       "3            c#           549945\n",
       "102         php           473470\n",
       "151     android           460460"
      ]
     },
     "execution_count": 12,
     "metadata": {},
     "output_type": "execute_result"
    }
   ],
   "source": [
    "# select top 1000 tags\n",
    "top_1000_tags_df = tag_counts_df.head(1000).copy()\n",
    "top_1000_tags_ls = list(top_1000_tags_df[\"tag\"])\n",
    "top_1000_tags_df.head()"
   ]
  },
  {
   "cell_type": "code",
   "execution_count": 13,
   "id": "eaa8061a-1acb-4a54-80c3-2546c94ed860",
   "metadata": {},
   "outputs": [
    {
     "data": {
      "text/plain": [
       "(1000, 1000)"
      ]
     },
     "execution_count": 13,
     "metadata": {},
     "output_type": "execute_result"
    }
   ],
   "source": [
    "len(top_1000_tags_df), len(set(list(top_1000_tags_df[\"tag\"])))"
   ]
  },
  {
   "cell_type": "raw",
   "id": "4bb3c011-ab94-49e1-a294-a9b43bf26974",
   "metadata": {},
   "source": [
    "# takes too long to run\n",
    "splitted_list_filtered = []\n",
    "for sublist in splitted_list: \n",
    "    sublist_filtered = []\n",
    "    for item in sublist: \n",
    "        if item in set(top_1000_tags_ls): \n",
    "            sublist_filtered.append(item)\n",
    "    splitted_list_filtered.append(sublist_filtered)   "
   ]
  },
  {
   "cell_type": "code",
   "execution_count": 14,
   "id": "e5a49e57-5889-4f2f-a396-27b552ec656d",
   "metadata": {},
   "outputs": [],
   "source": [
    "splitted_list_filtered = [[x for x in sublist if x in set(top_1000_tags_ls)] for sublist in splitted_list]"
   ]
  },
  {
   "cell_type": "code",
   "execution_count": 15,
   "id": "33c439e0-2432-4055-8d1c-dae2da8f3a6c",
   "metadata": {},
   "outputs": [
    {
     "data": {
      "text/plain": [
       "6604020"
      ]
     },
     "execution_count": 15,
     "metadata": {},
     "output_type": "execute_result"
    }
   ],
   "source": [
    "len(splitted_list_filtered)"
   ]
  },
  {
   "cell_type": "raw",
   "id": "cee42389-7cd2-41e1-ab05-9ed8516fb694",
   "metadata": {},
   "source": [
    "# open file in write mode\n",
    "with open(r'../data/splitted_list.txt', 'w') as fp:\n",
    "    for item in splitted_list:\n",
    "        # write each item on a new line\n",
    "        fp.write(\"%s\\n\" % item)\n",
    "    print('Done')"
   ]
  },
  {
   "cell_type": "raw",
   "id": "7fb824b7-3bcd-4c9d-987e-f36d0f863eea",
   "metadata": {},
   "source": [
    "# read in filtered list \n",
    "splitted_list_filtered = []\n",
    "\n",
    "# open file and read the content in a list\n",
    "with open(r'../data/splitted_list.txt', 'r') as infile:\n",
    "    for line in infile:\n",
    "        # remove linebreak from a current name\n",
    "        # linebreak is the last character of each line\n",
    "        x = line[:-1].replace(\"['\", \"\").replace(\"']\", \"\").split(\"', '\")\n",
    "\n",
    "        # add current item to the list\n",
    "        splitted_list_filtered.append(x)"
   ]
  },
  {
   "cell_type": "code",
   "execution_count": 16,
   "id": "b3319659-d9ef-4380-a0e9-28a11c9bf2f6",
   "metadata": {},
   "outputs": [
    {
     "data": {
      "text/plain": [
       "[['wpf', 'mvvm'],\n",
       " ['sql-server', 'foreign-keys', 'indexing'],\n",
       " ['wpf'],\n",
       " ['wpf', 'popup', 'styles'],\n",
       " ['c#', 'wpf', 'focus']]"
      ]
     },
     "execution_count": 16,
     "metadata": {},
     "output_type": "execute_result"
    }
   ],
   "source": [
    "splitted_list_filtered[10:15]"
   ]
  },
  {
   "cell_type": "code",
   "execution_count": 17,
   "id": "518e63b4-93e0-41f9-bad2-13e9f89e5227",
   "metadata": {},
   "outputs": [],
   "source": [
    "#splitted_list_filtered[10:15]"
   ]
  },
  {
   "cell_type": "code",
   "execution_count": 18,
   "id": "e54bc5d5-70b0-4355-8921-581041b7df82",
   "metadata": {},
   "outputs": [
    {
     "data": {
      "text/html": [
       "<div>\n",
       "<style scoped>\n",
       "    .dataframe tbody tr th:only-of-type {\n",
       "        vertical-align: middle;\n",
       "    }\n",
       "\n",
       "    .dataframe tbody tr th {\n",
       "        vertical-align: top;\n",
       "    }\n",
       "\n",
       "    .dataframe thead th {\n",
       "        text-align: right;\n",
       "    }\n",
       "</style>\n",
       "<table border=\"1\" class=\"dataframe\">\n",
       "  <thead>\n",
       "    <tr style=\"text-align: right;\">\n",
       "      <th></th>\n",
       "      <th>.htaccess</th>\n",
       "      <th>.net</th>\n",
       "      <th>.net-3.5</th>\n",
       "      <th>.net-4.0</th>\n",
       "      <th>.net-core</th>\n",
       "      <th>3d</th>\n",
       "      <th>access-vba</th>\n",
       "      <th>actionscript</th>\n",
       "      <th>actionscript-3</th>\n",
       "      <th>active-directory</th>\n",
       "      <th>...</th>\n",
       "      <th>xsd</th>\n",
       "      <th>xslt</th>\n",
       "      <th>yaml</th>\n",
       "      <th>yii</th>\n",
       "      <th>yii2</th>\n",
       "      <th>youtube</th>\n",
       "      <th>youtube-api</th>\n",
       "      <th>zend-framework</th>\n",
       "      <th>zend-framework2</th>\n",
       "      <th>zip</th>\n",
       "    </tr>\n",
       "  </thead>\n",
       "  <tbody>\n",
       "    <tr>\n",
       "      <th>0</th>\n",
       "      <td>0</td>\n",
       "      <td>0</td>\n",
       "      <td>0</td>\n",
       "      <td>0</td>\n",
       "      <td>0</td>\n",
       "      <td>0</td>\n",
       "      <td>0</td>\n",
       "      <td>0</td>\n",
       "      <td>0</td>\n",
       "      <td>0</td>\n",
       "      <td>...</td>\n",
       "      <td>0</td>\n",
       "      <td>0</td>\n",
       "      <td>0</td>\n",
       "      <td>0</td>\n",
       "      <td>0</td>\n",
       "      <td>0</td>\n",
       "      <td>0</td>\n",
       "      <td>0</td>\n",
       "      <td>0</td>\n",
       "      <td>0</td>\n",
       "    </tr>\n",
       "    <tr>\n",
       "      <th>1</th>\n",
       "      <td>0</td>\n",
       "      <td>0</td>\n",
       "      <td>0</td>\n",
       "      <td>0</td>\n",
       "      <td>0</td>\n",
       "      <td>0</td>\n",
       "      <td>0</td>\n",
       "      <td>0</td>\n",
       "      <td>0</td>\n",
       "      <td>0</td>\n",
       "      <td>...</td>\n",
       "      <td>0</td>\n",
       "      <td>0</td>\n",
       "      <td>0</td>\n",
       "      <td>0</td>\n",
       "      <td>0</td>\n",
       "      <td>0</td>\n",
       "      <td>0</td>\n",
       "      <td>0</td>\n",
       "      <td>0</td>\n",
       "      <td>0</td>\n",
       "    </tr>\n",
       "    <tr>\n",
       "      <th>2</th>\n",
       "      <td>0</td>\n",
       "      <td>0</td>\n",
       "      <td>0</td>\n",
       "      <td>0</td>\n",
       "      <td>0</td>\n",
       "      <td>0</td>\n",
       "      <td>0</td>\n",
       "      <td>0</td>\n",
       "      <td>0</td>\n",
       "      <td>0</td>\n",
       "      <td>...</td>\n",
       "      <td>0</td>\n",
       "      <td>0</td>\n",
       "      <td>0</td>\n",
       "      <td>0</td>\n",
       "      <td>0</td>\n",
       "      <td>0</td>\n",
       "      <td>0</td>\n",
       "      <td>0</td>\n",
       "      <td>0</td>\n",
       "      <td>0</td>\n",
       "    </tr>\n",
       "    <tr>\n",
       "      <th>3</th>\n",
       "      <td>0</td>\n",
       "      <td>0</td>\n",
       "      <td>0</td>\n",
       "      <td>0</td>\n",
       "      <td>0</td>\n",
       "      <td>0</td>\n",
       "      <td>0</td>\n",
       "      <td>0</td>\n",
       "      <td>0</td>\n",
       "      <td>0</td>\n",
       "      <td>...</td>\n",
       "      <td>0</td>\n",
       "      <td>0</td>\n",
       "      <td>0</td>\n",
       "      <td>0</td>\n",
       "      <td>0</td>\n",
       "      <td>0</td>\n",
       "      <td>0</td>\n",
       "      <td>0</td>\n",
       "      <td>0</td>\n",
       "      <td>0</td>\n",
       "    </tr>\n",
       "    <tr>\n",
       "      <th>4</th>\n",
       "      <td>0</td>\n",
       "      <td>0</td>\n",
       "      <td>0</td>\n",
       "      <td>0</td>\n",
       "      <td>0</td>\n",
       "      <td>0</td>\n",
       "      <td>0</td>\n",
       "      <td>0</td>\n",
       "      <td>0</td>\n",
       "      <td>0</td>\n",
       "      <td>...</td>\n",
       "      <td>0</td>\n",
       "      <td>0</td>\n",
       "      <td>0</td>\n",
       "      <td>0</td>\n",
       "      <td>0</td>\n",
       "      <td>0</td>\n",
       "      <td>0</td>\n",
       "      <td>0</td>\n",
       "      <td>0</td>\n",
       "      <td>0</td>\n",
       "    </tr>\n",
       "  </tbody>\n",
       "</table>\n",
       "<p>5 rows × 4998 columns</p>\n",
       "</div>"
      ],
      "text/plain": [
       "   .htaccess  .net  .net-3.5  .net-4.0  .net-core  3d  access-vba  \\\n",
       "0          0     0         0         0          0   0           0   \n",
       "1          0     0         0         0          0   0           0   \n",
       "2          0     0         0         0          0   0           0   \n",
       "3          0     0         0         0          0   0           0   \n",
       "4          0     0         0         0          0   0           0   \n",
       "\n",
       "   actionscript  actionscript-3  active-directory  ...  xsd  xslt  yaml  yii  \\\n",
       "0             0               0                 0  ...    0     0     0    0   \n",
       "1             0               0                 0  ...    0     0     0    0   \n",
       "2             0               0                 0  ...    0     0     0    0   \n",
       "3             0               0                 0  ...    0     0     0    0   \n",
       "4             0               0                 0  ...    0     0     0    0   \n",
       "\n",
       "   yii2  youtube  youtube-api  zend-framework  zend-framework2  zip  \n",
       "0     0        0            0               0                0    0  \n",
       "1     0        0            0               0                0    0  \n",
       "2     0        0            0               0                0    0  \n",
       "3     0        0            0               0                0    0  \n",
       "4     0        0            0               0                0    0  \n",
       "\n",
       "[5 rows x 4998 columns]"
      ]
     },
     "execution_count": 18,
     "metadata": {},
     "output_type": "execute_result"
    }
   ],
   "source": [
    "# Prepare data to calculate co-coocurence matrix \n",
    "\n",
    "# 1 dataframe from tags\n",
    "# 2 one-hot-encodings\n",
    "# 3 combine column headers and count \n",
    "\n",
    "tag_df = pd.get_dummies(pd.DataFrame(splitted_list_filtered), prefix='', prefix_sep='', sparse=True)#.groupby(level=0, axis=1).sum()\n",
    "tag_df.head()"
   ]
  },
  {
   "cell_type": "code",
   "execution_count": 19,
   "id": "1c6b7eaf-7405-4d2c-bf45-76306b0b8808",
   "metadata": {},
   "outputs": [
    {
     "data": {
      "text/plain": [
       "(6604020, 4998)"
      ]
     },
     "execution_count": 19,
     "metadata": {},
     "output_type": "execute_result"
    }
   ],
   "source": [
    "tag_df.shape"
   ]
  },
  {
   "cell_type": "code",
   "execution_count": 20,
   "id": "8aa18a08-46c2-4b1c-840c-e1b07a1691e3",
   "metadata": {},
   "outputs": [
    {
     "data": {
      "text/plain": [
       "(1000, 0, 1000, 0)"
      ]
     },
     "execution_count": 20,
     "metadata": {},
     "output_type": "execute_result"
    }
   ],
   "source": [
    "cnt = Counter(list(tag_df.columns))\n",
    "non_unique_labels = [k for k, v in cnt.items() if v > 1 and v != \"None\" and v != None]\n",
    "unique_labels = [k for k, v in cnt.items() if v == 1 and v != \"None\" and v != None]\n",
    "len(non_unique_labels), len(unique_labels), len(non_unique_labels) + len(unique_labels), 1000-len(set(list(tag_df.columns)))"
   ]
  },
  {
   "cell_type": "code",
   "execution_count": 21,
   "id": "4093e875-c745-437c-9d15-0e6444c254ab",
   "metadata": {},
   "outputs": [
    {
     "data": {
      "text/plain": [
       "(6604020, 0)"
      ]
     },
     "execution_count": 21,
     "metadata": {},
     "output_type": "execute_result"
    }
   ],
   "source": [
    "df=tag_df[unique_labels].copy()\n",
    "#del(ohe_df)\n",
    "df.shape"
   ]
  },
  {
   "cell_type": "code",
   "execution_count": 24,
   "id": "e93bf5ef-2598-4f96-916f-b3748fa6f7e8",
   "metadata": {},
   "outputs": [],
   "source": [
    "#df.head()"
   ]
  },
  {
   "cell_type": "code",
   "execution_count": 27,
   "id": "152aa873-d61b-4d09-900d-18b6a1701103",
   "metadata": {},
   "outputs": [
    {
     "data": {
      "text/plain": [
       "Index(['.htaccess', '.net', '.net-3.5', '.net-4.0', '.net-core', '3d',\n",
       "       'access-vba', 'actionscript', 'actionscript-3', 'active-directory',\n",
       "       ...\n",
       "       'xsd', 'xslt', 'yaml', 'yii', 'yii2', 'youtube', 'youtube-api',\n",
       "       'zend-framework', 'zend-framework2', 'zip'],\n",
       "      dtype='object', length=4998)"
      ]
     },
     "execution_count": 27,
     "metadata": {},
     "output_type": "execute_result"
    }
   ],
   "source": [
    "tag_df.columns"
   ]
  },
  {
   "cell_type": "code",
   "execution_count": 30,
   "id": "69c5c244-46b5-4759-b342-f25de7e39022",
   "metadata": {},
   "outputs": [],
   "source": [
    "#tag_df['.htaccess']"
   ]
  },
  {
   "cell_type": "code",
   "execution_count": 31,
   "id": "a6f88990-55d0-41db-a71c-fd60e316b214",
   "metadata": {},
   "outputs": [],
   "source": [
    "#del splitted_list"
   ]
  },
  {
   "cell_type": "code",
   "execution_count": 43,
   "id": "9a62549c-813c-4c29-95ca-6fb02c1623af",
   "metadata": {},
   "outputs": [],
   "source": [
    "#test_1 = tag_df.iloc[:, : 100].groupby(axis = 'columns', level = 0).sum()"
   ]
  },
  {
   "cell_type": "code",
   "execution_count": null,
   "id": "c0bff11a-bf24-44d5-8fd7-a90328dc7625",
   "metadata": {},
   "outputs": [],
   "source": []
  },
  {
   "cell_type": "code",
   "execution_count": null,
   "id": "da89d712-2d3d-4332-8a6a-89672489547a",
   "metadata": {},
   "outputs": [
    {
     "name": "stdout",
     "output_type": "stream",
     "text": [
      "0\n",
      "10\n",
      "20\n",
      "30\n",
      "40\n",
      "50\n",
      "60\n",
      "70\n",
      "80\n",
      "90\n"
     ]
    },
    {
     "data": {
      "text/plain": [
       "(6604020, 100)"
      ]
     },
     "execution_count": 55,
     "metadata": {},
     "output_type": "execute_result"
    }
   ],
   "source": [
    "for num, label in enumerate(non_unique_labels[:100]):\n",
    "    if num % 10 == 0:\n",
    "        print(num)\n",
    "    if label != 'None' and label != None: \n",
    "        df[label] = tag_df[label].sum(axis=1)\n",
    "        df = df.copy()\n",
    "df.shape"
   ]
  },
  {
   "cell_type": "code",
   "execution_count": 87,
   "id": "6957d658-d47e-40fc-a058-bb25f29a4065",
   "metadata": {},
   "outputs": [],
   "source": [
    "df0 = pd.DataFrame()\n",
    "df1 = pd.DataFrame()\n",
    "df2 = pd.DataFrame()\n",
    "df3 = pd.DataFrame()\n",
    "df4 = pd.DataFrame()\n",
    "df5 = pd.DataFrame()\n",
    "df6 = pd.DataFrame()\n",
    "df7 = pd.DataFrame()\n",
    "df8 = pd.DataFrame()\n",
    "df9 = pd.DataFrame()"
   ]
  },
  {
   "cell_type": "code",
   "execution_count": 88,
   "id": "77093c36-b0e8-4840-bbe6-5e38c3844254",
   "metadata": {},
   "outputs": [],
   "source": [
    "frames = [df0, df1, df2, df3, df4, df5, df6, df7, df8, df9]\n",
    "intervals = [0, 500, 1000, 1500, 2000, 2500, 3000, 3500, 4000, 4500, len(tag_df.columns)]"
   ]
  },
  {
   "cell_type": "code",
   "execution_count": null,
   "id": "bc405f7d-d903-493a-a77b-0bebdff93bad",
   "metadata": {},
   "outputs": [
    {
     "name": "stdout",
     "output_type": "stream",
     "text": [
      "0\n"
     ]
    }
   ],
   "source": [
    "for i in range(len(frames)): \n",
    "    print(i)\n",
    "    for label in non_unique_labels[intervals[i]:intervals[i+1]]:\n",
    "        if label != 'None' and label != None: \n",
    "            frames[i][label] = tag_df[label].sum(axis=1)\n",
    "            frames[i] = frames[i].copy()\n",
    "    frames[i].to_csv(f'../data/intermediate_frames/df{i}.csv')  \n",
    "    del(frames[i])"
   ]
  },
  {
   "cell_type": "code",
   "execution_count": null,
   "id": "a89d0e03-15b1-40ab-b756-863df85a571c",
   "metadata": {},
   "outputs": [],
   "source": [
    "# read in frames\n",
    "frames = [df0, df1, df2, df3, df4, df5, df6, df7, df8, df9]\n",
    "df = pd.DataFrame()\n",
    "for num, frame in enumerate(frames): \n",
    "    intermed_df = pd.read_csv(f'../data/intermediate_frames/df{num}.csv')  \n",
    "    df = pd.concat([df, intermed_df], axis=1)\n",
    "    df = df.copy()"
   ]
  },
  {
   "cell_type": "code",
   "execution_count": null,
   "id": "d025867b-d747-40a6-96cc-0f966514a37d",
   "metadata": {},
   "outputs": [],
   "source": []
  },
  {
   "cell_type": "code",
   "execution_count": null,
   "id": "46761203-b419-4837-a91b-265975f6d2f1",
   "metadata": {},
   "outputs": [],
   "source": []
  },
  {
   "cell_type": "code",
   "execution_count": null,
   "id": "3a53c785-d380-4227-b44b-53d4557d7173",
   "metadata": {},
   "outputs": [],
   "source": [
    "result = pd.concat([df1, s1], axis=1)"
   ]
  },
  {
   "cell_type": "code",
   "execution_count": null,
   "id": "a34f0da7-f650-4b6c-bbe7-c9d4d6fc1ca9",
   "metadata": {},
   "outputs": [],
   "source": []
  },
  {
   "cell_type": "code",
   "execution_count": null,
   "id": "9c0507aa-bcd4-457b-9be3-021fa38561a6",
   "metadata": {},
   "outputs": [],
   "source": []
  },
  {
   "cell_type": "code",
   "execution_count": null,
   "id": "d74572b2-6662-4fc8-9f7d-075818ac4e8f",
   "metadata": {},
   "outputs": [],
   "source": []
  },
  {
   "cell_type": "code",
   "execution_count": null,
   "id": "b1289ecd-a1a7-4fee-a4bd-f2e14d093e44",
   "metadata": {},
   "outputs": [],
   "source": []
  },
  {
   "cell_type": "code",
   "execution_count": null,
   "id": "96687840-0fcb-48bc-9d4e-3f222170c04b",
   "metadata": {},
   "outputs": [],
   "source": []
  },
  {
   "cell_type": "code",
   "execution_count": null,
   "id": "2ef8a853-65c9-4e2e-a026-c3a45e5bb48f",
   "metadata": {},
   "outputs": [],
   "source": []
  },
  {
   "cell_type": "code",
   "execution_count": 35,
   "id": "127e3279-e789-440e-96f7-18b912373ff5",
   "metadata": {},
   "outputs": [
    {
     "data": {
      "text/html": [
       "<div>\n",
       "<style scoped>\n",
       "    .dataframe tbody tr th:only-of-type {\n",
       "        vertical-align: middle;\n",
       "    }\n",
       "\n",
       "    .dataframe tbody tr th {\n",
       "        vertical-align: top;\n",
       "    }\n",
       "\n",
       "    .dataframe thead th {\n",
       "        text-align: right;\n",
       "    }\n",
       "</style>\n",
       "<table border=\"1\" class=\"dataframe\">\n",
       "  <thead>\n",
       "    <tr style=\"text-align: right;\">\n",
       "      <th></th>\n",
       "      <th>.htaccess</th>\n",
       "      <th>.net</th>\n",
       "      <th>.net-3.5</th>\n",
       "      <th>.net-4.0</th>\n",
       "      <th>.net-core</th>\n",
       "      <th>3d</th>\n",
       "      <th>access-vba</th>\n",
       "      <th>actionscript</th>\n",
       "      <th>actionscript-3</th>\n",
       "      <th>active-directory</th>\n",
       "      <th>...</th>\n",
       "      <th>xsd</th>\n",
       "      <th>xslt</th>\n",
       "      <th>yaml</th>\n",
       "      <th>yii</th>\n",
       "      <th>yii2</th>\n",
       "      <th>youtube</th>\n",
       "      <th>youtube-api</th>\n",
       "      <th>zend-framework</th>\n",
       "      <th>zend-framework2</th>\n",
       "      <th>zip</th>\n",
       "    </tr>\n",
       "  </thead>\n",
       "  <tbody>\n",
       "    <tr>\n",
       "      <th>0</th>\n",
       "      <td>0</td>\n",
       "      <td>0</td>\n",
       "      <td>0</td>\n",
       "      <td>0</td>\n",
       "      <td>0</td>\n",
       "      <td>0</td>\n",
       "      <td>0</td>\n",
       "      <td>0</td>\n",
       "      <td>0</td>\n",
       "      <td>0</td>\n",
       "      <td>...</td>\n",
       "      <td>0</td>\n",
       "      <td>0</td>\n",
       "      <td>0</td>\n",
       "      <td>0</td>\n",
       "      <td>0</td>\n",
       "      <td>0</td>\n",
       "      <td>0</td>\n",
       "      <td>0</td>\n",
       "      <td>0</td>\n",
       "      <td>0</td>\n",
       "    </tr>\n",
       "    <tr>\n",
       "      <th>1</th>\n",
       "      <td>0</td>\n",
       "      <td>0</td>\n",
       "      <td>0</td>\n",
       "      <td>0</td>\n",
       "      <td>0</td>\n",
       "      <td>0</td>\n",
       "      <td>0</td>\n",
       "      <td>0</td>\n",
       "      <td>0</td>\n",
       "      <td>0</td>\n",
       "      <td>...</td>\n",
       "      <td>0</td>\n",
       "      <td>0</td>\n",
       "      <td>0</td>\n",
       "      <td>0</td>\n",
       "      <td>0</td>\n",
       "      <td>0</td>\n",
       "      <td>0</td>\n",
       "      <td>0</td>\n",
       "      <td>0</td>\n",
       "      <td>0</td>\n",
       "    </tr>\n",
       "    <tr>\n",
       "      <th>2</th>\n",
       "      <td>0</td>\n",
       "      <td>0</td>\n",
       "      <td>0</td>\n",
       "      <td>0</td>\n",
       "      <td>0</td>\n",
       "      <td>0</td>\n",
       "      <td>0</td>\n",
       "      <td>0</td>\n",
       "      <td>0</td>\n",
       "      <td>0</td>\n",
       "      <td>...</td>\n",
       "      <td>0</td>\n",
       "      <td>0</td>\n",
       "      <td>0</td>\n",
       "      <td>0</td>\n",
       "      <td>0</td>\n",
       "      <td>0</td>\n",
       "      <td>0</td>\n",
       "      <td>0</td>\n",
       "      <td>0</td>\n",
       "      <td>0</td>\n",
       "    </tr>\n",
       "    <tr>\n",
       "      <th>3</th>\n",
       "      <td>0</td>\n",
       "      <td>0</td>\n",
       "      <td>0</td>\n",
       "      <td>0</td>\n",
       "      <td>0</td>\n",
       "      <td>0</td>\n",
       "      <td>0</td>\n",
       "      <td>0</td>\n",
       "      <td>0</td>\n",
       "      <td>0</td>\n",
       "      <td>...</td>\n",
       "      <td>0</td>\n",
       "      <td>0</td>\n",
       "      <td>0</td>\n",
       "      <td>0</td>\n",
       "      <td>0</td>\n",
       "      <td>0</td>\n",
       "      <td>0</td>\n",
       "      <td>0</td>\n",
       "      <td>0</td>\n",
       "      <td>0</td>\n",
       "    </tr>\n",
       "    <tr>\n",
       "      <th>4</th>\n",
       "      <td>0</td>\n",
       "      <td>0</td>\n",
       "      <td>0</td>\n",
       "      <td>0</td>\n",
       "      <td>0</td>\n",
       "      <td>0</td>\n",
       "      <td>0</td>\n",
       "      <td>0</td>\n",
       "      <td>0</td>\n",
       "      <td>0</td>\n",
       "      <td>...</td>\n",
       "      <td>0</td>\n",
       "      <td>0</td>\n",
       "      <td>0</td>\n",
       "      <td>0</td>\n",
       "      <td>0</td>\n",
       "      <td>0</td>\n",
       "      <td>0</td>\n",
       "      <td>0</td>\n",
       "      <td>0</td>\n",
       "      <td>0</td>\n",
       "    </tr>\n",
       "    <tr>\n",
       "      <th>...</th>\n",
       "      <td>...</td>\n",
       "      <td>...</td>\n",
       "      <td>...</td>\n",
       "      <td>...</td>\n",
       "      <td>...</td>\n",
       "      <td>...</td>\n",
       "      <td>...</td>\n",
       "      <td>...</td>\n",
       "      <td>...</td>\n",
       "      <td>...</td>\n",
       "      <td>...</td>\n",
       "      <td>...</td>\n",
       "      <td>...</td>\n",
       "      <td>...</td>\n",
       "      <td>...</td>\n",
       "      <td>...</td>\n",
       "      <td>...</td>\n",
       "      <td>...</td>\n",
       "      <td>...</td>\n",
       "      <td>...</td>\n",
       "      <td>...</td>\n",
       "    </tr>\n",
       "    <tr>\n",
       "      <th>6604015</th>\n",
       "      <td>0</td>\n",
       "      <td>0</td>\n",
       "      <td>0</td>\n",
       "      <td>0</td>\n",
       "      <td>0</td>\n",
       "      <td>0</td>\n",
       "      <td>0</td>\n",
       "      <td>0</td>\n",
       "      <td>0</td>\n",
       "      <td>0</td>\n",
       "      <td>...</td>\n",
       "      <td>0</td>\n",
       "      <td>0</td>\n",
       "      <td>0</td>\n",
       "      <td>0</td>\n",
       "      <td>0</td>\n",
       "      <td>0</td>\n",
       "      <td>0</td>\n",
       "      <td>0</td>\n",
       "      <td>0</td>\n",
       "      <td>0</td>\n",
       "    </tr>\n",
       "    <tr>\n",
       "      <th>6604016</th>\n",
       "      <td>0</td>\n",
       "      <td>0</td>\n",
       "      <td>0</td>\n",
       "      <td>0</td>\n",
       "      <td>0</td>\n",
       "      <td>0</td>\n",
       "      <td>0</td>\n",
       "      <td>0</td>\n",
       "      <td>0</td>\n",
       "      <td>0</td>\n",
       "      <td>...</td>\n",
       "      <td>0</td>\n",
       "      <td>0</td>\n",
       "      <td>0</td>\n",
       "      <td>0</td>\n",
       "      <td>0</td>\n",
       "      <td>0</td>\n",
       "      <td>0</td>\n",
       "      <td>0</td>\n",
       "      <td>0</td>\n",
       "      <td>0</td>\n",
       "    </tr>\n",
       "    <tr>\n",
       "      <th>6604017</th>\n",
       "      <td>0</td>\n",
       "      <td>0</td>\n",
       "      <td>0</td>\n",
       "      <td>0</td>\n",
       "      <td>0</td>\n",
       "      <td>0</td>\n",
       "      <td>0</td>\n",
       "      <td>0</td>\n",
       "      <td>0</td>\n",
       "      <td>0</td>\n",
       "      <td>...</td>\n",
       "      <td>0</td>\n",
       "      <td>0</td>\n",
       "      <td>0</td>\n",
       "      <td>0</td>\n",
       "      <td>0</td>\n",
       "      <td>0</td>\n",
       "      <td>0</td>\n",
       "      <td>0</td>\n",
       "      <td>0</td>\n",
       "      <td>0</td>\n",
       "    </tr>\n",
       "    <tr>\n",
       "      <th>6604018</th>\n",
       "      <td>0</td>\n",
       "      <td>0</td>\n",
       "      <td>0</td>\n",
       "      <td>0</td>\n",
       "      <td>0</td>\n",
       "      <td>0</td>\n",
       "      <td>0</td>\n",
       "      <td>0</td>\n",
       "      <td>0</td>\n",
       "      <td>0</td>\n",
       "      <td>...</td>\n",
       "      <td>0</td>\n",
       "      <td>0</td>\n",
       "      <td>0</td>\n",
       "      <td>0</td>\n",
       "      <td>0</td>\n",
       "      <td>0</td>\n",
       "      <td>0</td>\n",
       "      <td>0</td>\n",
       "      <td>0</td>\n",
       "      <td>0</td>\n",
       "    </tr>\n",
       "    <tr>\n",
       "      <th>6604019</th>\n",
       "      <td>0</td>\n",
       "      <td>0</td>\n",
       "      <td>0</td>\n",
       "      <td>0</td>\n",
       "      <td>0</td>\n",
       "      <td>0</td>\n",
       "      <td>0</td>\n",
       "      <td>0</td>\n",
       "      <td>0</td>\n",
       "      <td>0</td>\n",
       "      <td>...</td>\n",
       "      <td>0</td>\n",
       "      <td>0</td>\n",
       "      <td>0</td>\n",
       "      <td>0</td>\n",
       "      <td>0</td>\n",
       "      <td>0</td>\n",
       "      <td>0</td>\n",
       "      <td>0</td>\n",
       "      <td>0</td>\n",
       "      <td>0</td>\n",
       "    </tr>\n",
       "  </tbody>\n",
       "</table>\n",
       "<p>6604020 rows × 4998 columns</p>\n",
       "</div>"
      ],
      "text/plain": [
       "         .htaccess  .net  .net-3.5  .net-4.0  .net-core  3d  access-vba  \\\n",
       "0                0     0         0         0          0   0           0   \n",
       "1                0     0         0         0          0   0           0   \n",
       "2                0     0         0         0          0   0           0   \n",
       "3                0     0         0         0          0   0           0   \n",
       "4                0     0         0         0          0   0           0   \n",
       "...            ...   ...       ...       ...        ...  ..         ...   \n",
       "6604015          0     0         0         0          0   0           0   \n",
       "6604016          0     0         0         0          0   0           0   \n",
       "6604017          0     0         0         0          0   0           0   \n",
       "6604018          0     0         0         0          0   0           0   \n",
       "6604019          0     0         0         0          0   0           0   \n",
       "\n",
       "         actionscript  actionscript-3  active-directory  ...  xsd  xslt  yaml  \\\n",
       "0                   0               0                 0  ...    0     0     0   \n",
       "1                   0               0                 0  ...    0     0     0   \n",
       "2                   0               0                 0  ...    0     0     0   \n",
       "3                   0               0                 0  ...    0     0     0   \n",
       "4                   0               0                 0  ...    0     0     0   \n",
       "...               ...             ...               ...  ...  ...   ...   ...   \n",
       "6604015             0               0                 0  ...    0     0     0   \n",
       "6604016             0               0                 0  ...    0     0     0   \n",
       "6604017             0               0                 0  ...    0     0     0   \n",
       "6604018             0               0                 0  ...    0     0     0   \n",
       "6604019             0               0                 0  ...    0     0     0   \n",
       "\n",
       "         yii  yii2  youtube  youtube-api  zend-framework  zend-framework2  zip  \n",
       "0          0     0        0            0               0                0    0  \n",
       "1          0     0        0            0               0                0    0  \n",
       "2          0     0        0            0               0                0    0  \n",
       "3          0     0        0            0               0                0    0  \n",
       "4          0     0        0            0               0                0    0  \n",
       "...      ...   ...      ...          ...             ...              ...  ...  \n",
       "6604015    0     0        0            0               0                0    0  \n",
       "6604016    0     0        0            0               0                0    0  \n",
       "6604017    0     0        0            0               0                0    0  \n",
       "6604018    0     0        0            0               0                0    0  \n",
       "6604019    0     0        0            0               0                0    0  \n",
       "\n",
       "[6604020 rows x 4998 columns]"
      ]
     },
     "execution_count": 35,
     "metadata": {},
     "output_type": "execute_result"
    }
   ],
   "source": [
    "tag_df"
   ]
  },
  {
   "cell_type": "code",
   "execution_count": null,
   "id": "9172b040-2c2b-46c5-9471-e134098209e6",
   "metadata": {},
   "outputs": [],
   "source": []
  },
  {
   "cell_type": "code",
   "execution_count": null,
   "id": "d2716146-e7ba-4c6b-8c18-bdc540bb7bed",
   "metadata": {},
   "outputs": [],
   "source": []
  },
  {
   "cell_type": "code",
   "execution_count": null,
   "id": "a33c04a1-cde1-4671-a111-ebc02f86fccc",
   "metadata": {},
   "outputs": [],
   "source": []
  },
  {
   "cell_type": "code",
   "execution_count": null,
   "id": "6c96c986-a423-4f37-9612-a25b3ee9fc31",
   "metadata": {},
   "outputs": [],
   "source": []
  },
  {
   "cell_type": "code",
   "execution_count": null,
   "id": "c3b45212-ec8a-4600-a738-de3ec4dafdb1",
   "metadata": {},
   "outputs": [],
   "source": []
  },
  {
   "cell_type": "code",
   "execution_count": null,
   "id": "3b046d8e-107a-438f-b1fd-436e77e2c731",
   "metadata": {},
   "outputs": [],
   "source": []
  },
  {
   "cell_type": "code",
   "execution_count": null,
   "id": "566ebb83-c7f3-4027-9f5e-6a330b2f439d",
   "metadata": {},
   "outputs": [],
   "source": []
  },
  {
   "cell_type": "raw",
   "id": "6abf0b8b-14eb-4592-a374-36869204df85",
   "metadata": {},
   "source": [
    "# This kills the kernel\n",
    "for label in non_unique_labels:\n",
    "    if label != 'None' and label != None: \n",
    "        df[label] = tag_df[label].sum(axis=1)\n",
    "        df = df.copy()\n",
    "df.shape"
   ]
  },
  {
   "cell_type": "code",
   "execution_count": null,
   "id": "224fc89e-fac3-491e-a4e9-8f827f15ccfc",
   "metadata": {},
   "outputs": [],
   "source": [
    "tag_df_asint = df.astype(int)\n",
    "coocc = tag_df_asint.T.dot(tag_df_asint)\n",
    "np.fill_diagonal(coocc.values, 0)\n",
    "coocc.head()"
   ]
  },
  {
   "cell_type": "code",
   "execution_count": null,
   "id": "e064882d-0947-42eb-86f4-9beb4dff2495",
   "metadata": {},
   "outputs": [],
   "source": [
    "coocc.shape"
   ]
  },
  {
   "cell_type": "code",
   "execution_count": null,
   "id": "af06ac3b-a3e5-4ce2-bda1-e3c8f71319f8",
   "metadata": {},
   "outputs": [],
   "source": [
    "# cooccurence matrix to dictionary\n",
    "coocc_dic = coocc.to_dict()"
   ]
  },
  {
   "cell_type": "code",
   "execution_count": null,
   "id": "618d132a-1712-4596-b7c3-6fe51f0ed91b",
   "metadata": {},
   "outputs": [],
   "source": [
    "# create dataframe represnting a network\n",
    "tag1_ls = []\n",
    "frames = []\n",
    "\n",
    "for tag1, tag_dic in coocc_dic.items():\n",
    "    tag1_ls.append(tag1)\n",
    "    frames.append(pd.DataFrame.from_dict(tag_dic, orient='index'))\n",
    "\n",
    "network_df = pd.concat(frames, keys=tag1_ls)\n",
    "network_df = network_df.reset_index().rename(columns = {\"level_0\" : \"tag1\", \"level_1\" : \"tag2\", 0: \"cooccurence\"})"
   ]
  },
  {
   "cell_type": "code",
   "execution_count": null,
   "id": "be95d932-fddf-4a15-b097-a0dc845b5c21",
   "metadata": {},
   "outputs": [],
   "source": [
    "network_df[network_df[\"cooccurence\"] > 10].head(10)"
   ]
  },
  {
   "cell_type": "code",
   "execution_count": null,
   "id": "4da22414-58ad-48e5-89f8-1ae4963928a0",
   "metadata": {},
   "outputs": [],
   "source": [
    "network_df.shape"
   ]
  },
  {
   "cell_type": "code",
   "execution_count": null,
   "id": "79b02fc8-475c-4f06-af1c-c454e9a12fa7",
   "metadata": {},
   "outputs": [],
   "source": [
    "network_df.to_csv(path_or_buf=\"../data/undirected_stackoverflow_network_from_raw_data.csv\", sep='\\t')"
   ]
  },
  {
   "cell_type": "code",
   "execution_count": null,
   "id": "2e6397d7-644a-4af0-a9de-92a2084487d5",
   "metadata": {},
   "outputs": [],
   "source": [
    "unique_labels"
   ]
  },
  {
   "cell_type": "code",
   "execution_count": null,
   "id": "8630f039-ece4-43c1-9b30-c37765730650",
   "metadata": {},
   "outputs": [],
   "source": []
  },
  {
   "cell_type": "code",
   "execution_count": null,
   "id": "31394491-48ef-420a-be90-dc03d1e710a9",
   "metadata": {},
   "outputs": [],
   "source": []
  },
  {
   "cell_type": "code",
   "execution_count": null,
   "id": "22383a9e-6a03-4ddf-ae4c-2b6a2fd72ffa",
   "metadata": {},
   "outputs": [],
   "source": []
  },
  {
   "cell_type": "code",
   "execution_count": null,
   "id": "5b405dfd-7fe3-49ba-88e8-ed0448e99959",
   "metadata": {},
   "outputs": [],
   "source": []
  },
  {
   "cell_type": "code",
   "execution_count": 206,
   "id": "e3ae8be1-0dbe-430d-af63-81ac2446781e",
   "metadata": {},
   "outputs": [],
   "source": [
    "#tag_df.to_csv(path_or_buf=\"../data/tag_df_dummies.csv\")"
   ]
  },
  {
   "cell_type": "code",
   "execution_count": 207,
   "id": "982324d2-ec24-402c-9226-ca3651fd9730",
   "metadata": {
    "collapsed": true,
    "jupyter": {
     "outputs_hidden": true
    },
    "tags": []
   },
   "outputs": [
    {
     "ename": "KeyboardInterrupt",
     "evalue": "",
     "output_type": "error",
     "traceback": [
      "\u001b[0;31m---------------------------------------------------------------------------\u001b[0m",
      "\u001b[0;31mNotImplementedError\u001b[0m                       Traceback (most recent call last)",
      "File \u001b[0;32m~/opt/anaconda3/envs/spatial_inequ/lib/python3.10/site-packages/pandas/core/groupby/groupby.py:1578\u001b[0m, in \u001b[0;36mGroupBy._cython_agg_general.<locals>.array_func\u001b[0;34m(values)\u001b[0m\n\u001b[1;32m   1577\u001b[0m \u001b[38;5;28;01mtry\u001b[39;00m:\n\u001b[0;32m-> 1578\u001b[0m     result \u001b[38;5;241m=\u001b[39m \u001b[38;5;28;43mself\u001b[39;49m\u001b[38;5;241;43m.\u001b[39;49m\u001b[43mgrouper\u001b[49m\u001b[38;5;241;43m.\u001b[39;49m\u001b[43m_cython_operation\u001b[49m\u001b[43m(\u001b[49m\n\u001b[1;32m   1579\u001b[0m \u001b[43m        \u001b[49m\u001b[38;5;124;43m\"\u001b[39;49m\u001b[38;5;124;43maggregate\u001b[39;49m\u001b[38;5;124;43m\"\u001b[39;49m\u001b[43m,\u001b[49m\u001b[43m \u001b[49m\u001b[43mvalues\u001b[49m\u001b[43m,\u001b[49m\u001b[43m \u001b[49m\u001b[43mhow\u001b[49m\u001b[43m,\u001b[49m\u001b[43m \u001b[49m\u001b[43maxis\u001b[49m\u001b[38;5;241;43m=\u001b[39;49m\u001b[43mdata\u001b[49m\u001b[38;5;241;43m.\u001b[39;49m\u001b[43mndim\u001b[49m\u001b[43m \u001b[49m\u001b[38;5;241;43m-\u001b[39;49m\u001b[43m \u001b[49m\u001b[38;5;241;43m1\u001b[39;49m\u001b[43m,\u001b[49m\u001b[43m \u001b[49m\u001b[43mmin_count\u001b[49m\u001b[38;5;241;43m=\u001b[39;49m\u001b[43mmin_count\u001b[49m\n\u001b[1;32m   1580\u001b[0m \u001b[43m    \u001b[49m\u001b[43m)\u001b[49m\n\u001b[1;32m   1581\u001b[0m \u001b[38;5;28;01mexcept\u001b[39;00m \u001b[38;5;167;01mNotImplementedError\u001b[39;00m:\n\u001b[1;32m   1582\u001b[0m     \u001b[38;5;66;03m# generally if we have numeric_only=False\u001b[39;00m\n\u001b[1;32m   1583\u001b[0m     \u001b[38;5;66;03m# and non-applicable functions\u001b[39;00m\n\u001b[1;32m   1584\u001b[0m     \u001b[38;5;66;03m# try to python agg\u001b[39;00m\n\u001b[1;32m   1585\u001b[0m     \u001b[38;5;66;03m# TODO: shouldn't min_count matter?\u001b[39;00m\n",
      "File \u001b[0;32m~/opt/anaconda3/envs/spatial_inequ/lib/python3.10/site-packages/pandas/core/groupby/ops.py:939\u001b[0m, in \u001b[0;36mBaseGrouper._cython_operation\u001b[0;34m(self, kind, values, how, axis, min_count, **kwargs)\u001b[0m\n\u001b[1;32m    938\u001b[0m ngroups \u001b[38;5;241m=\u001b[39m \u001b[38;5;28mself\u001b[39m\u001b[38;5;241m.\u001b[39mngroups\n\u001b[0;32m--> 939\u001b[0m \u001b[38;5;28;01mreturn\u001b[39;00m \u001b[43mcy_op\u001b[49m\u001b[38;5;241;43m.\u001b[39;49m\u001b[43mcython_operation\u001b[49m\u001b[43m(\u001b[49m\n\u001b[1;32m    940\u001b[0m \u001b[43m    \u001b[49m\u001b[43mvalues\u001b[49m\u001b[38;5;241;43m=\u001b[39;49m\u001b[43mvalues\u001b[49m\u001b[43m,\u001b[49m\n\u001b[1;32m    941\u001b[0m \u001b[43m    \u001b[49m\u001b[43maxis\u001b[49m\u001b[38;5;241;43m=\u001b[39;49m\u001b[43maxis\u001b[49m\u001b[43m,\u001b[49m\n\u001b[1;32m    942\u001b[0m \u001b[43m    \u001b[49m\u001b[43mmin_count\u001b[49m\u001b[38;5;241;43m=\u001b[39;49m\u001b[43mmin_count\u001b[49m\u001b[43m,\u001b[49m\n\u001b[1;32m    943\u001b[0m \u001b[43m    \u001b[49m\u001b[43mcomp_ids\u001b[49m\u001b[38;5;241;43m=\u001b[39;49m\u001b[43mids\u001b[49m\u001b[43m,\u001b[49m\n\u001b[1;32m    944\u001b[0m \u001b[43m    \u001b[49m\u001b[43mngroups\u001b[49m\u001b[38;5;241;43m=\u001b[39;49m\u001b[43mngroups\u001b[49m\u001b[43m,\u001b[49m\n\u001b[1;32m    945\u001b[0m \u001b[43m    \u001b[49m\u001b[38;5;241;43m*\u001b[39;49m\u001b[38;5;241;43m*\u001b[39;49m\u001b[43mkwargs\u001b[49m\u001b[43m,\u001b[49m\n\u001b[1;32m    946\u001b[0m \u001b[43m\u001b[49m\u001b[43m)\u001b[49m\n",
      "File \u001b[0;32m~/opt/anaconda3/envs/spatial_inequ/lib/python3.10/site-packages/pandas/core/groupby/ops.py:618\u001b[0m, in \u001b[0;36mWrappedCythonOp.cython_operation\u001b[0;34m(self, values, axis, min_count, comp_ids, ngroups, **kwargs)\u001b[0m\n\u001b[1;32m    616\u001b[0m \u001b[38;5;28;01mif\u001b[39;00m \u001b[38;5;129;01mnot\u001b[39;00m \u001b[38;5;28misinstance\u001b[39m(values, np\u001b[38;5;241m.\u001b[39mndarray):\n\u001b[1;32m    617\u001b[0m     \u001b[38;5;66;03m# i.e. ExtensionArray\u001b[39;00m\n\u001b[0;32m--> 618\u001b[0m     \u001b[38;5;28;01mreturn\u001b[39;00m \u001b[38;5;28;43mself\u001b[39;49m\u001b[38;5;241;43m.\u001b[39;49m\u001b[43m_ea_wrap_cython_operation\u001b[49m\u001b[43m(\u001b[49m\n\u001b[1;32m    619\u001b[0m \u001b[43m        \u001b[49m\u001b[43mvalues\u001b[49m\u001b[43m,\u001b[49m\n\u001b[1;32m    620\u001b[0m \u001b[43m        \u001b[49m\u001b[43mmin_count\u001b[49m\u001b[38;5;241;43m=\u001b[39;49m\u001b[43mmin_count\u001b[49m\u001b[43m,\u001b[49m\n\u001b[1;32m    621\u001b[0m \u001b[43m        \u001b[49m\u001b[43mngroups\u001b[49m\u001b[38;5;241;43m=\u001b[39;49m\u001b[43mngroups\u001b[49m\u001b[43m,\u001b[49m\n\u001b[1;32m    622\u001b[0m \u001b[43m        \u001b[49m\u001b[43mcomp_ids\u001b[49m\u001b[38;5;241;43m=\u001b[39;49m\u001b[43mcomp_ids\u001b[49m\u001b[43m,\u001b[49m\n\u001b[1;32m    623\u001b[0m \u001b[43m        \u001b[49m\u001b[38;5;241;43m*\u001b[39;49m\u001b[38;5;241;43m*\u001b[39;49m\u001b[43mkwargs\u001b[49m\u001b[43m,\u001b[49m\n\u001b[1;32m    624\u001b[0m \u001b[43m    \u001b[49m\u001b[43m)\u001b[49m\n\u001b[1;32m    626\u001b[0m \u001b[38;5;28;01mreturn\u001b[39;00m \u001b[38;5;28mself\u001b[39m\u001b[38;5;241m.\u001b[39m_cython_op_ndim_compat(\n\u001b[1;32m    627\u001b[0m     values,\n\u001b[1;32m    628\u001b[0m     min_count\u001b[38;5;241m=\u001b[39mmin_count,\n\u001b[0;32m   (...)\u001b[0m\n\u001b[1;32m    632\u001b[0m     \u001b[38;5;241m*\u001b[39m\u001b[38;5;241m*\u001b[39mkwargs,\n\u001b[1;32m    633\u001b[0m )\n",
      "File \u001b[0;32m~/opt/anaconda3/envs/spatial_inequ/lib/python3.10/site-packages/pandas/core/groupby/ops.py:354\u001b[0m, in \u001b[0;36mWrappedCythonOp._ea_wrap_cython_operation\u001b[0;34m(self, values, min_count, ngroups, comp_ids, **kwargs)\u001b[0m\n\u001b[1;32m    353\u001b[0m \u001b[38;5;28;01melse\u001b[39;00m:\n\u001b[0;32m--> 354\u001b[0m     \u001b[38;5;28;01mraise\u001b[39;00m \u001b[38;5;167;01mNotImplementedError\u001b[39;00m(\n\u001b[1;32m    355\u001b[0m         \u001b[38;5;124mf\u001b[39m\u001b[38;5;124m\"\u001b[39m\u001b[38;5;124mfunction is not implemented for this dtype: \u001b[39m\u001b[38;5;132;01m{\u001b[39;00mvalues\u001b[38;5;241m.\u001b[39mdtype\u001b[38;5;132;01m}\u001b[39;00m\u001b[38;5;124m\"\u001b[39m\n\u001b[1;32m    356\u001b[0m     )\n\u001b[1;32m    358\u001b[0m res_values \u001b[38;5;241m=\u001b[39m \u001b[38;5;28mself\u001b[39m\u001b[38;5;241m.\u001b[39m_cython_op_ndim_compat(\n\u001b[1;32m    359\u001b[0m     npvalues,\n\u001b[1;32m    360\u001b[0m     min_count\u001b[38;5;241m=\u001b[39mmin_count,\n\u001b[0;32m   (...)\u001b[0m\n\u001b[1;32m    364\u001b[0m     \u001b[38;5;241m*\u001b[39m\u001b[38;5;241m*\u001b[39mkwargs,\n\u001b[1;32m    365\u001b[0m )\n",
      "\u001b[0;31mNotImplementedError\u001b[0m: function is not implemented for this dtype: Sparse[uint8, 0]",
      "\nDuring handling of the above exception, another exception occurred:\n",
      "\u001b[0;31mKeyboardInterrupt\u001b[0m                         Traceback (most recent call last)",
      "Input \u001b[0;32mIn [207]\u001b[0m, in \u001b[0;36m<cell line: 1>\u001b[0;34m()\u001b[0m\n\u001b[0;32m----> 1\u001b[0m tag_df \u001b[38;5;241m=\u001b[39m \u001b[43mtag_df\u001b[49m\u001b[38;5;241;43m.\u001b[39;49m\u001b[43mgroupby\u001b[49m\u001b[43m(\u001b[49m\u001b[43mlevel\u001b[49m\u001b[38;5;241;43m=\u001b[39;49m\u001b[38;5;241;43m0\u001b[39;49m\u001b[43m,\u001b[49m\u001b[43m \u001b[49m\u001b[43maxis\u001b[49m\u001b[38;5;241;43m=\u001b[39;49m\u001b[38;5;241;43m1\u001b[39;49m\u001b[43m)\u001b[49m\u001b[38;5;241;43m.\u001b[39;49m\u001b[43msum\u001b[49m\u001b[43m(\u001b[49m\u001b[43m)\u001b[49m\n",
      "File \u001b[0;32m~/opt/anaconda3/envs/spatial_inequ/lib/python3.10/site-packages/pandas/core/groupby/groupby.py:2189\u001b[0m, in \u001b[0;36mGroupBy.sum\u001b[0;34m(self, numeric_only, min_count, engine, engine_kwargs)\u001b[0m\n\u001b[1;32m   2185\u001b[0m \u001b[38;5;66;03m# If we are grouping on categoricals we want unobserved categories to\u001b[39;00m\n\u001b[1;32m   2186\u001b[0m \u001b[38;5;66;03m# return zero, rather than the default of NaN which the reindexing in\u001b[39;00m\n\u001b[1;32m   2187\u001b[0m \u001b[38;5;66;03m# _agg_general() returns. GH #31422\u001b[39;00m\n\u001b[1;32m   2188\u001b[0m \u001b[38;5;28;01mwith\u001b[39;00m com\u001b[38;5;241m.\u001b[39mtemp_setattr(\u001b[38;5;28mself\u001b[39m, \u001b[38;5;124m\"\u001b[39m\u001b[38;5;124mobserved\u001b[39m\u001b[38;5;124m\"\u001b[39m, \u001b[38;5;28;01mTrue\u001b[39;00m):\n\u001b[0;32m-> 2189\u001b[0m     result \u001b[38;5;241m=\u001b[39m \u001b[38;5;28;43mself\u001b[39;49m\u001b[38;5;241;43m.\u001b[39;49m\u001b[43m_agg_general\u001b[49m\u001b[43m(\u001b[49m\n\u001b[1;32m   2190\u001b[0m \u001b[43m        \u001b[49m\u001b[43mnumeric_only\u001b[49m\u001b[38;5;241;43m=\u001b[39;49m\u001b[43mnumeric_only\u001b[49m\u001b[43m,\u001b[49m\n\u001b[1;32m   2191\u001b[0m \u001b[43m        \u001b[49m\u001b[43mmin_count\u001b[49m\u001b[38;5;241;43m=\u001b[39;49m\u001b[43mmin_count\u001b[49m\u001b[43m,\u001b[49m\n\u001b[1;32m   2192\u001b[0m \u001b[43m        \u001b[49m\u001b[43malias\u001b[49m\u001b[38;5;241;43m=\u001b[39;49m\u001b[38;5;124;43m\"\u001b[39;49m\u001b[38;5;124;43madd\u001b[39;49m\u001b[38;5;124;43m\"\u001b[39;49m\u001b[43m,\u001b[49m\n\u001b[1;32m   2193\u001b[0m \u001b[43m        \u001b[49m\u001b[43mnpfunc\u001b[49m\u001b[38;5;241;43m=\u001b[39;49m\u001b[43mnp\u001b[49m\u001b[38;5;241;43m.\u001b[39;49m\u001b[43msum\u001b[49m\u001b[43m,\u001b[49m\n\u001b[1;32m   2194\u001b[0m \u001b[43m    \u001b[49m\u001b[43m)\u001b[49m\n\u001b[1;32m   2196\u001b[0m \u001b[38;5;28;01mreturn\u001b[39;00m \u001b[38;5;28mself\u001b[39m\u001b[38;5;241m.\u001b[39m_reindex_output(result, fill_value\u001b[38;5;241m=\u001b[39m\u001b[38;5;241m0\u001b[39m)\n",
      "File \u001b[0;32m~/opt/anaconda3/envs/spatial_inequ/lib/python3.10/site-packages/pandas/core/groupby/groupby.py:1506\u001b[0m, in \u001b[0;36mGroupBy._agg_general\u001b[0;34m(self, numeric_only, min_count, alias, npfunc)\u001b[0m\n\u001b[1;32m   1494\u001b[0m \u001b[38;5;129m@final\u001b[39m\n\u001b[1;32m   1495\u001b[0m \u001b[38;5;28;01mdef\u001b[39;00m \u001b[38;5;21m_agg_general\u001b[39m(\n\u001b[1;32m   1496\u001b[0m     \u001b[38;5;28mself\u001b[39m,\n\u001b[0;32m   (...)\u001b[0m\n\u001b[1;32m   1501\u001b[0m     npfunc: Callable,\n\u001b[1;32m   1502\u001b[0m ):\n\u001b[1;32m   1504\u001b[0m     \u001b[38;5;28;01mwith\u001b[39;00m \u001b[38;5;28mself\u001b[39m\u001b[38;5;241m.\u001b[39m_group_selection_context():\n\u001b[1;32m   1505\u001b[0m         \u001b[38;5;66;03m# try a cython aggregation if we can\u001b[39;00m\n\u001b[0;32m-> 1506\u001b[0m         result \u001b[38;5;241m=\u001b[39m \u001b[38;5;28;43mself\u001b[39;49m\u001b[38;5;241;43m.\u001b[39;49m\u001b[43m_cython_agg_general\u001b[49m\u001b[43m(\u001b[49m\n\u001b[1;32m   1507\u001b[0m \u001b[43m            \u001b[49m\u001b[43mhow\u001b[49m\u001b[38;5;241;43m=\u001b[39;49m\u001b[43malias\u001b[49m\u001b[43m,\u001b[49m\n\u001b[1;32m   1508\u001b[0m \u001b[43m            \u001b[49m\u001b[43malt\u001b[49m\u001b[38;5;241;43m=\u001b[39;49m\u001b[43mnpfunc\u001b[49m\u001b[43m,\u001b[49m\n\u001b[1;32m   1509\u001b[0m \u001b[43m            \u001b[49m\u001b[43mnumeric_only\u001b[49m\u001b[38;5;241;43m=\u001b[39;49m\u001b[43mnumeric_only\u001b[49m\u001b[43m,\u001b[49m\n\u001b[1;32m   1510\u001b[0m \u001b[43m            \u001b[49m\u001b[43mmin_count\u001b[49m\u001b[38;5;241;43m=\u001b[39;49m\u001b[43mmin_count\u001b[49m\u001b[43m,\u001b[49m\n\u001b[1;32m   1511\u001b[0m \u001b[43m        \u001b[49m\u001b[43m)\u001b[49m\n\u001b[1;32m   1512\u001b[0m         \u001b[38;5;28;01mreturn\u001b[39;00m result\u001b[38;5;241m.\u001b[39m__finalize__(\u001b[38;5;28mself\u001b[39m\u001b[38;5;241m.\u001b[39mobj, method\u001b[38;5;241m=\u001b[39m\u001b[38;5;124m\"\u001b[39m\u001b[38;5;124mgroupby\u001b[39m\u001b[38;5;124m\"\u001b[39m)\n",
      "File \u001b[0;32m~/opt/anaconda3/envs/spatial_inequ/lib/python3.10/site-packages/pandas/core/groupby/groupby.py:1592\u001b[0m, in \u001b[0;36mGroupBy._cython_agg_general\u001b[0;34m(self, how, alt, numeric_only, min_count)\u001b[0m\n\u001b[1;32m   1588\u001b[0m     \u001b[38;5;28;01mreturn\u001b[39;00m result\n\u001b[1;32m   1590\u001b[0m \u001b[38;5;66;03m# TypeError -> we may have an exception in trying to aggregate\u001b[39;00m\n\u001b[1;32m   1591\u001b[0m \u001b[38;5;66;03m#  continue and exclude the block\u001b[39;00m\n\u001b[0;32m-> 1592\u001b[0m new_mgr \u001b[38;5;241m=\u001b[39m \u001b[43mdata\u001b[49m\u001b[38;5;241;43m.\u001b[39;49m\u001b[43mgrouped_reduce\u001b[49m\u001b[43m(\u001b[49m\u001b[43marray_func\u001b[49m\u001b[43m,\u001b[49m\u001b[43m \u001b[49m\u001b[43mignore_failures\u001b[49m\u001b[38;5;241;43m=\u001b[39;49m\u001b[38;5;28;43;01mTrue\u001b[39;49;00m\u001b[43m)\u001b[49m\n\u001b[1;32m   1594\u001b[0m \u001b[38;5;28;01mif\u001b[39;00m \u001b[38;5;129;01mnot\u001b[39;00m is_ser \u001b[38;5;129;01mand\u001b[39;00m \u001b[38;5;28mlen\u001b[39m(new_mgr) \u001b[38;5;241m<\u001b[39m \u001b[38;5;28mlen\u001b[39m(data):\n\u001b[1;32m   1595\u001b[0m     warn_dropping_nuisance_columns_deprecated(\u001b[38;5;28mtype\u001b[39m(\u001b[38;5;28mself\u001b[39m), how)\n",
      "File \u001b[0;32m~/opt/anaconda3/envs/spatial_inequ/lib/python3.10/site-packages/pandas/core/internals/managers.py:1347\u001b[0m, in \u001b[0;36mBlockManager.grouped_reduce\u001b[0;34m(self, func, ignore_failures)\u001b[0m\n\u001b[1;32m   1345\u001b[0m \u001b[38;5;28;01melse\u001b[39;00m:\n\u001b[1;32m   1346\u001b[0m     \u001b[38;5;28;01mtry\u001b[39;00m:\n\u001b[0;32m-> 1347\u001b[0m         applied \u001b[38;5;241m=\u001b[39m \u001b[43mblk\u001b[49m\u001b[38;5;241;43m.\u001b[39;49m\u001b[43mapply\u001b[49m\u001b[43m(\u001b[49m\u001b[43mfunc\u001b[49m\u001b[43m)\u001b[49m\n\u001b[1;32m   1348\u001b[0m     \u001b[38;5;28;01mexcept\u001b[39;00m (\u001b[38;5;167;01mTypeError\u001b[39;00m, \u001b[38;5;167;01mNotImplementedError\u001b[39;00m):\n\u001b[1;32m   1349\u001b[0m         \u001b[38;5;28;01mif\u001b[39;00m \u001b[38;5;129;01mnot\u001b[39;00m ignore_failures:\n",
      "File \u001b[0;32m~/opt/anaconda3/envs/spatial_inequ/lib/python3.10/site-packages/pandas/core/internals/blocks.py:402\u001b[0m, in \u001b[0;36mBlock.apply\u001b[0;34m(self, func, **kwargs)\u001b[0m\n\u001b[1;32m    396\u001b[0m \u001b[38;5;129m@final\u001b[39m\n\u001b[1;32m    397\u001b[0m \u001b[38;5;28;01mdef\u001b[39;00m \u001b[38;5;21mapply\u001b[39m(\u001b[38;5;28mself\u001b[39m, func, \u001b[38;5;241m*\u001b[39m\u001b[38;5;241m*\u001b[39mkwargs) \u001b[38;5;241m-\u001b[39m\u001b[38;5;241m>\u001b[39m \u001b[38;5;28mlist\u001b[39m[Block]:\n\u001b[1;32m    398\u001b[0m     \u001b[38;5;124;03m\"\"\"\u001b[39;00m\n\u001b[1;32m    399\u001b[0m \u001b[38;5;124;03m    apply the function to my values; return a block if we are not\u001b[39;00m\n\u001b[1;32m    400\u001b[0m \u001b[38;5;124;03m    one\u001b[39;00m\n\u001b[1;32m    401\u001b[0m \u001b[38;5;124;03m    \"\"\"\u001b[39;00m\n\u001b[0;32m--> 402\u001b[0m     result \u001b[38;5;241m=\u001b[39m \u001b[43mfunc\u001b[49m\u001b[43m(\u001b[49m\u001b[38;5;28;43mself\u001b[39;49m\u001b[38;5;241;43m.\u001b[39;49m\u001b[43mvalues\u001b[49m\u001b[43m,\u001b[49m\u001b[43m \u001b[49m\u001b[38;5;241;43m*\u001b[39;49m\u001b[38;5;241;43m*\u001b[39;49m\u001b[43mkwargs\u001b[49m\u001b[43m)\u001b[49m\n\u001b[1;32m    404\u001b[0m     \u001b[38;5;28;01mreturn\u001b[39;00m \u001b[38;5;28mself\u001b[39m\u001b[38;5;241m.\u001b[39m_split_op_result(result)\n",
      "File \u001b[0;32m~/opt/anaconda3/envs/spatial_inequ/lib/python3.10/site-packages/pandas/core/groupby/groupby.py:1586\u001b[0m, in \u001b[0;36mGroupBy._cython_agg_general.<locals>.array_func\u001b[0;34m(values)\u001b[0m\n\u001b[1;32m   1578\u001b[0m     result \u001b[38;5;241m=\u001b[39m \u001b[38;5;28mself\u001b[39m\u001b[38;5;241m.\u001b[39mgrouper\u001b[38;5;241m.\u001b[39m_cython_operation(\n\u001b[1;32m   1579\u001b[0m         \u001b[38;5;124m\"\u001b[39m\u001b[38;5;124maggregate\u001b[39m\u001b[38;5;124m\"\u001b[39m, values, how, axis\u001b[38;5;241m=\u001b[39mdata\u001b[38;5;241m.\u001b[39mndim \u001b[38;5;241m-\u001b[39m \u001b[38;5;241m1\u001b[39m, min_count\u001b[38;5;241m=\u001b[39mmin_count\n\u001b[1;32m   1580\u001b[0m     )\n\u001b[1;32m   1581\u001b[0m \u001b[38;5;28;01mexcept\u001b[39;00m \u001b[38;5;167;01mNotImplementedError\u001b[39;00m:\n\u001b[1;32m   1582\u001b[0m     \u001b[38;5;66;03m# generally if we have numeric_only=False\u001b[39;00m\n\u001b[1;32m   1583\u001b[0m     \u001b[38;5;66;03m# and non-applicable functions\u001b[39;00m\n\u001b[1;32m   1584\u001b[0m     \u001b[38;5;66;03m# try to python agg\u001b[39;00m\n\u001b[1;32m   1585\u001b[0m     \u001b[38;5;66;03m# TODO: shouldn't min_count matter?\u001b[39;00m\n\u001b[0;32m-> 1586\u001b[0m     result \u001b[38;5;241m=\u001b[39m \u001b[38;5;28;43mself\u001b[39;49m\u001b[38;5;241;43m.\u001b[39;49m\u001b[43m_agg_py_fallback\u001b[49m\u001b[43m(\u001b[49m\u001b[43mvalues\u001b[49m\u001b[43m,\u001b[49m\u001b[43m \u001b[49m\u001b[43mndim\u001b[49m\u001b[38;5;241;43m=\u001b[39;49m\u001b[43mdata\u001b[49m\u001b[38;5;241;43m.\u001b[39;49m\u001b[43mndim\u001b[49m\u001b[43m,\u001b[49m\u001b[43m \u001b[49m\u001b[43malt\u001b[49m\u001b[38;5;241;43m=\u001b[39;49m\u001b[43malt\u001b[49m\u001b[43m)\u001b[49m\n\u001b[1;32m   1588\u001b[0m \u001b[38;5;28;01mreturn\u001b[39;00m result\n",
      "File \u001b[0;32m~/opt/anaconda3/envs/spatial_inequ/lib/python3.10/site-packages/pandas/core/groupby/groupby.py:1540\u001b[0m, in \u001b[0;36mGroupBy._agg_py_fallback\u001b[0;34m(self, values, ndim, alt)\u001b[0m\n\u001b[1;32m   1535\u001b[0m     ser \u001b[38;5;241m=\u001b[39m df\u001b[38;5;241m.\u001b[39miloc[:, \u001b[38;5;241m0\u001b[39m]\n\u001b[1;32m   1537\u001b[0m \u001b[38;5;66;03m# We do not get here with UDFs, so we know that our dtype\u001b[39;00m\n\u001b[1;32m   1538\u001b[0m \u001b[38;5;66;03m#  should always be preserved by the implemented aggregations\u001b[39;00m\n\u001b[1;32m   1539\u001b[0m \u001b[38;5;66;03m# TODO: Is this exactly right; see WrappedCythonOp get_result_dtype?\u001b[39;00m\n\u001b[0;32m-> 1540\u001b[0m res_values \u001b[38;5;241m=\u001b[39m \u001b[38;5;28;43mself\u001b[39;49m\u001b[38;5;241;43m.\u001b[39;49m\u001b[43mgrouper\u001b[49m\u001b[38;5;241;43m.\u001b[39;49m\u001b[43magg_series\u001b[49m\u001b[43m(\u001b[49m\u001b[43mser\u001b[49m\u001b[43m,\u001b[49m\u001b[43m \u001b[49m\u001b[43malt\u001b[49m\u001b[43m,\u001b[49m\u001b[43m \u001b[49m\u001b[43mpreserve_dtype\u001b[49m\u001b[38;5;241;43m=\u001b[39;49m\u001b[38;5;28;43;01mTrue\u001b[39;49;00m\u001b[43m)\u001b[49m\n\u001b[1;32m   1542\u001b[0m \u001b[38;5;28;01mif\u001b[39;00m \u001b[38;5;28misinstance\u001b[39m(values, Categorical):\n\u001b[1;32m   1543\u001b[0m     \u001b[38;5;66;03m# Because we only get here with known dtype-preserving\u001b[39;00m\n\u001b[1;32m   1544\u001b[0m     \u001b[38;5;66;03m#  reductions, we cast back to Categorical.\u001b[39;00m\n\u001b[1;32m   1545\u001b[0m     \u001b[38;5;66;03m# TODO: if we ever get \"rank\" working, exclude it here.\u001b[39;00m\n\u001b[1;32m   1546\u001b[0m     res_values \u001b[38;5;241m=\u001b[39m \u001b[38;5;28mtype\u001b[39m(values)\u001b[38;5;241m.\u001b[39m_from_sequence(res_values, dtype\u001b[38;5;241m=\u001b[39mvalues\u001b[38;5;241m.\u001b[39mdtype)\n",
      "File \u001b[0;32m~/opt/anaconda3/envs/spatial_inequ/lib/python3.10/site-packages/pandas/core/groupby/ops.py:972\u001b[0m, in \u001b[0;36mBaseGrouper.agg_series\u001b[0;34m(self, obj, func, preserve_dtype)\u001b[0m\n\u001b[1;32m    969\u001b[0m     result \u001b[38;5;241m=\u001b[39m \u001b[38;5;28mself\u001b[39m\u001b[38;5;241m.\u001b[39m_aggregate_series_pure_python(obj, func)\n\u001b[1;32m    971\u001b[0m \u001b[38;5;28;01melif\u001b[39;00m \u001b[38;5;129;01mnot\u001b[39;00m \u001b[38;5;28misinstance\u001b[39m(obj\u001b[38;5;241m.\u001b[39m_values, np\u001b[38;5;241m.\u001b[39mndarray):\n\u001b[0;32m--> 972\u001b[0m     result \u001b[38;5;241m=\u001b[39m \u001b[38;5;28;43mself\u001b[39;49m\u001b[38;5;241;43m.\u001b[39;49m\u001b[43m_aggregate_series_pure_python\u001b[49m\u001b[43m(\u001b[49m\u001b[43mobj\u001b[49m\u001b[43m,\u001b[49m\u001b[43m \u001b[49m\u001b[43mfunc\u001b[49m\u001b[43m)\u001b[49m\n\u001b[1;32m    974\u001b[0m     \u001b[38;5;66;03m# we can preserve a little bit more aggressively with EA dtype\u001b[39;00m\n\u001b[1;32m    975\u001b[0m     \u001b[38;5;66;03m#  because maybe_cast_pointwise_result will do a try/except\u001b[39;00m\n\u001b[1;32m    976\u001b[0m     \u001b[38;5;66;03m#  with _from_sequence.  NB we are assuming here that _from_sequence\u001b[39;00m\n\u001b[1;32m    977\u001b[0m     \u001b[38;5;66;03m#  is sufficiently strict that it casts appropriately.\u001b[39;00m\n\u001b[1;32m    978\u001b[0m     preserve_dtype \u001b[38;5;241m=\u001b[39m \u001b[38;5;28;01mTrue\u001b[39;00m\n",
      "File \u001b[0;32m~/opt/anaconda3/envs/spatial_inequ/lib/python3.10/site-packages/pandas/core/groupby/ops.py:1003\u001b[0m, in \u001b[0;36mBaseGrouper._aggregate_series_pure_python\u001b[0;34m(self, obj, func)\u001b[0m\n\u001b[1;32m   1000\u001b[0m \u001b[38;5;66;03m# equiv: splitter = self._get_splitter(obj, axis=0)\u001b[39;00m\n\u001b[1;32m   1001\u001b[0m splitter \u001b[38;5;241m=\u001b[39m get_splitter(obj, ids, ngroups, axis\u001b[38;5;241m=\u001b[39m\u001b[38;5;241m0\u001b[39m)\n\u001b[0;32m-> 1003\u001b[0m \u001b[38;5;28;01mfor\u001b[39;00m i, group \u001b[38;5;129;01min\u001b[39;00m \u001b[38;5;28menumerate\u001b[39m(splitter):\n\u001b[1;32m   1004\u001b[0m     group \u001b[38;5;241m=\u001b[39m group\u001b[38;5;241m.\u001b[39m__finalize__(obj, method\u001b[38;5;241m=\u001b[39m\u001b[38;5;124m\"\u001b[39m\u001b[38;5;124mgroupby\u001b[39m\u001b[38;5;124m\"\u001b[39m)\n\u001b[1;32m   1005\u001b[0m     res \u001b[38;5;241m=\u001b[39m func(group)\n",
      "File \u001b[0;32m~/opt/anaconda3/envs/spatial_inequ/lib/python3.10/site-packages/pandas/core/groupby/ops.py:1233\u001b[0m, in \u001b[0;36mDataSplitter.__iter__\u001b[0;34m(self)\u001b[0m\n\u001b[1;32m   1230\u001b[0m starts, ends \u001b[38;5;241m=\u001b[39m lib\u001b[38;5;241m.\u001b[39mgenerate_slices(\u001b[38;5;28mself\u001b[39m\u001b[38;5;241m.\u001b[39mslabels, \u001b[38;5;28mself\u001b[39m\u001b[38;5;241m.\u001b[39mngroups)\n\u001b[1;32m   1232\u001b[0m \u001b[38;5;28;01mfor\u001b[39;00m start, end \u001b[38;5;129;01min\u001b[39;00m \u001b[38;5;28mzip\u001b[39m(starts, ends):\n\u001b[0;32m-> 1233\u001b[0m     \u001b[38;5;28;01myield\u001b[39;00m \u001b[38;5;28;43mself\u001b[39;49m\u001b[38;5;241;43m.\u001b[39;49m\u001b[43m_chop\u001b[49m\u001b[43m(\u001b[49m\u001b[43msdata\u001b[49m\u001b[43m,\u001b[49m\u001b[43m \u001b[49m\u001b[38;5;28;43mslice\u001b[39;49m\u001b[43m(\u001b[49m\u001b[43mstart\u001b[49m\u001b[43m,\u001b[49m\u001b[43m \u001b[49m\u001b[43mend\u001b[49m\u001b[43m)\u001b[49m\u001b[43m)\u001b[49m\n",
      "File \u001b[0;32m~/opt/anaconda3/envs/spatial_inequ/lib/python3.10/site-packages/pandas/core/groupby/ops.py:1248\u001b[0m, in \u001b[0;36mSeriesSplitter._chop\u001b[0;34m(self, sdata, slice_obj)\u001b[0m\n\u001b[1;32m   1246\u001b[0m mgr \u001b[38;5;241m=\u001b[39m sdata\u001b[38;5;241m.\u001b[39m_mgr\u001b[38;5;241m.\u001b[39mget_slice(slice_obj)\n\u001b[1;32m   1247\u001b[0m \u001b[38;5;66;03m# __finalize__ not called here, must be applied by caller if applicable\u001b[39;00m\n\u001b[0;32m-> 1248\u001b[0m \u001b[38;5;28;01mreturn\u001b[39;00m sdata\u001b[38;5;241m.\u001b[39m_constructor(mgr, name\u001b[38;5;241m=\u001b[39m\u001b[43msdata\u001b[49m\u001b[38;5;241;43m.\u001b[39;49m\u001b[43mname\u001b[49m, fastpath\u001b[38;5;241m=\u001b[39m\u001b[38;5;28;01mTrue\u001b[39;00m)\n",
      "File \u001b[0;32m~/opt/anaconda3/envs/spatial_inequ/lib/python3.10/site-packages/pandas/core/series.py:590\u001b[0m, in \u001b[0;36mSeries.name\u001b[0;34m(self)\u001b[0m\n\u001b[1;32m    587\u001b[0m     \u001b[38;5;66;03m# DataFrame compatibility\u001b[39;00m\n\u001b[1;32m    588\u001b[0m     \u001b[38;5;28;01mreturn\u001b[39;00m \u001b[38;5;28mself\u001b[39m\u001b[38;5;241m.\u001b[39mdtype\n\u001b[0;32m--> 590\u001b[0m \u001b[38;5;129m@property\u001b[39m\n\u001b[1;32m    591\u001b[0m \u001b[38;5;28;01mdef\u001b[39;00m \u001b[38;5;21mname\u001b[39m(\u001b[38;5;28mself\u001b[39m) \u001b[38;5;241m-\u001b[39m\u001b[38;5;241m>\u001b[39m Hashable:\n\u001b[1;32m    592\u001b[0m     \u001b[38;5;124;03m\"\"\"\u001b[39;00m\n\u001b[1;32m    593\u001b[0m \u001b[38;5;124;03m    Return the name of the Series.\u001b[39;00m\n\u001b[1;32m    594\u001b[0m \n\u001b[0;32m   (...)\u001b[0m\n\u001b[1;32m    636\u001b[0m \u001b[38;5;124;03m    'Even Numbers'\u001b[39;00m\n\u001b[1;32m    637\u001b[0m \u001b[38;5;124;03m    \"\"\"\u001b[39;00m\n\u001b[1;32m    638\u001b[0m     \u001b[38;5;28;01mreturn\u001b[39;00m \u001b[38;5;28mself\u001b[39m\u001b[38;5;241m.\u001b[39m_name\n",
      "\u001b[0;31mKeyboardInterrupt\u001b[0m: "
     ]
    }
   ],
   "source": [
    "tag_df = tag_df.groupby(level=0, axis=1).sum()"
   ]
  },
  {
   "cell_type": "code",
   "execution_count": null,
   "id": "8da99097-ec38-4dc1-8fec-8bdd827e25d8",
   "metadata": {},
   "outputs": [],
   "source": [
    "# Calculate co-coocurence matrix with matrix multiplication\n",
    "\n",
    "tag_df_asint = tag_df.astype(int)\n",
    "coocc = tag_df_asint.T.dot(tag_df_asint)\n",
    "np.fill_diagonal(coocc.values, 0)\n",
    "coocc.head()"
   ]
  },
  {
   "cell_type": "code",
   "execution_count": null,
   "id": "31a29cc5-9d4a-4bba-9199-2ff5d54d001c",
   "metadata": {},
   "outputs": [],
   "source": [
    "# cooccurence matrix to dictionary\n",
    "coocc_dic = coocc.to_dict()"
   ]
  },
  {
   "cell_type": "code",
   "execution_count": null,
   "id": "6b305f0a-e33e-4512-9d76-c52c1559c469",
   "metadata": {},
   "outputs": [],
   "source": [
    "# create dataframe represnting a network\n",
    "tag1_ls = []\n",
    "frames = []\n",
    "\n",
    "for tag1, tag_dic in coocc_dic.items():\n",
    "    tag1_ls.append(tag1)\n",
    "    frames.append(pd.DataFrame.from_dict(tag_dic, orient='index'))\n",
    "\n",
    "network_df = pd.concat(frames, keys=tag1_ls)\n",
    "network_df = network_df.reset_index().rename(columns = {\"level_0\" : \"tag1\", \"level_1\" : \"tag2\", 0: \"cooccurence\"})"
   ]
  },
  {
   "cell_type": "code",
   "execution_count": null,
   "id": "9666e0c1-2457-4523-84d6-9634836b4197",
   "metadata": {},
   "outputs": [],
   "source": [
    "network_df[network_df[\"cooccurence\"] > 10].head(10)"
   ]
  },
  {
   "cell_type": "code",
   "execution_count": null,
   "id": "0fbd74f4-0ed7-411d-bde6-30472857aaa8",
   "metadata": {},
   "outputs": [],
   "source": [
    "#network_df.to_csv(path_or_buf=\"../data/undirected_stackoverflow_network_from_raw_data.csv\", sep='\\t')"
   ]
  },
  {
   "cell_type": "code",
   "execution_count": null,
   "id": "655596d4-8dfc-4196-95e1-59806d995124",
   "metadata": {},
   "outputs": [],
   "source": []
  },
  {
   "cell_type": "code",
   "execution_count": null,
   "id": "7947437f-4849-4de8-a1b9-f5f1d58211ca",
   "metadata": {},
   "outputs": [],
   "source": []
  },
  {
   "cell_type": "code",
   "execution_count": null,
   "id": "42ce79f7-43f7-47f7-ae01-c98314a8e8b7",
   "metadata": {},
   "outputs": [],
   "source": []
  },
  {
   "cell_type": "code",
   "execution_count": 29,
   "id": "5ceeced7-2fae-4189-8a31-c6903781b0e0",
   "metadata": {},
   "outputs": [],
   "source": [
    "#splitted_list_filtered"
   ]
  },
  {
   "cell_type": "code",
   "execution_count": 79,
   "id": "46b79c9e-f8ce-4f3c-b3dd-0e17b290dedb",
   "metadata": {},
   "outputs": [],
   "source": [
    "listOfDFRows = pd.DataFrame(splitted_list_filtered).to_numpy().tolist()\n",
    "#listOfDFRows = studentDfObj.to_numpy().tolist()\n",
    "#listOfDFRows"
   ]
  },
  {
   "cell_type": "code",
   "execution_count": 25,
   "id": "c31c3e69-c279-4ce8-b240-e490d3c973ec",
   "metadata": {},
   "outputs": [],
   "source": [
    "X = [['Male', 1], ['Female', 3], ['Female', 2]]"
   ]
  },
  {
   "cell_type": "code",
   "execution_count": 27,
   "id": "b1aadb12-9d08-40ac-9071-58bb22001ba0",
   "metadata": {},
   "outputs": [
    {
     "data": {
      "text/plain": [
       "[['Male', 1], ['Female', 3], ['Female', 2]]"
      ]
     },
     "execution_count": 27,
     "metadata": {},
     "output_type": "execute_result"
    }
   ],
   "source": [
    "X"
   ]
  },
  {
   "cell_type": "code",
   "execution_count": null,
   "id": "4571a612-9f86-479a-9092-f6749b19ddad",
   "metadata": {},
   "outputs": [],
   "source": [
    "enc.transform([['Female', 1], ['Male', 4]]).toarray()"
   ]
  },
  {
   "cell_type": "code",
   "execution_count": 31,
   "id": "2eee9384-f1fa-4953-b610-8287d182a455",
   "metadata": {},
   "outputs": [],
   "source": [
    "x = splitted_list_filtered[:10]"
   ]
  },
  {
   "cell_type": "code",
   "execution_count": 51,
   "id": "4609107b-82b2-4459-b2c8-7289420e3fbf",
   "metadata": {},
   "outputs": [],
   "source": [
    "x = [np.array(x) for x in splitted_list_filtered[:10]]\n",
    "#x = np.array(x, dtype=str)"
   ]
  },
  {
   "cell_type": "code",
   "execution_count": 47,
   "id": "9e474777-999a-4b6e-8d5a-d7ae094b5571",
   "metadata": {},
   "outputs": [],
   "source": [
    "x = x.reshape(-1, 1)"
   ]
  },
  {
   "cell_type": "code",
   "execution_count": 48,
   "id": "1ac95be2-f4d1-4da3-999d-f72c4a538234",
   "metadata": {},
   "outputs": [
    {
     "data": {
      "text/plain": [
       "array([[array(['wpf', 'visual-studio-2010', 'enterprise-library'], dtype='<U18')],\n",
       "       [array(['c#', 'visual-studio', 'solution', 'vs-extensibility', 'vspackage'],\n",
       "              dtype='<U16')                                                        ],\n",
       "       [array(['c#', 'inheritance', 'ef-code-first', 'entity-framework-6',\n",
       "               'wcf-data-services'], dtype='<U18')                        ],\n",
       "       [array(['c#', 'generics', 'reflection'], dtype='<U10')],\n",
       "       [array(['angularjs', 'select', 'angular-ui-router',\n",
       "               'single-page-application', 'selecteditem'], dtype='<U23')],\n",
       "       [array(['wpf', 'triggers', 'treeview', 'datatrigger',\n",
       "               'hierarchicaldatatemplate'], dtype='<U24')   ],\n",
       "       [array(['c#', 'winforms', 'button', 'hotkeys'], dtype='<U8')],\n",
       "       [array(['c#', 'css', 'asp.net-mvc-4', 'azure', 'azure-web-roles'],\n",
       "              dtype='<U15')                                              ],\n",
       "       [array(['c#', 'inheritance', 'wcf-data-services', 'odata'], dtype='<U17')],\n",
       "       [array(['c#', 'visual-studio', 'solution', 'envdte', 'vs-extensibility'],\n",
       "              dtype='<U16')                                                     ]],\n",
       "      dtype=object)"
      ]
     },
     "execution_count": 48,
     "metadata": {},
     "output_type": "execute_result"
    }
   ],
   "source": [
    "x"
   ]
  },
  {
   "cell_type": "code",
   "execution_count": null,
   "id": "0343be14-1f1f-4339-a1b0-434e403918f3",
   "metadata": {},
   "outputs": [],
   "source": []
  },
  {
   "cell_type": "code",
   "execution_count": null,
   "id": "d3b913b6-b0db-4717-ad1a-27f773801a46",
   "metadata": {},
   "outputs": [],
   "source": []
  },
  {
   "cell_type": "code",
   "execution_count": null,
   "id": "f32de46c-fb00-4184-bb39-226a76340569",
   "metadata": {},
   "outputs": [],
   "source": []
  },
  {
   "cell_type": "code",
   "execution_count": 100,
   "id": "3f2ece34-4994-465d-83eb-4715f53ed52c",
   "metadata": {},
   "outputs": [],
   "source": [
    "k = pd.DataFrame(splitted_list_filtered).to_numpy().tolist()\n",
    "X = [['Male', 1], ['Female', 3], ['Female', 2]]"
   ]
  },
  {
   "cell_type": "code",
   "execution_count": 124,
   "id": "b238db5e-1461-4228-a473-6e654f1d52f4",
   "metadata": {},
   "outputs": [],
   "source": [
    "#k"
   ]
  },
  {
   "cell_type": "code",
   "execution_count": 101,
   "id": "d8af5b19-d964-466d-9932-b430f5d3b68a",
   "metadata": {},
   "outputs": [
    {
     "data": {
      "text/plain": [
       "list"
      ]
     },
     "execution_count": 101,
     "metadata": {},
     "output_type": "execute_result"
    }
   ],
   "source": [
    "type(X)"
   ]
  },
  {
   "cell_type": "code",
   "execution_count": 239,
   "id": "5379ab88-1ebb-48c7-8aa8-0c9d05301faf",
   "metadata": {},
   "outputs": [
    {
     "data": {
      "text/plain": [
       "969"
      ]
     },
     "execution_count": 239,
     "metadata": {},
     "output_type": "execute_result"
    }
   ],
   "source": [
    "unique_labels=list(set([str(x) for xs in splitted_list_filtered for x in xs]))\n",
    "len(unique_labels)"
   ]
  },
  {
   "cell_type": "code",
   "execution_count": 378,
   "id": "a23b2dc9-a4b5-41cc-bc68-15535d08461b",
   "metadata": {},
   "outputs": [],
   "source": [
    "enc = OneHotEncoder(categories=\"auto\", sparse=True)"
   ]
  },
  {
   "cell_type": "code",
   "execution_count": 379,
   "id": "491feafd-c928-4f96-88a6-dc47a7236aec",
   "metadata": {},
   "outputs": [
    {
     "data": {
      "text/plain": [
       "OneHotEncoder()"
      ]
     },
     "execution_count": 379,
     "metadata": {},
     "output_type": "execute_result"
    }
   ],
   "source": [
    "enc.fit(k)"
   ]
  },
  {
   "cell_type": "code",
   "execution_count": 255,
   "id": "05669b4a-66eb-4d8e-b3b2-875dca679d7e",
   "metadata": {},
   "outputs": [],
   "source": [
    "#enc.categories_"
   ]
  },
  {
   "cell_type": "code",
   "execution_count": 256,
   "id": "2cf8edcd-09d9-423a-a77b-571c8aafc8c6",
   "metadata": {},
   "outputs": [
    {
     "data": {
      "text/plain": [
       "(1000, 1325)"
      ]
     },
     "execution_count": 256,
     "metadata": {},
     "output_type": "execute_result"
    }
   ],
   "source": [
    "ohe = enc.transform(k).toarray()\n",
    "ohe.shape"
   ]
  },
  {
   "cell_type": "code",
   "execution_count": null,
   "id": "69f2bfce-ab62-494a-853e-2b854d396177",
   "metadata": {},
   "outputs": [],
   "source": []
  },
  {
   "cell_type": "code",
   "execution_count": 231,
   "id": "23130bba-87cc-4b22-9d01-cd43a842ba4c",
   "metadata": {},
   "outputs": [
    {
     "data": {
      "text/plain": [
       "[['wpf', 'visual-studio-2010', 'enterprise-library', None, None],\n",
       " ['c#', 'visual-studio', 'solution', 'vs-extensibility', 'vspackage']]"
      ]
     },
     "execution_count": 231,
     "metadata": {},
     "output_type": "execute_result"
    }
   ],
   "source": [
    "k[:2]"
   ]
  },
  {
   "cell_type": "code",
   "execution_count": null,
   "id": "cb910e10-53b5-4996-8c99-ce23a9269342",
   "metadata": {},
   "outputs": [],
   "source": []
  },
  {
   "cell_type": "code",
   "execution_count": 232,
   "id": "5da6701d-e438-4c62-a33c-26f97a501064",
   "metadata": {},
   "outputs": [
    {
     "data": {
      "text/plain": [
       "OneHotEncoder()"
      ]
     },
     "execution_count": 232,
     "metadata": {},
     "output_type": "execute_result"
    }
   ],
   "source": [
    "enc.fit(k)"
   ]
  },
  {
   "cell_type": "code",
   "execution_count": 233,
   "id": "77b58fcd-38ff-4e79-b682-58d01f9a6e9b",
   "metadata": {},
   "outputs": [],
   "source": [
    "labels=[str(x) for xs in enc.categories_ for x in xs]\n",
    "#labels"
   ]
  },
  {
   "cell_type": "code",
   "execution_count": 244,
   "id": "ffcabab4-ad4a-479e-93ba-c5bf01a81fa8",
   "metadata": {},
   "outputs": [
    {
     "name": "stdout",
     "output_type": "stream",
     "text": [
      "[[0. 0. 0. ... 0. 0. 1.]\n",
      " [0. 0. 0. ... 0. 0. 0.]\n",
      " [0. 0. 0. ... 0. 0. 0.]\n",
      " ...\n",
      " [0. 0. 0. ... 0. 0. 1.]\n",
      " [0. 0. 0. ... 0. 0. 1.]\n",
      " [0. 0. 0. ... 0. 0. 1.]]\n"
     ]
    }
   ],
   "source": [
    "# implementation with sklearn\n",
    "\n",
    "y = OneHotEncoder(categories = \"auto\", sparse=False).fit_transform(k)#.toarray()\n",
    "print(y)"
   ]
  },
  {
   "cell_type": "code",
   "execution_count": 257,
   "id": "f2ea6f2a-a678-4841-94b3-96be5a9c15b2",
   "metadata": {},
   "outputs": [],
   "source": [
    "test_df = pd.DataFrame(y, columns = labels)#.drop([\"None\"])\n",
    "#test_df = test_df.drop([\"None\"], axis=1)"
   ]
  },
  {
   "cell_type": "code",
   "execution_count": 258,
   "id": "9b33a9e4-1dc9-4dfa-a2e7-1401cafa5714",
   "metadata": {},
   "outputs": [
    {
     "data": {
      "text/plain": [
       "(1000, 1325)"
      ]
     },
     "execution_count": 258,
     "metadata": {},
     "output_type": "execute_result"
    }
   ],
   "source": [
    "test_df.shape"
   ]
  },
  {
   "cell_type": "code",
   "execution_count": 259,
   "id": "e6afcf45-d617-4631-9547-15590c077154",
   "metadata": {},
   "outputs": [
    {
     "data": {
      "text/plain": [
       "(970, 1325)"
      ]
     },
     "execution_count": 259,
     "metadata": {},
     "output_type": "execute_result"
    }
   ],
   "source": [
    "len(set(test_df.columns)),  len(test_df.columns) # because none is in there "
   ]
  },
  {
   "cell_type": "code",
   "execution_count": 340,
   "id": "b17379c7-1a42-41fe-bc46-61a7c3d972ca",
   "metadata": {},
   "outputs": [
    {
     "data": {
      "text/plain": [
       "(259, 711)"
      ]
     },
     "execution_count": 340,
     "metadata": {},
     "output_type": "execute_result"
    }
   ],
   "source": [
    "from collections import Counter\n",
    "cnt = Counter(list(test_df.columns))\n",
    "non_unique_labels = [k for k, v in cnt.items() if v > 1 and v != \"None\" and v != None]\n",
    "unique_labels = [k for k, v in cnt.items() if v == 1 and v != \"None\" and v != None]\n",
    "len(non_unique_labels), len(unique_labels)"
   ]
  },
  {
   "cell_type": "code",
   "execution_count": 341,
   "id": "e0784db8-fb02-41ec-8218-ed6744227287",
   "metadata": {},
   "outputs": [],
   "source": [
    "#list(test_df.columns)[-1]"
   ]
  },
  {
   "cell_type": "code",
   "execution_count": 368,
   "id": "415168c0-97aa-4da9-b366-3892955c4213",
   "metadata": {},
   "outputs": [
    {
     "data": {
      "text/plain": [
       "(1000, 711)"
      ]
     },
     "execution_count": 368,
     "metadata": {},
     "output_type": "execute_result"
    }
   ],
   "source": [
    "df=test_df[unique_labels].copy()\n",
    "df.shape"
   ]
  },
  {
   "cell_type": "code",
   "execution_count": 369,
   "id": "b6c9ec5f-d245-4742-b86c-d4d5b28330f8",
   "metadata": {},
   "outputs": [
    {
     "data": {
      "text/html": [
       "<div>\n",
       "<style scoped>\n",
       "    .dataframe tbody tr th:only-of-type {\n",
       "        vertical-align: middle;\n",
       "    }\n",
       "\n",
       "    .dataframe tbody tr th {\n",
       "        vertical-align: top;\n",
       "    }\n",
       "\n",
       "    .dataframe thead th {\n",
       "        text-align: right;\n",
       "    }\n",
       "</style>\n",
       "<table border=\"1\" class=\"dataframe\">\n",
       "  <thead>\n",
       "    <tr style=\"text-align: right;\">\n",
       "      <th></th>\n",
       "      <th>amazon-web-services</th>\n",
       "      <th>android-emulator</th>\n",
       "      <th>angular</th>\n",
       "      <th>antlr</th>\n",
       "      <th>apache</th>\n",
       "      <th>assembly</th>\n",
       "      <th>automake</th>\n",
       "      <th>awk</th>\n",
       "      <th>axis2</th>\n",
       "      <th>boolean</th>\n",
       "      <th>...</th>\n",
       "      <th>sharepoint-feature</th>\n",
       "      <th>slick-3.0</th>\n",
       "      <th>spark-dataframe</th>\n",
       "      <th>splitter</th>\n",
       "      <th>state</th>\n",
       "      <th>struts</th>\n",
       "      <th>url-shortener</th>\n",
       "      <th>visual-studio-2012</th>\n",
       "      <th>word-automation</th>\n",
       "      <th>xceed</th>\n",
       "    </tr>\n",
       "  </thead>\n",
       "  <tbody>\n",
       "    <tr>\n",
       "      <th>0</th>\n",
       "      <td>0.0</td>\n",
       "      <td>0.0</td>\n",
       "      <td>0.0</td>\n",
       "      <td>0.0</td>\n",
       "      <td>0.0</td>\n",
       "      <td>0.0</td>\n",
       "      <td>0.0</td>\n",
       "      <td>0.0</td>\n",
       "      <td>0.0</td>\n",
       "      <td>0.0</td>\n",
       "      <td>...</td>\n",
       "      <td>0.0</td>\n",
       "      <td>0.0</td>\n",
       "      <td>0.0</td>\n",
       "      <td>0.0</td>\n",
       "      <td>0.0</td>\n",
       "      <td>0.0</td>\n",
       "      <td>0.0</td>\n",
       "      <td>0.0</td>\n",
       "      <td>0.0</td>\n",
       "      <td>0.0</td>\n",
       "    </tr>\n",
       "    <tr>\n",
       "      <th>1</th>\n",
       "      <td>0.0</td>\n",
       "      <td>0.0</td>\n",
       "      <td>0.0</td>\n",
       "      <td>0.0</td>\n",
       "      <td>0.0</td>\n",
       "      <td>0.0</td>\n",
       "      <td>0.0</td>\n",
       "      <td>0.0</td>\n",
       "      <td>0.0</td>\n",
       "      <td>0.0</td>\n",
       "      <td>...</td>\n",
       "      <td>0.0</td>\n",
       "      <td>0.0</td>\n",
       "      <td>0.0</td>\n",
       "      <td>0.0</td>\n",
       "      <td>0.0</td>\n",
       "      <td>0.0</td>\n",
       "      <td>0.0</td>\n",
       "      <td>0.0</td>\n",
       "      <td>0.0</td>\n",
       "      <td>0.0</td>\n",
       "    </tr>\n",
       "    <tr>\n",
       "      <th>2</th>\n",
       "      <td>0.0</td>\n",
       "      <td>0.0</td>\n",
       "      <td>0.0</td>\n",
       "      <td>0.0</td>\n",
       "      <td>0.0</td>\n",
       "      <td>0.0</td>\n",
       "      <td>0.0</td>\n",
       "      <td>0.0</td>\n",
       "      <td>0.0</td>\n",
       "      <td>0.0</td>\n",
       "      <td>...</td>\n",
       "      <td>0.0</td>\n",
       "      <td>0.0</td>\n",
       "      <td>0.0</td>\n",
       "      <td>0.0</td>\n",
       "      <td>0.0</td>\n",
       "      <td>0.0</td>\n",
       "      <td>0.0</td>\n",
       "      <td>0.0</td>\n",
       "      <td>0.0</td>\n",
       "      <td>0.0</td>\n",
       "    </tr>\n",
       "    <tr>\n",
       "      <th>3</th>\n",
       "      <td>0.0</td>\n",
       "      <td>0.0</td>\n",
       "      <td>0.0</td>\n",
       "      <td>0.0</td>\n",
       "      <td>0.0</td>\n",
       "      <td>0.0</td>\n",
       "      <td>0.0</td>\n",
       "      <td>0.0</td>\n",
       "      <td>0.0</td>\n",
       "      <td>0.0</td>\n",
       "      <td>...</td>\n",
       "      <td>0.0</td>\n",
       "      <td>0.0</td>\n",
       "      <td>0.0</td>\n",
       "      <td>0.0</td>\n",
       "      <td>0.0</td>\n",
       "      <td>0.0</td>\n",
       "      <td>0.0</td>\n",
       "      <td>0.0</td>\n",
       "      <td>0.0</td>\n",
       "      <td>0.0</td>\n",
       "    </tr>\n",
       "    <tr>\n",
       "      <th>4</th>\n",
       "      <td>0.0</td>\n",
       "      <td>0.0</td>\n",
       "      <td>0.0</td>\n",
       "      <td>0.0</td>\n",
       "      <td>0.0</td>\n",
       "      <td>0.0</td>\n",
       "      <td>0.0</td>\n",
       "      <td>0.0</td>\n",
       "      <td>0.0</td>\n",
       "      <td>0.0</td>\n",
       "      <td>...</td>\n",
       "      <td>0.0</td>\n",
       "      <td>0.0</td>\n",
       "      <td>0.0</td>\n",
       "      <td>0.0</td>\n",
       "      <td>0.0</td>\n",
       "      <td>0.0</td>\n",
       "      <td>0.0</td>\n",
       "      <td>0.0</td>\n",
       "      <td>0.0</td>\n",
       "      <td>0.0</td>\n",
       "    </tr>\n",
       "  </tbody>\n",
       "</table>\n",
       "<p>5 rows × 711 columns</p>\n",
       "</div>"
      ],
      "text/plain": [
       "   amazon-web-services  android-emulator  angular  antlr  apache  assembly  \\\n",
       "0                  0.0               0.0      0.0    0.0     0.0       0.0   \n",
       "1                  0.0               0.0      0.0    0.0     0.0       0.0   \n",
       "2                  0.0               0.0      0.0    0.0     0.0       0.0   \n",
       "3                  0.0               0.0      0.0    0.0     0.0       0.0   \n",
       "4                  0.0               0.0      0.0    0.0     0.0       0.0   \n",
       "\n",
       "   automake  awk  axis2  boolean  ...  sharepoint-feature  slick-3.0  \\\n",
       "0       0.0  0.0    0.0      0.0  ...                 0.0        0.0   \n",
       "1       0.0  0.0    0.0      0.0  ...                 0.0        0.0   \n",
       "2       0.0  0.0    0.0      0.0  ...                 0.0        0.0   \n",
       "3       0.0  0.0    0.0      0.0  ...                 0.0        0.0   \n",
       "4       0.0  0.0    0.0      0.0  ...                 0.0        0.0   \n",
       "\n",
       "   spark-dataframe  splitter  state  struts  url-shortener  \\\n",
       "0              0.0       0.0    0.0     0.0            0.0   \n",
       "1              0.0       0.0    0.0     0.0            0.0   \n",
       "2              0.0       0.0    0.0     0.0            0.0   \n",
       "3              0.0       0.0    0.0     0.0            0.0   \n",
       "4              0.0       0.0    0.0     0.0            0.0   \n",
       "\n",
       "   visual-studio-2012  word-automation  xceed  \n",
       "0                 0.0              0.0    0.0  \n",
       "1                 0.0              0.0    0.0  \n",
       "2                 0.0              0.0    0.0  \n",
       "3                 0.0              0.0    0.0  \n",
       "4                 0.0              0.0    0.0  \n",
       "\n",
       "[5 rows x 711 columns]"
      ]
     },
     "execution_count": 369,
     "metadata": {},
     "output_type": "execute_result"
    }
   ],
   "source": [
    "df.head()"
   ]
  },
  {
   "cell_type": "code",
   "execution_count": 370,
   "id": "be1179b6-b40f-4517-950f-9875a9a53349",
   "metadata": {},
   "outputs": [],
   "source": [
    "df[non_unique_labels[2]] = list(test_df[non_unique_labels[2]].sum(axis=1))"
   ]
  },
  {
   "cell_type": "code",
   "execution_count": 371,
   "id": "c57cc7c9-99af-4824-9736-b4744c61c677",
   "metadata": {},
   "outputs": [
    {
     "name": "stderr",
     "output_type": "stream",
     "text": [
      "/var/folders/j3/l83rgxcn0cd24m5s9_3b_wmm0000gn/T/ipykernel_1161/2499813478.py:3: PerformanceWarning: DataFrame is highly fragmented.  This is usually the result of calling `frame.insert` many times, which has poor performance.  Consider joining all columns at once using pd.concat(axis=1) instead. To get a de-fragmented frame, use `newframe = frame.copy()`\n",
      "  df[label] = test_df[label].sum(axis=1)\n",
      "/var/folders/j3/l83rgxcn0cd24m5s9_3b_wmm0000gn/T/ipykernel_1161/2499813478.py:3: PerformanceWarning: DataFrame is highly fragmented.  This is usually the result of calling `frame.insert` many times, which has poor performance.  Consider joining all columns at once using pd.concat(axis=1) instead. To get a de-fragmented frame, use `newframe = frame.copy()`\n",
      "  df[label] = test_df[label].sum(axis=1)\n",
      "/var/folders/j3/l83rgxcn0cd24m5s9_3b_wmm0000gn/T/ipykernel_1161/2499813478.py:3: PerformanceWarning: DataFrame is highly fragmented.  This is usually the result of calling `frame.insert` many times, which has poor performance.  Consider joining all columns at once using pd.concat(axis=1) instead. To get a de-fragmented frame, use `newframe = frame.copy()`\n",
      "  df[label] = test_df[label].sum(axis=1)\n",
      "/var/folders/j3/l83rgxcn0cd24m5s9_3b_wmm0000gn/T/ipykernel_1161/2499813478.py:3: PerformanceWarning: DataFrame is highly fragmented.  This is usually the result of calling `frame.insert` many times, which has poor performance.  Consider joining all columns at once using pd.concat(axis=1) instead. To get a de-fragmented frame, use `newframe = frame.copy()`\n",
      "  df[label] = test_df[label].sum(axis=1)\n",
      "/var/folders/j3/l83rgxcn0cd24m5s9_3b_wmm0000gn/T/ipykernel_1161/2499813478.py:3: PerformanceWarning: DataFrame is highly fragmented.  This is usually the result of calling `frame.insert` many times, which has poor performance.  Consider joining all columns at once using pd.concat(axis=1) instead. To get a de-fragmented frame, use `newframe = frame.copy()`\n",
      "  df[label] = test_df[label].sum(axis=1)\n",
      "/var/folders/j3/l83rgxcn0cd24m5s9_3b_wmm0000gn/T/ipykernel_1161/2499813478.py:3: PerformanceWarning: DataFrame is highly fragmented.  This is usually the result of calling `frame.insert` many times, which has poor performance.  Consider joining all columns at once using pd.concat(axis=1) instead. To get a de-fragmented frame, use `newframe = frame.copy()`\n",
      "  df[label] = test_df[label].sum(axis=1)\n",
      "/var/folders/j3/l83rgxcn0cd24m5s9_3b_wmm0000gn/T/ipykernel_1161/2499813478.py:3: PerformanceWarning: DataFrame is highly fragmented.  This is usually the result of calling `frame.insert` many times, which has poor performance.  Consider joining all columns at once using pd.concat(axis=1) instead. To get a de-fragmented frame, use `newframe = frame.copy()`\n",
      "  df[label] = test_df[label].sum(axis=1)\n",
      "/var/folders/j3/l83rgxcn0cd24m5s9_3b_wmm0000gn/T/ipykernel_1161/2499813478.py:3: PerformanceWarning: DataFrame is highly fragmented.  This is usually the result of calling `frame.insert` many times, which has poor performance.  Consider joining all columns at once using pd.concat(axis=1) instead. To get a de-fragmented frame, use `newframe = frame.copy()`\n",
      "  df[label] = test_df[label].sum(axis=1)\n",
      "/var/folders/j3/l83rgxcn0cd24m5s9_3b_wmm0000gn/T/ipykernel_1161/2499813478.py:3: PerformanceWarning: DataFrame is highly fragmented.  This is usually the result of calling `frame.insert` many times, which has poor performance.  Consider joining all columns at once using pd.concat(axis=1) instead. To get a de-fragmented frame, use `newframe = frame.copy()`\n",
      "  df[label] = test_df[label].sum(axis=1)\n",
      "/var/folders/j3/l83rgxcn0cd24m5s9_3b_wmm0000gn/T/ipykernel_1161/2499813478.py:3: PerformanceWarning: DataFrame is highly fragmented.  This is usually the result of calling `frame.insert` many times, which has poor performance.  Consider joining all columns at once using pd.concat(axis=1) instead. To get a de-fragmented frame, use `newframe = frame.copy()`\n",
      "  df[label] = test_df[label].sum(axis=1)\n",
      "/var/folders/j3/l83rgxcn0cd24m5s9_3b_wmm0000gn/T/ipykernel_1161/2499813478.py:3: PerformanceWarning: DataFrame is highly fragmented.  This is usually the result of calling `frame.insert` many times, which has poor performance.  Consider joining all columns at once using pd.concat(axis=1) instead. To get a de-fragmented frame, use `newframe = frame.copy()`\n",
      "  df[label] = test_df[label].sum(axis=1)\n",
      "/var/folders/j3/l83rgxcn0cd24m5s9_3b_wmm0000gn/T/ipykernel_1161/2499813478.py:3: PerformanceWarning: DataFrame is highly fragmented.  This is usually the result of calling `frame.insert` many times, which has poor performance.  Consider joining all columns at once using pd.concat(axis=1) instead. To get a de-fragmented frame, use `newframe = frame.copy()`\n",
      "  df[label] = test_df[label].sum(axis=1)\n",
      "/var/folders/j3/l83rgxcn0cd24m5s9_3b_wmm0000gn/T/ipykernel_1161/2499813478.py:3: PerformanceWarning: DataFrame is highly fragmented.  This is usually the result of calling `frame.insert` many times, which has poor performance.  Consider joining all columns at once using pd.concat(axis=1) instead. To get a de-fragmented frame, use `newframe = frame.copy()`\n",
      "  df[label] = test_df[label].sum(axis=1)\n",
      "/var/folders/j3/l83rgxcn0cd24m5s9_3b_wmm0000gn/T/ipykernel_1161/2499813478.py:3: PerformanceWarning: DataFrame is highly fragmented.  This is usually the result of calling `frame.insert` many times, which has poor performance.  Consider joining all columns at once using pd.concat(axis=1) instead. To get a de-fragmented frame, use `newframe = frame.copy()`\n",
      "  df[label] = test_df[label].sum(axis=1)\n",
      "/var/folders/j3/l83rgxcn0cd24m5s9_3b_wmm0000gn/T/ipykernel_1161/2499813478.py:3: PerformanceWarning: DataFrame is highly fragmented.  This is usually the result of calling `frame.insert` many times, which has poor performance.  Consider joining all columns at once using pd.concat(axis=1) instead. To get a de-fragmented frame, use `newframe = frame.copy()`\n",
      "  df[label] = test_df[label].sum(axis=1)\n",
      "/var/folders/j3/l83rgxcn0cd24m5s9_3b_wmm0000gn/T/ipykernel_1161/2499813478.py:3: PerformanceWarning: DataFrame is highly fragmented.  This is usually the result of calling `frame.insert` many times, which has poor performance.  Consider joining all columns at once using pd.concat(axis=1) instead. To get a de-fragmented frame, use `newframe = frame.copy()`\n",
      "  df[label] = test_df[label].sum(axis=1)\n",
      "/var/folders/j3/l83rgxcn0cd24m5s9_3b_wmm0000gn/T/ipykernel_1161/2499813478.py:3: PerformanceWarning: DataFrame is highly fragmented.  This is usually the result of calling `frame.insert` many times, which has poor performance.  Consider joining all columns at once using pd.concat(axis=1) instead. To get a de-fragmented frame, use `newframe = frame.copy()`\n",
      "  df[label] = test_df[label].sum(axis=1)\n",
      "/var/folders/j3/l83rgxcn0cd24m5s9_3b_wmm0000gn/T/ipykernel_1161/2499813478.py:3: PerformanceWarning: DataFrame is highly fragmented.  This is usually the result of calling `frame.insert` many times, which has poor performance.  Consider joining all columns at once using pd.concat(axis=1) instead. To get a de-fragmented frame, use `newframe = frame.copy()`\n",
      "  df[label] = test_df[label].sum(axis=1)\n",
      "/var/folders/j3/l83rgxcn0cd24m5s9_3b_wmm0000gn/T/ipykernel_1161/2499813478.py:3: PerformanceWarning: DataFrame is highly fragmented.  This is usually the result of calling `frame.insert` many times, which has poor performance.  Consider joining all columns at once using pd.concat(axis=1) instead. To get a de-fragmented frame, use `newframe = frame.copy()`\n",
      "  df[label] = test_df[label].sum(axis=1)\n",
      "/var/folders/j3/l83rgxcn0cd24m5s9_3b_wmm0000gn/T/ipykernel_1161/2499813478.py:3: PerformanceWarning: DataFrame is highly fragmented.  This is usually the result of calling `frame.insert` many times, which has poor performance.  Consider joining all columns at once using pd.concat(axis=1) instead. To get a de-fragmented frame, use `newframe = frame.copy()`\n",
      "  df[label] = test_df[label].sum(axis=1)\n",
      "/var/folders/j3/l83rgxcn0cd24m5s9_3b_wmm0000gn/T/ipykernel_1161/2499813478.py:3: PerformanceWarning: DataFrame is highly fragmented.  This is usually the result of calling `frame.insert` many times, which has poor performance.  Consider joining all columns at once using pd.concat(axis=1) instead. To get a de-fragmented frame, use `newframe = frame.copy()`\n",
      "  df[label] = test_df[label].sum(axis=1)\n",
      "/var/folders/j3/l83rgxcn0cd24m5s9_3b_wmm0000gn/T/ipykernel_1161/2499813478.py:3: PerformanceWarning: DataFrame is highly fragmented.  This is usually the result of calling `frame.insert` many times, which has poor performance.  Consider joining all columns at once using pd.concat(axis=1) instead. To get a de-fragmented frame, use `newframe = frame.copy()`\n",
      "  df[label] = test_df[label].sum(axis=1)\n",
      "/var/folders/j3/l83rgxcn0cd24m5s9_3b_wmm0000gn/T/ipykernel_1161/2499813478.py:3: PerformanceWarning: DataFrame is highly fragmented.  This is usually the result of calling `frame.insert` many times, which has poor performance.  Consider joining all columns at once using pd.concat(axis=1) instead. To get a de-fragmented frame, use `newframe = frame.copy()`\n",
      "  df[label] = test_df[label].sum(axis=1)\n",
      "/var/folders/j3/l83rgxcn0cd24m5s9_3b_wmm0000gn/T/ipykernel_1161/2499813478.py:3: PerformanceWarning: DataFrame is highly fragmented.  This is usually the result of calling `frame.insert` many times, which has poor performance.  Consider joining all columns at once using pd.concat(axis=1) instead. To get a de-fragmented frame, use `newframe = frame.copy()`\n",
      "  df[label] = test_df[label].sum(axis=1)\n",
      "/var/folders/j3/l83rgxcn0cd24m5s9_3b_wmm0000gn/T/ipykernel_1161/2499813478.py:3: PerformanceWarning: DataFrame is highly fragmented.  This is usually the result of calling `frame.insert` many times, which has poor performance.  Consider joining all columns at once using pd.concat(axis=1) instead. To get a de-fragmented frame, use `newframe = frame.copy()`\n",
      "  df[label] = test_df[label].sum(axis=1)\n",
      "/var/folders/j3/l83rgxcn0cd24m5s9_3b_wmm0000gn/T/ipykernel_1161/2499813478.py:3: PerformanceWarning: DataFrame is highly fragmented.  This is usually the result of calling `frame.insert` many times, which has poor performance.  Consider joining all columns at once using pd.concat(axis=1) instead. To get a de-fragmented frame, use `newframe = frame.copy()`\n",
      "  df[label] = test_df[label].sum(axis=1)\n",
      "/var/folders/j3/l83rgxcn0cd24m5s9_3b_wmm0000gn/T/ipykernel_1161/2499813478.py:3: PerformanceWarning: DataFrame is highly fragmented.  This is usually the result of calling `frame.insert` many times, which has poor performance.  Consider joining all columns at once using pd.concat(axis=1) instead. To get a de-fragmented frame, use `newframe = frame.copy()`\n",
      "  df[label] = test_df[label].sum(axis=1)\n",
      "/var/folders/j3/l83rgxcn0cd24m5s9_3b_wmm0000gn/T/ipykernel_1161/2499813478.py:3: PerformanceWarning: DataFrame is highly fragmented.  This is usually the result of calling `frame.insert` many times, which has poor performance.  Consider joining all columns at once using pd.concat(axis=1) instead. To get a de-fragmented frame, use `newframe = frame.copy()`\n",
      "  df[label] = test_df[label].sum(axis=1)\n",
      "/var/folders/j3/l83rgxcn0cd24m5s9_3b_wmm0000gn/T/ipykernel_1161/2499813478.py:3: PerformanceWarning: DataFrame is highly fragmented.  This is usually the result of calling `frame.insert` many times, which has poor performance.  Consider joining all columns at once using pd.concat(axis=1) instead. To get a de-fragmented frame, use `newframe = frame.copy()`\n",
      "  df[label] = test_df[label].sum(axis=1)\n",
      "/var/folders/j3/l83rgxcn0cd24m5s9_3b_wmm0000gn/T/ipykernel_1161/2499813478.py:3: PerformanceWarning: DataFrame is highly fragmented.  This is usually the result of calling `frame.insert` many times, which has poor performance.  Consider joining all columns at once using pd.concat(axis=1) instead. To get a de-fragmented frame, use `newframe = frame.copy()`\n",
      "  df[label] = test_df[label].sum(axis=1)\n",
      "/var/folders/j3/l83rgxcn0cd24m5s9_3b_wmm0000gn/T/ipykernel_1161/2499813478.py:3: PerformanceWarning: DataFrame is highly fragmented.  This is usually the result of calling `frame.insert` many times, which has poor performance.  Consider joining all columns at once using pd.concat(axis=1) instead. To get a de-fragmented frame, use `newframe = frame.copy()`\n",
      "  df[label] = test_df[label].sum(axis=1)\n",
      "/var/folders/j3/l83rgxcn0cd24m5s9_3b_wmm0000gn/T/ipykernel_1161/2499813478.py:3: PerformanceWarning: DataFrame is highly fragmented.  This is usually the result of calling `frame.insert` many times, which has poor performance.  Consider joining all columns at once using pd.concat(axis=1) instead. To get a de-fragmented frame, use `newframe = frame.copy()`\n",
      "  df[label] = test_df[label].sum(axis=1)\n",
      "/var/folders/j3/l83rgxcn0cd24m5s9_3b_wmm0000gn/T/ipykernel_1161/2499813478.py:3: PerformanceWarning: DataFrame is highly fragmented.  This is usually the result of calling `frame.insert` many times, which has poor performance.  Consider joining all columns at once using pd.concat(axis=1) instead. To get a de-fragmented frame, use `newframe = frame.copy()`\n",
      "  df[label] = test_df[label].sum(axis=1)\n",
      "/var/folders/j3/l83rgxcn0cd24m5s9_3b_wmm0000gn/T/ipykernel_1161/2499813478.py:3: PerformanceWarning: DataFrame is highly fragmented.  This is usually the result of calling `frame.insert` many times, which has poor performance.  Consider joining all columns at once using pd.concat(axis=1) instead. To get a de-fragmented frame, use `newframe = frame.copy()`\n",
      "  df[label] = test_df[label].sum(axis=1)\n",
      "/var/folders/j3/l83rgxcn0cd24m5s9_3b_wmm0000gn/T/ipykernel_1161/2499813478.py:3: PerformanceWarning: DataFrame is highly fragmented.  This is usually the result of calling `frame.insert` many times, which has poor performance.  Consider joining all columns at once using pd.concat(axis=1) instead. To get a de-fragmented frame, use `newframe = frame.copy()`\n",
      "  df[label] = test_df[label].sum(axis=1)\n",
      "/var/folders/j3/l83rgxcn0cd24m5s9_3b_wmm0000gn/T/ipykernel_1161/2499813478.py:3: PerformanceWarning: DataFrame is highly fragmented.  This is usually the result of calling `frame.insert` many times, which has poor performance.  Consider joining all columns at once using pd.concat(axis=1) instead. To get a de-fragmented frame, use `newframe = frame.copy()`\n",
      "  df[label] = test_df[label].sum(axis=1)\n",
      "/var/folders/j3/l83rgxcn0cd24m5s9_3b_wmm0000gn/T/ipykernel_1161/2499813478.py:3: PerformanceWarning: DataFrame is highly fragmented.  This is usually the result of calling `frame.insert` many times, which has poor performance.  Consider joining all columns at once using pd.concat(axis=1) instead. To get a de-fragmented frame, use `newframe = frame.copy()`\n",
      "  df[label] = test_df[label].sum(axis=1)\n",
      "/var/folders/j3/l83rgxcn0cd24m5s9_3b_wmm0000gn/T/ipykernel_1161/2499813478.py:3: PerformanceWarning: DataFrame is highly fragmented.  This is usually the result of calling `frame.insert` many times, which has poor performance.  Consider joining all columns at once using pd.concat(axis=1) instead. To get a de-fragmented frame, use `newframe = frame.copy()`\n",
      "  df[label] = test_df[label].sum(axis=1)\n",
      "/var/folders/j3/l83rgxcn0cd24m5s9_3b_wmm0000gn/T/ipykernel_1161/2499813478.py:3: PerformanceWarning: DataFrame is highly fragmented.  This is usually the result of calling `frame.insert` many times, which has poor performance.  Consider joining all columns at once using pd.concat(axis=1) instead. To get a de-fragmented frame, use `newframe = frame.copy()`\n",
      "  df[label] = test_df[label].sum(axis=1)\n",
      "/var/folders/j3/l83rgxcn0cd24m5s9_3b_wmm0000gn/T/ipykernel_1161/2499813478.py:3: PerformanceWarning: DataFrame is highly fragmented.  This is usually the result of calling `frame.insert` many times, which has poor performance.  Consider joining all columns at once using pd.concat(axis=1) instead. To get a de-fragmented frame, use `newframe = frame.copy()`\n",
      "  df[label] = test_df[label].sum(axis=1)\n",
      "/var/folders/j3/l83rgxcn0cd24m5s9_3b_wmm0000gn/T/ipykernel_1161/2499813478.py:3: PerformanceWarning: DataFrame is highly fragmented.  This is usually the result of calling `frame.insert` many times, which has poor performance.  Consider joining all columns at once using pd.concat(axis=1) instead. To get a de-fragmented frame, use `newframe = frame.copy()`\n",
      "  df[label] = test_df[label].sum(axis=1)\n",
      "/var/folders/j3/l83rgxcn0cd24m5s9_3b_wmm0000gn/T/ipykernel_1161/2499813478.py:3: PerformanceWarning: DataFrame is highly fragmented.  This is usually the result of calling `frame.insert` many times, which has poor performance.  Consider joining all columns at once using pd.concat(axis=1) instead. To get a de-fragmented frame, use `newframe = frame.copy()`\n",
      "  df[label] = test_df[label].sum(axis=1)\n",
      "/var/folders/j3/l83rgxcn0cd24m5s9_3b_wmm0000gn/T/ipykernel_1161/2499813478.py:3: PerformanceWarning: DataFrame is highly fragmented.  This is usually the result of calling `frame.insert` many times, which has poor performance.  Consider joining all columns at once using pd.concat(axis=1) instead. To get a de-fragmented frame, use `newframe = frame.copy()`\n",
      "  df[label] = test_df[label].sum(axis=1)\n",
      "/var/folders/j3/l83rgxcn0cd24m5s9_3b_wmm0000gn/T/ipykernel_1161/2499813478.py:3: PerformanceWarning: DataFrame is highly fragmented.  This is usually the result of calling `frame.insert` many times, which has poor performance.  Consider joining all columns at once using pd.concat(axis=1) instead. To get a de-fragmented frame, use `newframe = frame.copy()`\n",
      "  df[label] = test_df[label].sum(axis=1)\n",
      "/var/folders/j3/l83rgxcn0cd24m5s9_3b_wmm0000gn/T/ipykernel_1161/2499813478.py:3: PerformanceWarning: DataFrame is highly fragmented.  This is usually the result of calling `frame.insert` many times, which has poor performance.  Consider joining all columns at once using pd.concat(axis=1) instead. To get a de-fragmented frame, use `newframe = frame.copy()`\n",
      "  df[label] = test_df[label].sum(axis=1)\n",
      "/var/folders/j3/l83rgxcn0cd24m5s9_3b_wmm0000gn/T/ipykernel_1161/2499813478.py:3: PerformanceWarning: DataFrame is highly fragmented.  This is usually the result of calling `frame.insert` many times, which has poor performance.  Consider joining all columns at once using pd.concat(axis=1) instead. To get a de-fragmented frame, use `newframe = frame.copy()`\n",
      "  df[label] = test_df[label].sum(axis=1)\n",
      "/var/folders/j3/l83rgxcn0cd24m5s9_3b_wmm0000gn/T/ipykernel_1161/2499813478.py:3: PerformanceWarning: DataFrame is highly fragmented.  This is usually the result of calling `frame.insert` many times, which has poor performance.  Consider joining all columns at once using pd.concat(axis=1) instead. To get a de-fragmented frame, use `newframe = frame.copy()`\n",
      "  df[label] = test_df[label].sum(axis=1)\n",
      "/var/folders/j3/l83rgxcn0cd24m5s9_3b_wmm0000gn/T/ipykernel_1161/2499813478.py:3: PerformanceWarning: DataFrame is highly fragmented.  This is usually the result of calling `frame.insert` many times, which has poor performance.  Consider joining all columns at once using pd.concat(axis=1) instead. To get a de-fragmented frame, use `newframe = frame.copy()`\n",
      "  df[label] = test_df[label].sum(axis=1)\n",
      "/var/folders/j3/l83rgxcn0cd24m5s9_3b_wmm0000gn/T/ipykernel_1161/2499813478.py:3: PerformanceWarning: DataFrame is highly fragmented.  This is usually the result of calling `frame.insert` many times, which has poor performance.  Consider joining all columns at once using pd.concat(axis=1) instead. To get a de-fragmented frame, use `newframe = frame.copy()`\n",
      "  df[label] = test_df[label].sum(axis=1)\n",
      "/var/folders/j3/l83rgxcn0cd24m5s9_3b_wmm0000gn/T/ipykernel_1161/2499813478.py:3: PerformanceWarning: DataFrame is highly fragmented.  This is usually the result of calling `frame.insert` many times, which has poor performance.  Consider joining all columns at once using pd.concat(axis=1) instead. To get a de-fragmented frame, use `newframe = frame.copy()`\n",
      "  df[label] = test_df[label].sum(axis=1)\n",
      "/var/folders/j3/l83rgxcn0cd24m5s9_3b_wmm0000gn/T/ipykernel_1161/2499813478.py:3: PerformanceWarning: DataFrame is highly fragmented.  This is usually the result of calling `frame.insert` many times, which has poor performance.  Consider joining all columns at once using pd.concat(axis=1) instead. To get a de-fragmented frame, use `newframe = frame.copy()`\n",
      "  df[label] = test_df[label].sum(axis=1)\n",
      "/var/folders/j3/l83rgxcn0cd24m5s9_3b_wmm0000gn/T/ipykernel_1161/2499813478.py:3: PerformanceWarning: DataFrame is highly fragmented.  This is usually the result of calling `frame.insert` many times, which has poor performance.  Consider joining all columns at once using pd.concat(axis=1) instead. To get a de-fragmented frame, use `newframe = frame.copy()`\n",
      "  df[label] = test_df[label].sum(axis=1)\n",
      "/var/folders/j3/l83rgxcn0cd24m5s9_3b_wmm0000gn/T/ipykernel_1161/2499813478.py:3: PerformanceWarning: DataFrame is highly fragmented.  This is usually the result of calling `frame.insert` many times, which has poor performance.  Consider joining all columns at once using pd.concat(axis=1) instead. To get a de-fragmented frame, use `newframe = frame.copy()`\n",
      "  df[label] = test_df[label].sum(axis=1)\n",
      "/var/folders/j3/l83rgxcn0cd24m5s9_3b_wmm0000gn/T/ipykernel_1161/2499813478.py:3: PerformanceWarning: DataFrame is highly fragmented.  This is usually the result of calling `frame.insert` many times, which has poor performance.  Consider joining all columns at once using pd.concat(axis=1) instead. To get a de-fragmented frame, use `newframe = frame.copy()`\n",
      "  df[label] = test_df[label].sum(axis=1)\n",
      "/var/folders/j3/l83rgxcn0cd24m5s9_3b_wmm0000gn/T/ipykernel_1161/2499813478.py:3: PerformanceWarning: DataFrame is highly fragmented.  This is usually the result of calling `frame.insert` many times, which has poor performance.  Consider joining all columns at once using pd.concat(axis=1) instead. To get a de-fragmented frame, use `newframe = frame.copy()`\n",
      "  df[label] = test_df[label].sum(axis=1)\n",
      "/var/folders/j3/l83rgxcn0cd24m5s9_3b_wmm0000gn/T/ipykernel_1161/2499813478.py:3: PerformanceWarning: DataFrame is highly fragmented.  This is usually the result of calling `frame.insert` many times, which has poor performance.  Consider joining all columns at once using pd.concat(axis=1) instead. To get a de-fragmented frame, use `newframe = frame.copy()`\n",
      "  df[label] = test_df[label].sum(axis=1)\n",
      "/var/folders/j3/l83rgxcn0cd24m5s9_3b_wmm0000gn/T/ipykernel_1161/2499813478.py:3: PerformanceWarning: DataFrame is highly fragmented.  This is usually the result of calling `frame.insert` many times, which has poor performance.  Consider joining all columns at once using pd.concat(axis=1) instead. To get a de-fragmented frame, use `newframe = frame.copy()`\n",
      "  df[label] = test_df[label].sum(axis=1)\n",
      "/var/folders/j3/l83rgxcn0cd24m5s9_3b_wmm0000gn/T/ipykernel_1161/2499813478.py:3: PerformanceWarning: DataFrame is highly fragmented.  This is usually the result of calling `frame.insert` many times, which has poor performance.  Consider joining all columns at once using pd.concat(axis=1) instead. To get a de-fragmented frame, use `newframe = frame.copy()`\n",
      "  df[label] = test_df[label].sum(axis=1)\n",
      "/var/folders/j3/l83rgxcn0cd24m5s9_3b_wmm0000gn/T/ipykernel_1161/2499813478.py:3: PerformanceWarning: DataFrame is highly fragmented.  This is usually the result of calling `frame.insert` many times, which has poor performance.  Consider joining all columns at once using pd.concat(axis=1) instead. To get a de-fragmented frame, use `newframe = frame.copy()`\n",
      "  df[label] = test_df[label].sum(axis=1)\n",
      "/var/folders/j3/l83rgxcn0cd24m5s9_3b_wmm0000gn/T/ipykernel_1161/2499813478.py:3: PerformanceWarning: DataFrame is highly fragmented.  This is usually the result of calling `frame.insert` many times, which has poor performance.  Consider joining all columns at once using pd.concat(axis=1) instead. To get a de-fragmented frame, use `newframe = frame.copy()`\n",
      "  df[label] = test_df[label].sum(axis=1)\n",
      "/var/folders/j3/l83rgxcn0cd24m5s9_3b_wmm0000gn/T/ipykernel_1161/2499813478.py:3: PerformanceWarning: DataFrame is highly fragmented.  This is usually the result of calling `frame.insert` many times, which has poor performance.  Consider joining all columns at once using pd.concat(axis=1) instead. To get a de-fragmented frame, use `newframe = frame.copy()`\n",
      "  df[label] = test_df[label].sum(axis=1)\n",
      "/var/folders/j3/l83rgxcn0cd24m5s9_3b_wmm0000gn/T/ipykernel_1161/2499813478.py:3: PerformanceWarning: DataFrame is highly fragmented.  This is usually the result of calling `frame.insert` many times, which has poor performance.  Consider joining all columns at once using pd.concat(axis=1) instead. To get a de-fragmented frame, use `newframe = frame.copy()`\n",
      "  df[label] = test_df[label].sum(axis=1)\n",
      "/var/folders/j3/l83rgxcn0cd24m5s9_3b_wmm0000gn/T/ipykernel_1161/2499813478.py:3: PerformanceWarning: DataFrame is highly fragmented.  This is usually the result of calling `frame.insert` many times, which has poor performance.  Consider joining all columns at once using pd.concat(axis=1) instead. To get a de-fragmented frame, use `newframe = frame.copy()`\n",
      "  df[label] = test_df[label].sum(axis=1)\n",
      "/var/folders/j3/l83rgxcn0cd24m5s9_3b_wmm0000gn/T/ipykernel_1161/2499813478.py:3: PerformanceWarning: DataFrame is highly fragmented.  This is usually the result of calling `frame.insert` many times, which has poor performance.  Consider joining all columns at once using pd.concat(axis=1) instead. To get a de-fragmented frame, use `newframe = frame.copy()`\n",
      "  df[label] = test_df[label].sum(axis=1)\n",
      "/var/folders/j3/l83rgxcn0cd24m5s9_3b_wmm0000gn/T/ipykernel_1161/2499813478.py:3: PerformanceWarning: DataFrame is highly fragmented.  This is usually the result of calling `frame.insert` many times, which has poor performance.  Consider joining all columns at once using pd.concat(axis=1) instead. To get a de-fragmented frame, use `newframe = frame.copy()`\n",
      "  df[label] = test_df[label].sum(axis=1)\n",
      "/var/folders/j3/l83rgxcn0cd24m5s9_3b_wmm0000gn/T/ipykernel_1161/2499813478.py:3: PerformanceWarning: DataFrame is highly fragmented.  This is usually the result of calling `frame.insert` many times, which has poor performance.  Consider joining all columns at once using pd.concat(axis=1) instead. To get a de-fragmented frame, use `newframe = frame.copy()`\n",
      "  df[label] = test_df[label].sum(axis=1)\n",
      "/var/folders/j3/l83rgxcn0cd24m5s9_3b_wmm0000gn/T/ipykernel_1161/2499813478.py:3: PerformanceWarning: DataFrame is highly fragmented.  This is usually the result of calling `frame.insert` many times, which has poor performance.  Consider joining all columns at once using pd.concat(axis=1) instead. To get a de-fragmented frame, use `newframe = frame.copy()`\n",
      "  df[label] = test_df[label].sum(axis=1)\n",
      "/var/folders/j3/l83rgxcn0cd24m5s9_3b_wmm0000gn/T/ipykernel_1161/2499813478.py:3: PerformanceWarning: DataFrame is highly fragmented.  This is usually the result of calling `frame.insert` many times, which has poor performance.  Consider joining all columns at once using pd.concat(axis=1) instead. To get a de-fragmented frame, use `newframe = frame.copy()`\n",
      "  df[label] = test_df[label].sum(axis=1)\n",
      "/var/folders/j3/l83rgxcn0cd24m5s9_3b_wmm0000gn/T/ipykernel_1161/2499813478.py:3: PerformanceWarning: DataFrame is highly fragmented.  This is usually the result of calling `frame.insert` many times, which has poor performance.  Consider joining all columns at once using pd.concat(axis=1) instead. To get a de-fragmented frame, use `newframe = frame.copy()`\n",
      "  df[label] = test_df[label].sum(axis=1)\n",
      "/var/folders/j3/l83rgxcn0cd24m5s9_3b_wmm0000gn/T/ipykernel_1161/2499813478.py:3: PerformanceWarning: DataFrame is highly fragmented.  This is usually the result of calling `frame.insert` many times, which has poor performance.  Consider joining all columns at once using pd.concat(axis=1) instead. To get a de-fragmented frame, use `newframe = frame.copy()`\n",
      "  df[label] = test_df[label].sum(axis=1)\n",
      "/var/folders/j3/l83rgxcn0cd24m5s9_3b_wmm0000gn/T/ipykernel_1161/2499813478.py:3: PerformanceWarning: DataFrame is highly fragmented.  This is usually the result of calling `frame.insert` many times, which has poor performance.  Consider joining all columns at once using pd.concat(axis=1) instead. To get a de-fragmented frame, use `newframe = frame.copy()`\n",
      "  df[label] = test_df[label].sum(axis=1)\n",
      "/var/folders/j3/l83rgxcn0cd24m5s9_3b_wmm0000gn/T/ipykernel_1161/2499813478.py:3: PerformanceWarning: DataFrame is highly fragmented.  This is usually the result of calling `frame.insert` many times, which has poor performance.  Consider joining all columns at once using pd.concat(axis=1) instead. To get a de-fragmented frame, use `newframe = frame.copy()`\n",
      "  df[label] = test_df[label].sum(axis=1)\n",
      "/var/folders/j3/l83rgxcn0cd24m5s9_3b_wmm0000gn/T/ipykernel_1161/2499813478.py:3: PerformanceWarning: DataFrame is highly fragmented.  This is usually the result of calling `frame.insert` many times, which has poor performance.  Consider joining all columns at once using pd.concat(axis=1) instead. To get a de-fragmented frame, use `newframe = frame.copy()`\n",
      "  df[label] = test_df[label].sum(axis=1)\n",
      "/var/folders/j3/l83rgxcn0cd24m5s9_3b_wmm0000gn/T/ipykernel_1161/2499813478.py:3: PerformanceWarning: DataFrame is highly fragmented.  This is usually the result of calling `frame.insert` many times, which has poor performance.  Consider joining all columns at once using pd.concat(axis=1) instead. To get a de-fragmented frame, use `newframe = frame.copy()`\n",
      "  df[label] = test_df[label].sum(axis=1)\n",
      "/var/folders/j3/l83rgxcn0cd24m5s9_3b_wmm0000gn/T/ipykernel_1161/2499813478.py:3: PerformanceWarning: DataFrame is highly fragmented.  This is usually the result of calling `frame.insert` many times, which has poor performance.  Consider joining all columns at once using pd.concat(axis=1) instead. To get a de-fragmented frame, use `newframe = frame.copy()`\n",
      "  df[label] = test_df[label].sum(axis=1)\n",
      "/var/folders/j3/l83rgxcn0cd24m5s9_3b_wmm0000gn/T/ipykernel_1161/2499813478.py:3: PerformanceWarning: DataFrame is highly fragmented.  This is usually the result of calling `frame.insert` many times, which has poor performance.  Consider joining all columns at once using pd.concat(axis=1) instead. To get a de-fragmented frame, use `newframe = frame.copy()`\n",
      "  df[label] = test_df[label].sum(axis=1)\n",
      "/var/folders/j3/l83rgxcn0cd24m5s9_3b_wmm0000gn/T/ipykernel_1161/2499813478.py:3: PerformanceWarning: DataFrame is highly fragmented.  This is usually the result of calling `frame.insert` many times, which has poor performance.  Consider joining all columns at once using pd.concat(axis=1) instead. To get a de-fragmented frame, use `newframe = frame.copy()`\n",
      "  df[label] = test_df[label].sum(axis=1)\n",
      "/var/folders/j3/l83rgxcn0cd24m5s9_3b_wmm0000gn/T/ipykernel_1161/2499813478.py:3: PerformanceWarning: DataFrame is highly fragmented.  This is usually the result of calling `frame.insert` many times, which has poor performance.  Consider joining all columns at once using pd.concat(axis=1) instead. To get a de-fragmented frame, use `newframe = frame.copy()`\n",
      "  df[label] = test_df[label].sum(axis=1)\n",
      "/var/folders/j3/l83rgxcn0cd24m5s9_3b_wmm0000gn/T/ipykernel_1161/2499813478.py:3: PerformanceWarning: DataFrame is highly fragmented.  This is usually the result of calling `frame.insert` many times, which has poor performance.  Consider joining all columns at once using pd.concat(axis=1) instead. To get a de-fragmented frame, use `newframe = frame.copy()`\n",
      "  df[label] = test_df[label].sum(axis=1)\n",
      "/var/folders/j3/l83rgxcn0cd24m5s9_3b_wmm0000gn/T/ipykernel_1161/2499813478.py:3: PerformanceWarning: DataFrame is highly fragmented.  This is usually the result of calling `frame.insert` many times, which has poor performance.  Consider joining all columns at once using pd.concat(axis=1) instead. To get a de-fragmented frame, use `newframe = frame.copy()`\n",
      "  df[label] = test_df[label].sum(axis=1)\n",
      "/var/folders/j3/l83rgxcn0cd24m5s9_3b_wmm0000gn/T/ipykernel_1161/2499813478.py:3: PerformanceWarning: DataFrame is highly fragmented.  This is usually the result of calling `frame.insert` many times, which has poor performance.  Consider joining all columns at once using pd.concat(axis=1) instead. To get a de-fragmented frame, use `newframe = frame.copy()`\n",
      "  df[label] = test_df[label].sum(axis=1)\n",
      "/var/folders/j3/l83rgxcn0cd24m5s9_3b_wmm0000gn/T/ipykernel_1161/2499813478.py:3: PerformanceWarning: DataFrame is highly fragmented.  This is usually the result of calling `frame.insert` many times, which has poor performance.  Consider joining all columns at once using pd.concat(axis=1) instead. To get a de-fragmented frame, use `newframe = frame.copy()`\n",
      "  df[label] = test_df[label].sum(axis=1)\n",
      "/var/folders/j3/l83rgxcn0cd24m5s9_3b_wmm0000gn/T/ipykernel_1161/2499813478.py:3: PerformanceWarning: DataFrame is highly fragmented.  This is usually the result of calling `frame.insert` many times, which has poor performance.  Consider joining all columns at once using pd.concat(axis=1) instead. To get a de-fragmented frame, use `newframe = frame.copy()`\n",
      "  df[label] = test_df[label].sum(axis=1)\n",
      "/var/folders/j3/l83rgxcn0cd24m5s9_3b_wmm0000gn/T/ipykernel_1161/2499813478.py:3: PerformanceWarning: DataFrame is highly fragmented.  This is usually the result of calling `frame.insert` many times, which has poor performance.  Consider joining all columns at once using pd.concat(axis=1) instead. To get a de-fragmented frame, use `newframe = frame.copy()`\n",
      "  df[label] = test_df[label].sum(axis=1)\n",
      "/var/folders/j3/l83rgxcn0cd24m5s9_3b_wmm0000gn/T/ipykernel_1161/2499813478.py:3: PerformanceWarning: DataFrame is highly fragmented.  This is usually the result of calling `frame.insert` many times, which has poor performance.  Consider joining all columns at once using pd.concat(axis=1) instead. To get a de-fragmented frame, use `newframe = frame.copy()`\n",
      "  df[label] = test_df[label].sum(axis=1)\n",
      "/var/folders/j3/l83rgxcn0cd24m5s9_3b_wmm0000gn/T/ipykernel_1161/2499813478.py:3: PerformanceWarning: DataFrame is highly fragmented.  This is usually the result of calling `frame.insert` many times, which has poor performance.  Consider joining all columns at once using pd.concat(axis=1) instead. To get a de-fragmented frame, use `newframe = frame.copy()`\n",
      "  df[label] = test_df[label].sum(axis=1)\n",
      "/var/folders/j3/l83rgxcn0cd24m5s9_3b_wmm0000gn/T/ipykernel_1161/2499813478.py:3: PerformanceWarning: DataFrame is highly fragmented.  This is usually the result of calling `frame.insert` many times, which has poor performance.  Consider joining all columns at once using pd.concat(axis=1) instead. To get a de-fragmented frame, use `newframe = frame.copy()`\n",
      "  df[label] = test_df[label].sum(axis=1)\n",
      "/var/folders/j3/l83rgxcn0cd24m5s9_3b_wmm0000gn/T/ipykernel_1161/2499813478.py:3: PerformanceWarning: DataFrame is highly fragmented.  This is usually the result of calling `frame.insert` many times, which has poor performance.  Consider joining all columns at once using pd.concat(axis=1) instead. To get a de-fragmented frame, use `newframe = frame.copy()`\n",
      "  df[label] = test_df[label].sum(axis=1)\n",
      "/var/folders/j3/l83rgxcn0cd24m5s9_3b_wmm0000gn/T/ipykernel_1161/2499813478.py:3: PerformanceWarning: DataFrame is highly fragmented.  This is usually the result of calling `frame.insert` many times, which has poor performance.  Consider joining all columns at once using pd.concat(axis=1) instead. To get a de-fragmented frame, use `newframe = frame.copy()`\n",
      "  df[label] = test_df[label].sum(axis=1)\n",
      "/var/folders/j3/l83rgxcn0cd24m5s9_3b_wmm0000gn/T/ipykernel_1161/2499813478.py:3: PerformanceWarning: DataFrame is highly fragmented.  This is usually the result of calling `frame.insert` many times, which has poor performance.  Consider joining all columns at once using pd.concat(axis=1) instead. To get a de-fragmented frame, use `newframe = frame.copy()`\n",
      "  df[label] = test_df[label].sum(axis=1)\n",
      "/var/folders/j3/l83rgxcn0cd24m5s9_3b_wmm0000gn/T/ipykernel_1161/2499813478.py:3: PerformanceWarning: DataFrame is highly fragmented.  This is usually the result of calling `frame.insert` many times, which has poor performance.  Consider joining all columns at once using pd.concat(axis=1) instead. To get a de-fragmented frame, use `newframe = frame.copy()`\n",
      "  df[label] = test_df[label].sum(axis=1)\n",
      "/var/folders/j3/l83rgxcn0cd24m5s9_3b_wmm0000gn/T/ipykernel_1161/2499813478.py:3: PerformanceWarning: DataFrame is highly fragmented.  This is usually the result of calling `frame.insert` many times, which has poor performance.  Consider joining all columns at once using pd.concat(axis=1) instead. To get a de-fragmented frame, use `newframe = frame.copy()`\n",
      "  df[label] = test_df[label].sum(axis=1)\n",
      "/var/folders/j3/l83rgxcn0cd24m5s9_3b_wmm0000gn/T/ipykernel_1161/2499813478.py:3: PerformanceWarning: DataFrame is highly fragmented.  This is usually the result of calling `frame.insert` many times, which has poor performance.  Consider joining all columns at once using pd.concat(axis=1) instead. To get a de-fragmented frame, use `newframe = frame.copy()`\n",
      "  df[label] = test_df[label].sum(axis=1)\n",
      "/var/folders/j3/l83rgxcn0cd24m5s9_3b_wmm0000gn/T/ipykernel_1161/2499813478.py:3: PerformanceWarning: DataFrame is highly fragmented.  This is usually the result of calling `frame.insert` many times, which has poor performance.  Consider joining all columns at once using pd.concat(axis=1) instead. To get a de-fragmented frame, use `newframe = frame.copy()`\n",
      "  df[label] = test_df[label].sum(axis=1)\n",
      "/var/folders/j3/l83rgxcn0cd24m5s9_3b_wmm0000gn/T/ipykernel_1161/2499813478.py:3: PerformanceWarning: DataFrame is highly fragmented.  This is usually the result of calling `frame.insert` many times, which has poor performance.  Consider joining all columns at once using pd.concat(axis=1) instead. To get a de-fragmented frame, use `newframe = frame.copy()`\n",
      "  df[label] = test_df[label].sum(axis=1)\n",
      "/var/folders/j3/l83rgxcn0cd24m5s9_3b_wmm0000gn/T/ipykernel_1161/2499813478.py:3: PerformanceWarning: DataFrame is highly fragmented.  This is usually the result of calling `frame.insert` many times, which has poor performance.  Consider joining all columns at once using pd.concat(axis=1) instead. To get a de-fragmented frame, use `newframe = frame.copy()`\n",
      "  df[label] = test_df[label].sum(axis=1)\n",
      "/var/folders/j3/l83rgxcn0cd24m5s9_3b_wmm0000gn/T/ipykernel_1161/2499813478.py:3: PerformanceWarning: DataFrame is highly fragmented.  This is usually the result of calling `frame.insert` many times, which has poor performance.  Consider joining all columns at once using pd.concat(axis=1) instead. To get a de-fragmented frame, use `newframe = frame.copy()`\n",
      "  df[label] = test_df[label].sum(axis=1)\n",
      "/var/folders/j3/l83rgxcn0cd24m5s9_3b_wmm0000gn/T/ipykernel_1161/2499813478.py:3: PerformanceWarning: DataFrame is highly fragmented.  This is usually the result of calling `frame.insert` many times, which has poor performance.  Consider joining all columns at once using pd.concat(axis=1) instead. To get a de-fragmented frame, use `newframe = frame.copy()`\n",
      "  df[label] = test_df[label].sum(axis=1)\n",
      "/var/folders/j3/l83rgxcn0cd24m5s9_3b_wmm0000gn/T/ipykernel_1161/2499813478.py:3: PerformanceWarning: DataFrame is highly fragmented.  This is usually the result of calling `frame.insert` many times, which has poor performance.  Consider joining all columns at once using pd.concat(axis=1) instead. To get a de-fragmented frame, use `newframe = frame.copy()`\n",
      "  df[label] = test_df[label].sum(axis=1)\n",
      "/var/folders/j3/l83rgxcn0cd24m5s9_3b_wmm0000gn/T/ipykernel_1161/2499813478.py:3: PerformanceWarning: DataFrame is highly fragmented.  This is usually the result of calling `frame.insert` many times, which has poor performance.  Consider joining all columns at once using pd.concat(axis=1) instead. To get a de-fragmented frame, use `newframe = frame.copy()`\n",
      "  df[label] = test_df[label].sum(axis=1)\n",
      "/var/folders/j3/l83rgxcn0cd24m5s9_3b_wmm0000gn/T/ipykernel_1161/2499813478.py:3: PerformanceWarning: DataFrame is highly fragmented.  This is usually the result of calling `frame.insert` many times, which has poor performance.  Consider joining all columns at once using pd.concat(axis=1) instead. To get a de-fragmented frame, use `newframe = frame.copy()`\n",
      "  df[label] = test_df[label].sum(axis=1)\n",
      "/var/folders/j3/l83rgxcn0cd24m5s9_3b_wmm0000gn/T/ipykernel_1161/2499813478.py:3: PerformanceWarning: DataFrame is highly fragmented.  This is usually the result of calling `frame.insert` many times, which has poor performance.  Consider joining all columns at once using pd.concat(axis=1) instead. To get a de-fragmented frame, use `newframe = frame.copy()`\n",
      "  df[label] = test_df[label].sum(axis=1)\n",
      "/var/folders/j3/l83rgxcn0cd24m5s9_3b_wmm0000gn/T/ipykernel_1161/2499813478.py:3: PerformanceWarning: DataFrame is highly fragmented.  This is usually the result of calling `frame.insert` many times, which has poor performance.  Consider joining all columns at once using pd.concat(axis=1) instead. To get a de-fragmented frame, use `newframe = frame.copy()`\n",
      "  df[label] = test_df[label].sum(axis=1)\n",
      "/var/folders/j3/l83rgxcn0cd24m5s9_3b_wmm0000gn/T/ipykernel_1161/2499813478.py:3: PerformanceWarning: DataFrame is highly fragmented.  This is usually the result of calling `frame.insert` many times, which has poor performance.  Consider joining all columns at once using pd.concat(axis=1) instead. To get a de-fragmented frame, use `newframe = frame.copy()`\n",
      "  df[label] = test_df[label].sum(axis=1)\n",
      "/var/folders/j3/l83rgxcn0cd24m5s9_3b_wmm0000gn/T/ipykernel_1161/2499813478.py:3: PerformanceWarning: DataFrame is highly fragmented.  This is usually the result of calling `frame.insert` many times, which has poor performance.  Consider joining all columns at once using pd.concat(axis=1) instead. To get a de-fragmented frame, use `newframe = frame.copy()`\n",
      "  df[label] = test_df[label].sum(axis=1)\n",
      "/var/folders/j3/l83rgxcn0cd24m5s9_3b_wmm0000gn/T/ipykernel_1161/2499813478.py:3: PerformanceWarning: DataFrame is highly fragmented.  This is usually the result of calling `frame.insert` many times, which has poor performance.  Consider joining all columns at once using pd.concat(axis=1) instead. To get a de-fragmented frame, use `newframe = frame.copy()`\n",
      "  df[label] = test_df[label].sum(axis=1)\n",
      "/var/folders/j3/l83rgxcn0cd24m5s9_3b_wmm0000gn/T/ipykernel_1161/2499813478.py:3: PerformanceWarning: DataFrame is highly fragmented.  This is usually the result of calling `frame.insert` many times, which has poor performance.  Consider joining all columns at once using pd.concat(axis=1) instead. To get a de-fragmented frame, use `newframe = frame.copy()`\n",
      "  df[label] = test_df[label].sum(axis=1)\n",
      "/var/folders/j3/l83rgxcn0cd24m5s9_3b_wmm0000gn/T/ipykernel_1161/2499813478.py:3: PerformanceWarning: DataFrame is highly fragmented.  This is usually the result of calling `frame.insert` many times, which has poor performance.  Consider joining all columns at once using pd.concat(axis=1) instead. To get a de-fragmented frame, use `newframe = frame.copy()`\n",
      "  df[label] = test_df[label].sum(axis=1)\n",
      "/var/folders/j3/l83rgxcn0cd24m5s9_3b_wmm0000gn/T/ipykernel_1161/2499813478.py:3: PerformanceWarning: DataFrame is highly fragmented.  This is usually the result of calling `frame.insert` many times, which has poor performance.  Consider joining all columns at once using pd.concat(axis=1) instead. To get a de-fragmented frame, use `newframe = frame.copy()`\n",
      "  df[label] = test_df[label].sum(axis=1)\n",
      "/var/folders/j3/l83rgxcn0cd24m5s9_3b_wmm0000gn/T/ipykernel_1161/2499813478.py:3: PerformanceWarning: DataFrame is highly fragmented.  This is usually the result of calling `frame.insert` many times, which has poor performance.  Consider joining all columns at once using pd.concat(axis=1) instead. To get a de-fragmented frame, use `newframe = frame.copy()`\n",
      "  df[label] = test_df[label].sum(axis=1)\n",
      "/var/folders/j3/l83rgxcn0cd24m5s9_3b_wmm0000gn/T/ipykernel_1161/2499813478.py:3: PerformanceWarning: DataFrame is highly fragmented.  This is usually the result of calling `frame.insert` many times, which has poor performance.  Consider joining all columns at once using pd.concat(axis=1) instead. To get a de-fragmented frame, use `newframe = frame.copy()`\n",
      "  df[label] = test_df[label].sum(axis=1)\n",
      "/var/folders/j3/l83rgxcn0cd24m5s9_3b_wmm0000gn/T/ipykernel_1161/2499813478.py:3: PerformanceWarning: DataFrame is highly fragmented.  This is usually the result of calling `frame.insert` many times, which has poor performance.  Consider joining all columns at once using pd.concat(axis=1) instead. To get a de-fragmented frame, use `newframe = frame.copy()`\n",
      "  df[label] = test_df[label].sum(axis=1)\n",
      "/var/folders/j3/l83rgxcn0cd24m5s9_3b_wmm0000gn/T/ipykernel_1161/2499813478.py:3: PerformanceWarning: DataFrame is highly fragmented.  This is usually the result of calling `frame.insert` many times, which has poor performance.  Consider joining all columns at once using pd.concat(axis=1) instead. To get a de-fragmented frame, use `newframe = frame.copy()`\n",
      "  df[label] = test_df[label].sum(axis=1)\n",
      "/var/folders/j3/l83rgxcn0cd24m5s9_3b_wmm0000gn/T/ipykernel_1161/2499813478.py:3: PerformanceWarning: DataFrame is highly fragmented.  This is usually the result of calling `frame.insert` many times, which has poor performance.  Consider joining all columns at once using pd.concat(axis=1) instead. To get a de-fragmented frame, use `newframe = frame.copy()`\n",
      "  df[label] = test_df[label].sum(axis=1)\n",
      "/var/folders/j3/l83rgxcn0cd24m5s9_3b_wmm0000gn/T/ipykernel_1161/2499813478.py:3: PerformanceWarning: DataFrame is highly fragmented.  This is usually the result of calling `frame.insert` many times, which has poor performance.  Consider joining all columns at once using pd.concat(axis=1) instead. To get a de-fragmented frame, use `newframe = frame.copy()`\n",
      "  df[label] = test_df[label].sum(axis=1)\n",
      "/var/folders/j3/l83rgxcn0cd24m5s9_3b_wmm0000gn/T/ipykernel_1161/2499813478.py:3: PerformanceWarning: DataFrame is highly fragmented.  This is usually the result of calling `frame.insert` many times, which has poor performance.  Consider joining all columns at once using pd.concat(axis=1) instead. To get a de-fragmented frame, use `newframe = frame.copy()`\n",
      "  df[label] = test_df[label].sum(axis=1)\n",
      "/var/folders/j3/l83rgxcn0cd24m5s9_3b_wmm0000gn/T/ipykernel_1161/2499813478.py:3: PerformanceWarning: DataFrame is highly fragmented.  This is usually the result of calling `frame.insert` many times, which has poor performance.  Consider joining all columns at once using pd.concat(axis=1) instead. To get a de-fragmented frame, use `newframe = frame.copy()`\n",
      "  df[label] = test_df[label].sum(axis=1)\n",
      "/var/folders/j3/l83rgxcn0cd24m5s9_3b_wmm0000gn/T/ipykernel_1161/2499813478.py:3: PerformanceWarning: DataFrame is highly fragmented.  This is usually the result of calling `frame.insert` many times, which has poor performance.  Consider joining all columns at once using pd.concat(axis=1) instead. To get a de-fragmented frame, use `newframe = frame.copy()`\n",
      "  df[label] = test_df[label].sum(axis=1)\n",
      "/var/folders/j3/l83rgxcn0cd24m5s9_3b_wmm0000gn/T/ipykernel_1161/2499813478.py:3: PerformanceWarning: DataFrame is highly fragmented.  This is usually the result of calling `frame.insert` many times, which has poor performance.  Consider joining all columns at once using pd.concat(axis=1) instead. To get a de-fragmented frame, use `newframe = frame.copy()`\n",
      "  df[label] = test_df[label].sum(axis=1)\n",
      "/var/folders/j3/l83rgxcn0cd24m5s9_3b_wmm0000gn/T/ipykernel_1161/2499813478.py:3: PerformanceWarning: DataFrame is highly fragmented.  This is usually the result of calling `frame.insert` many times, which has poor performance.  Consider joining all columns at once using pd.concat(axis=1) instead. To get a de-fragmented frame, use `newframe = frame.copy()`\n",
      "  df[label] = test_df[label].sum(axis=1)\n",
      "/var/folders/j3/l83rgxcn0cd24m5s9_3b_wmm0000gn/T/ipykernel_1161/2499813478.py:3: PerformanceWarning: DataFrame is highly fragmented.  This is usually the result of calling `frame.insert` many times, which has poor performance.  Consider joining all columns at once using pd.concat(axis=1) instead. To get a de-fragmented frame, use `newframe = frame.copy()`\n",
      "  df[label] = test_df[label].sum(axis=1)\n",
      "/var/folders/j3/l83rgxcn0cd24m5s9_3b_wmm0000gn/T/ipykernel_1161/2499813478.py:3: PerformanceWarning: DataFrame is highly fragmented.  This is usually the result of calling `frame.insert` many times, which has poor performance.  Consider joining all columns at once using pd.concat(axis=1) instead. To get a de-fragmented frame, use `newframe = frame.copy()`\n",
      "  df[label] = test_df[label].sum(axis=1)\n",
      "/var/folders/j3/l83rgxcn0cd24m5s9_3b_wmm0000gn/T/ipykernel_1161/2499813478.py:3: PerformanceWarning: DataFrame is highly fragmented.  This is usually the result of calling `frame.insert` many times, which has poor performance.  Consider joining all columns at once using pd.concat(axis=1) instead. To get a de-fragmented frame, use `newframe = frame.copy()`\n",
      "  df[label] = test_df[label].sum(axis=1)\n",
      "/var/folders/j3/l83rgxcn0cd24m5s9_3b_wmm0000gn/T/ipykernel_1161/2499813478.py:3: PerformanceWarning: DataFrame is highly fragmented.  This is usually the result of calling `frame.insert` many times, which has poor performance.  Consider joining all columns at once using pd.concat(axis=1) instead. To get a de-fragmented frame, use `newframe = frame.copy()`\n",
      "  df[label] = test_df[label].sum(axis=1)\n",
      "/var/folders/j3/l83rgxcn0cd24m5s9_3b_wmm0000gn/T/ipykernel_1161/2499813478.py:3: PerformanceWarning: DataFrame is highly fragmented.  This is usually the result of calling `frame.insert` many times, which has poor performance.  Consider joining all columns at once using pd.concat(axis=1) instead. To get a de-fragmented frame, use `newframe = frame.copy()`\n",
      "  df[label] = test_df[label].sum(axis=1)\n",
      "/var/folders/j3/l83rgxcn0cd24m5s9_3b_wmm0000gn/T/ipykernel_1161/2499813478.py:3: PerformanceWarning: DataFrame is highly fragmented.  This is usually the result of calling `frame.insert` many times, which has poor performance.  Consider joining all columns at once using pd.concat(axis=1) instead. To get a de-fragmented frame, use `newframe = frame.copy()`\n",
      "  df[label] = test_df[label].sum(axis=1)\n",
      "/var/folders/j3/l83rgxcn0cd24m5s9_3b_wmm0000gn/T/ipykernel_1161/2499813478.py:3: PerformanceWarning: DataFrame is highly fragmented.  This is usually the result of calling `frame.insert` many times, which has poor performance.  Consider joining all columns at once using pd.concat(axis=1) instead. To get a de-fragmented frame, use `newframe = frame.copy()`\n",
      "  df[label] = test_df[label].sum(axis=1)\n",
      "/var/folders/j3/l83rgxcn0cd24m5s9_3b_wmm0000gn/T/ipykernel_1161/2499813478.py:3: PerformanceWarning: DataFrame is highly fragmented.  This is usually the result of calling `frame.insert` many times, which has poor performance.  Consider joining all columns at once using pd.concat(axis=1) instead. To get a de-fragmented frame, use `newframe = frame.copy()`\n",
      "  df[label] = test_df[label].sum(axis=1)\n",
      "/var/folders/j3/l83rgxcn0cd24m5s9_3b_wmm0000gn/T/ipykernel_1161/2499813478.py:3: PerformanceWarning: DataFrame is highly fragmented.  This is usually the result of calling `frame.insert` many times, which has poor performance.  Consider joining all columns at once using pd.concat(axis=1) instead. To get a de-fragmented frame, use `newframe = frame.copy()`\n",
      "  df[label] = test_df[label].sum(axis=1)\n",
      "/var/folders/j3/l83rgxcn0cd24m5s9_3b_wmm0000gn/T/ipykernel_1161/2499813478.py:3: PerformanceWarning: DataFrame is highly fragmented.  This is usually the result of calling `frame.insert` many times, which has poor performance.  Consider joining all columns at once using pd.concat(axis=1) instead. To get a de-fragmented frame, use `newframe = frame.copy()`\n",
      "  df[label] = test_df[label].sum(axis=1)\n",
      "/var/folders/j3/l83rgxcn0cd24m5s9_3b_wmm0000gn/T/ipykernel_1161/2499813478.py:3: PerformanceWarning: DataFrame is highly fragmented.  This is usually the result of calling `frame.insert` many times, which has poor performance.  Consider joining all columns at once using pd.concat(axis=1) instead. To get a de-fragmented frame, use `newframe = frame.copy()`\n",
      "  df[label] = test_df[label].sum(axis=1)\n",
      "/var/folders/j3/l83rgxcn0cd24m5s9_3b_wmm0000gn/T/ipykernel_1161/2499813478.py:3: PerformanceWarning: DataFrame is highly fragmented.  This is usually the result of calling `frame.insert` many times, which has poor performance.  Consider joining all columns at once using pd.concat(axis=1) instead. To get a de-fragmented frame, use `newframe = frame.copy()`\n",
      "  df[label] = test_df[label].sum(axis=1)\n",
      "/var/folders/j3/l83rgxcn0cd24m5s9_3b_wmm0000gn/T/ipykernel_1161/2499813478.py:3: PerformanceWarning: DataFrame is highly fragmented.  This is usually the result of calling `frame.insert` many times, which has poor performance.  Consider joining all columns at once using pd.concat(axis=1) instead. To get a de-fragmented frame, use `newframe = frame.copy()`\n",
      "  df[label] = test_df[label].sum(axis=1)\n",
      "/var/folders/j3/l83rgxcn0cd24m5s9_3b_wmm0000gn/T/ipykernel_1161/2499813478.py:3: PerformanceWarning: DataFrame is highly fragmented.  This is usually the result of calling `frame.insert` many times, which has poor performance.  Consider joining all columns at once using pd.concat(axis=1) instead. To get a de-fragmented frame, use `newframe = frame.copy()`\n",
      "  df[label] = test_df[label].sum(axis=1)\n",
      "/var/folders/j3/l83rgxcn0cd24m5s9_3b_wmm0000gn/T/ipykernel_1161/2499813478.py:3: PerformanceWarning: DataFrame is highly fragmented.  This is usually the result of calling `frame.insert` many times, which has poor performance.  Consider joining all columns at once using pd.concat(axis=1) instead. To get a de-fragmented frame, use `newframe = frame.copy()`\n",
      "  df[label] = test_df[label].sum(axis=1)\n",
      "/var/folders/j3/l83rgxcn0cd24m5s9_3b_wmm0000gn/T/ipykernel_1161/2499813478.py:3: PerformanceWarning: DataFrame is highly fragmented.  This is usually the result of calling `frame.insert` many times, which has poor performance.  Consider joining all columns at once using pd.concat(axis=1) instead. To get a de-fragmented frame, use `newframe = frame.copy()`\n",
      "  df[label] = test_df[label].sum(axis=1)\n",
      "/var/folders/j3/l83rgxcn0cd24m5s9_3b_wmm0000gn/T/ipykernel_1161/2499813478.py:3: PerformanceWarning: DataFrame is highly fragmented.  This is usually the result of calling `frame.insert` many times, which has poor performance.  Consider joining all columns at once using pd.concat(axis=1) instead. To get a de-fragmented frame, use `newframe = frame.copy()`\n",
      "  df[label] = test_df[label].sum(axis=1)\n",
      "/var/folders/j3/l83rgxcn0cd24m5s9_3b_wmm0000gn/T/ipykernel_1161/2499813478.py:3: PerformanceWarning: DataFrame is highly fragmented.  This is usually the result of calling `frame.insert` many times, which has poor performance.  Consider joining all columns at once using pd.concat(axis=1) instead. To get a de-fragmented frame, use `newframe = frame.copy()`\n",
      "  df[label] = test_df[label].sum(axis=1)\n",
      "/var/folders/j3/l83rgxcn0cd24m5s9_3b_wmm0000gn/T/ipykernel_1161/2499813478.py:3: PerformanceWarning: DataFrame is highly fragmented.  This is usually the result of calling `frame.insert` many times, which has poor performance.  Consider joining all columns at once using pd.concat(axis=1) instead. To get a de-fragmented frame, use `newframe = frame.copy()`\n",
      "  df[label] = test_df[label].sum(axis=1)\n",
      "/var/folders/j3/l83rgxcn0cd24m5s9_3b_wmm0000gn/T/ipykernel_1161/2499813478.py:3: PerformanceWarning: DataFrame is highly fragmented.  This is usually the result of calling `frame.insert` many times, which has poor performance.  Consider joining all columns at once using pd.concat(axis=1) instead. To get a de-fragmented frame, use `newframe = frame.copy()`\n",
      "  df[label] = test_df[label].sum(axis=1)\n",
      "/var/folders/j3/l83rgxcn0cd24m5s9_3b_wmm0000gn/T/ipykernel_1161/2499813478.py:3: PerformanceWarning: DataFrame is highly fragmented.  This is usually the result of calling `frame.insert` many times, which has poor performance.  Consider joining all columns at once using pd.concat(axis=1) instead. To get a de-fragmented frame, use `newframe = frame.copy()`\n",
      "  df[label] = test_df[label].sum(axis=1)\n",
      "/var/folders/j3/l83rgxcn0cd24m5s9_3b_wmm0000gn/T/ipykernel_1161/2499813478.py:3: PerformanceWarning: DataFrame is highly fragmented.  This is usually the result of calling `frame.insert` many times, which has poor performance.  Consider joining all columns at once using pd.concat(axis=1) instead. To get a de-fragmented frame, use `newframe = frame.copy()`\n",
      "  df[label] = test_df[label].sum(axis=1)\n",
      "/var/folders/j3/l83rgxcn0cd24m5s9_3b_wmm0000gn/T/ipykernel_1161/2499813478.py:3: PerformanceWarning: DataFrame is highly fragmented.  This is usually the result of calling `frame.insert` many times, which has poor performance.  Consider joining all columns at once using pd.concat(axis=1) instead. To get a de-fragmented frame, use `newframe = frame.copy()`\n",
      "  df[label] = test_df[label].sum(axis=1)\n",
      "/var/folders/j3/l83rgxcn0cd24m5s9_3b_wmm0000gn/T/ipykernel_1161/2499813478.py:3: PerformanceWarning: DataFrame is highly fragmented.  This is usually the result of calling `frame.insert` many times, which has poor performance.  Consider joining all columns at once using pd.concat(axis=1) instead. To get a de-fragmented frame, use `newframe = frame.copy()`\n",
      "  df[label] = test_df[label].sum(axis=1)\n",
      "/var/folders/j3/l83rgxcn0cd24m5s9_3b_wmm0000gn/T/ipykernel_1161/2499813478.py:3: PerformanceWarning: DataFrame is highly fragmented.  This is usually the result of calling `frame.insert` many times, which has poor performance.  Consider joining all columns at once using pd.concat(axis=1) instead. To get a de-fragmented frame, use `newframe = frame.copy()`\n",
      "  df[label] = test_df[label].sum(axis=1)\n",
      "/var/folders/j3/l83rgxcn0cd24m5s9_3b_wmm0000gn/T/ipykernel_1161/2499813478.py:3: PerformanceWarning: DataFrame is highly fragmented.  This is usually the result of calling `frame.insert` many times, which has poor performance.  Consider joining all columns at once using pd.concat(axis=1) instead. To get a de-fragmented frame, use `newframe = frame.copy()`\n",
      "  df[label] = test_df[label].sum(axis=1)\n",
      "/var/folders/j3/l83rgxcn0cd24m5s9_3b_wmm0000gn/T/ipykernel_1161/2499813478.py:3: PerformanceWarning: DataFrame is highly fragmented.  This is usually the result of calling `frame.insert` many times, which has poor performance.  Consider joining all columns at once using pd.concat(axis=1) instead. To get a de-fragmented frame, use `newframe = frame.copy()`\n",
      "  df[label] = test_df[label].sum(axis=1)\n",
      "/var/folders/j3/l83rgxcn0cd24m5s9_3b_wmm0000gn/T/ipykernel_1161/2499813478.py:3: PerformanceWarning: DataFrame is highly fragmented.  This is usually the result of calling `frame.insert` many times, which has poor performance.  Consider joining all columns at once using pd.concat(axis=1) instead. To get a de-fragmented frame, use `newframe = frame.copy()`\n",
      "  df[label] = test_df[label].sum(axis=1)\n",
      "/var/folders/j3/l83rgxcn0cd24m5s9_3b_wmm0000gn/T/ipykernel_1161/2499813478.py:3: PerformanceWarning: DataFrame is highly fragmented.  This is usually the result of calling `frame.insert` many times, which has poor performance.  Consider joining all columns at once using pd.concat(axis=1) instead. To get a de-fragmented frame, use `newframe = frame.copy()`\n",
      "  df[label] = test_df[label].sum(axis=1)\n",
      "/var/folders/j3/l83rgxcn0cd24m5s9_3b_wmm0000gn/T/ipykernel_1161/2499813478.py:3: PerformanceWarning: DataFrame is highly fragmented.  This is usually the result of calling `frame.insert` many times, which has poor performance.  Consider joining all columns at once using pd.concat(axis=1) instead. To get a de-fragmented frame, use `newframe = frame.copy()`\n",
      "  df[label] = test_df[label].sum(axis=1)\n",
      "/var/folders/j3/l83rgxcn0cd24m5s9_3b_wmm0000gn/T/ipykernel_1161/2499813478.py:3: PerformanceWarning: DataFrame is highly fragmented.  This is usually the result of calling `frame.insert` many times, which has poor performance.  Consider joining all columns at once using pd.concat(axis=1) instead. To get a de-fragmented frame, use `newframe = frame.copy()`\n",
      "  df[label] = test_df[label].sum(axis=1)\n",
      "/var/folders/j3/l83rgxcn0cd24m5s9_3b_wmm0000gn/T/ipykernel_1161/2499813478.py:3: PerformanceWarning: DataFrame is highly fragmented.  This is usually the result of calling `frame.insert` many times, which has poor performance.  Consider joining all columns at once using pd.concat(axis=1) instead. To get a de-fragmented frame, use `newframe = frame.copy()`\n",
      "  df[label] = test_df[label].sum(axis=1)\n",
      "/var/folders/j3/l83rgxcn0cd24m5s9_3b_wmm0000gn/T/ipykernel_1161/2499813478.py:3: PerformanceWarning: DataFrame is highly fragmented.  This is usually the result of calling `frame.insert` many times, which has poor performance.  Consider joining all columns at once using pd.concat(axis=1) instead. To get a de-fragmented frame, use `newframe = frame.copy()`\n",
      "  df[label] = test_df[label].sum(axis=1)\n",
      "/var/folders/j3/l83rgxcn0cd24m5s9_3b_wmm0000gn/T/ipykernel_1161/2499813478.py:3: PerformanceWarning: DataFrame is highly fragmented.  This is usually the result of calling `frame.insert` many times, which has poor performance.  Consider joining all columns at once using pd.concat(axis=1) instead. To get a de-fragmented frame, use `newframe = frame.copy()`\n",
      "  df[label] = test_df[label].sum(axis=1)\n",
      "/var/folders/j3/l83rgxcn0cd24m5s9_3b_wmm0000gn/T/ipykernel_1161/2499813478.py:3: PerformanceWarning: DataFrame is highly fragmented.  This is usually the result of calling `frame.insert` many times, which has poor performance.  Consider joining all columns at once using pd.concat(axis=1) instead. To get a de-fragmented frame, use `newframe = frame.copy()`\n",
      "  df[label] = test_df[label].sum(axis=1)\n",
      "/var/folders/j3/l83rgxcn0cd24m5s9_3b_wmm0000gn/T/ipykernel_1161/2499813478.py:3: PerformanceWarning: DataFrame is highly fragmented.  This is usually the result of calling `frame.insert` many times, which has poor performance.  Consider joining all columns at once using pd.concat(axis=1) instead. To get a de-fragmented frame, use `newframe = frame.copy()`\n",
      "  df[label] = test_df[label].sum(axis=1)\n",
      "/var/folders/j3/l83rgxcn0cd24m5s9_3b_wmm0000gn/T/ipykernel_1161/2499813478.py:3: PerformanceWarning: DataFrame is highly fragmented.  This is usually the result of calling `frame.insert` many times, which has poor performance.  Consider joining all columns at once using pd.concat(axis=1) instead. To get a de-fragmented frame, use `newframe = frame.copy()`\n",
      "  df[label] = test_df[label].sum(axis=1)\n",
      "/var/folders/j3/l83rgxcn0cd24m5s9_3b_wmm0000gn/T/ipykernel_1161/2499813478.py:3: PerformanceWarning: DataFrame is highly fragmented.  This is usually the result of calling `frame.insert` many times, which has poor performance.  Consider joining all columns at once using pd.concat(axis=1) instead. To get a de-fragmented frame, use `newframe = frame.copy()`\n",
      "  df[label] = test_df[label].sum(axis=1)\n",
      "/var/folders/j3/l83rgxcn0cd24m5s9_3b_wmm0000gn/T/ipykernel_1161/2499813478.py:3: PerformanceWarning: DataFrame is highly fragmented.  This is usually the result of calling `frame.insert` many times, which has poor performance.  Consider joining all columns at once using pd.concat(axis=1) instead. To get a de-fragmented frame, use `newframe = frame.copy()`\n",
      "  df[label] = test_df[label].sum(axis=1)\n"
     ]
    }
   ],
   "source": [
    "for label in non_unique_labels:\n",
    "    if label != 'None' and label != None: \n",
    "        df[label] = test_df[label].sum(axis=1)\n",
    "df = df.copy()"
   ]
  },
  {
   "cell_type": "code",
   "execution_count": 372,
   "id": "4edd39a9-06ca-43cb-bc15-a3dd8b4f7a14",
   "metadata": {},
   "outputs": [],
   "source": [
    "#non_unique_labels"
   ]
  },
  {
   "cell_type": "code",
   "execution_count": 373,
   "id": "eb9a87b8-ed40-4c52-bc8f-7b6886748ca7",
   "metadata": {},
   "outputs": [
    {
     "data": {
      "text/plain": [
       "(1000, 969)"
      ]
     },
     "execution_count": 373,
     "metadata": {},
     "output_type": "execute_result"
    }
   ],
   "source": [
    "df.shape"
   ]
  },
  {
   "cell_type": "code",
   "execution_count": 374,
   "id": "e2f271d9-cb16-4212-bb99-1781618be303",
   "metadata": {},
   "outputs": [
    {
     "data": {
      "text/html": [
       "<div>\n",
       "<style scoped>\n",
       "    .dataframe tbody tr th:only-of-type {\n",
       "        vertical-align: middle;\n",
       "    }\n",
       "\n",
       "    .dataframe tbody tr th {\n",
       "        vertical-align: top;\n",
       "    }\n",
       "\n",
       "    .dataframe thead th {\n",
       "        text-align: right;\n",
       "    }\n",
       "</style>\n",
       "<table border=\"1\" class=\"dataframe\">\n",
       "  <thead>\n",
       "    <tr style=\"text-align: right;\">\n",
       "      <th></th>\n",
       "      <th>amazon-web-services</th>\n",
       "      <th>android-emulator</th>\n",
       "      <th>angular</th>\n",
       "      <th>antlr</th>\n",
       "      <th>apache</th>\n",
       "      <th>assembly</th>\n",
       "      <th>automake</th>\n",
       "      <th>awk</th>\n",
       "      <th>axis2</th>\n",
       "      <th>boolean</th>\n",
       "      <th>...</th>\n",
       "      <th>isr</th>\n",
       "      <th>jquery-ui-dialog</th>\n",
       "      <th>karma-jasmine</th>\n",
       "      <th>lessphp</th>\n",
       "      <th>mockery</th>\n",
       "      <th>node-ipc</th>\n",
       "      <th>prototypal-inheritance</th>\n",
       "      <th>spring-boot</th>\n",
       "      <th>vspackage</th>\n",
       "      <th>xamdatagrid</th>\n",
       "    </tr>\n",
       "  </thead>\n",
       "  <tbody>\n",
       "    <tr>\n",
       "      <th>amazon-web-services</th>\n",
       "      <td>0</td>\n",
       "      <td>0</td>\n",
       "      <td>0</td>\n",
       "      <td>0</td>\n",
       "      <td>0</td>\n",
       "      <td>0</td>\n",
       "      <td>0</td>\n",
       "      <td>0</td>\n",
       "      <td>0</td>\n",
       "      <td>0</td>\n",
       "      <td>...</td>\n",
       "      <td>0</td>\n",
       "      <td>0</td>\n",
       "      <td>0</td>\n",
       "      <td>0</td>\n",
       "      <td>0</td>\n",
       "      <td>0</td>\n",
       "      <td>0</td>\n",
       "      <td>0</td>\n",
       "      <td>0</td>\n",
       "      <td>0</td>\n",
       "    </tr>\n",
       "    <tr>\n",
       "      <th>android-emulator</th>\n",
       "      <td>0</td>\n",
       "      <td>0</td>\n",
       "      <td>0</td>\n",
       "      <td>0</td>\n",
       "      <td>0</td>\n",
       "      <td>0</td>\n",
       "      <td>0</td>\n",
       "      <td>0</td>\n",
       "      <td>0</td>\n",
       "      <td>0</td>\n",
       "      <td>...</td>\n",
       "      <td>0</td>\n",
       "      <td>0</td>\n",
       "      <td>0</td>\n",
       "      <td>0</td>\n",
       "      <td>0</td>\n",
       "      <td>0</td>\n",
       "      <td>0</td>\n",
       "      <td>0</td>\n",
       "      <td>0</td>\n",
       "      <td>0</td>\n",
       "    </tr>\n",
       "    <tr>\n",
       "      <th>angular</th>\n",
       "      <td>0</td>\n",
       "      <td>0</td>\n",
       "      <td>0</td>\n",
       "      <td>0</td>\n",
       "      <td>0</td>\n",
       "      <td>0</td>\n",
       "      <td>0</td>\n",
       "      <td>0</td>\n",
       "      <td>0</td>\n",
       "      <td>0</td>\n",
       "      <td>...</td>\n",
       "      <td>0</td>\n",
       "      <td>0</td>\n",
       "      <td>0</td>\n",
       "      <td>0</td>\n",
       "      <td>0</td>\n",
       "      <td>0</td>\n",
       "      <td>0</td>\n",
       "      <td>0</td>\n",
       "      <td>0</td>\n",
       "      <td>0</td>\n",
       "    </tr>\n",
       "    <tr>\n",
       "      <th>antlr</th>\n",
       "      <td>0</td>\n",
       "      <td>0</td>\n",
       "      <td>0</td>\n",
       "      <td>0</td>\n",
       "      <td>0</td>\n",
       "      <td>0</td>\n",
       "      <td>0</td>\n",
       "      <td>0</td>\n",
       "      <td>0</td>\n",
       "      <td>0</td>\n",
       "      <td>...</td>\n",
       "      <td>0</td>\n",
       "      <td>0</td>\n",
       "      <td>0</td>\n",
       "      <td>0</td>\n",
       "      <td>0</td>\n",
       "      <td>0</td>\n",
       "      <td>0</td>\n",
       "      <td>0</td>\n",
       "      <td>0</td>\n",
       "      <td>0</td>\n",
       "    </tr>\n",
       "    <tr>\n",
       "      <th>apache</th>\n",
       "      <td>0</td>\n",
       "      <td>0</td>\n",
       "      <td>0</td>\n",
       "      <td>0</td>\n",
       "      <td>0</td>\n",
       "      <td>0</td>\n",
       "      <td>0</td>\n",
       "      <td>0</td>\n",
       "      <td>0</td>\n",
       "      <td>0</td>\n",
       "      <td>...</td>\n",
       "      <td>0</td>\n",
       "      <td>0</td>\n",
       "      <td>0</td>\n",
       "      <td>0</td>\n",
       "      <td>0</td>\n",
       "      <td>0</td>\n",
       "      <td>0</td>\n",
       "      <td>0</td>\n",
       "      <td>0</td>\n",
       "      <td>0</td>\n",
       "    </tr>\n",
       "  </tbody>\n",
       "</table>\n",
       "<p>5 rows × 969 columns</p>\n",
       "</div>"
      ],
      "text/plain": [
       "                     amazon-web-services  android-emulator  angular  antlr  \\\n",
       "amazon-web-services                    0                 0        0      0   \n",
       "android-emulator                       0                 0        0      0   \n",
       "angular                                0                 0        0      0   \n",
       "antlr                                  0                 0        0      0   \n",
       "apache                                 0                 0        0      0   \n",
       "\n",
       "                     apache  assembly  automake  awk  axis2  boolean  ...  \\\n",
       "amazon-web-services       0         0         0    0      0        0  ...   \n",
       "android-emulator          0         0         0    0      0        0  ...   \n",
       "angular                   0         0         0    0      0        0  ...   \n",
       "antlr                     0         0         0    0      0        0  ...   \n",
       "apache                    0         0         0    0      0        0  ...   \n",
       "\n",
       "                     isr  jquery-ui-dialog  karma-jasmine  lessphp  mockery  \\\n",
       "amazon-web-services    0                 0              0        0        0   \n",
       "android-emulator       0                 0              0        0        0   \n",
       "angular                0                 0              0        0        0   \n",
       "antlr                  0                 0              0        0        0   \n",
       "apache                 0                 0              0        0        0   \n",
       "\n",
       "                     node-ipc  prototypal-inheritance  spring-boot  vspackage  \\\n",
       "amazon-web-services         0                       0            0          0   \n",
       "android-emulator            0                       0            0          0   \n",
       "angular                     0                       0            0          0   \n",
       "antlr                       0                       0            0          0   \n",
       "apache                      0                       0            0          0   \n",
       "\n",
       "                     xamdatagrid  \n",
       "amazon-web-services            0  \n",
       "android-emulator               0  \n",
       "angular                        0  \n",
       "antlr                          0  \n",
       "apache                         0  \n",
       "\n",
       "[5 rows x 969 columns]"
      ]
     },
     "execution_count": 374,
     "metadata": {},
     "output_type": "execute_result"
    }
   ],
   "source": [
    "tag_df_asint = df.astype(int)\n",
    "coocc = tag_df_asint.T.dot(tag_df_asint)\n",
    "np.fill_diagonal(coocc.values, 0)\n",
    "coocc.head()"
   ]
  },
  {
   "cell_type": "code",
   "execution_count": 375,
   "id": "18a59016-013f-4017-bdef-297d0af0ba7a",
   "metadata": {},
   "outputs": [],
   "source": [
    "# cooccurence matrix to dictionary\n",
    "coocc_dic = coocc.to_dict()"
   ]
  },
  {
   "cell_type": "code",
   "execution_count": 376,
   "id": "b5a53fec-df97-4aba-adce-18f697609dcb",
   "metadata": {},
   "outputs": [],
   "source": [
    "# create dataframe represnting a network\n",
    "tag1_ls = []\n",
    "frames = []\n",
    "\n",
    "for tag1, tag_dic in coocc_dic.items():\n",
    "    tag1_ls.append(tag1)\n",
    "    frames.append(pd.DataFrame.from_dict(tag_dic, orient='index'))\n",
    "\n",
    "network_df = pd.concat(frames, keys=tag1_ls)\n",
    "network_df = network_df.reset_index().rename(columns = {\"level_0\" : \"tag1\", \"level_1\" : \"tag2\", 0: \"cooccurence\"})"
   ]
  },
  {
   "cell_type": "code",
   "execution_count": 377,
   "id": "c324a16e-d369-41ee-b974-3fa064dacf63",
   "metadata": {},
   "outputs": [
    {
     "data": {
      "text/html": [
       "<div>\n",
       "<style scoped>\n",
       "    .dataframe tbody tr th:only-of-type {\n",
       "        vertical-align: middle;\n",
       "    }\n",
       "\n",
       "    .dataframe tbody tr th {\n",
       "        vertical-align: top;\n",
       "    }\n",
       "\n",
       "    .dataframe thead th {\n",
       "        text-align: right;\n",
       "    }\n",
       "</style>\n",
       "<table border=\"1\" class=\"dataframe\">\n",
       "  <thead>\n",
       "    <tr style=\"text-align: right;\">\n",
       "      <th></th>\n",
       "      <th>tag1</th>\n",
       "      <th>tag2</th>\n",
       "      <th>cooccurence</th>\n",
       "    </tr>\n",
       "  </thead>\n",
       "  <tbody>\n",
       "    <tr>\n",
       "      <th>30753</th>\n",
       "      <td>java</td>\n",
       "      <td>android</td>\n",
       "      <td>12</td>\n",
       "    </tr>\n",
       "    <tr>\n",
       "      <th>691651</th>\n",
       "      <td>ajax</td>\n",
       "      <td>jquery</td>\n",
       "      <td>20</td>\n",
       "    </tr>\n",
       "    <tr>\n",
       "      <th>691897</th>\n",
       "      <td>android</td>\n",
       "      <td>java</td>\n",
       "      <td>12</td>\n",
       "    </tr>\n",
       "    <tr>\n",
       "      <th>722772</th>\n",
       "      <td>hadoop</td>\n",
       "      <td>mapreduce</td>\n",
       "      <td>12</td>\n",
       "    </tr>\n",
       "    <tr>\n",
       "      <th>724594</th>\n",
       "      <td>html</td>\n",
       "      <td>javascript</td>\n",
       "      <td>13</td>\n",
       "    </tr>\n",
       "    <tr>\n",
       "      <th>724597</th>\n",
       "      <td>html</td>\n",
       "      <td>jquery</td>\n",
       "      <td>17</td>\n",
       "    </tr>\n",
       "    <tr>\n",
       "      <th>728466</th>\n",
       "      <td>javascript</td>\n",
       "      <td>html</td>\n",
       "      <td>13</td>\n",
       "    </tr>\n",
       "    <tr>\n",
       "      <th>728473</th>\n",
       "      <td>javascript</td>\n",
       "      <td>jquery</td>\n",
       "      <td>69</td>\n",
       "    </tr>\n",
       "    <tr>\n",
       "      <th>731339</th>\n",
       "      <td>jquery</td>\n",
       "      <td>ajax</td>\n",
       "      <td>20</td>\n",
       "    </tr>\n",
       "    <tr>\n",
       "      <th>731373</th>\n",
       "      <td>jquery</td>\n",
       "      <td>html</td>\n",
       "      <td>17</td>\n",
       "    </tr>\n",
       "  </tbody>\n",
       "</table>\n",
       "</div>"
      ],
      "text/plain": [
       "              tag1        tag2  cooccurence\n",
       "30753         java     android           12\n",
       "691651        ajax      jquery           20\n",
       "691897     android        java           12\n",
       "722772      hadoop   mapreduce           12\n",
       "724594        html  javascript           13\n",
       "724597        html      jquery           17\n",
       "728466  javascript        html           13\n",
       "728473  javascript      jquery           69\n",
       "731339      jquery        ajax           20\n",
       "731373      jquery        html           17"
      ]
     },
     "execution_count": 377,
     "metadata": {},
     "output_type": "execute_result"
    }
   ],
   "source": [
    "network_df[network_df[\"cooccurence\"] > 10].head(10)"
   ]
  },
  {
   "cell_type": "code",
   "execution_count": null,
   "id": "da5ecb91-6e18-4779-8fab-1c515552fc25",
   "metadata": {},
   "outputs": [],
   "source": []
  },
  {
   "cell_type": "code",
   "execution_count": null,
   "id": "60f40788-63e4-4687-9582-cd05682a7d1a",
   "metadata": {},
   "outputs": [],
   "source": []
  },
  {
   "cell_type": "code",
   "execution_count": null,
   "id": "4e80fc02-1f7e-40c3-a1a2-77fd0255e7a6",
   "metadata": {},
   "outputs": [],
   "source": []
  },
  {
   "cell_type": "code",
   "execution_count": null,
   "id": "4aa94337-0435-4b09-ae0c-b4dc4ee754c1",
   "metadata": {},
   "outputs": [],
   "source": []
  },
  {
   "cell_type": "code",
   "execution_count": null,
   "id": "e394bd0c-306b-4928-9b24-e48e21e2eaa4",
   "metadata": {},
   "outputs": [],
   "source": []
  },
  {
   "cell_type": "code",
   "execution_count": null,
   "id": "558f8c6f-9283-4a5a-84b1-ad951bef376f",
   "metadata": {},
   "outputs": [],
   "source": []
  },
  {
   "cell_type": "code",
   "execution_count": null,
   "id": "90a39681-badf-4c7d-b0b2-5cdfbdf29ffe",
   "metadata": {},
   "outputs": [],
   "source": []
  },
  {
   "cell_type": "code",
   "execution_count": null,
   "id": "3c3f1b38-3275-4734-8569-0cc61dd6e049",
   "metadata": {},
   "outputs": [],
   "source": []
  },
  {
   "cell_type": "code",
   "execution_count": null,
   "id": "6d05f8de-98b2-4102-b5bd-43554796d67e",
   "metadata": {},
   "outputs": [],
   "source": []
  },
  {
   "cell_type": "code",
   "execution_count": null,
   "id": "9cf363c9-5df2-4ffb-8540-0e46d0828dcc",
   "metadata": {},
   "outputs": [],
   "source": []
  },
  {
   "cell_type": "code",
   "execution_count": 126,
   "id": "bcea40a3-c7ed-4470-a568-c41448a712f5",
   "metadata": {},
   "outputs": [
    {
     "ename": "ValueError",
     "evalue": "Shape mismatch: if categories is an array, it has to be of shape (n_features,).",
     "output_type": "error",
     "traceback": [
      "\u001b[0;31m---------------------------------------------------------------------------\u001b[0m",
      "\u001b[0;31mValueError\u001b[0m                                Traceback (most recent call last)",
      "Input \u001b[0;32mIn [126]\u001b[0m, in \u001b[0;36m<cell line: 3>\u001b[0;34m()\u001b[0m\n\u001b[1;32m      1\u001b[0m \u001b[38;5;66;03m# implementation with sklearn\u001b[39;00m\n\u001b[1;32m      3\u001b[0m y \u001b[38;5;241m=\u001b[39m \u001b[43mOneHotEncoder\u001b[49m\u001b[43m(\u001b[49m\u001b[43mcategories\u001b[49m\u001b[38;5;241;43m=\u001b[39;49m\u001b[43munique_tags\u001b[49m\u001b[43m,\u001b[49m\u001b[43m \u001b[49m\n\u001b[1;32m      4\u001b[0m \u001b[43m                  \u001b[49m\u001b[43msparse\u001b[49m\u001b[38;5;241;43m=\u001b[39;49m\u001b[38;5;28;43;01mFalse\u001b[39;49;00m\u001b[43m,\u001b[49m\u001b[43m \u001b[49m\n\u001b[0;32m----> 5\u001b[0m \u001b[43m                  \u001b[49m\u001b[43mhandle_unknown\u001b[49m\u001b[38;5;241;43m=\u001b[39;49m\u001b[38;5;124;43m'\u001b[39;49m\u001b[38;5;124;43merror\u001b[39;49m\u001b[38;5;124;43m'\u001b[39;49m\u001b[43m)\u001b[49m\u001b[38;5;241;43m.\u001b[39;49m\u001b[43mfit_transform\u001b[49m\u001b[43m(\u001b[49m\u001b[43mk\u001b[49m\u001b[43m[\u001b[49m\u001b[43m:\u001b[49m\u001b[38;5;241;43m10\u001b[39;49m\u001b[43m]\u001b[49m\u001b[43m)\u001b[49m\u001b[38;5;241m.\u001b[39mtoarray()\n\u001b[1;32m      6\u001b[0m \u001b[38;5;28mprint\u001b[39m(y)\n",
      "File \u001b[0;32m~/opt/anaconda3/envs/spatial_inequ/lib/python3.10/site-packages/sklearn/preprocessing/_encoders.py:488\u001b[0m, in \u001b[0;36mOneHotEncoder.fit_transform\u001b[0;34m(self, X, y)\u001b[0m\n\u001b[1;32m    466\u001b[0m \u001b[38;5;124;03m\"\"\"\u001b[39;00m\n\u001b[1;32m    467\u001b[0m \u001b[38;5;124;03mFit OneHotEncoder to X, then transform X.\u001b[39;00m\n\u001b[1;32m    468\u001b[0m \n\u001b[0;32m   (...)\u001b[0m\n\u001b[1;32m    485\u001b[0m \u001b[38;5;124;03m    returned.\u001b[39;00m\n\u001b[1;32m    486\u001b[0m \u001b[38;5;124;03m\"\"\"\u001b[39;00m\n\u001b[1;32m    487\u001b[0m \u001b[38;5;28mself\u001b[39m\u001b[38;5;241m.\u001b[39m_validate_keywords()\n\u001b[0;32m--> 488\u001b[0m \u001b[38;5;28;01mreturn\u001b[39;00m \u001b[38;5;28;43msuper\u001b[39;49m\u001b[43m(\u001b[49m\u001b[43m)\u001b[49m\u001b[38;5;241;43m.\u001b[39;49m\u001b[43mfit_transform\u001b[49m\u001b[43m(\u001b[49m\u001b[43mX\u001b[49m\u001b[43m,\u001b[49m\u001b[43m \u001b[49m\u001b[43my\u001b[49m\u001b[43m)\u001b[49m\n",
      "File \u001b[0;32m~/opt/anaconda3/envs/spatial_inequ/lib/python3.10/site-packages/sklearn/base.py:852\u001b[0m, in \u001b[0;36mTransformerMixin.fit_transform\u001b[0;34m(self, X, y, **fit_params)\u001b[0m\n\u001b[1;32m    848\u001b[0m \u001b[38;5;66;03m# non-optimized default implementation; override when a better\u001b[39;00m\n\u001b[1;32m    849\u001b[0m \u001b[38;5;66;03m# method is possible for a given clustering algorithm\u001b[39;00m\n\u001b[1;32m    850\u001b[0m \u001b[38;5;28;01mif\u001b[39;00m y \u001b[38;5;129;01mis\u001b[39;00m \u001b[38;5;28;01mNone\u001b[39;00m:\n\u001b[1;32m    851\u001b[0m     \u001b[38;5;66;03m# fit method of arity 1 (unsupervised transformation)\u001b[39;00m\n\u001b[0;32m--> 852\u001b[0m     \u001b[38;5;28;01mreturn\u001b[39;00m \u001b[38;5;28;43mself\u001b[39;49m\u001b[38;5;241;43m.\u001b[39;49m\u001b[43mfit\u001b[49m\u001b[43m(\u001b[49m\u001b[43mX\u001b[49m\u001b[43m,\u001b[49m\u001b[43m \u001b[49m\u001b[38;5;241;43m*\u001b[39;49m\u001b[38;5;241;43m*\u001b[39;49m\u001b[43mfit_params\u001b[49m\u001b[43m)\u001b[49m\u001b[38;5;241m.\u001b[39mtransform(X)\n\u001b[1;32m    853\u001b[0m \u001b[38;5;28;01melse\u001b[39;00m:\n\u001b[1;32m    854\u001b[0m     \u001b[38;5;66;03m# fit method of arity 2 (supervised transformation)\u001b[39;00m\n\u001b[1;32m    855\u001b[0m     \u001b[38;5;28;01mreturn\u001b[39;00m \u001b[38;5;28mself\u001b[39m\u001b[38;5;241m.\u001b[39mfit(X, y, \u001b[38;5;241m*\u001b[39m\u001b[38;5;241m*\u001b[39mfit_params)\u001b[38;5;241m.\u001b[39mtransform(X)\n",
      "File \u001b[0;32m~/opt/anaconda3/envs/spatial_inequ/lib/python3.10/site-packages/sklearn/preprocessing/_encoders.py:461\u001b[0m, in \u001b[0;36mOneHotEncoder.fit\u001b[0;34m(self, X, y)\u001b[0m\n\u001b[1;32m    443\u001b[0m \u001b[38;5;124;03m\"\"\"\u001b[39;00m\n\u001b[1;32m    444\u001b[0m \u001b[38;5;124;03mFit OneHotEncoder to X.\u001b[39;00m\n\u001b[1;32m    445\u001b[0m \n\u001b[0;32m   (...)\u001b[0m\n\u001b[1;32m    458\u001b[0m \u001b[38;5;124;03m    Fitted encoder.\u001b[39;00m\n\u001b[1;32m    459\u001b[0m \u001b[38;5;124;03m\"\"\"\u001b[39;00m\n\u001b[1;32m    460\u001b[0m \u001b[38;5;28mself\u001b[39m\u001b[38;5;241m.\u001b[39m_validate_keywords()\n\u001b[0;32m--> 461\u001b[0m \u001b[38;5;28;43mself\u001b[39;49m\u001b[38;5;241;43m.\u001b[39;49m\u001b[43m_fit\u001b[49m\u001b[43m(\u001b[49m\u001b[43mX\u001b[49m\u001b[43m,\u001b[49m\u001b[43m \u001b[49m\u001b[43mhandle_unknown\u001b[49m\u001b[38;5;241;43m=\u001b[39;49m\u001b[38;5;28;43mself\u001b[39;49m\u001b[38;5;241;43m.\u001b[39;49m\u001b[43mhandle_unknown\u001b[49m\u001b[43m,\u001b[49m\u001b[43m \u001b[49m\u001b[43mforce_all_finite\u001b[49m\u001b[38;5;241;43m=\u001b[39;49m\u001b[38;5;124;43m\"\u001b[39;49m\u001b[38;5;124;43mallow-nan\u001b[39;49m\u001b[38;5;124;43m\"\u001b[39;49m\u001b[43m)\u001b[49m\n\u001b[1;32m    462\u001b[0m \u001b[38;5;28mself\u001b[39m\u001b[38;5;241m.\u001b[39mdrop_idx_ \u001b[38;5;241m=\u001b[39m \u001b[38;5;28mself\u001b[39m\u001b[38;5;241m.\u001b[39m_compute_drop_idx()\n\u001b[1;32m    463\u001b[0m \u001b[38;5;28;01mreturn\u001b[39;00m \u001b[38;5;28mself\u001b[39m\n",
      "File \u001b[0;32m~/opt/anaconda3/envs/spatial_inequ/lib/python3.10/site-packages/sklearn/preprocessing/_encoders.py:84\u001b[0m, in \u001b[0;36m_BaseEncoder._fit\u001b[0;34m(self, X, handle_unknown, force_all_finite)\u001b[0m\n\u001b[1;32m     82\u001b[0m \u001b[38;5;28;01mif\u001b[39;00m \u001b[38;5;28mself\u001b[39m\u001b[38;5;241m.\u001b[39mcategories \u001b[38;5;241m!=\u001b[39m \u001b[38;5;124m\"\u001b[39m\u001b[38;5;124mauto\u001b[39m\u001b[38;5;124m\"\u001b[39m:\n\u001b[1;32m     83\u001b[0m     \u001b[38;5;28;01mif\u001b[39;00m \u001b[38;5;28mlen\u001b[39m(\u001b[38;5;28mself\u001b[39m\u001b[38;5;241m.\u001b[39mcategories) \u001b[38;5;241m!=\u001b[39m n_features:\n\u001b[0;32m---> 84\u001b[0m         \u001b[38;5;28;01mraise\u001b[39;00m \u001b[38;5;167;01mValueError\u001b[39;00m(\n\u001b[1;32m     85\u001b[0m             \u001b[38;5;124m\"\u001b[39m\u001b[38;5;124mShape mismatch: if categories is an array,\u001b[39m\u001b[38;5;124m\"\u001b[39m\n\u001b[1;32m     86\u001b[0m             \u001b[38;5;124m\"\u001b[39m\u001b[38;5;124m it has to be of shape (n_features,).\u001b[39m\u001b[38;5;124m\"\u001b[39m\n\u001b[1;32m     87\u001b[0m         )\n\u001b[1;32m     89\u001b[0m \u001b[38;5;28mself\u001b[39m\u001b[38;5;241m.\u001b[39mcategories_ \u001b[38;5;241m=\u001b[39m []\n\u001b[1;32m     91\u001b[0m \u001b[38;5;28;01mfor\u001b[39;00m i \u001b[38;5;129;01min\u001b[39;00m \u001b[38;5;28mrange\u001b[39m(n_features):\n",
      "\u001b[0;31mValueError\u001b[0m: Shape mismatch: if categories is an array, it has to be of shape (n_features,)."
     ]
    }
   ],
   "source": [
    "# implementation with sklearn\n",
    "\n",
    "y = OneHotEncoder(categories=unique_tags, \n",
    "                  sparse=False, \n",
    "                  handle_unknown='error').fit_transform(k[:10]).toarray()\n",
    "print(y)"
   ]
  },
  {
   "cell_type": "code",
   "execution_count": null,
   "id": "8d243fde-e17b-4730-91ee-e59ee9473ed7",
   "metadata": {},
   "outputs": [],
   "source": []
  }
 ],
 "metadata": {
  "kernelspec": {
   "display_name": "Python 3 (ipykernel)",
   "language": "python",
   "name": "python3"
  },
  "language_info": {
   "codemirror_mode": {
    "name": "ipython",
    "version": 3
   },
   "file_extension": ".py",
   "mimetype": "text/x-python",
   "name": "python",
   "nbconvert_exporter": "python",
   "pygments_lexer": "ipython3",
   "version": "3.10.5"
  }
 },
 "nbformat": 4,
 "nbformat_minor": 5
}
