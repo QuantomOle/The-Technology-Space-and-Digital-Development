{
 "cells": [
  {
   "cell_type": "markdown",
   "id": "2d0aa616-9714-427e-b918-40898460aa67",
   "metadata": {},
   "source": [
    "# Generate stackoverflow tag co-occurance matrix for network construction "
   ]
  },
  {
   "cell_type": "code",
   "execution_count": 1,
   "id": "fa95c911-d149-4b04-a6a5-0a501df4e8e4",
   "metadata": {},
   "outputs": [
    {
     "data": {
      "text/plain": [
       "'/Users/alexandrarottenkolber/Documents/05_Spatial_Inequalities/The-Technology-Space-and-Digital-Development/code_alexandra'"
      ]
     },
     "execution_count": 1,
     "metadata": {},
     "output_type": "execute_result"
    }
   ],
   "source": [
    "pwd()"
   ]
  },
  {
   "cell_type": "code",
   "execution_count": 2,
   "id": "ad3237c5-681c-48be-b15b-9a496e460276",
   "metadata": {},
   "outputs": [],
   "source": [
    "import pandas as pd\n",
    "import numpy as np\n",
    "import itertools\n",
    "from collections import Counter\n",
    "from sklearn.preprocessing import OneHotEncoder"
   ]
  },
  {
   "cell_type": "code",
   "execution_count": 4,
   "id": "507b92c7-49e0-4bb3-a21f-96b3a3c69837",
   "metadata": {},
   "outputs": [],
   "source": [
    "count = 0\n",
    "for chunk in enumerate(pd.read_csv(\"../../Alexandra/data/stackoverflow.csv\", chunksize=1000)):\n",
    "    count += 1\n",
    "    if count == 1: \n",
    "        df = chunk[1].copy()\n",
    "    else: \n",
    "        break"
   ]
  },
  {
   "cell_type": "code",
   "execution_count": null,
   "id": "13b965c7-d714-44ed-84bb-7fd584fed6e8",
   "metadata": {},
   "outputs": [],
   "source": [
    "df = pd.read_csv(\"../../Alexandra/data/stackoverflow.csv\", low_memory=False)"
   ]
  },
  {
   "cell_type": "code",
   "execution_count": null,
   "id": "27661030-2d11-4c31-a64b-7d0a6b8b00ba",
   "metadata": {},
   "outputs": [],
   "source": [
    "type(df)"
   ]
  },
  {
   "cell_type": "code",
   "execution_count": null,
   "id": "0038b20e-7967-43ed-9ead-3acc321eb8a7",
   "metadata": {},
   "outputs": [],
   "source": [
    "df.head()"
   ]
  },
  {
   "cell_type": "code",
   "execution_count": null,
   "id": "edefb1fd-5910-47b3-8288-3dd3347d89b9",
   "metadata": {},
   "outputs": [],
   "source": [
    "no_tag = len(df[df['tags'].apply(lambda x: isinstance(x,float))])\n",
    "print(\"There are\", no_tag , \"observations that do not have tags.\")\n",
    "print(\"This equals\", int(round(no_tag/len(df), 2)*100), \"%.\")# there are 17362901 observations that do not have tags"
   ]
  },
  {
   "cell_type": "code",
   "execution_count": null,
   "id": "ddf94009-dd24-4a72-979e-ddcfdd361cdf",
   "metadata": {},
   "outputs": [],
   "source": [
    "df = df[df['tags'].notna()]\n",
    "len(df)"
   ]
  },
  {
   "cell_type": "code",
   "execution_count": null,
   "id": "edac0e31-1273-4a18-bf01-3c3f5bdfad80",
   "metadata": {},
   "outputs": [],
   "source": [
    "# find unique tags\n",
    "splitted_list = [string.split(\"|\") for string in list(df[\"tags\"])]\n",
    "splitted_list_flat = [str_ for sublist in splitted_list for str_ in sublist]\n",
    "unique_tags = list(set(splitted_list_flat))\n",
    "unique_ids = list(set(list(df[\"_id\"])))\n",
    "len(unique_tags), len(unique_ids)"
   ]
  },
  {
   "cell_type": "code",
   "execution_count": null,
   "id": "34e35a86-afef-4342-b11e-0ee3d5b7ac0a",
   "metadata": {},
   "outputs": [],
   "source": [
    "# how often does each tag show up? \n",
    "tag_counts = Counter(splitted_list_flat)"
   ]
  },
  {
   "cell_type": "code",
   "execution_count": null,
   "id": "5c066652-953b-42f8-a336-027e7311dd79",
   "metadata": {},
   "outputs": [],
   "source": [
    "tag_counts_df = pd.DataFrame.from_dict(tag_counts, orient='index').reset_index().rename(columns = {\"index\": \"tag\", 0: \"occurence_count\"})\n",
    "tag_counts_df = tag_counts_df.sort_values(by = \"occurence_count\", ascending=False)\n",
    "tag_counts_df.head()"
   ]
  },
  {
   "cell_type": "code",
   "execution_count": null,
   "id": "cf199f37-58d0-4fa0-be2f-d1f0d6b964bd",
   "metadata": {},
   "outputs": [],
   "source": [
    "# select top 1000 tags\n",
    "top_1000_tags_df = tag_counts_df.head(1000).copy()\n",
    "top_1000_tags_ls = list(top_1000_tags_df[\"tag\"])\n",
    "top_1000_tags_df.head()"
   ]
  },
  {
   "cell_type": "code",
   "execution_count": null,
   "id": "e5a49e57-5889-4f2f-a396-27b552ec656d",
   "metadata": {
    "tags": []
   },
   "outputs": [],
   "source": [
    "# keep only frequent tags (top 1000)\n",
    "splitted_list_filtered = [[x for x in sublist if x in set(top_1000_tags_ls)] for sublist in splitted_list]"
   ]
  },
  {
   "cell_type": "code",
   "execution_count": null,
   "id": "33c439e0-2432-4055-8d1c-dae2da8f3a6c",
   "metadata": {},
   "outputs": [],
   "source": [
    "len(splitted_list_filtered)"
   ]
  },
  {
   "cell_type": "raw",
   "id": "cee42389-7cd2-41e1-ab05-9ed8516fb694",
   "metadata": {},
   "source": [
    "# open file in write mode\n",
    "with open(r'../data/splitted_list.txt', 'w') as fp:\n",
    "    for item in splitted_list:\n",
    "        # write each item on a new line\n",
    "        fp.write(\"%s\\n\" % item)\n",
    "    print('Done')"
   ]
  },
  {
   "cell_type": "code",
   "execution_count": 3,
   "id": "f49c4f41-6f64-4a60-b94b-8460070eb6de",
   "metadata": {},
   "outputs": [],
   "source": [
    "# read in filtered list \n",
    "splitted_list_filtered = []\n",
    "\n",
    "# open file and read the content in a list\n",
    "with open(r'../data/splitted_list.txt', 'r') as infile:\n",
    "    for line in infile:\n",
    "        # remove linebreak from a current name\n",
    "        # linebreak is the last character of each line\n",
    "        x = line[:-1]\n",
    "\n",
    "        # add current item to the list\n",
    "        splitted_list_filtered.append(x)"
   ]
  },
  {
   "cell_type": "code",
   "execution_count": 4,
   "id": "8af58617-9456-41c4-8f99-2689dce879e8",
   "metadata": {},
   "outputs": [
    {
     "data": {
      "text/plain": [
       "[\"['wpf', 'visual-studio-2010']\",\n",
       " \"['c#', 'visual-studio']\",\n",
       " \"['c#', 'inheritance', 'ef-code-first', 'entity-framework-6']\",\n",
       " \"['c#', 'generics', 'reflection']\",\n",
       " \"['angularjs', 'select', 'angular-ui-router']\",\n",
       " \"['wpf', 'triggers', 'treeview']\",\n",
       " \"['c#', 'winforms', 'button']\",\n",
       " \"['c#', 'css', 'asp.net-mvc-4', 'azure']\",\n",
       " \"['c#', 'inheritance', 'odata']\",\n",
       " \"['c#', 'visual-studio']\"]"
      ]
     },
     "execution_count": 4,
     "metadata": {},
     "output_type": "execute_result"
    }
   ],
   "source": [
    "len(splitted_list_filtered)\n",
    "splitted_list_filtered[:10]"
   ]
  },
  {
   "cell_type": "code",
   "execution_count": 68,
   "id": "e54bc5d5-70b0-4355-8921-581041b7df82",
   "metadata": {},
   "outputs": [],
   "source": [
    "# Prepare data to calculate co-coocurence matrix \n",
    "\n",
    "# 1 Generate one-hot-encodings\n",
    "# 2 combine column headers and count \n",
    "# 3 calculate co-occurance matrix"
   ]
  },
  {
   "cell_type": "code",
   "execution_count": 5,
   "id": "7ca570fa-cabd-40e4-b224-152cfa9661bf",
   "metadata": {},
   "outputs": [],
   "source": [
    "k = pd.DataFrame(splitted_list_filtered).to_numpy().tolist()"
   ]
  },
  {
   "cell_type": "code",
   "execution_count": 6,
   "id": "a9ef8c6f-45f2-477c-9ee6-534c5e1b8ee2",
   "metadata": {},
   "outputs": [],
   "source": [
    "del(splitted_list_filtered)"
   ]
  },
  {
   "cell_type": "code",
   "execution_count": 7,
   "id": "7f6a7996-cbcf-4788-86f5-26ad4950ab55",
   "metadata": {},
   "outputs": [
    {
     "data": {
      "text/plain": [
       "OneHotEncoder(sparse=False)"
      ]
     },
     "execution_count": 7,
     "metadata": {},
     "output_type": "execute_result"
    }
   ],
   "source": [
    "enc = OneHotEncoder(categories=\"auto\", sparse=False)\n",
    "enc.fit(k)"
   ]
  },
  {
   "cell_type": "code",
   "execution_count": 8,
   "id": "49c2979e-167e-4212-8a4c-155078221f82",
   "metadata": {},
   "outputs": [],
   "source": [
    "labels=[str(x) for xs in enc.categories_ for x in xs]"
   ]
  },
  {
   "cell_type": "code",
   "execution_count": null,
   "id": "ffcabab4-ad4a-479e-93ba-c5bf01a81fa8",
   "metadata": {},
   "outputs": [],
   "source": [
    "# implementation with sklearn\n",
    "\n",
    "y = enc.transform(k)#.toarray()\n",
    "y.shape"
   ]
  },
  {
   "cell_type": "code",
   "execution_count": null,
   "id": "f2ea6f2a-a678-4841-94b3-96be5a9c15b2",
   "metadata": {},
   "outputs": [],
   "source": [
    "ohe_df = pd.DataFrame(y, columns = labels)"
   ]
  },
  {
   "cell_type": "code",
   "execution_count": null,
   "id": "b17379c7-1a42-41fe-bc46-61a7c3d972ca",
   "metadata": {},
   "outputs": [],
   "source": [
    "cnt = Counter(list(ohe_df.columns))\n",
    "non_unique_labels = [k for k, v in cnt.items() if v > 1 and v != \"None\" and v != None]\n",
    "unique_labels = [k for k, v in cnt.items() if v == 1 and v != \"None\" and v != None]\n",
    "len(non_unique_labels), len(unique_labels)"
   ]
  },
  {
   "cell_type": "code",
   "execution_count": null,
   "id": "415168c0-97aa-4da9-b366-3892955c4213",
   "metadata": {},
   "outputs": [],
   "source": [
    "df=ohe_df[unique_labels].copy()\n",
    "df.shape"
   ]
  },
  {
   "cell_type": "code",
   "execution_count": null,
   "id": "b6c9ec5f-d245-4742-b86c-d4d5b28330f8",
   "metadata": {},
   "outputs": [],
   "source": [
    "df.head()"
   ]
  },
  {
   "cell_type": "code",
   "execution_count": null,
   "id": "c57cc7c9-99af-4824-9736-b4744c61c677",
   "metadata": {},
   "outputs": [],
   "source": [
    "for label in non_unique_labels:\n",
    "    if label != 'None' and label != None: \n",
    "        df[label] = ohe_df[label].sum(axis=1)\n",
    "        df = df.copy()\n",
    "df.shape"
   ]
  },
  {
   "cell_type": "code",
   "execution_count": null,
   "id": "e2f271d9-cb16-4212-bb99-1781618be303",
   "metadata": {},
   "outputs": [],
   "source": [
    "tag_df_asint = df.astype(int)\n",
    "del(df)\n",
    "coocc = tag_df_asint.T.dot(tag_df_asint)\n",
    "np.fill_diagonal(coocc.values, 0)\n",
    "coocc.head()"
   ]
  },
  {
   "cell_type": "code",
   "execution_count": null,
   "id": "18a59016-013f-4017-bdef-297d0af0ba7a",
   "metadata": {},
   "outputs": [],
   "source": [
    "# cooccurence matrix to dictionary\n",
    "coocc_dic = coocc.to_dict()"
   ]
  },
  {
   "cell_type": "code",
   "execution_count": null,
   "id": "b5a53fec-df97-4aba-adce-18f697609dcb",
   "metadata": {},
   "outputs": [],
   "source": [
    "# create dataframe represnting a network\n",
    "tag1_ls = []\n",
    "frames = []\n",
    "\n",
    "for tag1, tag_dic in coocc_dic.items():\n",
    "    tag1_ls.append(tag1)\n",
    "    frames.append(pd.DataFrame.from_dict(tag_dic, orient='index'))\n",
    "\n",
    "network_df = pd.concat(frames, keys=tag1_ls)\n",
    "network_df = network_df.reset_index().rename(columns = {\"level_0\" : \"tag1\", \"level_1\" : \"tag2\", 0: \"cooccurence\"})"
   ]
  },
  {
   "cell_type": "code",
   "execution_count": null,
   "id": "c324a16e-d369-41ee-b974-3fa064dacf63",
   "metadata": {},
   "outputs": [],
   "source": [
    "network_df[network_df[\"cooccurence\"] > 10].head(10)"
   ]
  },
  {
   "cell_type": "code",
   "execution_count": null,
   "id": "da5ecb91-6e18-4779-8fab-1c515552fc25",
   "metadata": {},
   "outputs": [],
   "source": []
  },
  {
   "cell_type": "code",
   "execution_count": null,
   "id": "60f40788-63e4-4687-9582-cd05682a7d1a",
   "metadata": {},
   "outputs": [],
   "source": []
  },
  {
   "cell_type": "code",
   "execution_count": null,
   "id": "4e80fc02-1f7e-40c3-a1a2-77fd0255e7a6",
   "metadata": {},
   "outputs": [],
   "source": []
  },
  {
   "cell_type": "code",
   "execution_count": null,
   "id": "4aa94337-0435-4b09-ae0c-b4dc4ee754c1",
   "metadata": {},
   "outputs": [],
   "source": []
  },
  {
   "cell_type": "code",
   "execution_count": null,
   "id": "e394bd0c-306b-4928-9b24-e48e21e2eaa4",
   "metadata": {},
   "outputs": [],
   "source": []
  },
  {
   "cell_type": "code",
   "execution_count": null,
   "id": "558f8c6f-9283-4a5a-84b1-ad951bef376f",
   "metadata": {},
   "outputs": [],
   "source": []
  },
  {
   "cell_type": "code",
   "execution_count": null,
   "id": "90a39681-badf-4c7d-b0b2-5cdfbdf29ffe",
   "metadata": {},
   "outputs": [],
   "source": []
  },
  {
   "cell_type": "code",
   "execution_count": null,
   "id": "3c3f1b38-3275-4734-8569-0cc61dd6e049",
   "metadata": {},
   "outputs": [],
   "source": []
  },
  {
   "cell_type": "code",
   "execution_count": null,
   "id": "6d05f8de-98b2-4102-b5bd-43554796d67e",
   "metadata": {},
   "outputs": [],
   "source": []
  },
  {
   "cell_type": "code",
   "execution_count": null,
   "id": "9cf363c9-5df2-4ffb-8540-0e46d0828dcc",
   "metadata": {},
   "outputs": [],
   "source": []
  },
  {
   "cell_type": "code",
   "execution_count": 126,
   "id": "bcea40a3-c7ed-4470-a568-c41448a712f5",
   "metadata": {},
   "outputs": [
    {
     "ename": "ValueError",
     "evalue": "Shape mismatch: if categories is an array, it has to be of shape (n_features,).",
     "output_type": "error",
     "traceback": [
      "\u001b[0;31m---------------------------------------------------------------------------\u001b[0m",
      "\u001b[0;31mValueError\u001b[0m                                Traceback (most recent call last)",
      "Input \u001b[0;32mIn [126]\u001b[0m, in \u001b[0;36m<cell line: 3>\u001b[0;34m()\u001b[0m\n\u001b[1;32m      1\u001b[0m \u001b[38;5;66;03m# implementation with sklearn\u001b[39;00m\n\u001b[1;32m      3\u001b[0m y \u001b[38;5;241m=\u001b[39m \u001b[43mOneHotEncoder\u001b[49m\u001b[43m(\u001b[49m\u001b[43mcategories\u001b[49m\u001b[38;5;241;43m=\u001b[39;49m\u001b[43munique_tags\u001b[49m\u001b[43m,\u001b[49m\u001b[43m \u001b[49m\n\u001b[1;32m      4\u001b[0m \u001b[43m                  \u001b[49m\u001b[43msparse\u001b[49m\u001b[38;5;241;43m=\u001b[39;49m\u001b[38;5;28;43;01mFalse\u001b[39;49;00m\u001b[43m,\u001b[49m\u001b[43m \u001b[49m\n\u001b[0;32m----> 5\u001b[0m \u001b[43m                  \u001b[49m\u001b[43mhandle_unknown\u001b[49m\u001b[38;5;241;43m=\u001b[39;49m\u001b[38;5;124;43m'\u001b[39;49m\u001b[38;5;124;43merror\u001b[39;49m\u001b[38;5;124;43m'\u001b[39;49m\u001b[43m)\u001b[49m\u001b[38;5;241;43m.\u001b[39;49m\u001b[43mfit_transform\u001b[49m\u001b[43m(\u001b[49m\u001b[43mk\u001b[49m\u001b[43m[\u001b[49m\u001b[43m:\u001b[49m\u001b[38;5;241;43m10\u001b[39;49m\u001b[43m]\u001b[49m\u001b[43m)\u001b[49m\u001b[38;5;241m.\u001b[39mtoarray()\n\u001b[1;32m      6\u001b[0m \u001b[38;5;28mprint\u001b[39m(y)\n",
      "File \u001b[0;32m~/opt/anaconda3/envs/spatial_inequ/lib/python3.10/site-packages/sklearn/preprocessing/_encoders.py:488\u001b[0m, in \u001b[0;36mOneHotEncoder.fit_transform\u001b[0;34m(self, X, y)\u001b[0m\n\u001b[1;32m    466\u001b[0m \u001b[38;5;124;03m\"\"\"\u001b[39;00m\n\u001b[1;32m    467\u001b[0m \u001b[38;5;124;03mFit OneHotEncoder to X, then transform X.\u001b[39;00m\n\u001b[1;32m    468\u001b[0m \n\u001b[0;32m   (...)\u001b[0m\n\u001b[1;32m    485\u001b[0m \u001b[38;5;124;03m    returned.\u001b[39;00m\n\u001b[1;32m    486\u001b[0m \u001b[38;5;124;03m\"\"\"\u001b[39;00m\n\u001b[1;32m    487\u001b[0m \u001b[38;5;28mself\u001b[39m\u001b[38;5;241m.\u001b[39m_validate_keywords()\n\u001b[0;32m--> 488\u001b[0m \u001b[38;5;28;01mreturn\u001b[39;00m \u001b[38;5;28;43msuper\u001b[39;49m\u001b[43m(\u001b[49m\u001b[43m)\u001b[49m\u001b[38;5;241;43m.\u001b[39;49m\u001b[43mfit_transform\u001b[49m\u001b[43m(\u001b[49m\u001b[43mX\u001b[49m\u001b[43m,\u001b[49m\u001b[43m \u001b[49m\u001b[43my\u001b[49m\u001b[43m)\u001b[49m\n",
      "File \u001b[0;32m~/opt/anaconda3/envs/spatial_inequ/lib/python3.10/site-packages/sklearn/base.py:852\u001b[0m, in \u001b[0;36mTransformerMixin.fit_transform\u001b[0;34m(self, X, y, **fit_params)\u001b[0m\n\u001b[1;32m    848\u001b[0m \u001b[38;5;66;03m# non-optimized default implementation; override when a better\u001b[39;00m\n\u001b[1;32m    849\u001b[0m \u001b[38;5;66;03m# method is possible for a given clustering algorithm\u001b[39;00m\n\u001b[1;32m    850\u001b[0m \u001b[38;5;28;01mif\u001b[39;00m y \u001b[38;5;129;01mis\u001b[39;00m \u001b[38;5;28;01mNone\u001b[39;00m:\n\u001b[1;32m    851\u001b[0m     \u001b[38;5;66;03m# fit method of arity 1 (unsupervised transformation)\u001b[39;00m\n\u001b[0;32m--> 852\u001b[0m     \u001b[38;5;28;01mreturn\u001b[39;00m \u001b[38;5;28;43mself\u001b[39;49m\u001b[38;5;241;43m.\u001b[39;49m\u001b[43mfit\u001b[49m\u001b[43m(\u001b[49m\u001b[43mX\u001b[49m\u001b[43m,\u001b[49m\u001b[43m \u001b[49m\u001b[38;5;241;43m*\u001b[39;49m\u001b[38;5;241;43m*\u001b[39;49m\u001b[43mfit_params\u001b[49m\u001b[43m)\u001b[49m\u001b[38;5;241m.\u001b[39mtransform(X)\n\u001b[1;32m    853\u001b[0m \u001b[38;5;28;01melse\u001b[39;00m:\n\u001b[1;32m    854\u001b[0m     \u001b[38;5;66;03m# fit method of arity 2 (supervised transformation)\u001b[39;00m\n\u001b[1;32m    855\u001b[0m     \u001b[38;5;28;01mreturn\u001b[39;00m \u001b[38;5;28mself\u001b[39m\u001b[38;5;241m.\u001b[39mfit(X, y, \u001b[38;5;241m*\u001b[39m\u001b[38;5;241m*\u001b[39mfit_params)\u001b[38;5;241m.\u001b[39mtransform(X)\n",
      "File \u001b[0;32m~/opt/anaconda3/envs/spatial_inequ/lib/python3.10/site-packages/sklearn/preprocessing/_encoders.py:461\u001b[0m, in \u001b[0;36mOneHotEncoder.fit\u001b[0;34m(self, X, y)\u001b[0m\n\u001b[1;32m    443\u001b[0m \u001b[38;5;124;03m\"\"\"\u001b[39;00m\n\u001b[1;32m    444\u001b[0m \u001b[38;5;124;03mFit OneHotEncoder to X.\u001b[39;00m\n\u001b[1;32m    445\u001b[0m \n\u001b[0;32m   (...)\u001b[0m\n\u001b[1;32m    458\u001b[0m \u001b[38;5;124;03m    Fitted encoder.\u001b[39;00m\n\u001b[1;32m    459\u001b[0m \u001b[38;5;124;03m\"\"\"\u001b[39;00m\n\u001b[1;32m    460\u001b[0m \u001b[38;5;28mself\u001b[39m\u001b[38;5;241m.\u001b[39m_validate_keywords()\n\u001b[0;32m--> 461\u001b[0m \u001b[38;5;28;43mself\u001b[39;49m\u001b[38;5;241;43m.\u001b[39;49m\u001b[43m_fit\u001b[49m\u001b[43m(\u001b[49m\u001b[43mX\u001b[49m\u001b[43m,\u001b[49m\u001b[43m \u001b[49m\u001b[43mhandle_unknown\u001b[49m\u001b[38;5;241;43m=\u001b[39;49m\u001b[38;5;28;43mself\u001b[39;49m\u001b[38;5;241;43m.\u001b[39;49m\u001b[43mhandle_unknown\u001b[49m\u001b[43m,\u001b[49m\u001b[43m \u001b[49m\u001b[43mforce_all_finite\u001b[49m\u001b[38;5;241;43m=\u001b[39;49m\u001b[38;5;124;43m\"\u001b[39;49m\u001b[38;5;124;43mallow-nan\u001b[39;49m\u001b[38;5;124;43m\"\u001b[39;49m\u001b[43m)\u001b[49m\n\u001b[1;32m    462\u001b[0m \u001b[38;5;28mself\u001b[39m\u001b[38;5;241m.\u001b[39mdrop_idx_ \u001b[38;5;241m=\u001b[39m \u001b[38;5;28mself\u001b[39m\u001b[38;5;241m.\u001b[39m_compute_drop_idx()\n\u001b[1;32m    463\u001b[0m \u001b[38;5;28;01mreturn\u001b[39;00m \u001b[38;5;28mself\u001b[39m\n",
      "File \u001b[0;32m~/opt/anaconda3/envs/spatial_inequ/lib/python3.10/site-packages/sklearn/preprocessing/_encoders.py:84\u001b[0m, in \u001b[0;36m_BaseEncoder._fit\u001b[0;34m(self, X, handle_unknown, force_all_finite)\u001b[0m\n\u001b[1;32m     82\u001b[0m \u001b[38;5;28;01mif\u001b[39;00m \u001b[38;5;28mself\u001b[39m\u001b[38;5;241m.\u001b[39mcategories \u001b[38;5;241m!=\u001b[39m \u001b[38;5;124m\"\u001b[39m\u001b[38;5;124mauto\u001b[39m\u001b[38;5;124m\"\u001b[39m:\n\u001b[1;32m     83\u001b[0m     \u001b[38;5;28;01mif\u001b[39;00m \u001b[38;5;28mlen\u001b[39m(\u001b[38;5;28mself\u001b[39m\u001b[38;5;241m.\u001b[39mcategories) \u001b[38;5;241m!=\u001b[39m n_features:\n\u001b[0;32m---> 84\u001b[0m         \u001b[38;5;28;01mraise\u001b[39;00m \u001b[38;5;167;01mValueError\u001b[39;00m(\n\u001b[1;32m     85\u001b[0m             \u001b[38;5;124m\"\u001b[39m\u001b[38;5;124mShape mismatch: if categories is an array,\u001b[39m\u001b[38;5;124m\"\u001b[39m\n\u001b[1;32m     86\u001b[0m             \u001b[38;5;124m\"\u001b[39m\u001b[38;5;124m it has to be of shape (n_features,).\u001b[39m\u001b[38;5;124m\"\u001b[39m\n\u001b[1;32m     87\u001b[0m         )\n\u001b[1;32m     89\u001b[0m \u001b[38;5;28mself\u001b[39m\u001b[38;5;241m.\u001b[39mcategories_ \u001b[38;5;241m=\u001b[39m []\n\u001b[1;32m     91\u001b[0m \u001b[38;5;28;01mfor\u001b[39;00m i \u001b[38;5;129;01min\u001b[39;00m \u001b[38;5;28mrange\u001b[39m(n_features):\n",
      "\u001b[0;31mValueError\u001b[0m: Shape mismatch: if categories is an array, it has to be of shape (n_features,)."
     ]
    }
   ],
   "source": [
    "# implementation with sklearn\n",
    "\n",
    "y = OneHotEncoder(categories=unique_tags, \n",
    "                  sparse=False, \n",
    "                  handle_unknown='error').fit_transform(k[:10]).toarray()\n",
    "print(y)"
   ]
  },
  {
   "cell_type": "code",
   "execution_count": null,
   "id": "8d243fde-e17b-4730-91ee-e59ee9473ed7",
   "metadata": {},
   "outputs": [],
   "source": []
  }
 ],
 "metadata": {
  "kernelspec": {
   "display_name": "Python 3 (ipykernel)",
   "language": "python",
   "name": "python3"
  },
  "language_info": {
   "codemirror_mode": {
    "name": "ipython",
    "version": 3
   },
   "file_extension": ".py",
   "mimetype": "text/x-python",
   "name": "python",
   "nbconvert_exporter": "python",
   "pygments_lexer": "ipython3",
   "version": "3.10.5"
  }
 },
 "nbformat": 4,
 "nbformat_minor": 5
}
